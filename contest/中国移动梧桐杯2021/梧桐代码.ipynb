{
 "metadata": {
  "language_info": {
   "codemirror_mode": {
    "name": "ipython",
    "version": 3
   },
   "file_extension": ".py",
   "mimetype": "text/x-python",
   "name": "python",
   "nbconvert_exporter": "python",
   "pygments_lexer": "ipython3",
   "version": "3.9.5"
  },
  "orig_nbformat": 4,
  "kernelspec": {
   "name": "python3",
   "display_name": "Python 3.9.5 64-bit"
  },
  "interpreter": {
   "hash": "192a88fd96c5f88b0f93f6844c224266c9a88fc5236fe406ecce83d3f919f99d"
  }
 },
 "nbformat": 4,
 "nbformat_minor": 2,
 "cells": [
  {
   "cell_type": "code",
   "execution_count": 2,
   "source": [
    "import pandas as pd\r\n",
    "import numpy as np\r\n",
    "import matplotlib.pyplot as plt\r\n",
    "import seaborn as sns\r\n",
    "from tqdm import tqdm\r\n",
    "import datetime\r\n",
    "import warnings\r\n",
    "import random\r\n",
    "from functools import reduce \r\n",
    "from os import walk\r\n",
    "warnings.filterwarnings('ignore')"
   ],
   "outputs": [],
   "metadata": {}
  },
  {
   "cell_type": "code",
   "execution_count": 40,
   "source": [
    "# 采样用户兴趣表\r\n",
    "def user_interest_train_set(frac):\r\n",
    "    print('-'*25 + \"用户兴趣分析\" + '-'*50)\r\n",
    "    dataframe_list = []\r\n",
    "    for f, _, i in walk('/home/naie/work/cache/datasets/DatasetService/user_interest'):\r\n",
    "        for j in tqdm(i):\r\n",
    "            dataframe_list.append(pd.read_csv(f + '/' + j))\r\n",
    "    user_interest_train = pd.concat(dataframe_list)#全量数据集\r\n",
    "    print(\"用户兴趣表全量数据量为： \" + str(user_interest_train.shape))\r\n",
    "    user_interest_train_sample = user_interest_train.sample(frac=frac, random_state=100, replace=False)\r\n",
    "    print(\"用户兴趣表采样后的数据量为：\" + str(user_interest_train_sample.shape))\r\n",
    "    return user_interest_train, user_interest_train_sample"
   ],
   "outputs": [],
   "metadata": {}
  },
  {
   "cell_type": "code",
   "execution_count": 42,
   "source": [
    "# 语音话单分析表\r\n",
    "def voice_cdr_train_set(frac):\r\n",
    "    print('-'*25 + \"语音话单分析\" + '-'*50)\r\n",
    "    dataframe_list = []\r\n",
    "    for f, _, i in walk('/home/naie/work/cache/datasets/DatasetService/voice_cdr'):\r\n",
    "        for j in tqdm(i):\r\n",
    "            dataframe_list.append(pd.read_csv(f + '/' + j))\r\n",
    "    voice_train = pd.concat(dataframe_list)#全量数据集\r\n",
    "    print(\"语音话单全量数据量为： \" + str(voice_train.shape))\r\n",
    "    voice_train_sample = voice_train.sample(frac=frac, random_state=100, replace=False)\r\n",
    "    print(\"语音话单采样后的数据量为：\" + str(voice_train_sample.shape))\r\n",
    "    return voice_train, voice_train_sample"
   ],
   "outputs": [],
   "metadata": {}
  },
  {
   "cell_type": "code",
   "execution_count": 36,
   "source": [
    "# GPRS话单分析\r\n",
    "def GPRS_train_set(frac):\r\n",
    "    print('-'*25 + \"GPRS话单分析\" + '-'*50)\r\n",
    "    dataframe_list = []\r\n",
    "    for f, _, i in walk('/home/naie/work/cache/datasets/DatasetService/gprs_cdr'):\r\n",
    "        for j in tqdm(i):\r\n",
    "            dataframe_list.append(pd.read_csv(f + '/' + j))\r\n",
    "    GPRS_train = pd.concat(dataframe_list)#全量数据集\r\n",
    "    print(\"位置信息全量数据量为： \" + str(GPRS_train.shape))\r\n",
    "    GPRS_train_sample = GPRS_train.sample(frac=frac, random_state=100, replace=False)\r\n",
    "    print(\"位置信息采样后的数据量为：\" + str(GPRS_train_sample.shape))\r\n",
    "    return GPRS_train, GPRS_train_sample"
   ],
   "outputs": [],
   "metadata": {}
  },
  {
   "cell_type": "code",
   "execution_count": 41,
   "source": [
    "# 短信话单分析表\r\n",
    "def note_cdr_set(frac):\r\n",
    "    print('-'*25 + \"短信话单分析\" + '-'*50)\r\n",
    "    dataframe_list = []\r\n",
    "    for f, _, i in walk('/home/naie/work/cache/datasets/DatasetService/note_cdr'):\r\n",
    "        for j in tqdm(i):\r\n",
    "            dataframe_list.append(pd.read_csv(f + '/' + j))\r\n",
    "    note_cdr_train = pd.concat(dataframe_list)#全量数据集\r\n",
    "    print(\"短信话单全量数据量为： \" + str(note_cdr_train.shape))\r\n",
    "    note_cdr_train_sample = note_cdr_train.sample(frac=frac, random_state=100, replace=False)\r\n",
    "    print(\"短信话单采样后的数据量为：\" + str(note_cdr_train_sample.shape))\r\n",
    "    return note_cdr_train, note_cdr_train_sample"
   ],
   "outputs": [],
   "metadata": {}
  },
  {
   "cell_type": "code",
   "execution_count": 37,
   "source": [
    "# 漫游分析表\r\n",
    "def roam_set(frac):\r\n",
    "    print('-'*25 + \"漫游分析\" + '-'*50)\r\n",
    "    dataframe_list = []\r\n",
    "    for f, _, i in walk('/home/naie/work/cache/datasets/DatasetService/roam'):\r\n",
    "        for j in tqdm(i):\r\n",
    "            dataframe_list.append(pd.read_csv(f + '/' + j))\r\n",
    "    roam_train = pd.concat(dataframe_list)#全量数据集\r\n",
    "    print(\"漫游分析全量数据量为： \" + str(roam_train.shape))\r\n",
    "    roam_train_sample = roam_train.sample(frac=frac, random_state=100, replace=False)\r\n",
    "    print(\"漫游分析采样后的数据量为： \" + str(roam_train_sample.shape))\r\n",
    "    return roam_train, roam_train_sample"
   ],
   "outputs": [],
   "metadata": {}
  },
  {
   "cell_type": "code",
   "execution_count": 31,
   "source": [
    "# 订购资费行为\r\n",
    "def ord_traiff_set(frac):\r\n",
    "    dataframe_list = []\r\n",
    "    for f, _, i in walk('/home/naie/work/cache/datasets/DatasetService/order_tariff/'):\r\n",
    "        for j in tqdm(i):\r\n",
    "            dataframe_list.append(pd.read_csv(f + '/' + j))\r\n",
    "    ord_traiff_train = pd.concat(dataframe_list)#全量数据集\r\n",
    "    print(\"订购资费全量数据量为： \" + str(ord_traiff_train.shape))\r\n",
    "    ord_traiff_train_sample = ord_traiff_train.sample(frac=frac, random_state=100, replace=False)\r\n",
    "    print(\"订购资费采样后的数据量为：\" + str(ord_traiff_train_sample.shape))\r\n",
    "    return ord_traiff_train, ord_traiff_train_sample"
   ],
   "outputs": [],
   "metadata": {}
  },
  {
   "cell_type": "code",
   "execution_count": 32,
   "source": [
    "# 个人用户分析表（全量数据）老年人数据\r\n",
    "def person_user():\r\n",
    "    dataframe_list = []\r\n",
    "    for f, _, i in walk('/home/naie/work/cache/datasets/DatasetService/person_user'):\r\n",
    "        for j in tqdm(i):\r\n",
    "            dataframe_list.append(pd.read_csv(f + '/' + j))\r\n",
    "    person_user_train = pd.concat(dataframe_list)#全量数据集\r\n",
    "    print(\"个人用户全量数据量为： \" + str(person_user_train.shape))\r\n",
    "    old_person_user_train = person_user_train[person_user_train['age_lvl'] >= 6.0]  # 老年人部分的数据\r\n",
    "    print(\"老年人数据量为：\" + str(old_person_user_train.shape))\r\n",
    "    return person_user_train, old_person_user_train"
   ],
   "outputs": [],
   "metadata": {}
  },
  {
   "cell_type": "code",
   "execution_count": null,
   "source": [
    "# 构建所用数据集\r\n",
    "def datasets_made():\r\n",
    "    person_user_train, old_person_user_train = person_user()# 个人用户分析表全量，个人用户分析表老年人部分(60岁以上)\r\n",
    "    user_interest_train, user_interest_train_sample = user_interest_train_set(0.01)# 用户兴趣表全量数据，采样数据1%\r\n",
    "    voice_train, voice_train_sample = voice_cdr_train_set(0.01)# 语音话单分析表全量数据，采样数据1%\r\n",
    "    GPRS_train, GPRS_train_sample = GPRS_train_set(0.01)# GPRS话单分析表全量数据，采样数据1%\r\n",
    "    note_cdr_train, note_cdr_train_sample = note_cdr_set(0.1)# 短信话单分析表（全量数据）\r\n",
    "    roam_train, roam_train_sample = roam_train(0.1)# 漫游分析表（全量数据），采样10%\r\n",
    "    ord_traiff_train, ord_traiff_train_sample = ord_traiff_set(0.01)# 订购资费行为表，采样数据1%\r\n",
    "    # hds_train, hds_train_sample = hds_train_set(0.001)# 位置信息表\r\n",
    "\r\n",
    "    old_id = old_person_user_train['user_id'] # 老年人id\r\n",
    "    \r\n",
    "    df = [old_person_user_train, user_interest_train_sample, voice_train_sample, GPRS_train_sample, note_cdr_train, roam_train, ord_traiff_train_sample]\r\n",
    "    data_train = reduce(lambda left,right: pd.merge(left,right,on=['user_id']), df)\r\n",
    "    \r\n",
    "    return data_train\r\n",
    "\r\n"
   ],
   "outputs": [],
   "metadata": {}
  },
  {
   "cell_type": "code",
   "execution_count": 47,
   "source": [
    "# 位置信息表\r\n",
    "def hds_train_set(frac):\r\n",
    "    \"\"\"\r\n",
    "    数据量大，89张表，每张25000000左右\r\n",
    "    \"\"\"\r\n",
    "    dataframe_list = []\r\n",
    "    for f, _, i in walk('/home/naie/work/cache/datasets/DatasetService/hds_25427'):\r\n",
    "        for j in tqdm(i):\r\n",
    "            dataframe_list.append(pd.read_csv(f + '/' + j).sample(frac=frac, random_state=100, replace=False))\r\n",
    "    hds_train_sample_total = pd.concat(dataframe_list)#全量数据集\r\n",
    "    print(\"位置信息表每张表采样后的总数据量为： \" + str(hds_train_sample_total.shape))\r\n",
    "    return hds_train_sample_total\r\n",
    "\r\n",
    "\r\n",
    "\r\n",
    "gprs_cdr_04 = pd.read_csv(base_path + \"gprs_cdr/i_10000_HDB_T_TW_GPRS_CDR_ANALYZE_202104_00_000.csv\")\r\n",
    "gprs_cdr_04 = pd.merge(Tmp, gprs_cdr_04, how='inner', on=['user_id', 'statis_ym', 'city_code']).reset_index(drop=True)\r\n",
    "for i in range(1, 20):\r\n",
    "    if i < 10:\r\n",
    "        tmp = pd.read_csv(base_path + \"gprs_cdr/i_10000_HDB_T_TW_GPRS_CDR_ANALYZE_202104_00_00{}.csv\" .format(i))\r\n",
    "        tmp = pd.merge(Tmp, tmp, how='inner', on=['user_id', 'statis_ym', 'city_code']).reset_index(drop=True)\r\n",
    "        gprs_cdr_04 = pd.concat([gprs_cdr_04, tmp]).reset_index(drop=True)\r\n",
    "    else:\r\n",
    "        tmp = pd.read_csv(base_path + \"gprs_cdr/i_10000_HDB_T_TW_GPRS_CDR_ANALYZE_202104_00_0{}.csv\" .format(i))\r\n",
    "        tmp = pd.merge(Tmp, tmp, how='inner', on=['user_id', 'statis_ym', 'city_code']).reset_index(drop=True)\r\n",
    "        gprs_cdr_04 = pd.concat([gprs_cdr_04, tmp]).reset_index(drop=True)\r\n"
   ],
   "outputs": [
    {
     "output_type": "execute_result",
     "data": {
      "text/plain": [
       "77"
      ]
     },
     "metadata": {},
     "execution_count": 47
    }
   ],
   "metadata": {}
  },
  {
   "cell_type": "code",
   "execution_count": null,
   "source": [
    "if __name__ == \"__main__\":\n",
    "    # 1.构建数据集\n",
    "    datasets_made()"
   ],
   "outputs": [],
   "metadata": {}
  },
  {
   "cell_type": "code",
   "execution_count": null,
   "source": [],
   "outputs": [],
   "metadata": {}
  },
  {
   "cell_type": "code",
   "execution_count": null,
   "source": [],
   "outputs": [],
   "metadata": {}
  },
  {
   "cell_type": "code",
   "execution_count": null,
   "source": [],
   "outputs": [],
   "metadata": {}
  },
  {
   "cell_type": "code",
   "execution_count": 3,
   "source": [
    "df1 = pd.DataFrame({'key':['X', 'Y', 'Z'], 'data_set_1':[1, 2, 3]})\n",
    "print(df1)\n",
    "df2 = pd.DataFrame({'key':['X', 'B', 'C'], 'data_set_2':[4, 5, 6]})\n",
    "print(df2)\n",
    "df3 = pd.DataFrame({'key':['X', 'F', 'C'], 'data_set_2':[4, 5, 6]})\n",
    "df4 = pd.DataFrame({'key':['X', 'A', 'C'], 'data_set_2':[4, 5, 6]})\n",
    "df5 = pd.DataFrame({'key':['X', 'B', 'A'], 'data_set_2':[4, 5, 6]})\n",
    "df6 = pd.DataFrame({'key':['X', 'e', 'e'], 'data_set_2':[4, 5, 6]})"
   ],
   "outputs": [
    {
     "output_type": "stream",
     "name": "stdout",
     "text": [
      "  key  data_set_1\n",
      "0   X           1\n",
      "1   Y           2\n",
      "2   Z           3\n",
      "  key  data_set_2\n",
      "0   X           4\n",
      "1   B           5\n",
      "2   C           6\n"
     ]
    }
   ],
   "metadata": {}
  },
  {
   "cell_type": "code",
   "execution_count": 92,
   "source": [
    "df = [df1, df2, df3, df4, df5, df6]\n",
    "data_train = reduce(lambda left,right: pd.merge(left,right,on=['key']), df)"
   ],
   "outputs": [],
   "metadata": {}
  },
  {
   "cell_type": "code",
   "execution_count": 93,
   "source": [
    "data_trainwalk"
   ],
   "outputs": [
    {
     "output_type": "execute_result",
     "data": {
      "text/plain": [
       "  key  data_set_1  data_set_2_x  data_set_2_y  data_set_2_x  data_set_2_y  \\\n",
       "0   X           1             4             4             4             4   \n",
       "\n",
       "   data_set_2  \n",
       "0           4  "
      ],
      "text/html": [
       "<div>\n",
       "<style scoped>\n",
       "    .dataframe tbody tr th:only-of-type {\n",
       "        vertical-align: middle;\n",
       "    }\n",
       "\n",
       "    .dataframe tbody tr th {\n",
       "        vertical-align: top;\n",
       "    }\n",
       "\n",
       "    .dataframe thead th {\n",
       "        text-align: right;\n",
       "    }\n",
       "</style>\n",
       "<table border=\"1\" class=\"dataframe\">\n",
       "  <thead>\n",
       "    <tr style=\"text-align: right;\">\n",
       "      <th></th>\n",
       "      <th>key</th>\n",
       "      <th>data_set_1</th>\n",
       "      <th>data_set_2_x</th>\n",
       "      <th>data_set_2_y</th>\n",
       "      <th>data_set_2_x</th>\n",
       "      <th>data_set_2_y</th>\n",
       "      <th>data_set_2</th>\n",
       "    </tr>\n",
       "  </thead>\n",
       "  <tbody>\n",
       "    <tr>\n",
       "      <th>0</th>\n",
       "      <td>X</td>\n",
       "      <td>1</td>\n",
       "      <td>4</td>\n",
       "      <td>4</td>\n",
       "      <td>4</td>\n",
       "      <td>4</td>\n",
       "      <td>4</td>\n",
       "    </tr>\n",
       "  </tbody>\n",
       "</table>\n",
       "</div>"
      ]
     },
     "metadata": {},
     "execution_count": 93
    }
   ],
   "metadata": {}
  },
  {
   "cell_type": "code",
   "execution_count": null,
   "source": [],
   "outputs": [],
   "metadata": {}
  },
  {
   "cell_type": "code",
   "execution_count": 84,
   "source": [
    "df3 = pd.merge(df1, df2, on='key', how='inner')\n",
    "df3"
   ],
   "outputs": [
    {
     "output_type": "execute_result",
     "data": {
      "text/plain": [
       "  key  data_set_1  data_set_2\n",
       "0   X           1           4"
      ],
      "text/html": [
       "<div>\n",
       "<style scoped>\n",
       "    .dataframe tbody tr th:only-of-type {\n",
       "        vertical-align: middle;\n",
       "    }\n",
       "\n",
       "    .dataframe tbody tr th {\n",
       "        vertical-align: top;\n",
       "    }\n",
       "\n",
       "    .dataframe thead th {\n",
       "        text-align: right;\n",
       "    }\n",
       "</style>\n",
       "<table border=\"1\" class=\"dataframe\">\n",
       "  <thead>\n",
       "    <tr style=\"text-align: right;\">\n",
       "      <th></th>\n",
       "      <th>key</th>\n",
       "      <th>data_set_1</th>\n",
       "      <th>data_set_2</th>\n",
       "    </tr>\n",
       "  </thead>\n",
       "  <tbody>\n",
       "    <tr>\n",
       "      <th>0</th>\n",
       "      <td>X</td>\n",
       "      <td>1</td>\n",
       "      <td>4</td>\n",
       "    </tr>\n",
       "  </tbody>\n",
       "</table>\n",
       "</div>"
      ]
     },
     "metadata": {},
     "execution_count": 84
    }
   ],
   "metadata": {}
  },
  {
   "cell_type": "code",
   "execution_count": 85,
   "source": [
    "df4 = pd.DataFrame({'key':['X', 'F', 'K'], 'data_set_3':[7, 8, 9]})\n",
    "df4"
   ],
   "outputs": [
    {
     "output_type": "execute_result",
     "data": {
      "text/plain": [
       "  key  data_set_3\n",
       "0   X           7\n",
       "1   F           8\n",
       "2   K           9"
      ],
      "text/html": [
       "<div>\n",
       "<style scoped>\n",
       "    .dataframe tbody tr th:only-of-type {\n",
       "        vertical-align: middle;\n",
       "    }\n",
       "\n",
       "    .dataframe tbody tr th {\n",
       "        vertical-align: top;\n",
       "    }\n",
       "\n",
       "    .dataframe thead th {\n",
       "        text-align: right;\n",
       "    }\n",
       "</style>\n",
       "<table border=\"1\" class=\"dataframe\">\n",
       "  <thead>\n",
       "    <tr style=\"text-align: right;\">\n",
       "      <th></th>\n",
       "      <th>key</th>\n",
       "      <th>data_set_3</th>\n",
       "    </tr>\n",
       "  </thead>\n",
       "  <tbody>\n",
       "    <tr>\n",
       "      <th>0</th>\n",
       "      <td>X</td>\n",
       "      <td>7</td>\n",
       "    </tr>\n",
       "    <tr>\n",
       "      <th>1</th>\n",
       "      <td>F</td>\n",
       "      <td>8</td>\n",
       "    </tr>\n",
       "    <tr>\n",
       "      <th>2</th>\n",
       "      <td>K</td>\n",
       "      <td>9</td>\n",
       "    </tr>\n",
       "  </tbody>\n",
       "</table>\n",
       "</div>"
      ]
     },
     "metadata": {},
     "execution_count": 85
    }
   ],
   "metadata": {}
  },
  {
   "cell_type": "code",
   "execution_count": 86,
   "source": [
    "df5 = pd.merge(df3, df4, on='key', how='inner')\n",
    "df5"
   ],
   "outputs": [
    {
     "output_type": "execute_result",
     "data": {
      "text/plain": [
       "  key  data_set_1  data_set_2  data_set_3\n",
       "0   X           1           4           7"
      ],
      "text/html": [
       "<div>\n",
       "<style scoped>\n",
       "    .dataframe tbody tr th:only-of-type {\n",
       "        vertical-align: middle;\n",
       "    }\n",
       "\n",
       "    .dataframe tbody tr th {\n",
       "        vertical-align: top;\n",
       "    }\n",
       "\n",
       "    .dataframe thead th {\n",
       "        text-align: right;\n",
       "    }\n",
       "</style>\n",
       "<table border=\"1\" class=\"dataframe\">\n",
       "  <thead>\n",
       "    <tr style=\"text-align: right;\">\n",
       "      <th></th>\n",
       "      <th>key</th>\n",
       "      <th>data_set_1</th>\n",
       "      <th>data_set_2</th>\n",
       "      <th>data_set_3</th>\n",
       "    </tr>\n",
       "  </thead>\n",
       "  <tbody>\n",
       "    <tr>\n",
       "      <th>0</th>\n",
       "      <td>X</td>\n",
       "      <td>1</td>\n",
       "      <td>4</td>\n",
       "      <td>7</td>\n",
       "    </tr>\n",
       "  </tbody>\n",
       "</table>\n",
       "</div>"
      ]
     },
     "metadata": {},
     "execution_count": 86
    }
   ],
   "metadata": {}
  },
  {
   "cell_type": "code",
   "execution_count": null,
   "source": [],
   "outputs": [],
   "metadata": {}
  },
  {
   "cell_type": "code",
   "execution_count": 8,
   "source": [
    "df5 = pd.DataFrame({'data_set_1':[1, 2, 3], 'data_set_2':[4, 5, 6]})\n",
    "df5"
   ],
   "outputs": [
    {
     "output_type": "execute_result",
     "data": {
      "text/plain": [
       "   data_set_1  data_set_2\n",
       "0           1           4\n",
       "1           2           5\n",
       "2           3           6"
      ],
      "text/html": [
       "<div>\n",
       "<style scoped>\n",
       "    .dataframe tbody tr th:only-of-type {\n",
       "        vertical-align: middle;\n",
       "    }\n",
       "\n",
       "    .dataframe tbody tr th {\n",
       "        vertical-align: top;\n",
       "    }\n",
       "\n",
       "    .dataframe thead th {\n",
       "        text-align: right;\n",
       "    }\n",
       "</style>\n",
       "<table border=\"1\" class=\"dataframe\">\n",
       "  <thead>\n",
       "    <tr style=\"text-align: right;\">\n",
       "      <th></th>\n",
       "      <th>data_set_1</th>\n",
       "      <th>data_set_2</th>\n",
       "    </tr>\n",
       "  </thead>\n",
       "  <tbody>\n",
       "    <tr>\n",
       "      <th>0</th>\n",
       "      <td>1</td>\n",
       "      <td>4</td>\n",
       "    </tr>\n",
       "    <tr>\n",
       "      <th>1</th>\n",
       "      <td>2</td>\n",
       "      <td>5</td>\n",
       "    </tr>\n",
       "    <tr>\n",
       "      <th>2</th>\n",
       "      <td>3</td>\n",
       "      <td>6</td>\n",
       "    </tr>\n",
       "  </tbody>\n",
       "</table>\n",
       "</div>"
      ]
     },
     "metadata": {},
     "execution_count": 8
    }
   ],
   "metadata": {}
  },
  {
   "cell_type": "code",
   "execution_count": 10,
   "source": [
    "df5['data_set_new'] = df5['data_set_1'] * df5['data_set_2']\n",
    "df5"
   ],
   "outputs": [
    {
     "output_type": "execute_result",
     "data": {
      "text/plain": [
       "   data_set_1  data_set_2  data_set_new\n",
       "0           1           4             4\n",
       "1           2           5            10\n",
       "2           3           6            18"
      ],
      "text/html": [
       "<div>\n",
       "<style scoped>\n",
       "    .dataframe tbody tr th:only-of-type {\n",
       "        vertical-align: middle;\n",
       "    }\n",
       "\n",
       "    .dataframe tbody tr th {\n",
       "        vertical-align: top;\n",
       "    }\n",
       "\n",
       "    .dataframe thead th {\n",
       "        text-align: right;\n",
       "    }\n",
       "</style>\n",
       "<table border=\"1\" class=\"dataframe\">\n",
       "  <thead>\n",
       "    <tr style=\"text-align: right;\">\n",
       "      <th></th>\n",
       "      <th>data_set_1</th>\n",
       "      <th>data_set_2</th>\n",
       "      <th>data_set_new</th>\n",
       "    </tr>\n",
       "  </thead>\n",
       "  <tbody>\n",
       "    <tr>\n",
       "      <th>0</th>\n",
       "      <td>1</td>\n",
       "      <td>4</td>\n",
       "      <td>4</td>\n",
       "    </tr>\n",
       "    <tr>\n",
       "      <th>1</th>\n",
       "      <td>2</td>\n",
       "      <td>5</td>\n",
       "      <td>10</td>\n",
       "    </tr>\n",
       "    <tr>\n",
       "      <th>2</th>\n",
       "      <td>3</td>\n",
       "      <td>6</td>\n",
       "      <td>18</td>\n",
       "    </tr>\n",
       "  </tbody>\n",
       "</table>\n",
       "</div>"
      ]
     },
     "metadata": {},
     "execution_count": 10
    }
   ],
   "metadata": {}
  },
  {
   "cell_type": "code",
   "execution_count": 11,
   "source": [
    "df5['data_set_other'] = df5['data_set_1'] + df5['data_set_2']\n",
    "df5"
   ],
   "outputs": [
    {
     "output_type": "execute_result",
     "data": {
      "text/plain": [
       "   data_set_1  data_set_2  data_set_new  data_set_other\n",
       "0           1           4             4               5\n",
       "1           2           5            10               7\n",
       "2           3           6            18               9"
      ],
      "text/html": [
       "<div>\n",
       "<style scoped>\n",
       "    .dataframe tbody tr th:only-of-type {\n",
       "        vertical-align: middle;\n",
       "    }\n",
       "\n",
       "    .dataframe tbody tr th {\n",
       "        vertical-align: top;\n",
       "    }\n",
       "\n",
       "    .dataframe thead th {\n",
       "        text-align: right;\n",
       "    }\n",
       "</style>\n",
       "<table border=\"1\" class=\"dataframe\">\n",
       "  <thead>\n",
       "    <tr style=\"text-align: right;\">\n",
       "      <th></th>\n",
       "      <th>data_set_1</th>\n",
       "      <th>data_set_2</th>\n",
       "      <th>data_set_new</th>\n",
       "      <th>data_set_other</th>\n",
       "    </tr>\n",
       "  </thead>\n",
       "  <tbody>\n",
       "    <tr>\n",
       "      <th>0</th>\n",
       "      <td>1</td>\n",
       "      <td>4</td>\n",
       "      <td>4</td>\n",
       "      <td>5</td>\n",
       "    </tr>\n",
       "    <tr>\n",
       "      <th>1</th>\n",
       "      <td>2</td>\n",
       "      <td>5</td>\n",
       "      <td>10</td>\n",
       "      <td>7</td>\n",
       "    </tr>\n",
       "    <tr>\n",
       "      <th>2</th>\n",
       "      <td>3</td>\n",
       "      <td>6</td>\n",
       "      <td>18</td>\n",
       "      <td>9</td>\n",
       "    </tr>\n",
       "  </tbody>\n",
       "</table>\n",
       "</div>"
      ]
     },
     "metadata": {},
     "execution_count": 11
    }
   ],
   "metadata": {}
  },
  {
   "cell_type": "code",
   "execution_count": 13,
   "source": [
    "df5['data_set_other'].value_counts()"
   ],
   "outputs": [
    {
     "output_type": "execute_result",
     "data": {
      "text/plain": [
       "9    1\n",
       "5    1\n",
       "7    1\n",
       "Name: data_set_other, dtype: int64"
      ]
     },
     "metadata": {},
     "execution_count": 13
    }
   ],
   "metadata": {}
  },
  {
   "cell_type": "code",
   "execution_count": null,
   "source": [],
   "outputs": [],
   "metadata": {}
  },
  {
   "cell_type": "code",
   "execution_count": null,
   "source": [],
   "outputs": [],
   "metadata": {}
  },
  {
   "cell_type": "code",
   "execution_count": null,
   "source": [],
   "outputs": [],
   "metadata": {}
  },
  {
   "cell_type": "code",
   "execution_count": null,
   "source": [],
   "outputs": [],
   "metadata": {}
  },
  {
   "cell_type": "code",
   "execution_count": null,
   "source": [],
   "outputs": [],
   "metadata": {}
  },
  {
   "cell_type": "code",
   "execution_count": null,
   "source": [],
   "outputs": [],
   "metadata": {}
  },
  {
   "cell_type": "code",
   "execution_count": null,
   "source": [],
   "outputs": [],
   "metadata": {}
  }
 ]
}