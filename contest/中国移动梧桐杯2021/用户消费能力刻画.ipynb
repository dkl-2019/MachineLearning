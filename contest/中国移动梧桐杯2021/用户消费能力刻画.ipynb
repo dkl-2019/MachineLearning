{
 "cells": [
  {
   "cell_type": "code",
   "execution_count": 2,
   "source": [
    "import pandas as pd\r\n",
    "import numpy as np\r\n",
    "import matplotlib.pyplot as plt\r\n",
    "import seaborn as sns\r\n",
    "import datetime\r\n",
    "from tqdm import tqdm\r\n",
    "from sklearn.preprocessing import LabelEncoder\r\n",
    "from sklearn.feature_selection import SelectKBest\r\n",
    "from sklearn.feature_selection import chi2\r\n",
    "from sklearn.preprocessing import MinMaxScaler\r\n",
    "import xgboost as xgb\r\n",
    "import lightgbm as lgb\r\n",
    "from catboost import CatBoostRegressor\r\n",
    "import warnings\r\n",
    "from sklearn.model_selection import StratifiedKFold, KFold\r\n",
    "from sklearn.metrics import accuracy_score, f1_score, roc_auc_score, log_loss\r\n",
    "warnings.filterwarnings('ignore')"
   ],
   "outputs": [],
   "metadata": {}
  },
  {
   "cell_type": "code",
   "execution_count": null,
   "source": [],
   "outputs": [],
   "metadata": {}
  },
  {
   "cell_type": "code",
   "execution_count": null,
   "source": [],
   "outputs": [],
   "metadata": {}
  },
  {
   "cell_type": "code",
   "execution_count": null,
   "source": [],
   "outputs": [],
   "metadata": {}
  },
  {
   "cell_type": "code",
   "execution_count": null,
   "source": [],
   "outputs": [],
   "metadata": {}
  },
  {
   "cell_type": "code",
   "execution_count": null,
   "source": [],
   "outputs": [],
   "metadata": {}
  },
  {
   "cell_type": "code",
   "execution_count": null,
   "source": [],
   "outputs": [],
   "metadata": {}
  }
 ],
 "metadata": {
  "orig_nbformat": 4,
  "language_info": {
   "name": "python",
   "version": "3.9.5",
   "mimetype": "text/x-python",
   "codemirror_mode": {
    "name": "ipython",
    "version": 3
   },
   "pygments_lexer": "ipython3",
   "nbconvert_exporter": "python",
   "file_extension": ".py"
  },
  "kernelspec": {
   "name": "python3",
   "display_name": "Python 3.9.5 64-bit (system)"
  },
  "interpreter": {
   "hash": "192a88fd96c5f88b0f93f6844c224266c9a88fc5236fe406ecce83d3f919f99d"
  }
 },
 "nbformat": 4,
 "nbformat_minor": 2
}