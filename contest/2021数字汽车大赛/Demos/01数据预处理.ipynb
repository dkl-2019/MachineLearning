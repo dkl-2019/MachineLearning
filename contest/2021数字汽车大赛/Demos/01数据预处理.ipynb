{
 "cells": [
  {
   "cell_type": "code",
   "execution_count": 1,
   "metadata": {},
   "outputs": [],
   "source": [
    "import pandas as pd\n",
    "import numpy as np\n",
    "import matplotlib.pyplot as plt\n",
    "import seaborn as sns\n",
    "from tqdm import tqdm\n",
    "import datetime\n",
    "import warnings\n",
    "import random\n",
    "from functools import reduce \n",
    "from os import walk\n",
    "warnings.filterwarnings('ignore')"
   ]
  },
  {
   "cell_type": "markdown",
   "metadata": {},
   "source": [
    "# <font color=orange>全量数据集获取</font>"
   ]
  },
  {
   "cell_type": "code",
   "execution_count": 2,
   "metadata": {},
   "outputs": [],
   "source": [
    "def get_all_datas(ROOT_PATH):\n",
    "    dataframe_list = list()\n",
    "    for path, dirs, files in walk(ROOT_PATH):\n",
    "        for csv in tqdm(files):\n",
    "            dataframe_list.append(pd.read_csv(path + '/' + csv))\n",
    "    all_datasets = pd.concat(dataframe_list)    #全量数据集\n",
    "    print(\"全量数据集：\" + str(all_datasets.shape))\n",
    "    return all_datasets.reset_index(drop=True)"
   ]
  },
  {
   "cell_type": "code",
   "execution_count": 3,
   "metadata": {},
   "outputs": [
    {
     "name": "stderr",
     "output_type": "stream",
     "text": [
      "100%|██████████| 10/10 [00:21<00:00,  2.11s/it]\n"
     ]
    },
    {
     "name": "stdout",
     "output_type": "stream",
     "text": [
      "全量数据集：(6880557, 38)\n"
     ]
    }
   ],
   "source": [
    "ROOT_PATH = 'E:/TianChi/2021数字汽车大赛/datas'    # 十张表要手动放到datas目录下\n",
    "data_train = get_all_datas(ROOT_PATH)"
   ]
  },
  {
   "cell_type": "markdown",
   "metadata": {},
   "source": [
    "# <font color=gree>数据探索</font>"
   ]
  },
  {
   "cell_type": "code",
   "execution_count": 4,
   "metadata": {},
   "outputs": [
    {
     "data": {
      "text/html": [
       "<div>\n",
       "<style scoped>\n",
       "    .dataframe tbody tr th:only-of-type {\n",
       "        vertical-align: middle;\n",
       "    }\n",
       "\n",
       "    .dataframe tbody tr th {\n",
       "        vertical-align: top;\n",
       "    }\n",
       "\n",
       "    .dataframe thead th {\n",
       "        text-align: right;\n",
       "    }\n",
       "</style>\n",
       "<table border=\"1\" class=\"dataframe\">\n",
       "  <thead>\n",
       "    <tr style=\"text-align: right;\">\n",
       "      <th></th>\n",
       "      <th>vin</th>\n",
       "      <th>时间</th>\n",
       "      <th>车速</th>\n",
       "      <th>车辆状态</th>\n",
       "      <th>充电状态</th>\n",
       "      <th>运行模式</th>\n",
       "      <th>总电压</th>\n",
       "      <th>总电流</th>\n",
       "      <th>累计里程</th>\n",
       "      <th>SOC</th>\n",
       "      <th>...</th>\n",
       "      <th>驱动电机转速</th>\n",
       "      <th>驱动电机转矩</th>\n",
       "      <th>驱动电机温度</th>\n",
       "      <th>驱动电机控制器温度</th>\n",
       "      <th>电机控制器输入电压</th>\n",
       "      <th>电机控制器直流母流电流</th>\n",
       "      <th>经度</th>\n",
       "      <th>维度</th>\n",
       "      <th>加速踏板行程值</th>\n",
       "      <th>制动踏板状态</th>\n",
       "    </tr>\n",
       "  </thead>\n",
       "  <tbody>\n",
       "    <tr>\n",
       "      <th>0</th>\n",
       "      <td>LVCB4L4D3HM002839</td>\n",
       "      <td>2021-03-31 08:42:09</td>\n",
       "      <td>30.9</td>\n",
       "      <td>1.0</td>\n",
       "      <td>3.0</td>\n",
       "      <td>1.0</td>\n",
       "      <td>597.6</td>\n",
       "      <td>-43.1</td>\n",
       "      <td>107445.8</td>\n",
       "      <td>97.0</td>\n",
       "      <td>...</td>\n",
       "      <td>21004.0</td>\n",
       "      <td>1525.0</td>\n",
       "      <td>98.0</td>\n",
       "      <td>78.0</td>\n",
       "      <td>597.6</td>\n",
       "      <td>930.9</td>\n",
       "      <td>116367074.0</td>\n",
       "      <td>39849311.0</td>\n",
       "      <td>0.0</td>\n",
       "      <td>70.0</td>\n",
       "    </tr>\n",
       "    <tr>\n",
       "      <th>1</th>\n",
       "      <td>LVCB4L4D3HM002839</td>\n",
       "      <td>2021-03-31 08:44:09</td>\n",
       "      <td>0.0</td>\n",
       "      <td>1.0</td>\n",
       "      <td>3.0</td>\n",
       "      <td>1.0</td>\n",
       "      <td>601.4</td>\n",
       "      <td>0.0</td>\n",
       "      <td>107446.3</td>\n",
       "      <td>97.0</td>\n",
       "      <td>...</td>\n",
       "      <td>20000.0</td>\n",
       "      <td>2000.0</td>\n",
       "      <td>99.0</td>\n",
       "      <td>71.0</td>\n",
       "      <td>601.4</td>\n",
       "      <td>999.8</td>\n",
       "      <td>116372624.0</td>\n",
       "      <td>39849206.0</td>\n",
       "      <td>0.0</td>\n",
       "      <td>100.0</td>\n",
       "    </tr>\n",
       "    <tr>\n",
       "      <th>2</th>\n",
       "      <td>LVCB4L4D3HM002839</td>\n",
       "      <td>2021-03-31 08:44:24</td>\n",
       "      <td>1.1</td>\n",
       "      <td>1.0</td>\n",
       "      <td>3.0</td>\n",
       "      <td>1.0</td>\n",
       "      <td>601.3</td>\n",
       "      <td>14.7</td>\n",
       "      <td>107446.3</td>\n",
       "      <td>97.0</td>\n",
       "      <td>...</td>\n",
       "      <td>20057.0</td>\n",
       "      <td>2794.0</td>\n",
       "      <td>97.0</td>\n",
       "      <td>70.0</td>\n",
       "      <td>601.3</td>\n",
       "      <td>1013.3</td>\n",
       "      <td>116372624.0</td>\n",
       "      <td>39849206.0</td>\n",
       "      <td>34.0</td>\n",
       "      <td>0.0</td>\n",
       "    </tr>\n",
       "    <tr>\n",
       "      <th>6880554</th>\n",
       "      <td>LVCB4L4D4HM002803</td>\n",
       "      <td>2020-10-21 11:32:57</td>\n",
       "      <td>0.0</td>\n",
       "      <td>1.0</td>\n",
       "      <td>3.0</td>\n",
       "      <td>1.0</td>\n",
       "      <td>579.1</td>\n",
       "      <td>0.0</td>\n",
       "      <td>144216.7</td>\n",
       "      <td>74.0</td>\n",
       "      <td>...</td>\n",
       "      <td>20000.0</td>\n",
       "      <td>2000.0</td>\n",
       "      <td>97.0</td>\n",
       "      <td>77.0</td>\n",
       "      <td>579.1</td>\n",
       "      <td>999.0</td>\n",
       "      <td>116445573.0</td>\n",
       "      <td>39870107.0</td>\n",
       "      <td>0.0</td>\n",
       "      <td>100.0</td>\n",
       "    </tr>\n",
       "    <tr>\n",
       "      <th>6880555</th>\n",
       "      <td>LVCB4L4D4HM002803</td>\n",
       "      <td>2020-10-21 11:33:12</td>\n",
       "      <td>5.2</td>\n",
       "      <td>1.0</td>\n",
       "      <td>3.0</td>\n",
       "      <td>1.0</td>\n",
       "      <td>579.1</td>\n",
       "      <td>53.5</td>\n",
       "      <td>144216.7</td>\n",
       "      <td>74.0</td>\n",
       "      <td>...</td>\n",
       "      <td>20180.0</td>\n",
       "      <td>3157.0</td>\n",
       "      <td>96.0</td>\n",
       "      <td>77.0</td>\n",
       "      <td>579.1</td>\n",
       "      <td>1049.4</td>\n",
       "      <td>116445573.0</td>\n",
       "      <td>39870107.0</td>\n",
       "      <td>34.0</td>\n",
       "      <td>0.0</td>\n",
       "    </tr>\n",
       "    <tr>\n",
       "      <th>6880556</th>\n",
       "      <td>LVCB4L4D4HM002803</td>\n",
       "      <td>2020-10-21 11:33:27</td>\n",
       "      <td>11.5</td>\n",
       "      <td>1.0</td>\n",
       "      <td>3.0</td>\n",
       "      <td>1.0</td>\n",
       "      <td>580.7</td>\n",
       "      <td>-41.9</td>\n",
       "      <td>144216.7</td>\n",
       "      <td>74.0</td>\n",
       "      <td>...</td>\n",
       "      <td>20367.0</td>\n",
       "      <td>1274.0</td>\n",
       "      <td>95.0</td>\n",
       "      <td>78.0</td>\n",
       "      <td>580.7</td>\n",
       "      <td>959.3</td>\n",
       "      <td>116444806.0</td>\n",
       "      <td>39870101.0</td>\n",
       "      <td>0.0</td>\n",
       "      <td>3.0</td>\n",
       "    </tr>\n",
       "  </tbody>\n",
       "</table>\n",
       "<p>6 rows × 38 columns</p>\n",
       "</div>"
      ],
      "text/plain": [
       "                       vin                   时间    车速  车辆状态  充电状态  运行模式  \\\n",
       "0        LVCB4L4D3HM002839  2021-03-31 08:42:09  30.9   1.0   3.0   1.0   \n",
       "1        LVCB4L4D3HM002839  2021-03-31 08:44:09   0.0   1.0   3.0   1.0   \n",
       "2        LVCB4L4D3HM002839  2021-03-31 08:44:24   1.1   1.0   3.0   1.0   \n",
       "6880554  LVCB4L4D4HM002803  2020-10-21 11:32:57   0.0   1.0   3.0   1.0   \n",
       "6880555  LVCB4L4D4HM002803  2020-10-21 11:33:12   5.2   1.0   3.0   1.0   \n",
       "6880556  LVCB4L4D4HM002803  2020-10-21 11:33:27  11.5   1.0   3.0   1.0   \n",
       "\n",
       "           总电压   总电流      累计里程   SOC  ...   驱动电机转速  驱动电机转矩  驱动电机温度  驱动电机控制器温度  \\\n",
       "0        597.6 -43.1  107445.8  97.0  ...  21004.0  1525.0    98.0       78.0   \n",
       "1        601.4   0.0  107446.3  97.0  ...  20000.0  2000.0    99.0       71.0   \n",
       "2        601.3  14.7  107446.3  97.0  ...  20057.0  2794.0    97.0       70.0   \n",
       "6880554  579.1   0.0  144216.7  74.0  ...  20000.0  2000.0    97.0       77.0   \n",
       "6880555  579.1  53.5  144216.7  74.0  ...  20180.0  3157.0    96.0       77.0   \n",
       "6880556  580.7 -41.9  144216.7  74.0  ...  20367.0  1274.0    95.0       78.0   \n",
       "\n",
       "         电机控制器输入电压  电机控制器直流母流电流           经度          维度  加速踏板行程值  制动踏板状态  \n",
       "0            597.6        930.9  116367074.0  39849311.0      0.0    70.0  \n",
       "1            601.4        999.8  116372624.0  39849206.0      0.0   100.0  \n",
       "2            601.3       1013.3  116372624.0  39849206.0     34.0     0.0  \n",
       "6880554      579.1        999.0  116445573.0  39870107.0      0.0   100.0  \n",
       "6880555      579.1       1049.4  116445573.0  39870107.0     34.0     0.0  \n",
       "6880556      580.7        959.3  116444806.0  39870101.0      0.0     3.0  \n",
       "\n",
       "[6 rows x 38 columns]"
      ]
     },
     "execution_count": 4,
     "metadata": {},
     "output_type": "execute_result"
    }
   ],
   "source": [
    "data_train.head(3).append(data_train.tail(3))"
   ]
  },
  {
   "cell_type": "code",
   "execution_count": 5,
   "metadata": {},
   "outputs": [
    {
     "data": {
      "text/plain": [
       "36"
      ]
     },
     "execution_count": 5,
     "metadata": {},
     "output_type": "execute_result"
    }
   ],
   "source": [
    "data_train.isnull().any().sum()"
   ]
  },
  {
   "cell_type": "code",
   "execution_count": 6,
   "metadata": {},
   "outputs": [
    {
     "name": "stdout",
     "output_type": "stream",
     "text": [
      "{'vin': 0.0, '时间': 0.0, '车速': 0.19483916781737293, '车辆状态': 0.19063732776285408, '充电状态': 0.08762720808794985, '运行模式': 0.08762720808794985, '总电压': 0.08762720808794985, '总电流': 0.08762720808794985, '累计里程': 0.19483916781737293, 'SOC': 0.08762720808794985, '电池单体电压最高值': 0.0868278541984319, '最高电压电池单体代号': 0.08682756352429026, '电池单体电压最低值': 0.08682756352429026, '最低电压电池单体代号': 0.08682756352429026, '最高温度值': 0.08682756352429026, '最高温度探针单体代号': 0.08682756352429026, '最低温度值': 0.08682756352429026, '最低温度探针单体代号': 0.08682756352429026, '最高报警等级': 0.08682756352429026, 'DC_DC状态': 0.0886955808955583, '档位': 0.08682756352429026, '最高电压电池子系统号': 0.08682756352429026, '最低电压电池子系统号': 0.08682756352429026, '最高温度子系统号': 0.08682756352429026, '最低温度子系统号': 0.08682756352429026, '驱动电机个数': 0.08682756352429026, '驱动电机序号': 0.08682756352429026, '驱动电机状态': 0.10598226277320281, '驱动电机转速': 0.22596717097176872, '驱动电机转矩': 0.22596717097176872, '驱动电机温度': 0.22596717097176872, '驱动电机控制器温度': 0.22596717097176872, '电机控制器输入电压': 0.22596964170197267, '电机控制器直流母流电流': 0.22596717097176872, '经度': 0.08682756352429026, '维度': 0.08682756352429026, '加速踏板行程值': 0.08885574234760354, '制动踏板状态': 0.08885574234760354}\n"
     ]
    },
    {
     "data": {
      "text/plain": [
       "{}"
      ]
     },
     "execution_count": 6,
     "metadata": {},
     "output_type": "execute_result"
    }
   ],
   "source": [
    "# 查看缺失率大于50%的特征\n",
    "have_null_fea_dict = (data_train.isnull().sum()/len(data_train)).to_dict()\n",
    "print(have_null_fea_dict)\n",
    "fea_null_moreThanHalf = {} # 存放缺失率大于一半的特征字典\n",
    "for key,value in have_null_fea_dict.items():\n",
    "    if value > 0.5:\n",
    "        fea_null_moreThanHalf[key] = value\n",
    "\n",
    "fea_null_moreThanHalf"
   ]
  },
  {
   "cell_type": "code",
   "execution_count": 7,
   "metadata": {},
   "outputs": [
    {
     "data": {
      "image/png": "[encoded data removed]",
      "text/plain": [
       "<Figure size 1440x360 with 1 Axes>"
      ]
     },
     "metadata": {},
     "output_type": "display_data"
    }
   ],
   "source": [
    "# 利用可视化简单查看一下特征的缺失率\n",
    "missing = data_train.isnull().sum()/len(data_train)\n",
    "missing = missing[missing>0]\n",
    "missing.sort_values(inplace=True) # 升序\n",
    "plt.rcParams['font.sans-serif'] = ['SimHei']  # 中文字体设置-黑体\n",
    "plt.rcParams['axes.unicode_minus'] = False  # 解决保存图像是负号'-'显示为方块的问题\n",
    "sns.set(font='SimHei')  # 解决Seaborn中文显示问题\n",
    "plt.figure(figsize=(20,5))\n",
    "missing.plot.bar(color=\"blue\")\n",
    "plt.grid(alpha =0.3)"
   ]
  },
  {
   "cell_type": "code",
   "execution_count": 8,
   "metadata": {},
   "outputs": [
    {
     "data": {
      "text/plain": [
       "['运行模式',\n",
       " '最高电压电池子系统号',\n",
       " '最低电压电池子系统号',\n",
       " '最高温度子系统号',\n",
       " '最低温度子系统号',\n",
       " '驱动电机个数',\n",
       " '驱动电机序号']"
      ]
     },
     "execution_count": 8,
     "metadata": {},
     "output_type": "execute_result"
    }
   ],
   "source": [
    "# 查看数据集当中只有一种值的特征\n",
    "one_kinds_column = [fea for fea in data_train.columns if data_train[fea].nunique() <= 1]\n",
    "one_kinds_column"
   ]
  },
  {
   "cell_type": "code",
   "execution_count": 9,
   "metadata": {},
   "outputs": [
    {
     "data": {
      "text/plain": [
       "(6880557, 31)"
      ]
     },
     "execution_count": 9,
     "metadata": {},
     "output_type": "execute_result"
    }
   ],
   "source": [
    "data_train = data_train.drop(one_kinds_column, axis=1)\n",
    "data_train.shape"
   ]
  },
  {
   "cell_type": "code",
   "execution_count": 10,
   "metadata": {},
   "outputs": [
    {
     "name": "stdout",
     "output_type": "stream",
     "text": [
      "<class 'pandas.core.frame.DataFrame'>\n",
      "RangeIndex: 6880557 entries, 0 to 6880556\n",
      "Data columns (total 31 columns):\n",
      " #   Column       Dtype  \n",
      "---  ------       -----  \n",
      " 0   vin          object \n",
      " 1   时间           object \n",
      " 2   车速           float64\n",
      " 3   车辆状态         float64\n",
      " 4   充电状态         float64\n",
      " 5   总电压          float64\n",
      " 6   总电流          float64\n",
      " 7   累计里程         float64\n",
      " 8   SOC          float64\n",
      " 9   电池单体电压最高值    float64\n",
      " 10  最高电压电池单体代号   float64\n",
      " 11  电池单体电压最低值    float64\n",
      " 12  最低电压电池单体代号   float64\n",
      " 13  最高温度值        float64\n",
      " 14  最高温度探针单体代号   float64\n",
      " 15  最低温度值        float64\n",
      " 16  最低温度探针单体代号   float64\n",
      " 17  最高报警等级       float64\n",
      " 18  DC_DC状态      float64\n",
      " 19  档位           float64\n",
      " 20  驱动电机状态       float64\n",
      " 21  驱动电机转速       float64\n",
      " 22  驱动电机转矩       float64\n",
      " 23  驱动电机温度       float64\n",
      " 24  驱动电机控制器温度    float64\n",
      " 25  电机控制器输入电压    float64\n",
      " 26  电机控制器直流母流电流  float64\n",
      " 27  经度           float64\n",
      " 28  维度           float64\n",
      " 29  加速踏板行程值      float64\n",
      " 30  制动踏板状态       float64\n",
      "dtypes: float64(29), object(2)\n",
      "memory usage: 1.6+ GB\n"
     ]
    }
   ],
   "source": [
    "data_train.info()"
   ]
  },
  {
   "cell_type": "code",
   "execution_count": 11,
   "metadata": {},
   "outputs": [
    {
     "name": "stdout",
     "output_type": "stream",
     "text": [
      "['车速', '车辆状态', '充电状态', '总电压', '总电流', '累计里程', 'SOC', '电池单体电压最高值', '最高电压电池单体代号', '电池单体电压最低值', '最低电压电池单体代号', '最高温度值', '最高温度探针单体代号', '最低温度值', '最低温度探针单体代号', '最高报警等级', 'DC_DC状态', '档位', '驱动电机状态', '驱动电机转速', '驱动电机转矩', '驱动电机温度', '驱动电机控制器温度', '电机控制器输入电压', '电机控制器直流母流电流', '经度', '维度', '加速踏板行程值', '制动踏板状态']\n",
      "29\n",
      "['vin', '时间']\n"
     ]
    }
   ],
   "source": [
    "numerical_fea = list(data_train.select_dtypes(exclude=['object']).columns)\n",
    "print(numerical_fea)\n",
    "print(len(numerical_fea))\n",
    "category_fea = list(filter(lambda x : x not in numerical_fea,list(data_train.columns)))\n",
    "print(category_fea)  # 对象类型"
   ]
  },
  {
   "cell_type": "markdown",
   "metadata": {},
   "source": [
    "# <font color=gree>数据预处理</font>\n",
    "\n",
    "## 1.缺失值处理\n",
    "\n",
    "* 类别特征使用众数填充\n",
    "* 连续特征使用中位数填充\n",
    "\n",
    "## 2.时间特征处理"
   ]
  },
  {
   "cell_type": "code",
   "execution_count": 12,
   "metadata": {},
   "outputs": [],
   "source": [
    "# 过滤数值型类别特征\n",
    "def get_numerical_serial_fea(data,feas):\n",
    "    numerical_serial_fea = []\n",
    "    numerical_noserial_fea = []\n",
    "    for fea in feas:\n",
    "        temp = data[fea].nunique()  #获取不同值的个数\n",
    "        if temp < 10:\n",
    "            numerical_noserial_fea.append(fea)\n",
    "            continue\n",
    "        numerical_serial_fea.append(fea)\n",
    "    return numerical_serial_fea,numerical_noserial_fea\n",
    "\n",
    "numerical_serial_fea, numerical_noserial_fea = get_numerical_serial_fea(data_train, numerical_fea)"
   ]
  },
  {
   "cell_type": "code",
   "execution_count": 13,
   "metadata": {},
   "outputs": [
    {
     "name": "stdout",
     "output_type": "stream",
     "text": [
      "连续型特征： 23\n",
      "['车速', '总电压', '总电流', '累计里程', 'SOC', '电池单体电压最高值', '最高电压电池单体代号', '电池单体电压最低值', '最低电压电池单体代号', '最高温度值', '最高温度探针单体代号', '最低温度值', '最低温度探针单体代号', '驱动电机转速', '驱动电机转矩', '驱动电机温度', '驱动电机控制器温度', '电机控制器输入电压', '电机控制器直流母流电流', '经度', '维度', '加速踏板行程值', '制动踏板状态']\n",
      "----------------------------------------------------------------------------------------------------\n",
      "离散型特征： 6\n",
      "['车辆状态', '充电状态', '最高报警等级', 'DC_DC状态', '档位', '驱动电机状态']\n"
     ]
    }
   ],
   "source": [
    "print(\"连续型特征：\", len(numerical_serial_fea))\n",
    "print(numerical_serial_fea)\n",
    "print('-' * 100)\n",
    "print(\"离散型特征：\", len(numerical_noserial_fea))\n",
    "print(numerical_noserial_fea)"
   ]
  },
  {
   "cell_type": "code",
   "execution_count": 14,
   "metadata": {},
   "outputs": [],
   "source": [
    "# 按照中位数填充连续特征\n",
    "data_train[numerical_fea] = data_train[numerical_fea].fillna(data_train[numerical_fea].median())\n",
    "# 按照众数填充离散特征\n",
    "data_train[category_fea] = data_train[category_fea].fillna(data_train[category_fea].mode())"
   ]
  },
  {
   "cell_type": "code",
   "execution_count": 15,
   "metadata": {},
   "outputs": [
    {
     "data": {
      "text/plain": [
       "vin            0\n",
       "时间             0\n",
       "车速             0\n",
       "车辆状态           0\n",
       "充电状态           0\n",
       "总电压            0\n",
       "总电流            0\n",
       "累计里程           0\n",
       "SOC            0\n",
       "电池单体电压最高值      0\n",
       "最高电压电池单体代号     0\n",
       "电池单体电压最低值      0\n",
       "最低电压电池单体代号     0\n",
       "最高温度值          0\n",
       "最高温度探针单体代号     0\n",
       "最低温度值          0\n",
       "最低温度探针单体代号     0\n",
       "最高报警等级         0\n",
       "DC_DC状态        0\n",
       "档位             0\n",
       "驱动电机状态         0\n",
       "驱动电机转速         0\n",
       "驱动电机转矩         0\n",
       "驱动电机温度         0\n",
       "驱动电机控制器温度      0\n",
       "电机控制器输入电压      0\n",
       "电机控制器直流母流电流    0\n",
       "经度             0\n",
       "维度             0\n",
       "加速踏板行程值        0\n",
       "制动踏板状态         0\n",
       "dtype: int64"
      ]
     },
     "execution_count": 15,
     "metadata": {},
     "output_type": "execute_result"
    }
   ],
   "source": [
    "# 再次查看缺失情况\n",
    "data_train.isnull().sum()"
   ]
  },
  {
   "cell_type": "code",
   "execution_count": 16,
   "metadata": {},
   "outputs": [
    {
     "name": "stdout",
     "output_type": "stream",
     "text": [
      "1.0    6522150\n",
      "2.0     358407\n",
      "Name: 车辆状态, dtype: int64\n",
      "\n",
      "3.0    5966045\n",
      "1.0     728042\n",
      "4.0     186470\n",
      "Name: 充电状态, dtype: int64\n",
      "\n",
      "0.0    6773867\n",
      "1.0      89968\n",
      "2.0      12979\n",
      "3.0       3743\n",
      "Name: 最高报警等级, dtype: int64\n",
      "\n",
      "1.0    6757886\n",
      "2.0     122671\n",
      "Name: DC_DC状态, dtype: int64\n",
      "\n",
      "14.0    5315820\n",
      "0.0     1499869\n",
      "13.0      64868\n",
      "Name: 档位, dtype: int64\n",
      "\n",
      "4.0    5451821\n",
      "3.0     938410\n",
      "1.0     490326\n",
      "Name: 驱动电机状态, dtype: int64\n",
      "\n"
     ]
    }
   ],
   "source": [
    "for fea in numerical_noserial_fea:\n",
    "    print(data_train[fea].value_counts())\n",
    "    print()"
   ]
  },
  {
   "cell_type": "markdown",
   "metadata": {},
   "source": [
    "# <font color=red>时间特征处理</font>\n",
    "\n",
    "## 十辆车按时间顺序进行排序，并且构造 'day' 'second' 特征，得到最后新的排序过后的数据集，，再构造 时间的变化量15s"
   ]
  },
  {
   "cell_type": "code",
   "execution_count": 17,
   "metadata": {},
   "outputs": [
    {
     "name": "stderr",
     "output_type": "stream",
     "text": [
      "100%|██████████| 10/10 [03:48<00:00, 22.84s/it]\n"
     ]
    },
    {
     "name": "stdout",
     "output_type": "stream",
     "text": [
      "排序过后的全量数据集： (6880557, 33)\n"
     ]
    }
   ],
   "source": [
    "def init_time_fea(data_train, car_dict):\n",
    "    new_data_set_list = list()\n",
    "    for k, v in tqdm(car_dict.items()):\n",
    "        temp_data = data_train[data_train['vin']==k].reset_index(drop=True)\n",
    "        temp_data = temp_data.sort_values('时间')\n",
    "        temp_data['时间'] = pd.to_datetime(temp_data['时间'], format='%Y-%m-%d %H:%M:%S')\n",
    "        startdate = datetime.datetime.strptime(str(list(temp_data['时间'])[0]), '%Y-%m-%d %H:%M:%S')\n",
    "        temp_data['day'] = temp_data['时间'].apply(lambda x: x-startdate).dt.days\n",
    "        temp_data['second'] = temp_data['时间'].apply(lambda x: x-startdate).dt.total_seconds()\n",
    "        new_data_set_list.append(temp_data)\n",
    "    data_sets_sort = pd.concat(new_data_set_list).reset_index(drop=True)\n",
    "    print(\"排序过后的全量数据集：\", data_sets_sort.shape)\n",
    "    return data_sets_sort\n",
    "\n",
    "data_sets_sort = init_time_fea(data_train ,dict(data_train['vin'].value_counts()))"
   ]
  },
  {
   "cell_type": "code",
   "execution_count": 18,
   "metadata": {},
   "outputs": [
    {
     "data": {
      "text/html": [
       "<div>\n",
       "<style scoped>\n",
       "    .dataframe tbody tr th:only-of-type {\n",
       "        vertical-align: middle;\n",
       "    }\n",
       "\n",
       "    .dataframe tbody tr th {\n",
       "        vertical-align: top;\n",
       "    }\n",
       "\n",
       "    .dataframe thead th {\n",
       "        text-align: right;\n",
       "    }\n",
       "</style>\n",
       "<table border=\"1\" class=\"dataframe\">\n",
       "  <thead>\n",
       "    <tr style=\"text-align: right;\">\n",
       "      <th></th>\n",
       "      <th>day</th>\n",
       "      <th>second</th>\n",
       "    </tr>\n",
       "  </thead>\n",
       "  <tbody>\n",
       "    <tr>\n",
       "      <th>0</th>\n",
       "      <td>0</td>\n",
       "      <td>0.0</td>\n",
       "    </tr>\n",
       "    <tr>\n",
       "      <th>1</th>\n",
       "      <td>0</td>\n",
       "      <td>15.0</td>\n",
       "    </tr>\n",
       "    <tr>\n",
       "      <th>2</th>\n",
       "      <td>0</td>\n",
       "      <td>30.0</td>\n",
       "    </tr>\n",
       "    <tr>\n",
       "      <th>3</th>\n",
       "      <td>0</td>\n",
       "      <td>45.0</td>\n",
       "    </tr>\n",
       "    <tr>\n",
       "      <th>4</th>\n",
       "      <td>0</td>\n",
       "      <td>60.0</td>\n",
       "    </tr>\n",
       "    <tr>\n",
       "      <th>...</th>\n",
       "      <td>...</td>\n",
       "      <td>...</td>\n",
       "    </tr>\n",
       "    <tr>\n",
       "      <th>6880552</th>\n",
       "      <td>365</td>\n",
       "      <td>31598096.0</td>\n",
       "    </tr>\n",
       "    <tr>\n",
       "      <th>6880553</th>\n",
       "      <td>365</td>\n",
       "      <td>31598111.0</td>\n",
       "    </tr>\n",
       "    <tr>\n",
       "      <th>6880554</th>\n",
       "      <td>365</td>\n",
       "      <td>31598126.0</td>\n",
       "    </tr>\n",
       "    <tr>\n",
       "      <th>6880555</th>\n",
       "      <td>365</td>\n",
       "      <td>31598141.0</td>\n",
       "    </tr>\n",
       "    <tr>\n",
       "      <th>6880556</th>\n",
       "      <td>365</td>\n",
       "      <td>31598156.0</td>\n",
       "    </tr>\n",
       "  </tbody>\n",
       "</table>\n",
       "<p>6880557 rows × 2 columns</p>\n",
       "</div>"
      ],
      "text/plain": [
       "         day      second\n",
       "0          0         0.0\n",
       "1          0        15.0\n",
       "2          0        30.0\n",
       "3          0        45.0\n",
       "4          0        60.0\n",
       "...      ...         ...\n",
       "6880552  365  31598096.0\n",
       "6880553  365  31598111.0\n",
       "6880554  365  31598126.0\n",
       "6880555  365  31598141.0\n",
       "6880556  365  31598156.0\n",
       "\n",
       "[6880557 rows x 2 columns]"
      ]
     },
     "execution_count": 18,
     "metadata": {},
     "output_type": "execute_result"
    }
   ],
   "source": [
    "# data_sets_sort.to_csv('E:/TianChi/2021数字汽车大赛/temp_df/datasets_sort.csv', index=False)\n",
    "\n",
    "data_sets_sort[['day', 'second']]"
   ]
  },
  {
   "cell_type": "markdown",
   "metadata": {},
   "source": [
    "# <font color=orange>越级挂挡行为</font>\n",
    "\n",
    "## <font color=pink>首先确定车速非0的情况，在离合到达脱离动力深度的情况下，未出现刹车信息的与空挡信息。通过获取当前当位值与上次档位值，将俩者的数值进行相减，若结果非0、-1、1的情况下，则判断为越级挂挡行为。由于在每次换挡过程中，会出现空档的情况。因此在检测方法过程中，需要排除撤档返回空档的情况影响。</font>\n",
    "\n",
    "* 车速：城市内限速60\n",
    "* 车辆状态：1启动，2熄火\n",
    "* 驱动电机状态：1耗电，2发电，3关闭\n",
    "* 驱动点击转速：在发动机转速出现骤升时或车辆速度明显降低时就匆忙越级加档或减档。可以考虑利用发动机转速在未换挡时变化是连续的。\n"
   ]
  },
  {
   "cell_type": "code",
   "execution_count": null,
   "metadata": {},
   "outputs": [],
   "source": []
  },
  {
   "cell_type": "markdown",
   "metadata": {},
   "source": [
    "# <font color=orange>空挡滑行行为</font>\n",
    "\n",
    "## <font color=pink>通过检测空档档位与车辆当前车速进行组合来判断。首先是在射速非0的情况下，在检测到驾驶人将档位挂至空档后，在规定时间内，若检测此刻档位始终处于空档时，则判断该行为是空挡滑行行为。</font>\n",
    "\n",
    "* 1.车速信息\n",
    "    * 车速非0\n",
    "* 2.离合信息\n",
    "    * 离合达到脱离动力深度\n",
    "* 3.刹车信息\n",
    "    * 未出现刹车信号\n",
    "* 4.档位信息\n",
    "    * 出现空档信号，持续超过一定时间\n",
    "\n",
    "['车速', '车辆状态', '档位']"
   ]
  },
  {
   "cell_type": "code",
   "execution_count": null,
   "metadata": {},
   "outputs": [],
   "source": []
  },
  {
   "cell_type": "code",
   "execution_count": null,
   "metadata": {},
   "outputs": [],
   "source": []
  },
  {
   "cell_type": "code",
   "execution_count": null,
   "metadata": {},
   "outputs": [],
   "source": []
  },
  {
   "cell_type": "code",
   "execution_count": null,
   "metadata": {},
   "outputs": [],
   "source": []
  }
 ],
 "metadata": {
  "interpreter": {
   "hash": "192a88fd96c5f88b0f93f6844c224266c9a88fc5236fe406ecce83d3f919f99d"
  },
  "kernelspec": {
   "display_name": "Python 3.9.5 64-bit (system)",
   "name": "python3"
  },
  "language_info": {
   "codemirror_mode": {
    "name": "ipython",
    "version": 3
   },
   "file_extension": ".py",
   "mimetype": "text/x-python",
   "name": "python",
   "nbconvert_exporter": "python",
   "pygments_lexer": "ipython3",
   "version": "3.9.5"
  },
  "orig_nbformat": 4
 },
 "nbformat": 4,
 "nbformat_minor": 2
}
