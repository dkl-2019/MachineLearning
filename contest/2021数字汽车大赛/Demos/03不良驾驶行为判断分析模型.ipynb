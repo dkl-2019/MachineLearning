{
 "cells": [
  {
   "cell_type": "code",
   "execution_count": 1,
   "metadata": {},
   "outputs": [],
   "source": [
    "import pandas as pd\n",
    "import numpy as np\n",
    "import matplotlib.pyplot as plt\n",
    "import seaborn as sns\n",
    "from tqdm import tqdm\n",
    "import datetime\n",
    "import warnings\n",
    "import random\n",
    "from functools import reduce \n",
    "from os import walk\n",
    "warnings.filterwarnings('ignore')"
   ]
  },
  {
   "cell_type": "code",
   "execution_count": 4,
   "metadata": {},
   "outputs": [
    {
     "data": {
      "text/plain": [
       "(6880557, 44)"
      ]
     },
     "execution_count": 4,
     "metadata": {},
     "output_type": "execute_result"
    }
   ],
   "source": [
    "dataset = pd.read_csv('F:/aliyuun_datas/2021数字汽车大赛/temp_df/datasets_aw.csv')\n",
    "dataset.shape"
   ]
  },
  {
   "cell_type": "code",
   "execution_count": 5,
   "metadata": {},
   "outputs": [
    {
     "data": {
      "text/plain": [
       "Index(['vin', '时间', '车速', '车辆状态', '充电状态', '总电压', '总电流', '累计里程', 'SOC',\n",
       "       '电池单体电压最高值', '最高电压电池单体代号', '电池单体电压最低值', '最低电压电池单体代号', '最高温度值',\n",
       "       '最高温度探针单体代号', '最低温度值', '最低温度探针单体代号', '最高报警等级', 'DC_DC状态', '档位',\n",
       "       '驱动电机状态', '驱动电机转速', '驱动电机转矩', '驱动电机温度', '驱动电机控制器温度', '电机控制器输入电压',\n",
       "       '电机控制器直流母流电流', '经度', '维度', '加速踏板行程值', '制动踏板状态', 'day', 'second',\n",
       "       'speed', 'time_changed', 'speed_changed', 'a', 'engine_speed_changed',\n",
       "       'engine_torque_changed', 'engine_temperature_changed',\n",
       "       'engine_controller_tpt_changed', 'w', '经度_', '维度_'],\n",
       "      dtype='object')"
      ]
     },
     "execution_count": 5,
     "metadata": {},
     "output_type": "execute_result"
    }
   ],
   "source": [
    "dataset.columns"
   ]
  },
  {
   "cell_type": "code",
   "execution_count": 4,
   "metadata": {},
   "outputs": [
    {
     "data": {
      "text/html": [
       "<div>\n",
       "<style scoped>\n",
       "    .dataframe tbody tr th:only-of-type {\n",
       "        vertical-align: middle;\n",
       "    }\n",
       "\n",
       "    .dataframe tbody tr th {\n",
       "        vertical-align: top;\n",
       "    }\n",
       "\n",
       "    .dataframe thead th {\n",
       "        text-align: right;\n",
       "    }\n",
       "</style>\n",
       "<table border=\"1\" class=\"dataframe\">\n",
       "  <thead>\n",
       "    <tr style=\"text-align: right;\">\n",
       "      <th></th>\n",
       "      <th>档位</th>\n",
       "      <th>加速踏板行程值</th>\n",
       "      <th>制动踏板状态</th>\n",
       "    </tr>\n",
       "  </thead>\n",
       "  <tbody>\n",
       "    <tr>\n",
       "      <th>0</th>\n",
       "      <td>0.0</td>\n",
       "      <td>0.0</td>\n",
       "      <td>0.0</td>\n",
       "    </tr>\n",
       "    <tr>\n",
       "      <th>1</th>\n",
       "      <td>0.0</td>\n",
       "      <td>0.0</td>\n",
       "      <td>0.0</td>\n",
       "    </tr>\n",
       "    <tr>\n",
       "      <th>2</th>\n",
       "      <td>0.0</td>\n",
       "      <td>0.0</td>\n",
       "      <td>0.0</td>\n",
       "    </tr>\n",
       "    <tr>\n",
       "      <th>3</th>\n",
       "      <td>0.0</td>\n",
       "      <td>0.0</td>\n",
       "      <td>0.0</td>\n",
       "    </tr>\n",
       "    <tr>\n",
       "      <th>4</th>\n",
       "      <td>0.0</td>\n",
       "      <td>0.0</td>\n",
       "      <td>0.0</td>\n",
       "    </tr>\n",
       "    <tr>\n",
       "      <th>...</th>\n",
       "      <td>...</td>\n",
       "      <td>...</td>\n",
       "      <td>...</td>\n",
       "    </tr>\n",
       "    <tr>\n",
       "      <th>6880552</th>\n",
       "      <td>0.0</td>\n",
       "      <td>0.0</td>\n",
       "      <td>0.0</td>\n",
       "    </tr>\n",
       "    <tr>\n",
       "      <th>6880553</th>\n",
       "      <td>0.0</td>\n",
       "      <td>0.0</td>\n",
       "      <td>0.0</td>\n",
       "    </tr>\n",
       "    <tr>\n",
       "      <th>6880554</th>\n",
       "      <td>0.0</td>\n",
       "      <td>0.0</td>\n",
       "      <td>0.0</td>\n",
       "    </tr>\n",
       "    <tr>\n",
       "      <th>6880555</th>\n",
       "      <td>0.0</td>\n",
       "      <td>0.0</td>\n",
       "      <td>0.0</td>\n",
       "    </tr>\n",
       "    <tr>\n",
       "      <th>6880556</th>\n",
       "      <td>0.0</td>\n",
       "      <td>0.0</td>\n",
       "      <td>0.0</td>\n",
       "    </tr>\n",
       "  </tbody>\n",
       "</table>\n",
       "<p>6880557 rows × 3 columns</p>\n",
       "</div>"
      ],
      "text/plain": [
       "          档位  加速踏板行程值  制动踏板状态\n",
       "0        0.0      0.0     0.0\n",
       "1        0.0      0.0     0.0\n",
       "2        0.0      0.0     0.0\n",
       "3        0.0      0.0     0.0\n",
       "4        0.0      0.0     0.0\n",
       "...      ...      ...     ...\n",
       "6880552  0.0      0.0     0.0\n",
       "6880553  0.0      0.0     0.0\n",
       "6880554  0.0      0.0     0.0\n",
       "6880555  0.0      0.0     0.0\n",
       "6880556  0.0      0.0     0.0\n",
       "\n",
       "[6880557 rows x 3 columns]"
      ]
     },
     "execution_count": 4,
     "metadata": {},
     "output_type": "execute_result"
    }
   ],
   "source": [
    "dataset[['档位', '加速踏板行程值','制动踏板状态']]"
   ]
  },
  {
   "cell_type": "code",
   "execution_count": 5,
   "metadata": {},
   "outputs": [
    {
     "data": {
      "text/plain": [
       "0.0      5013581\n",
       "100.0      81515\n",
       "18.0       41227\n",
       "20.0       38529\n",
       "16.0       38475\n",
       "          ...   \n",
       "91.0        4425\n",
       "93.0        4175\n",
       "95.0        3907\n",
       "97.0        3775\n",
       "99.0        3084\n",
       "Name: 加速踏板行程值, Length: 101, dtype: int64"
      ]
     },
     "execution_count": 5,
     "metadata": {},
     "output_type": "execute_result"
    }
   ],
   "source": [
    "dataset['加速踏板行程值'].value_counts()"
   ]
  },
  {
   "cell_type": "markdown",
   "metadata": {},
   "source": [
    "# <font color=orange>1. 猛加速起步行为判定</font>\n",
    "\n",
    "## <font color=pink>判断指标：初速度为0，起步加速度是否大于 1 </font>"
   ]
  },
  {
   "cell_type": "code",
   "execution_count": 13,
   "metadata": {},
   "outputs": [
    {
     "data": {
      "text/html": [
       "<div>\n",
       "<style scoped>\n",
       "    .dataframe tbody tr th:only-of-type {\n",
       "        vertical-align: middle;\n",
       "    }\n",
       "\n",
       "    .dataframe tbody tr th {\n",
       "        vertical-align: top;\n",
       "    }\n",
       "\n",
       "    .dataframe thead th {\n",
       "        text-align: right;\n",
       "    }\n",
       "</style>\n",
       "<table border=\"1\" class=\"dataframe\">\n",
       "  <thead>\n",
       "    <tr style=\"text-align: right;\">\n",
       "      <th></th>\n",
       "      <th>vin</th>\n",
       "      <th>时间</th>\n",
       "      <th>车速</th>\n",
       "      <th>车辆状态</th>\n",
       "      <th>充电状态</th>\n",
       "      <th>总电压</th>\n",
       "      <th>总电流</th>\n",
       "      <th>累计里程</th>\n",
       "      <th>SOC</th>\n",
       "      <th>电池单体电压最高值</th>\n",
       "      <th>...</th>\n",
       "      <th>time_changed</th>\n",
       "      <th>speed_changed</th>\n",
       "      <th>a</th>\n",
       "      <th>engine_speed_changed</th>\n",
       "      <th>engine_torque_changed</th>\n",
       "      <th>engine_temperature_changed</th>\n",
       "      <th>engine_controller_tpt_changed</th>\n",
       "      <th>w</th>\n",
       "      <th>经度_</th>\n",
       "      <th>维度_</th>\n",
       "    </tr>\n",
       "  </thead>\n",
       "  <tbody>\n",
       "  </tbody>\n",
       "</table>\n",
       "<p>0 rows × 44 columns</p>\n",
       "</div>"
      ],
      "text/plain": [
       "Empty DataFrame\n",
       "Columns: [vin, 时间, 车速, 车辆状态, 充电状态, 总电压, 总电流, 累计里程, SOC, 电池单体电压最高值, 最高电压电池单体代号, 电池单体电压最低值, 最低电压电池单体代号, 最高温度值, 最高温度探针单体代号, 最低温度值, 最低温度探针单体代号, 最高报警等级, DC_DC状态, 档位, 驱动电机状态, 驱动电机转速, 驱动电机转矩, 驱动电机温度, 驱动电机控制器温度, 电机控制器输入电压, 电机控制器直流母流电流, 经度, 维度, 加速踏板行程值, 制动踏板状态, day, second, speed, time_changed, speed_changed, a, engine_speed_changed, engine_torque_changed, engine_temperature_changed, engine_controller_tpt_changed, w, 经度_, 维度_]\n",
       "Index: []\n",
       "\n",
       "[0 rows x 44 columns]"
      ]
     },
     "execution_count": 13,
     "metadata": {},
     "output_type": "execute_result"
    }
   ],
   "source": [
    "a_more_than_1 = dataset[dataset['speed']==0]\n",
    "a_more_than_1[a_more_than_1['a']>1]"
   ]
  },
  {
   "cell_type": "code",
   "execution_count": 16,
   "metadata": {},
   "outputs": [
    {
     "data": {
      "text/plain": [
       "338164"
      ]
     },
     "execution_count": 16,
     "metadata": {},
     "output_type": "execute_result"
    }
   ],
   "source": [
    "len(dataset[dataset['a']>0.5])"
   ]
  },
  {
   "cell_type": "code",
   "execution_count": null,
   "metadata": {},
   "outputs": [],
   "source": [
    "# dataset['is_not_speed_abnormal'] = np.zeros(len(dataset), dtype=int)\n",
    "# dataset[['is_not_speed_abnormal']]"
   ]
  },
  {
   "cell_type": "code",
   "execution_count": 7,
   "metadata": {},
   "outputs": [
    {
     "data": {
      "text/plain": [
       "7          False\n",
       "8          False\n",
       "9          False\n",
       "10         False\n",
       "15         False\n",
       "           ...  \n",
       "6880552    False\n",
       "6880553    False\n",
       "6880554    False\n",
       "6880555    False\n",
       "6880556    False\n",
       "Name: a, Length: 4922579, dtype: bool"
      ]
     },
     "execution_count": 7,
     "metadata": {},
     "output_type": "execute_result"
    }
   ],
   "source": [
    "dataset[dataset['speed']>0]['a']>2"
   ]
  },
  {
   "cell_type": "code",
   "execution_count": 8,
   "metadata": {},
   "outputs": [
    {
     "data": {
      "text/plain": [
       "289056"
      ]
     },
     "execution_count": 8,
     "metadata": {},
     "output_type": "execute_result"
    }
   ],
   "source": [
    "len(dataset[dataset['a']>0.000001])"
   ]
  },
  {
   "cell_type": "code",
   "execution_count": null,
   "metadata": {},
   "outputs": [],
   "source": []
  },
  {
   "cell_type": "markdown",
   "metadata": {},
   "source": [
    "## <font color=pink>由于时间间隔不全是15s，需要异常处理</font>"
   ]
  },
  {
   "cell_type": "code",
   "execution_count": null,
   "metadata": {},
   "outputs": [],
   "source": [
    "# dataset[dataset['time_changed']!=15.0]['time_changed']"
   ]
  },
  {
   "cell_type": "code",
   "execution_count": null,
   "metadata": {},
   "outputs": [],
   "source": [
    "# dataset['time_changed'].value_counts()"
   ]
  },
  {
   "cell_type": "code",
   "execution_count": null,
   "metadata": {},
   "outputs": [],
   "source": []
  },
  {
   "cell_type": "markdown",
   "metadata": {},
   "source": [
    "# <font color=orange>转弯加速识别</font>\n",
    "## <font color=pink>车速非0，转弯角度超过30°</font>"
   ]
  },
  {
   "cell_type": "code",
   "execution_count": 9,
   "metadata": {},
   "outputs": [
    {
     "data": {
      "text/html": [
       "<div>\n",
       "<style scoped>\n",
       "    .dataframe tbody tr th:only-of-type {\n",
       "        vertical-align: middle;\n",
       "    }\n",
       "\n",
       "    .dataframe tbody tr th {\n",
       "        vertical-align: top;\n",
       "    }\n",
       "\n",
       "    .dataframe thead th {\n",
       "        text-align: right;\n",
       "    }\n",
       "</style>\n",
       "<table border=\"1\" class=\"dataframe\">\n",
       "  <thead>\n",
       "    <tr style=\"text-align: right;\">\n",
       "      <th></th>\n",
       "      <th>经度</th>\n",
       "      <th>维度</th>\n",
       "    </tr>\n",
       "  </thead>\n",
       "  <tbody>\n",
       "    <tr>\n",
       "      <th>0</th>\n",
       "      <td>116359166.0</td>\n",
       "      <td>39839881.0</td>\n",
       "    </tr>\n",
       "    <tr>\n",
       "      <th>1</th>\n",
       "      <td>116359166.0</td>\n",
       "      <td>39839881.0</td>\n",
       "    </tr>\n",
       "    <tr>\n",
       "      <th>2</th>\n",
       "      <td>116359166.0</td>\n",
       "      <td>39839881.0</td>\n",
       "    </tr>\n",
       "    <tr>\n",
       "      <th>3</th>\n",
       "      <td>116359166.0</td>\n",
       "      <td>39839881.0</td>\n",
       "    </tr>\n",
       "    <tr>\n",
       "      <th>4</th>\n",
       "      <td>116359166.0</td>\n",
       "      <td>39839881.0</td>\n",
       "    </tr>\n",
       "    <tr>\n",
       "      <th>...</th>\n",
       "      <td>...</td>\n",
       "      <td>...</td>\n",
       "    </tr>\n",
       "    <tr>\n",
       "      <th>6880552</th>\n",
       "      <td>116359218.0</td>\n",
       "      <td>39840158.0</td>\n",
       "    </tr>\n",
       "    <tr>\n",
       "      <th>6880553</th>\n",
       "      <td>116359218.0</td>\n",
       "      <td>39840158.0</td>\n",
       "    </tr>\n",
       "    <tr>\n",
       "      <th>6880554</th>\n",
       "      <td>116359218.0</td>\n",
       "      <td>39840158.0</td>\n",
       "    </tr>\n",
       "    <tr>\n",
       "      <th>6880555</th>\n",
       "      <td>116359218.0</td>\n",
       "      <td>39840158.0</td>\n",
       "    </tr>\n",
       "    <tr>\n",
       "      <th>6880556</th>\n",
       "      <td>116359218.0</td>\n",
       "      <td>39840158.0</td>\n",
       "    </tr>\n",
       "  </tbody>\n",
       "</table>\n",
       "<p>6880557 rows × 2 columns</p>\n",
       "</div>"
      ],
      "text/plain": [
       "                  经度          维度\n",
       "0        116359166.0  39839881.0\n",
       "1        116359166.0  39839881.0\n",
       "2        116359166.0  39839881.0\n",
       "3        116359166.0  39839881.0\n",
       "4        116359166.0  39839881.0\n",
       "...              ...         ...\n",
       "6880552  116359218.0  39840158.0\n",
       "6880553  116359218.0  39840158.0\n",
       "6880554  116359218.0  39840158.0\n",
       "6880555  116359218.0  39840158.0\n",
       "6880556  116359218.0  39840158.0\n",
       "\n",
       "[6880557 rows x 2 columns]"
      ]
     },
     "execution_count": 9,
     "metadata": {},
     "output_type": "execute_result"
    }
   ],
   "source": [
    "dataset[['经度', '维度']]"
   ]
  },
  {
   "cell_type": "code",
   "execution_count": null,
   "metadata": {},
   "outputs": [],
   "source": []
  },
  {
   "cell_type": "code",
   "execution_count": null,
   "metadata": {},
   "outputs": [],
   "source": []
  },
  {
   "cell_type": "code",
   "execution_count": null,
   "metadata": {},
   "outputs": [],
   "source": []
  },
  {
   "cell_type": "code",
   "execution_count": null,
   "metadata": {},
   "outputs": [],
   "source": []
  },
  {
   "cell_type": "code",
   "execution_count": null,
   "metadata": {},
   "outputs": [],
   "source": []
  }
 ],
 "metadata": {
  "interpreter": {
   "hash": "5fb527b06e16c0bf53bd22ca6a0a890a2219c4494de699106f117a6dd9aed55e"
  },
  "kernelspec": {
   "display_name": "Python 3.9.5 64-bit",
   "name": "python3"
  },
  "language_info": {
   "codemirror_mode": {
    "name": "ipython",
    "version": 3
   },
   "file_extension": ".py",
   "mimetype": "text/x-python",
   "name": "python",
   "nbconvert_exporter": "python",
   "pygments_lexer": "ipython3",
   "version": "3.9.5"
  },
  "orig_nbformat": 4
 },
 "nbformat": 4,
 "nbformat_minor": 2
}
