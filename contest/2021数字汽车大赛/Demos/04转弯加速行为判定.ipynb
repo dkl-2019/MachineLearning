{
 "cells": [
  {
   "cell_type": "code",
   "execution_count": 1,
   "metadata": {},
   "outputs": [],
   "source": [
    "from sympy import *\n",
    "from math import radians, cos, sin, asin, sqrt\n",
    "import math"
   ]
  },
  {
   "cell_type": "code",
   "execution_count": 2,
   "metadata": {},
   "outputs": [],
   "source": [
    "class Get_new_gps():\n",
    "    def __init__(self):\n",
    "        # 地球半径\n",
    "        self.R = 6371 * 1000\n",
    "        pass\n",
    "\n",
    "    \"\"\"计算两点间距离\"\"\"\n",
    "\n",
    "    def geodistance(self, lng1, lat1, lng2, lat2):\n",
    "        \"\"\"\n",
    "        :param lng1: 120.12802999999997\n",
    "        :param lat1: 30.28708,115\n",
    "        :param lng2: 115.86572000000001\n",
    "        :param lat2: 28.7427\n",
    "        :return: 两点间距离\n",
    "        \"\"\"\n",
    "        lng1, lat1, lng2, lat2 = map(radians, [float(lng1), float(lat1), float(lng2), float(lat2)])  # 经纬度转换成弧度\n",
    "        dlon = lng2 - lng1\n",
    "        dlat = lat2 - lat1\n",
    "        a = sin(dlat / 2) ** 2 + cos(lat1) * cos(lat2) * sin(dlon / 2) ** 2\n",
    "        distance = 2 * asin(sqrt(a)) * self.R  # 地球平均半径，6371km\n",
    "        distance = round(distance, 3)\n",
    "        return distance\n",
    "\n",
    "    \"\"\"计算点经纬度北500米的点的经纬度\"\"\"\n",
    "\n",
    "    def get_new_lat(self, lng1, lat1, dist=500):\n",
    "        \"\"\"\n",
    "        :param lng1: 120.12803\n",
    "        :param lat1: 20.28708\n",
    "        :param dist:\n",
    "        :return: (120.12803, 20.291576608029594)\n",
    "        \"\"\"\n",
    "        lat2 = 180 * dist / (self.R * pi) + lat1\n",
    "        return (lng1, lat2)\n",
    "\n",
    "    \"\"\"计算点经纬度正东500米点的经纬度\"\"\"\n",
    "\n",
    "    def get_new_lng(self, lng1, lat1, dist=500):\n",
    "        \"\"\"\n",
    "\n",
    "        :param lng1: 116.55272514141352\n",
    "        :param lat1: 30.28708\n",
    "        :param dist:\n",
    "        :return: (116.55272514141352,30.28708)\n",
    "        \"\"\"\n",
    "        lng2 = 180 * dist / (self.R * pi * cos(radians(lat1))) + lng1\n",
    "        return (lng2, lat1)\n",
    "\n",
    "    \"\"\"计算点东北方向与正东某夹角某距离的经纬度\"\"\"\n",
    "\n",
    "    def get_new_lng_angle(self, lng1, lat1, dist=500, angle=30):\n",
    "        \"\"\"\n",
    "\n",
    "        :param lng1:116.55272514141352\n",
    "        :param lat1:30.28708\n",
    "        :param dist:指定距离\n",
    "        :param angle:指定角度\n",
    "        :return:（0.0091871843081617/pi + 116.498079 0.0122339171779312/pi + 39.752304）\n",
    "        \"\"\"\n",
    "        lat2 = 180 * dist*sin(radians(angle)) / (self.R * pi) + lat1\n",
    "        lng2 = 180 * dist*cos(radians(angle)) / (self.R * pi * cos(radians(lat1))) + lng1\n",
    "        return (lng2, lat2)"
   ]
  },
  {
   "cell_type": "code",
   "execution_count": 3,
   "metadata": {},
   "outputs": [
    {
     "name": "stdout",
     "output_type": "stream",
     "text": [
      "原始点的经纬度坐标 116.498079 39.752304\n",
      "正北500米坐标点为116.498079,39.756801,距离计算为500.000000米\n",
      "正东500米坐标点为116.503928,39.752304,距离计算为500.000000米\n",
      "东北方夹角，距离500米坐标点为116.503928,39.752304,距离计算为500.000000米\n",
      "382.682\n"
     ]
    }
   ],
   "source": [
    "functions = Get_new_gps()\n",
    "\n",
    "if __name__ == '__main__':\n",
    "    functions = Get_new_gps()\n",
    "    lng1, lat1 = [116.498079, 39.752304]\n",
    "    # 计算正北的点\n",
    "    lng2, lat2 = functions.get_new_lat(lng1, lat1)\n",
    "    # 计算正东的点\n",
    "    lng3, lat3 = functions.get_new_lng(lng1, lat1)\n",
    "    # 计算该点与正东逆时针夹角45度，距离500米点的经纬度值\n",
    "    lng4, lat4 = functions.get_new_lng_angle(lng1, lat1, dist=500, angle=45)\n",
    "    print(\"原始点的经纬度坐标\", lng1, lat1)\n",
    "    print(\"正北500米坐标点为%f,%f,距离计算为%f米\" % (lng2, lat2, functions.geodistance(lng1, lat1, lng2, lat2)))\n",
    "    print(\"正东500米坐标点为%f,%f,距离计算为%f米\" % (lng3, lat3, functions.geodistance(lng1, lat1, lng3, lat3)))\n",
    "    print(\"东北方夹角，距离500米坐标点为%f,%f,距离计算为%f米\" % (float(lng3), float(lat3), functions.geodistance(lng1, lat1, lng3, lat3)))\n",
    "    print(functions.geodistance(lng3, lat3, lng4, lat4))"
   ]
  },
  {
   "cell_type": "markdown",
   "metadata": {},
   "source": [
    "# <font color=gree>经纬度转换距离代码</font>"
   ]
  },
  {
   "cell_type": "code",
   "execution_count": 18,
   "metadata": {},
   "outputs": [],
   "source": [
    "def getDistance(latA, lonA, latB, lonB):\n",
    "    ra = 6378140  # 赤道半径\n",
    "    rb = 6356755  # 极半径\n",
    "    flatten = (ra - rb) / ra  # Partial rate of the earth\n",
    "    # change angle to radians\n",
    "    radLatA = math.radians(latA)\n",
    "    radLonA = math.radians(lonA)\n",
    "    radLatB = math.radians(latB)\n",
    "    radLonB = math.radians(lonB)\n",
    "\n",
    "    pA = math.atan(rb / ra * math.tan(radLatA))\n",
    "    pB = math.atan(rb / ra * math.tan(radLatB))\n",
    "    x = math.acos(math.sin(pA) * math.sin(pB) + math.cos(pA) * math.cos(pB) * math.cos(radLonA - radLonB))\n",
    "    c1 = (math.sin(x) - x) * (math.sin(pA) + math.sin(pB)) ** 2 / math.cos(x / 2) ** 2\n",
    "    c2 = (math.sin(x) + x) * (math.sin(pA) - math.sin(pB)) ** 2 / math.sin(x / 2) ** 2\n",
    "    dr = flatten / 8 * (c1 - c2)\n",
    "    distance = ra * (x + dr)\n",
    "    distance = round(distance / 1000, 4)\n",
    "    return f'{distance*1000}m'"
   ]
  },
  {
   "cell_type": "markdown",
   "metadata": {},
   "source": [
    "# <font color=gree>经纬度转化角度代码</font>"
   ]
  },
  {
   "cell_type": "code",
   "execution_count": 11,
   "metadata": {},
   "outputs": [],
   "source": [
    "# 计算角度\n",
    "def getDegree(latA, lonA, latB, lonB):\n",
    "    radLatA = math.radians(latA)\n",
    "    radLonA = math.radians(lonA)\n",
    "    radLatB = math.radians(latB)\n",
    "    radLonB = math.radians(lonB)\n",
    "    dLon = radLonB - radLonA\n",
    "    y = math.sin(dLon) * math.cos(radLatB)\n",
    "    x = math.cos(radLatA) * math.sin(radLatB) - math.sin(radLatA) * math.cos(radLatB) * math.cos(dLon)\n",
    "    brng = math.degrees(math.atan2(y, x))\n",
    "    brng = round((brng + 360) % 360, 4)\n",
    "    brng = int(brng)\n",
    "    if (brng == 0.0) or ((brng == 360.0)):\n",
    "        return '正北方向'\n",
    "    elif brng == 90.0:\n",
    "        return '正东方向'\n",
    "    elif brng == 180.0:\n",
    "        return '正南方向'\n",
    "    elif brng == 270.0:\n",
    "        return '正西方向'\n",
    "    elif 0 < brng < 90:\n",
    "        return f'北偏东{brng}'\n",
    "    elif 90 < brng < 180:\n",
    "        return f'东偏南{brng - 90}'\n",
    "    elif 180 < brng < 270:\n",
    "        return f'西偏南{270 - brng}'\n",
    "    elif 270 < brng < 360:\n",
    "        return f'北偏西{brng - 270}'\n",
    "    else:\n",
    "        pass"
   ]
  },
  {
   "cell_type": "code",
   "execution_count": 14,
   "metadata": {},
   "outputs": [
    {
     "data": {
      "text/plain": [
       "'北偏东73'"
      ]
     },
     "execution_count": 14,
     "metadata": {},
     "output_type": "execute_result"
    }
   ],
   "source": [
    "getDegree(22.599578, 113.973129, 22.6986848, 114.3311032)"
   ]
  },
  {
   "cell_type": "code",
   "execution_count": 19,
   "metadata": {},
   "outputs": [
    {
     "data": {
      "text/plain": [
       "'38396.5m'"
      ]
     },
     "execution_count": 19,
     "metadata": {},
     "output_type": "execute_result"
    }
   ],
   "source": [
    "getDistance(22.599578, 113.973129, 22.6986848, 114.3311032)"
   ]
  },
  {
   "cell_type": "code",
   "execution_count": 20,
   "metadata": {},
   "outputs": [
    {
     "data": {
      "text/plain": [
       "17"
      ]
     },
     "execution_count": 20,
     "metadata": {},
     "output_type": "execute_result"
    }
   ],
   "source": [
    "def getDegree(latA, lonA, latB, lonB):\n",
    "    radLatA = math.radians(latA)\n",
    "    radLonA = math.radians(lonA)\n",
    "    radLatB = math.radians(latB)\n",
    "    radLonB = math.radians(lonB)\n",
    "    dLon = radLonB - radLonA\n",
    "    y = math.sin(dLon) * math.cos(radLatB)\n",
    "    x = math.cos(radLatA) * math.sin(radLatB) - math.sin(radLatA) * math.cos(radLatB) * math.cos(dLon)\n",
    "    brng = math.degrees(math.atan2(y, x))\n",
    "    brng = round((brng + 360) % 360, 4)\n",
    "    brng = int(brng)\n",
    "    if (brng == 0.0) or ((brng == 360.0)):\n",
    "        return 90\n",
    "    elif brng == 90.0:\n",
    "        return 0\n",
    "    elif brng == 180.0:\n",
    "        return 270\n",
    "    elif brng == 270.0:\n",
    "        return 180\n",
    "    elif 0 < brng < 90:\n",
    "        return 90-brng\n",
    "    elif 90 < brng < 180:\n",
    "        return 360-brng\n",
    "    elif 180 < brng < 270:\n",
    "        return 180+brng\n",
    "    elif 270 < brng < 360:\n",
    "        return 90+brng\n",
    "    else:\n",
    "        pass\n",
    "getDegree(22.599578, 113.973129, 22.6986848, 114.3311032)"
   ]
  },
  {
   "cell_type": "code",
   "execution_count": null,
   "metadata": {},
   "outputs": [],
   "source": []
  },
  {
   "cell_type": "code",
   "execution_count": null,
   "metadata": {},
   "outputs": [],
   "source": [
    "class init_distance_degree(object):\n",
    "\n",
    "    \"\"\"\n",
    "    根据经纬度计算单位时间内的移动距离函数\n",
    "    \"\"\"\n",
    "    def getDistance(self, latA, lonA, latB, lonB):\n",
    "        ra = 6378140  # 赤道半径\n",
    "        rb = 6356755  # 极半径\n",
    "        flatten = (ra - rb) / ra  # Partial rate of the earth\n",
    "        # change angle to radians\n",
    "        radLatA = math.radians(latA)\n",
    "        radLonA = math.radians(lonA)\n",
    "        radLatB = math.radians(latB)\n",
    "        radLonB = math.radians(lonB)\n",
    "        pA = math.atan(rb / ra * math.tan(radLatA))\n",
    "        pB = math.atan(rb / ra * math.tan(radLatB))\n",
    "        x = math.acos(math.sin(pA) * math.sin(pB) + math.cos(pA) * math.cos(pB) * math.cos(radLonA - radLonB))\n",
    "        c1 = (math.sin(x) - x) * (math.sin(pA) + math.sin(pB)) ** 2 / math.cos(x / 2) ** 2\n",
    "        c2 = (math.sin(x) + x) * (math.sin(pA) - math.sin(pB)) ** 2 / math.sin(x / 2) ** 2\n",
    "        dr = flatten / 8 * (c1 - c2)\n",
    "        distance = ra * (x + dr)\n",
    "        distance = round(distance / 1000, 4)\n",
    "        return distance*1000\n",
    "\n",
    "    \"\"\"\n",
    "    根据经纬度计算单位时间内的转角函数\n",
    "    \"\"\"\n",
    "    def getDegree(self, latA, lonA, latB, lonB):\n",
    "        radLatA = math.radians(latA)\n",
    "        radLonA = math.radians(lonA)\n",
    "        radLatB = math.radians(latB)\n",
    "        radLonB = math.radians(lonB)\n",
    "        dLon = radLonB - radLonA\n",
    "        y = math.sin(dLon) * math.cos(radLatB)\n",
    "        x = math.cos(radLatA) * math.sin(radLatB) - math.sin(radLatA) * math.cos(radLatB) * math.cos(dLon)\n",
    "        brng = math.degrees(math.atan2(y, x))\n",
    "        brng = round((brng + 360) % 360, 4)\n",
    "        brng = int(brng)\n",
    "        if (brng == 0.0) or ((brng == 360.0)):\n",
    "            return 90\n",
    "        elif brng == 90.0:\n",
    "            return 0\n",
    "        elif brng == 180.0:\n",
    "            return 270\n",
    "        elif brng == 270.0:\n",
    "            return 180\n",
    "        elif 0 < brng < 90:\n",
    "            return 90-brng\n",
    "        elif 90 < brng < 180:\n",
    "            return 360-brng\n",
    "        elif 180 < brng < 270:\n",
    "            return 180+brng\n",
    "        elif 270 < brng < 360:\n",
    "            return 90+brng\n",
    "        else:\n",
    "            pass\n",
    "\n",
    "    \"\"\"\n",
    "    构造latB、lonB\n",
    "    \"\"\"\n",
    "    def init_latB_lonB(self, car_dict):\n",
    "        datasets['经度'] = datasets['经度'] / 1000000\n",
    "        datasets['维度'] = datasets['维度'] / 1000000\n",
    "        datasets_list = list()\n",
    "        for k, v in tqdm(car_dict.items()):\n",
    "            data_temp = datasets[datasets['vin']==k].reset_index(drop=True)        \n",
    "            jingdu = pd.concat([pd.DataFrame({'经度': [list(data_temp['经度'])[0]]}), data_temp[['经度']]]).reset_index(drop=True)\n",
    "            jingdu.drop([len(jingdu)-1], axis=0, inplace=True)\n",
    "            data_temp['经度_'] = jingdu\n",
    "            weidu = pd.concat([pd.DataFrame({'维度': [list(data_temp['维度'])[0]]}), data_temp[['维度']]]).reset_index(drop=True)\n",
    "            weidu.drop([len(weidu)-1], axis=0, inplace=True)\n",
    "            data_temp['维度_'] = weidu\n",
    "            datasets_list.append(data_temp)\n",
    "        datas = pd.concat(datasets_list).reset_index(drop=True)\n",
    "        print(\"构建latB、lonB完毕...\")\n",
    "        return datas\n",
    "    \n",
    "    def init_distance(self):\n",
    "        datasets['distance'] = datasets"
   ]
  },
  {
   "cell_type": "code",
   "execution_count": null,
   "metadata": {},
   "outputs": [],
   "source": []
  }
 ],
 "metadata": {
  "interpreter": {
   "hash": "5fb527b06e16c0bf53bd22ca6a0a890a2219c4494de699106f117a6dd9aed55e"
  },
  "kernelspec": {
   "display_name": "Python 3.9.5 64-bit",
   "name": "python3"
  },
  "language_info": {
   "codemirror_mode": {
    "name": "ipython",
    "version": 3
   },
   "file_extension": ".py",
   "mimetype": "text/x-python",
   "name": "python",
   "nbconvert_exporter": "python",
   "pygments_lexer": "ipython3",
   "version": "3.9.5"
  },
  "orig_nbformat": 4
 },
 "nbformat": 4,
 "nbformat_minor": 2
}
