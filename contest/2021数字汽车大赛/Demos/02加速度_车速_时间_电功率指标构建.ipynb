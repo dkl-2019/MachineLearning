{
 "cells": [
  {
   "cell_type": "code",
   "execution_count": 19,
   "metadata": {},
   "outputs": [],
   "source": [
    "import pandas as pd\n",
    "import numpy as np\n",
    "import math\n",
    "import matplotlib.pyplot as plt\n",
    "import seaborn as sns\n",
    "from tqdm import tqdm\n",
    "import datetime\n",
    "import warnings\n",
    "import random\n",
    "from functools import reduce\n",
    "from os import walk\n",
    "warnings.filterwarnings('ignore')"
   ]
  },
  {
   "cell_type": "code",
   "execution_count": 20,
   "metadata": {},
   "outputs": [
    {
     "data": {
      "text/plain": [
       "(6880557, 33)"
      ]
     },
     "execution_count": 20,
     "metadata": {},
     "output_type": "execute_result"
    }
   ],
   "source": [
    "data_sets_sort = pd.read_csv('F:/aliyuun_datas/2021数字汽车大赛/temp_df/datasets_sort.csv')\n",
    "data_sets_sort.shape"
   ]
  },
  {
   "cell_type": "code",
   "execution_count": 21,
   "metadata": {},
   "outputs": [
    {
     "data": {
      "text/plain": [
       "Index(['vin', '时间', '车速', '车辆状态', '充电状态', '总电压', '总电流', '累计里程', 'SOC',\n",
       "       '电池单体电压最高值', '最高电压电池单体代号', '电池单体电压最低值', '最低电压电池单体代号', '最高温度值',\n",
       "       '最高温度探针单体代号', '最低温度值', '最低温度探针单体代号', '最高报警等级', 'DC_DC状态', '档位',\n",
       "       '驱动电机状态', '驱动电机转速', '驱动电机转矩', '驱动电机温度', '驱动电机控制器温度', '电机控制器输入电压',\n",
       "       '电机控制器直流母流电流', '经度', '维度', '加速踏板行程值', '制动踏板状态', 'day', 'second'],\n",
       "      dtype='object')"
      ]
     },
     "execution_count": 21,
     "metadata": {},
     "output_type": "execute_result"
    }
   ],
   "source": [
    "data_sets_sort.columns"
   ]
  },
  {
   "cell_type": "markdown",
   "metadata": {},
   "source": [
    "# <font color=red>构造时间变化特征，车速变化特征，加速度特征</font>"
   ]
  },
  {
   "cell_type": "code",
   "execution_count": 22,
   "metadata": {},
   "outputs": [
    {
     "name": "stderr",
     "output_type": "stream",
     "text": [
      "100%|██████████| 10/10 [00:07<00:00,  1.37it/s]\n"
     ]
    },
    {
     "name": "stdout",
     "output_type": "stream",
     "text": [
      "拥有速度变化，时间变化，加速度的全量数据集： (6880557, 37)\n"
     ]
    }
   ],
   "source": [
    "def init_feas_a(car_dict, data_sets_sort):\n",
    "    new_sets_list = list()\n",
    "    for k, v in tqdm(car_dict.items()):\n",
    "        df = data_sets_sort[data_sets_sort['vin']==k].reset_index(drop=True)\n",
    "        df['speed'] = df['车速'] / 3.6\n",
    "        time_a = pd.concat([pd.DataFrame({'second': [0]}), df[['second']]]).reset_index(drop=True)\n",
    "        time_b = df[['second']]\n",
    "        time_changed = time_b - time_a\n",
    "        time_changed.drop([len(time_changed)-1], axis=0, inplace=True)\n",
    "        df['time_changed'] = time_changed\n",
    "        speed_a = pd.concat([pd.DataFrame({'speed': [0]}), df[['speed']]]).reset_index(drop=True)\n",
    "        speed_b = df[['speed']]\n",
    "        speed_changed = speed_b - speed_a\n",
    "        speed_changed.drop([len(speed_changed)-1], axis=0, inplace=True)\n",
    "        df['speed_changed'] = speed_changed\n",
    "        df['a'] = df['speed_changed'] / df['time_changed']\n",
    "        df['a'] = df['a'].fillna(0)  # 0/0==NaN\n",
    "        new_sets_list.append(df)\n",
    "        \n",
    "    datasets = pd.concat(new_sets_list).reset_index(drop=True)\n",
    "    print(\"拥有速度变化，时间变化，加速度的全量数据集：\", datasets.shape)\n",
    "    return datasets\n",
    "\n",
    "datasets = init_feas_a(dict(data_sets_sort['vin'].value_counts()), data_sets_sort=data_sets_sort)"
   ]
  },
  {
   "cell_type": "code",
   "execution_count": 23,
   "metadata": {},
   "outputs": [
    {
     "data": {
      "text/html": [
       "<div>\n",
       "<style scoped>\n",
       "    .dataframe tbody tr th:only-of-type {\n",
       "        vertical-align: middle;\n",
       "    }\n",
       "\n",
       "    .dataframe tbody tr th {\n",
       "        vertical-align: top;\n",
       "    }\n",
       "\n",
       "    .dataframe thead th {\n",
       "        text-align: right;\n",
       "    }\n",
       "</style>\n",
       "<table border=\"1\" class=\"dataframe\">\n",
       "  <thead>\n",
       "    <tr style=\"text-align: right;\">\n",
       "      <th></th>\n",
       "      <th>speed</th>\n",
       "      <th>speed_changed</th>\n",
       "      <th>time_changed</th>\n",
       "      <th>a</th>\n",
       "    </tr>\n",
       "  </thead>\n",
       "  <tbody>\n",
       "    <tr>\n",
       "      <th>0</th>\n",
       "      <td>0.000000</td>\n",
       "      <td>0.0</td>\n",
       "      <td>0.0</td>\n",
       "      <td>0.0</td>\n",
       "    </tr>\n",
       "    <tr>\n",
       "      <th>1</th>\n",
       "      <td>0.000000</td>\n",
       "      <td>0.0</td>\n",
       "      <td>15.0</td>\n",
       "      <td>0.0</td>\n",
       "    </tr>\n",
       "    <tr>\n",
       "      <th>2</th>\n",
       "      <td>0.000000</td>\n",
       "      <td>0.0</td>\n",
       "      <td>15.0</td>\n",
       "      <td>0.0</td>\n",
       "    </tr>\n",
       "    <tr>\n",
       "      <th>3</th>\n",
       "      <td>0.000000</td>\n",
       "      <td>0.0</td>\n",
       "      <td>15.0</td>\n",
       "      <td>0.0</td>\n",
       "    </tr>\n",
       "    <tr>\n",
       "      <th>4</th>\n",
       "      <td>0.000000</td>\n",
       "      <td>0.0</td>\n",
       "      <td>15.0</td>\n",
       "      <td>0.0</td>\n",
       "    </tr>\n",
       "    <tr>\n",
       "      <th>...</th>\n",
       "      <td>...</td>\n",
       "      <td>...</td>\n",
       "      <td>...</td>\n",
       "      <td>...</td>\n",
       "    </tr>\n",
       "    <tr>\n",
       "      <th>6880552</th>\n",
       "      <td>3.111111</td>\n",
       "      <td>0.0</td>\n",
       "      <td>15.0</td>\n",
       "      <td>0.0</td>\n",
       "    </tr>\n",
       "    <tr>\n",
       "      <th>6880553</th>\n",
       "      <td>3.111111</td>\n",
       "      <td>0.0</td>\n",
       "      <td>15.0</td>\n",
       "      <td>0.0</td>\n",
       "    </tr>\n",
       "    <tr>\n",
       "      <th>6880554</th>\n",
       "      <td>3.111111</td>\n",
       "      <td>0.0</td>\n",
       "      <td>15.0</td>\n",
       "      <td>0.0</td>\n",
       "    </tr>\n",
       "    <tr>\n",
       "      <th>6880555</th>\n",
       "      <td>3.111111</td>\n",
       "      <td>0.0</td>\n",
       "      <td>15.0</td>\n",
       "      <td>0.0</td>\n",
       "    </tr>\n",
       "    <tr>\n",
       "      <th>6880556</th>\n",
       "      <td>3.111111</td>\n",
       "      <td>0.0</td>\n",
       "      <td>15.0</td>\n",
       "      <td>0.0</td>\n",
       "    </tr>\n",
       "  </tbody>\n",
       "</table>\n",
       "<p>6880557 rows × 4 columns</p>\n",
       "</div>"
      ],
      "text/plain": [
       "            speed  speed_changed  time_changed    a\n",
       "0        0.000000            0.0           0.0  0.0\n",
       "1        0.000000            0.0          15.0  0.0\n",
       "2        0.000000            0.0          15.0  0.0\n",
       "3        0.000000            0.0          15.0  0.0\n",
       "4        0.000000            0.0          15.0  0.0\n",
       "...           ...            ...           ...  ...\n",
       "6880552  3.111111            0.0          15.0  0.0\n",
       "6880553  3.111111            0.0          15.0  0.0\n",
       "6880554  3.111111            0.0          15.0  0.0\n",
       "6880555  3.111111            0.0          15.0  0.0\n",
       "6880556  3.111111            0.0          15.0  0.0\n",
       "\n",
       "[6880557 rows x 4 columns]"
      ]
     },
     "execution_count": 23,
     "metadata": {},
     "output_type": "execute_result"
    }
   ],
   "source": [
    "datasets[['speed', 'speed_changed', 'time_changed', 'a']]"
   ]
  },
  {
   "cell_type": "code",
   "execution_count": 24,
   "metadata": {},
   "outputs": [
    {
     "data": {
      "text/plain": [
       "1994"
      ]
     },
     "execution_count": 24,
     "metadata": {},
     "output_type": "execute_result"
    }
   ],
   "source": [
    "len(datasets[datasets['a']>1.5])"
   ]
  },
  {
   "cell_type": "code",
   "execution_count": 25,
   "metadata": {},
   "outputs": [
    {
     "data": {
      "text/plain": [
       " 0.000000    2038262\n",
       "-0.207407     181600\n",
       " 0.207407     181131\n",
       " 0.083333       7622\n",
       "-0.083333       7256\n",
       "              ...   \n",
       "-0.029704          1\n",
       "-0.000161          1\n",
       " 0.037346          1\n",
       "-0.067677          1\n",
       " 0.004531          1\n",
       "Name: a, Length: 40642, dtype: int64"
      ]
     },
     "execution_count": 25,
     "metadata": {},
     "output_type": "execute_result"
    }
   ],
   "source": [
    "datasets['a'].value_counts()"
   ]
  },
  {
   "cell_type": "markdown",
   "metadata": {},
   "source": [
    "# <font color=red>构造驱动电机变化的相关特征</font>\n",
    "\n",
    "## <font color=orange>1. 单位时间内驱动电机转速的变化：engine_speed_changed</font> 每辆车的值都相同\n",
    "## <font color=orange>2. 单位时间内驱动电机的转矩变化：engine_torque_changed</font> 每辆车的值都相同\n",
    "## <font color=orange>3. 单位时间内驱动点击的温度变化：engine_temperature_changed</font>\n",
    "## <font color=orange>4. 单位时间内驱动点击的控制器温度变换：engine_controller_tpt_changed</font>"
   ]
  },
  {
   "cell_type": "code",
   "execution_count": 26,
   "metadata": {},
   "outputs": [
    {
     "data": {
      "text/plain": [
       "{'LVCB4L4DXHM002840': 884505,\n",
       " 'LVCB4L4D0HM002829': 862206,\n",
       " 'LVCB4L4D7HM002830': 850061,\n",
       " 'LVCB4L4D2HM002833': 841948,\n",
       " 'LVCB4L4D4HM002803': 817075,\n",
       " 'LVCB4L4D4HM002834': 557430,\n",
       " 'LVCB4L4D0HM002832': 537284,\n",
       " 'LVCB4L4D3HM002839': 531358,\n",
       " 'LVCB4L4D9HM002862': 523776,\n",
       " 'LVCB4L4D1HM002841': 474914}"
      ]
     },
     "execution_count": 26,
     "metadata": {},
     "output_type": "execute_result"
    }
   ],
   "source": [
    "car_dict = dict(data_sets_sort['vin'].value_counts())\n",
    "\n",
    "fea_dict = {'驱动电机转速': 'engine_speed_changed',\n",
    "            '驱动电机转矩': 'engine_torque_changed',\n",
    "            '驱动电机温度': 'engine_temperature_changed',\n",
    "            '驱动电机控制器温度': 'engine_controller_tpt_changed'\n",
    "            }\n",
    "\n",
    "car_dict"
   ]
  },
  {
   "cell_type": "code",
   "execution_count": 27,
   "metadata": {},
   "outputs": [
    {
     "name": "stderr",
     "output_type": "stream",
     "text": [
      "100%|██████████| 10/10 [00:11<00:00,  1.15s/it]\n"
     ]
    },
    {
     "name": "stdout",
     "output_type": "stream",
     "text": [
      "在排序后的全量数据集基础上构建新的特征： (6880557, 41)\n"
     ]
    }
   ],
   "source": [
    "# 构建特征\n",
    "def init_engine_feas(car_dict, fea_dict):\n",
    "    datasets_list = list()\n",
    "    for k, v in tqdm(car_dict.items()):\n",
    "        temp_data = datasets[datasets['vin']==k].reset_index(drop=True)\n",
    "        # print(\"temp_data:\", temp_data.shape)\n",
    "        for old_fea, new_fea in fea_dict.items():\n",
    "            engine_fea_a = temp_data[[old_fea]]\n",
    "            engine_fea_b = pd.concat([pd.DataFrame({old_fea: [0]}), temp_data[[old_fea]]]).reset_index(drop=True)   # 在开头增加0值\n",
    "            engine_fea = engine_fea_b - engine_fea_a\n",
    "            engine_fea.drop([len(engine_fea)-1], axis=0, inplace=True)\n",
    "            engine_fea.loc[0] = 0\n",
    "            temp_data[new_fea] = engine_fea\n",
    "        datasets_list.append(temp_data)\n",
    "    datas = pd.concat(datasets_list).reset_index(drop=True)\n",
    "    print(\"在排序后的全量数据集基础上构建新的特征：\", datas.shape)\n",
    "    return datas\n",
    "\n",
    "datas = init_engine_feas(car_dict=car_dict, fea_dict=fea_dict)"
   ]
  },
  {
   "cell_type": "code",
   "execution_count": 28,
   "metadata": {},
   "outputs": [
    {
     "data": {
      "text/html": [
       "<div>\n",
       "<style scoped>\n",
       "    .dataframe tbody tr th:only-of-type {\n",
       "        vertical-align: middle;\n",
       "    }\n",
       "\n",
       "    .dataframe tbody tr th {\n",
       "        vertical-align: top;\n",
       "    }\n",
       "\n",
       "    .dataframe thead th {\n",
       "        text-align: right;\n",
       "    }\n",
       "</style>\n",
       "<table border=\"1\" class=\"dataframe\">\n",
       "  <thead>\n",
       "    <tr style=\"text-align: right;\">\n",
       "      <th></th>\n",
       "      <th>engine_speed_changed</th>\n",
       "      <th>engine_torque_changed</th>\n",
       "      <th>engine_temperature_changed</th>\n",
       "      <th>engine_controller_tpt_changed</th>\n",
       "    </tr>\n",
       "  </thead>\n",
       "  <tbody>\n",
       "    <tr>\n",
       "      <th>0</th>\n",
       "      <td>0.0</td>\n",
       "      <td>0.0</td>\n",
       "      <td>0.0</td>\n",
       "      <td>0.0</td>\n",
       "    </tr>\n",
       "    <tr>\n",
       "      <th>1</th>\n",
       "      <td>0.0</td>\n",
       "      <td>0.0</td>\n",
       "      <td>1.0</td>\n",
       "      <td>-1.0</td>\n",
       "    </tr>\n",
       "    <tr>\n",
       "      <th>2</th>\n",
       "      <td>0.0</td>\n",
       "      <td>0.0</td>\n",
       "      <td>-1.0</td>\n",
       "      <td>0.0</td>\n",
       "    </tr>\n",
       "    <tr>\n",
       "      <th>3</th>\n",
       "      <td>0.0</td>\n",
       "      <td>0.0</td>\n",
       "      <td>1.0</td>\n",
       "      <td>-1.0</td>\n",
       "    </tr>\n",
       "    <tr>\n",
       "      <th>4</th>\n",
       "      <td>0.0</td>\n",
       "      <td>0.0</td>\n",
       "      <td>0.0</td>\n",
       "      <td>0.0</td>\n",
       "    </tr>\n",
       "    <tr>\n",
       "      <th>...</th>\n",
       "      <td>...</td>\n",
       "      <td>...</td>\n",
       "      <td>...</td>\n",
       "      <td>...</td>\n",
       "    </tr>\n",
       "    <tr>\n",
       "      <th>6880552</th>\n",
       "      <td>0.0</td>\n",
       "      <td>0.0</td>\n",
       "      <td>0.0</td>\n",
       "      <td>0.0</td>\n",
       "    </tr>\n",
       "    <tr>\n",
       "      <th>6880553</th>\n",
       "      <td>0.0</td>\n",
       "      <td>0.0</td>\n",
       "      <td>0.0</td>\n",
       "      <td>0.0</td>\n",
       "    </tr>\n",
       "    <tr>\n",
       "      <th>6880554</th>\n",
       "      <td>0.0</td>\n",
       "      <td>0.0</td>\n",
       "      <td>0.0</td>\n",
       "      <td>0.0</td>\n",
       "    </tr>\n",
       "    <tr>\n",
       "      <th>6880555</th>\n",
       "      <td>0.0</td>\n",
       "      <td>0.0</td>\n",
       "      <td>0.0</td>\n",
       "      <td>0.0</td>\n",
       "    </tr>\n",
       "    <tr>\n",
       "      <th>6880556</th>\n",
       "      <td>0.0</td>\n",
       "      <td>0.0</td>\n",
       "      <td>0.0</td>\n",
       "      <td>0.0</td>\n",
       "    </tr>\n",
       "  </tbody>\n",
       "</table>\n",
       "<p>6880557 rows × 4 columns</p>\n",
       "</div>"
      ],
      "text/plain": [
       "         engine_speed_changed  engine_torque_changed  \\\n",
       "0                         0.0                    0.0   \n",
       "1                         0.0                    0.0   \n",
       "2                         0.0                    0.0   \n",
       "3                         0.0                    0.0   \n",
       "4                         0.0                    0.0   \n",
       "...                       ...                    ...   \n",
       "6880552                   0.0                    0.0   \n",
       "6880553                   0.0                    0.0   \n",
       "6880554                   0.0                    0.0   \n",
       "6880555                   0.0                    0.0   \n",
       "6880556                   0.0                    0.0   \n",
       "\n",
       "         engine_temperature_changed  engine_controller_tpt_changed  \n",
       "0                               0.0                            0.0  \n",
       "1                               1.0                           -1.0  \n",
       "2                              -1.0                            0.0  \n",
       "3                               1.0                           -1.0  \n",
       "4                               0.0                            0.0  \n",
       "...                             ...                            ...  \n",
       "6880552                         0.0                            0.0  \n",
       "6880553                         0.0                            0.0  \n",
       "6880554                         0.0                            0.0  \n",
       "6880555                         0.0                            0.0  \n",
       "6880556                         0.0                            0.0  \n",
       "\n",
       "[6880557 rows x 4 columns]"
      ]
     },
     "execution_count": 28,
     "metadata": {},
     "output_type": "execute_result"
    }
   ],
   "source": [
    "engine_list = list()\n",
    "for k, v in fea_dict.items():\n",
    "    engine_list.append(v)\n",
    "\n",
    "datas[engine_list]"
   ]
  },
  {
   "cell_type": "markdown",
   "metadata": {},
   "source": [
    "# <font color=red>构造电功率特征</font>"
   ]
  },
  {
   "cell_type": "code",
   "execution_count": 29,
   "metadata": {},
   "outputs": [
    {
     "data": {
      "text/html": [
       "<div>\n",
       "<style scoped>\n",
       "    .dataframe tbody tr th:only-of-type {\n",
       "        vertical-align: middle;\n",
       "    }\n",
       "\n",
       "    .dataframe tbody tr th {\n",
       "        vertical-align: top;\n",
       "    }\n",
       "\n",
       "    .dataframe thead th {\n",
       "        text-align: right;\n",
       "    }\n",
       "</style>\n",
       "<table border=\"1\" class=\"dataframe\">\n",
       "  <thead>\n",
       "    <tr style=\"text-align: right;\">\n",
       "      <th></th>\n",
       "      <th>总电压</th>\n",
       "      <th>总电流</th>\n",
       "    </tr>\n",
       "  </thead>\n",
       "  <tbody>\n",
       "    <tr>\n",
       "      <th>0</th>\n",
       "      <td>611.0</td>\n",
       "      <td>7.7</td>\n",
       "    </tr>\n",
       "    <tr>\n",
       "      <th>1</th>\n",
       "      <td>610.7</td>\n",
       "      <td>7.7</td>\n",
       "    </tr>\n",
       "    <tr>\n",
       "      <th>2</th>\n",
       "      <td>610.5</td>\n",
       "      <td>7.9</td>\n",
       "    </tr>\n",
       "    <tr>\n",
       "      <th>3</th>\n",
       "      <td>610.3</td>\n",
       "      <td>8.2</td>\n",
       "    </tr>\n",
       "    <tr>\n",
       "      <th>4</th>\n",
       "      <td>610.2</td>\n",
       "      <td>7.0</td>\n",
       "    </tr>\n",
       "    <tr>\n",
       "      <th>...</th>\n",
       "      <td>...</td>\n",
       "      <td>...</td>\n",
       "    </tr>\n",
       "    <tr>\n",
       "      <th>6880552</th>\n",
       "      <td>622.7</td>\n",
       "      <td>-328.2</td>\n",
       "    </tr>\n",
       "    <tr>\n",
       "      <th>6880553</th>\n",
       "      <td>635.8</td>\n",
       "      <td>-346.4</td>\n",
       "    </tr>\n",
       "    <tr>\n",
       "      <th>6880554</th>\n",
       "      <td>631.9</td>\n",
       "      <td>-20.4</td>\n",
       "    </tr>\n",
       "    <tr>\n",
       "      <th>6880555</th>\n",
       "      <td>629.9</td>\n",
       "      <td>-20.7</td>\n",
       "    </tr>\n",
       "    <tr>\n",
       "      <th>6880556</th>\n",
       "      <td>628.7</td>\n",
       "      <td>0.0</td>\n",
       "    </tr>\n",
       "  </tbody>\n",
       "</table>\n",
       "<p>6880557 rows × 2 columns</p>\n",
       "</div>"
      ],
      "text/plain": [
       "           总电压    总电流\n",
       "0        611.0    7.7\n",
       "1        610.7    7.7\n",
       "2        610.5    7.9\n",
       "3        610.3    8.2\n",
       "4        610.2    7.0\n",
       "...        ...    ...\n",
       "6880552  622.7 -328.2\n",
       "6880553  635.8 -346.4\n",
       "6880554  631.9  -20.4\n",
       "6880555  629.9  -20.7\n",
       "6880556  628.7    0.0\n",
       "\n",
       "[6880557 rows x 2 columns]"
      ]
     },
     "execution_count": 29,
     "metadata": {},
     "output_type": "execute_result"
    }
   ],
   "source": [
    "datas[['总电压', '总电流']]"
   ]
  },
  {
   "cell_type": "code",
   "execution_count": 30,
   "metadata": {},
   "outputs": [],
   "source": [
    "datas['w'] = datas['总电压'] * datas['总电流'].abs()"
   ]
  },
  {
   "cell_type": "code",
   "execution_count": 31,
   "metadata": {},
   "outputs": [
    {
     "data": {
      "text/html": [
       "<div>\n",
       "<style scoped>\n",
       "    .dataframe tbody tr th:only-of-type {\n",
       "        vertical-align: middle;\n",
       "    }\n",
       "\n",
       "    .dataframe tbody tr th {\n",
       "        vertical-align: top;\n",
       "    }\n",
       "\n",
       "    .dataframe thead th {\n",
       "        text-align: right;\n",
       "    }\n",
       "</style>\n",
       "<table border=\"1\" class=\"dataframe\">\n",
       "  <thead>\n",
       "    <tr style=\"text-align: right;\">\n",
       "      <th></th>\n",
       "      <th>w</th>\n",
       "    </tr>\n",
       "  </thead>\n",
       "  <tbody>\n",
       "    <tr>\n",
       "      <th>0</th>\n",
       "      <td>4704.70</td>\n",
       "    </tr>\n",
       "    <tr>\n",
       "      <th>1</th>\n",
       "      <td>4702.39</td>\n",
       "    </tr>\n",
       "    <tr>\n",
       "      <th>2</th>\n",
       "      <td>4822.95</td>\n",
       "    </tr>\n",
       "    <tr>\n",
       "      <th>3</th>\n",
       "      <td>5004.46</td>\n",
       "    </tr>\n",
       "    <tr>\n",
       "      <th>4</th>\n",
       "      <td>4271.40</td>\n",
       "    </tr>\n",
       "    <tr>\n",
       "      <th>...</th>\n",
       "      <td>...</td>\n",
       "    </tr>\n",
       "    <tr>\n",
       "      <th>6880552</th>\n",
       "      <td>204370.14</td>\n",
       "    </tr>\n",
       "    <tr>\n",
       "      <th>6880553</th>\n",
       "      <td>220241.12</td>\n",
       "    </tr>\n",
       "    <tr>\n",
       "      <th>6880554</th>\n",
       "      <td>12890.76</td>\n",
       "    </tr>\n",
       "    <tr>\n",
       "      <th>6880555</th>\n",
       "      <td>13038.93</td>\n",
       "    </tr>\n",
       "    <tr>\n",
       "      <th>6880556</th>\n",
       "      <td>0.00</td>\n",
       "    </tr>\n",
       "  </tbody>\n",
       "</table>\n",
       "<p>6880557 rows × 1 columns</p>\n",
       "</div>"
      ],
      "text/plain": [
       "                 w\n",
       "0          4704.70\n",
       "1          4702.39\n",
       "2          4822.95\n",
       "3          5004.46\n",
       "4          4271.40\n",
       "...            ...\n",
       "6880552  204370.14\n",
       "6880553  220241.12\n",
       "6880554   12890.76\n",
       "6880555   13038.93\n",
       "6880556       0.00\n",
       "\n",
       "[6880557 rows x 1 columns]"
      ]
     },
     "execution_count": 31,
     "metadata": {},
     "output_type": "execute_result"
    }
   ],
   "source": [
    "datas[['w']]"
   ]
  },
  {
   "cell_type": "code",
   "execution_count": 32,
   "metadata": {},
   "outputs": [
    {
     "data": {
      "text/plain": [
       "Index(['vin', '时间', '车速', '车辆状态', '充电状态', '总电压', '总电流', '累计里程', 'SOC',\n",
       "       '电池单体电压最高值', '最高电压电池单体代号', '电池单体电压最低值', '最低电压电池单体代号', '最高温度值',\n",
       "       '最高温度探针单体代号', '最低温度值', '最低温度探针单体代号', '最高报警等级', 'DC_DC状态', '档位',\n",
       "       '驱动电机状态', '驱动电机转速', '驱动电机转矩', '驱动电机温度', '驱动电机控制器温度', '电机控制器输入电压',\n",
       "       '电机控制器直流母流电流', '经度', '维度', '加速踏板行程值', '制动踏板状态', 'day', 'second',\n",
       "       'speed', 'time_changed', 'speed_changed', 'a', 'engine_speed_changed',\n",
       "       'engine_torque_changed', 'engine_temperature_changed',\n",
       "       'engine_controller_tpt_changed', 'w'],\n",
       "      dtype='object')"
      ]
     },
     "execution_count": 32,
     "metadata": {},
     "output_type": "execute_result"
    }
   ],
   "source": [
    "datas.columns"
   ]
  },
  {
   "cell_type": "markdown",
   "metadata": {},
   "source": [
    "# <font color=red>构造车辆没15秒的移动距离特征 **distance** 和转角特征 **degree** </font>"
   ]
  },
  {
   "cell_type": "code",
   "execution_count": 33,
   "metadata": {},
   "outputs": [],
   "source": [
    "def getDistance(latA, lonA, latB, lonB):\n",
    "    ra = 6378140  # 赤道半径\n",
    "    rb = 6356755  # 极半径\n",
    "    flatten = (ra - rb) / ra  # Partial rate of the earth\n",
    "    # change angle to radians\n",
    "    radLatA = math.radians(latA)\n",
    "    radLonA = math.radians(lonA)\n",
    "    radLatB = math.radians(latB)\n",
    "    radLonB = math.radians(lonB)\n",
    "\n",
    "    pA = math.atan(rb / ra * math.tan(radLatA))\n",
    "    pB = math.atan(rb / ra * math.tan(radLatB))\n",
    "    x = math.acos(math.sin(pA) * math.sin(pB) + math.cos(pA) * math.cos(pB) * math.cos(radLonA - radLonB))\n",
    "    c1 = (math.sin(x) - x) * (math.sin(pA) + math.sin(pB)) ** 2 / math.cos(x / 2) ** 2\n",
    "    c2 = (math.sin(x) + x) * (math.sin(pA) - math.sin(pB)) ** 2 / math.sin(x / 2) ** 2\n",
    "    dr = flatten / 8 * (c1 - c2)\n",
    "    distance = ra * (x + dr)\n",
    "    distance = round(distance / 1000, 4)\n",
    "    return distance*1000"
   ]
  },
  {
   "cell_type": "code",
   "execution_count": 34,
   "metadata": {},
   "outputs": [
    {
     "data": {
      "text/plain": [
       "0          2.030851e+06\n",
       "1          2.030851e+06\n",
       "2          2.030851e+06\n",
       "3          2.030851e+06\n",
       "4          2.030851e+06\n",
       "               ...     \n",
       "6880552    2.030851e+06\n",
       "6880553    2.030851e+06\n",
       "6880554    2.030851e+06\n",
       "6880555    2.030851e+06\n",
       "6880556    2.030851e+06\n",
       "Name: 经度, Length: 6880557, dtype: float64"
      ]
     },
     "execution_count": 34,
     "metadata": {},
     "output_type": "execute_result"
    }
   ],
   "source": [
    "res= datas['经度'].apply(lambda radLat:math.radians(radLat))\n",
    "res"
   ]
  },
  {
   "cell_type": "code",
   "execution_count": null,
   "metadata": {},
   "outputs": [],
   "source": [
    "# 计算角度\n",
    "def getDegree(latA, lonA, latB, lonB):\n",
    "    radLatA = math.radians(latA)\n",
    "    radLonA = math.radians(lonA)\n",
    "    radLatB = math.radians(latB)\n",
    "    radLonB = math.radians(lonB)\n",
    "    dLon = radLonB - radLonA\n",
    "    y = math.sin(dLon) * math.cos(radLatB)\n",
    "    x = math.cos(radLatA) * math.sin(radLatB) - math.sin(radLatA) * math.cos(radLatB) * math.cos(dLon)\n",
    "    brng = math.degrees(math.atan2(y, x))\n",
    "    brng = round((brng + 360) % 360, 4)\n",
    "    brng = int(brng)\n",
    "    if (brng == 0.0) or ((brng == 360.0)):\n",
    "        return '正北方向'\n",
    "    elif brng == 90.0:\n",
    "        return '正东方向'\n",
    "    elif brng == 180.0:\n",
    "        return '正南方向'\n",
    "    elif brng == 270.0:\n",
    "        return '正西方向'\n",
    "    elif 0 < brng < 90:\n",
    "        return f'北偏东{brng}'\n",
    "    elif 90 < brng < 180:\n",
    "        return f'东偏南{brng - 90}'\n",
    "    elif 180 < brng < 270:\n",
    "        return f'西偏南{270 - brng}'\n",
    "    elif 270 < brng < 360:\n",
    "        return f'北偏西{brng - 270}'\n",
    "    else:\n",
    "        pass"
   ]
  },
  {
   "cell_type": "code",
   "execution_count": 15,
   "metadata": {},
   "outputs": [
    {
     "name": "stderr",
     "output_type": "stream",
     "text": [
      "100%|██████████| 10/10 [00:06<00:00,  1.50it/s]\n"
     ]
    },
    {
     "name": "stdout",
     "output_type": "stream",
     "text": [
      "拥有 经度_ 维度_ 的全量数据集： (6880557, 44)\n"
     ]
    }
   ],
   "source": [
    "def init_distance(car_dict):\n",
    "    datas['经度'] = datas['经度'] / 1000000\n",
    "    datas['维度'] = datas['维度'] / 1000000\n",
    "    datasets_list = list()\n",
    "    for k, v in tqdm(car_dict.items()):\n",
    "        data_temp = datas[datas['vin']==k].reset_index(drop=True)        \n",
    "        jingdu = pd.concat([pd.DataFrame({'经度': [list(data_temp['经度'])[0]]}), data_temp[['经度']]]).reset_index(drop=True)\n",
    "        jingdu.drop([len(jingdu)-1], axis=0, inplace=True)\n",
    "        data_temp['经度_'] = jingdu\n",
    "        weidu = pd.concat([pd.DataFrame({'维度': [list(data_temp['维度'])[0]]}), data_temp[['维度']]]).reset_index(drop=True)\n",
    "        weidu.drop([len(weidu)-1], axis=0, inplace=True)\n",
    "        data_temp['维度_'] = weidu\n",
    "        datasets_list.append(data_temp)\n",
    "    data01 = pd.concat(datasets_list).reset_index(drop=True)\n",
    "    print(\"拥有 经度_ 维度_ 的全量数据集：\", data01.shape)\n",
    "    return data01\n",
    "  \n",
    "data01 = init_distance(car_dict=car_dict)"
   ]
  },
  {
   "cell_type": "code",
   "execution_count": null,
   "metadata": {},
   "outputs": [],
   "source": [
    "def getDegree(latA, lonA, latB, lonB):\n",
    "    radLatA = latA.apply(lambda radlat: math.radians(radlat))\n",
    "    radLonA = lonB.apply(lambda radlat: math.radians(radlat))\n",
    "    radLatB = latB.apply(lambda radlat: math.radians(radlat))\n",
    "    radLonB = lonB.apply(lambda radlat: math.radians(radlat))\n",
    "    dLon = radLonB - radLonA\n",
    "    # y = math.sin(dLon) * math.cos(radLatB)\n",
    "    # x = math.cos(radLatA) * math.sin(radLatB) - math.sin(radLatA) * math.cos(radLatB) * math.cos(dLon)\n",
    "    # brng = math.degrees(math.atan2(y, x))\n",
    "    # brng = round((brng + 360) % 360, 4)\n",
    "    # brng = int(brng)\n",
    "    y = dLon.apply(lambda dL: math.sin(dL) * radLatB.apply(lambda rltB: math.cos(rltB)))\n",
    "    print(y)\n",
    "getDegree(data01['经度_'], data01['维度_'], data01['经度'], data01['维度'])"
   ]
  },
  {
   "cell_type": "code",
   "execution_count": 41,
   "metadata": {},
   "outputs": [
    {
     "name": "stdout",
     "output_type": "stream",
     "text": [
      "float64\n",
      "0          0.0\n",
      "1          0.0\n",
      "2          0.0\n",
      "3          0.0\n",
      "4          0.0\n",
      "          ... \n",
      "6880552    0.0\n",
      "6880553    0.0\n",
      "6880554    0.0\n",
      "6880555    0.0\n",
      "6880556    0.0\n",
      "Length: 6880557, dtype: float64\n",
      "float64\n",
      "float64\n"
     ]
    }
   ],
   "source": [
    "radLatA = data01['经度_'].apply(lambda radlat: math.radians(radlat))\n",
    "radLonA = data01['维度_'].apply(lambda radlat: math.radians(radlat))\n",
    "radLatB = data01['经度'].apply(lambda radlat: math.radians(radlat))\n",
    "radLonB = data01['维度'].apply(lambda radlat: math.radians(radlat))\n",
    "dLon = radLonB - radLonA\n",
    "print(dLon.dtype)\n",
    "print(dLon)\n",
    "y1 = dLon.apply(lambda dL: math.sin(dL))\n",
    "y2 = radLatB.apply(lambda rltB: math.cos(rltB))\n",
    "\n",
    "print(y1.dtype)\n",
    "print(y2.dtype)"
   ]
  },
  {
   "cell_type": "code",
   "execution_count": 45,
   "metadata": {},
   "outputs": [],
   "source": []
  },
  {
   "cell_type": "code",
   "execution_count": null,
   "metadata": {},
   "outputs": [],
   "source": [
    "def getDistance(latA, lonA, latB, lonB):\n",
    "    ra = 6378140    # 赤道半径\n",
    "    rb = 6356755    # 极半径\n",
    "    flatten = (ra - rb) / ra\n",
    "    # 四列特征弧度转换\n",
    "    radLatA = latA.apply(lambda radlat: math.radians(radlat))\n",
    "    radLonA = lonB.apply(lambda radlat: math.radians(radlat))\n",
    "    radLatB = latB.apply(lambda radlat: math.radians(radlat))\n",
    "    radLonB = lonB.apply(lambda radlat: math.radians(radlat))\n",
    "    temp = radLatA - radLonB\n",
    "    print(radLatA)\n",
    "    pA = radLatA.apply(lambda rltA: rb/ra*math.tan(rltA))\n",
    "    pB = radLatB.apply(lambda rltB: rb/ra*math.tan(rltB))\n",
    "    x = pA.apply(lambda x1: math.sin(x1)) * pB.apply(lambda x2: math.sin(x2)) + pA.apply(lambda x3: math.cos(x3)) * pB.apply(lambda x4: math.cos(x4) * temp.apply(lambda x5: math.cos(x5)))\n",
    "    x = x.apply(lambda x6: math.acos(x6))\n",
    "    c1 = x.apply(lambda y1: math.sin(x)) - x\n",
    "    c1 = c1 * pA.apply(lambda y2: math.sin(y2))\n",
    " \n",
    "getDistance(data01['经度_'], data01['维度_'], data01['经度'], data01['维度'])"
   ]
  },
  {
   "cell_type": "code",
   "execution_count": null,
   "metadata": {},
   "outputs": [],
   "source": [
    "data01[['经度', '维度', '经度_', '维度_']]"
   ]
  },
  {
   "cell_type": "markdown",
   "metadata": {},
   "source": [
    "# <font color=red>构造每15秒内车移动的 距离特征**distance** 角度特征**degree** 转角特征**degree_changed**</font>"
   ]
  },
  {
   "cell_type": "code",
   "execution_count": null,
   "metadata": {},
   "outputs": [],
   "source": [
    "class init_distance_degree(object):\n",
    "\n",
    "    \"\"\"\n",
    "    根据经纬度计算单位时间内的移动距离函数\n",
    "    \"\"\"\n",
    "    def getDistance(self, latA, lonA, latB, lonB):\n",
    "        ra = 6378140  # 赤道半径\n",
    "        rb = 6356755  # 极半径\n",
    "        flatten = (ra - rb) / ra  # Partial rate of the earth\n",
    "        # change angle to radians\n",
    "        radLatA = math.radians(latA)\n",
    "        radLonA = math.radians(lonA)\n",
    "        radLatB = math.radians(latB)\n",
    "        radLonB = math.radians(lonB)\n",
    "        pA = math.atan(rb / ra * math.tan(radLatA))\n",
    "        pB = math.atan(rb / ra * math.tan(radLatB))\n",
    "        x = math.acos(math.sin(pA) * math.sin(pB) + math.cos(pA) * math.cos(pB) * math.cos(radLonA - radLonB))\n",
    "        c1 = (math.sin(x) - x) * (math.sin(pA) + math.sin(pB)) ** 2 / math.cos(x / 2) ** 2\n",
    "        c2 = (math.sin(x) + x) * (math.sin(pA) - math.sin(pB)) ** 2 / math.sin(x / 2) ** 2\n",
    "        dr = flatten / 8 * (c1 - c2)\n",
    "        distance = ra * (x + dr)\n",
    "        distance = round(distance / 1000, 4)\n",
    "        return distance*1000\n",
    "\n",
    "    \"\"\"\n",
    "    根据经纬度计算单位时间内的转角函数\n",
    "    \"\"\"\n",
    "    def getDegree(self, latA, lonA, latB, lonB):\n",
    "        radLatA = math.radians(latA)\n",
    "        radLonA = math.radians(lonA)\n",
    "        radLatB = math.radians(latB)\n",
    "        radLonB = math.radians(lonB)\n",
    "        dLon = radLonB - radLonA\n",
    "        y = math.sin(dLon) * math.cos(radLatB)\n",
    "        x = math.cos(radLatA) * math.sin(radLatB) - math.sin(radLatA) * math.cos(radLatB) * math.cos(dLon)\n",
    "        brng = math.degrees(math.atan2(y, x))\n",
    "        brng = round((brng + 360) % 360, 4)\n",
    "        brng = int(brng)\n",
    "        if (brng == 0.0) or ((brng == 360.0)):\n",
    "            return 90\n",
    "        elif brng == 90.0:\n",
    "            return 0\n",
    "        elif brng == 180.0:\n",
    "            return 270\n",
    "        elif brng == 270.0:\n",
    "            return 180\n",
    "        elif 0 < brng < 90:\n",
    "            return 90-brng\n",
    "        elif 90 < brng < 180:\n",
    "            return 360-brng\n",
    "        elif 180 < brng < 270:\n",
    "            return 180+brng\n",
    "        elif 270 < brng < 360:\n",
    "            return 90+brng\n",
    "        else:\n",
    "            pass\n",
    "\n",
    "    \"\"\"\n",
    "    构造latB、lonB\n",
    "    \"\"\"\n",
    "    def init_latB_lonB(self, car_dict):\n",
    "        datasets['经度'] = datasets['经度'] / 1000000\n",
    "        datasets['维度'] = datasets['维度'] / 1000000\n",
    "        datasets_list = list()\n",
    "        for k, v in tqdm(car_dict.items()):\n",
    "            data_temp = datasets[datasets['vin']==k].reset_index(drop=True)        \n",
    "            jingdu = pd.concat([pd.DataFrame({'经度': [list(data_temp['经度'])[0]]}), data_temp[['经度']]]).reset_index(drop=True)\n",
    "            jingdu.drop([len(jingdu)-1], axis=0, inplace=True)\n",
    "            data_temp['经度_'] = jingdu\n",
    "            weidu = pd.concat([pd.DataFrame({'维度': [list(data_temp['维度'])[0]]}), data_temp[['维度']]]).reset_index(drop=True)\n",
    "            weidu.drop([len(weidu)-1], axis=0, inplace=True)\n",
    "            data_temp['维度_'] = weidu\n",
    "            datasets_list.append(data_temp)\n",
    "        datas = pd.concat(datasets_list).reset_index(drop=True)\n",
    "        print(\"构建latB、lonB完毕...\")\n",
    "        return datas\n",
    "    \n",
    "    def init_distance(self):\n",
    "        datasets['distance'] = datasets\n",
    "        \n",
    "\n"
   ]
  },
  {
   "cell_type": "code",
   "execution_count": 18,
   "metadata": {},
   "outputs": [
    {
     "data": {
      "text/plain": [
       "Index(['vin', '时间', '车速', '车辆状态', '充电状态', '总电压', '总电流', '累计里程', 'SOC',\n",
       "       '电池单体电压最高值', '最高电压电池单体代号', '电池单体电压最低值', '最低电压电池单体代号', '最高温度值',\n",
       "       '最高温度探针单体代号', '最低温度值', '最低温度探针单体代号', '最高报警等级', 'DC_DC状态', '档位',\n",
       "       '驱动电机状态', '驱动电机转速', '驱动电机转矩', '驱动电机温度', '驱动电机控制器温度', '电机控制器输入电压',\n",
       "       '电机控制器直流母流电流', '经度', '维度', '加速踏板行程值', '制动踏板状态', 'day', 'second',\n",
       "       'speed', 'time_changed', 'speed_changed', 'a', 'engine_speed_changed',\n",
       "       'engine_torque_changed', 'engine_temperature_changed',\n",
       "       'engine_controller_tpt_changed', 'w', '经度_', '维度_'],\n",
       "      dtype='object')"
      ]
     },
     "execution_count": 18,
     "metadata": {},
     "output_type": "execute_result"
    }
   ],
   "source": [
    "data01.columns"
   ]
  },
  {
   "cell_type": "code",
   "execution_count": 36,
   "metadata": {},
   "outputs": [
    {
     "data": {
      "text/plain": [
       "14.0    5315820\n",
       "0.0     1499869\n",
       "13.0      64868\n",
       "Name: 档位, dtype: int64"
      ]
     },
     "execution_count": 36,
     "metadata": {},
     "output_type": "execute_result"
    }
   ],
   "source": [
    "data01[['']]"
   ]
  },
  {
   "cell_type": "code",
   "execution_count": 17,
   "metadata": {},
   "outputs": [],
   "source": [
    "# data01.to_csv('F:/aliyuun_datas/2021数字汽车大赛/temp_df/datasets_aw.csv', index=False)"
   ]
  }
 ],
 "metadata": {
  "interpreter": {
   "hash": "5fb527b06e16c0bf53bd22ca6a0a890a2219c4494de699106f117a6dd9aed55e"
  },
  "kernelspec": {
   "display_name": "Python 3.9.5 64-bit",
   "name": "python3"
  },
  "language_info": {
   "codemirror_mode": {
    "name": "ipython",
    "version": 3
   },
   "file_extension": ".py",
   "mimetype": "text/x-python",
   "name": "python",
   "nbconvert_exporter": "python",
   "pygments_lexer": "ipython3",
   "version": "3.9.5"
  },
  "orig_nbformat": 4
 },
 "nbformat": 4,
 "nbformat_minor": 2
}
