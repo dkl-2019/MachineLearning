{
 "cells": [
  {
   "cell_type": "code",
   "execution_count": 1,
   "metadata": {},
   "outputs": [],
   "source": [
    "import pandas as pd\n",
    "import numpy as np\n",
    "\n",
    "import warnings\n",
    "warnings.filterwarnings('ignore')"
   ]
  },
  {
   "cell_type": "code",
   "execution_count": 2,
   "metadata": {},
   "outputs": [],
   "source": [
    "# 训练集\n",
    "app_launch_logs = pd.read_csv('E:/TianChi/CCF用户留存预测挑战赛/datas/app_launch_logs.csv')\n",
    "user_interaction_data = pd.read_csv('E:/TianChi/CCF用户留存预测挑战赛/datas/user_interaction_data.csv')\n",
    "user_playback_data = pd.read_csv('E:/TianChi/CCF用户留存预测挑战赛/datas/user_playback_data.csv')\n",
    "user_portrait_data = pd.read_csv('E:/TianChi/CCF用户留存预测挑战赛/datas/user_portrait_data.csv')\n",
    "video_related_data = pd.read_csv('E:/TianChi/CCF用户留存预测挑战赛/datas/video_related_data.csv')\n",
    "\n",
    "# 测试集\n",
    "test_a = pd.read_csv('E:/TianChi/CCF用户留存预测挑战赛/datas/test_without_label.csv')"
   ]
  },
  {
   "cell_type": "markdown",
   "metadata": {},
   "source": [
    "<font color=pink>这里主办方给了5张表，主要包括了两个维度的信息，第一个维度是用户和APP交互的信息，第二个维度是用户和Video的交互信息，用户在登录APP的时候，会与若干的Video进行交互，这里是的APP数据和Video的数据可以认为是一个上下级的关系，下面简单的介绍一下主办方给的这5张表。</font>\n",
    "\n",
    "* 1.User portrait data\n",
    "    * 这部分数据主要描述了User的个人信息\n",
    "* 2.App launch logs\n",
    "    * 这张表是本次比赛的核心表，这里记录的用户和APP交互的历史记录，也是我们后续标签构造的来源\n",
    "* 3.Video related data\n",
    "    * 这张表是描述视频相关的信息，这些视频是由用户在登录APP之后观看所得\n",
    "* 4.User playback data\n",
    "    * 这张表记录了每个用户观看视频的历史记录，并且记录了每次的观看时间\n",
    "* 5.User interaction data\n",
    "    * 这张表记录了每个用户和视频发生交互时的交互方式，和第四张表有一点重复"
   ]
  },
  {
   "cell_type": "code",
   "execution_count": 6,
   "metadata": {},
   "outputs": [
    {
     "data": {
      "text/html": [
       "<div>\n",
       "<style scoped>\n",
       "    .dataframe tbody tr th:only-of-type {\n",
       "        vertical-align: middle;\n",
       "    }\n",
       "\n",
       "    .dataframe tbody tr th {\n",
       "        vertical-align: top;\n",
       "    }\n",
       "\n",
       "    .dataframe thead th {\n",
       "        text-align: right;\n",
       "    }\n",
       "</style>\n",
       "<table border=\"1\" class=\"dataframe\">\n",
       "  <thead>\n",
       "    <tr style=\"text-align: right;\">\n",
       "      <th></th>\n",
       "      <th>user_id</th>\n",
       "      <th>launch_type</th>\n",
       "      <th>date</th>\n",
       "    </tr>\n",
       "  </thead>\n",
       "  <tbody>\n",
       "    <tr>\n",
       "      <th>0</th>\n",
       "      <td>10157996</td>\n",
       "      <td>0</td>\n",
       "      <td>129</td>\n",
       "    </tr>\n",
       "    <tr>\n",
       "      <th>1</th>\n",
       "      <td>10139583</td>\n",
       "      <td>0</td>\n",
       "      <td>129</td>\n",
       "    </tr>\n",
       "    <tr>\n",
       "      <th>2</th>\n",
       "      <td>10277501</td>\n",
       "      <td>0</td>\n",
       "      <td>129</td>\n",
       "    </tr>\n",
       "    <tr>\n",
       "      <th>3</th>\n",
       "      <td>10099847</td>\n",
       "      <td>0</td>\n",
       "      <td>129</td>\n",
       "    </tr>\n",
       "    <tr>\n",
       "      <th>4</th>\n",
       "      <td>10532773</td>\n",
       "      <td>0</td>\n",
       "      <td>129</td>\n",
       "    </tr>\n",
       "    <tr>\n",
       "      <th>...</th>\n",
       "      <td>...</td>\n",
       "      <td>...</td>\n",
       "      <td>...</td>\n",
       "    </tr>\n",
       "    <tr>\n",
       "      <th>8493873</th>\n",
       "      <td>10184712</td>\n",
       "      <td>0</td>\n",
       "      <td>145</td>\n",
       "    </tr>\n",
       "    <tr>\n",
       "      <th>8493874</th>\n",
       "      <td>10418703</td>\n",
       "      <td>0</td>\n",
       "      <td>145</td>\n",
       "    </tr>\n",
       "    <tr>\n",
       "      <th>8493875</th>\n",
       "      <td>10313492</td>\n",
       "      <td>0</td>\n",
       "      <td>145</td>\n",
       "    </tr>\n",
       "    <tr>\n",
       "      <th>8493876</th>\n",
       "      <td>10239105</td>\n",
       "      <td>0</td>\n",
       "      <td>145</td>\n",
       "    </tr>\n",
       "    <tr>\n",
       "      <th>8493877</th>\n",
       "      <td>10333944</td>\n",
       "      <td>0</td>\n",
       "      <td>145</td>\n",
       "    </tr>\n",
       "  </tbody>\n",
       "</table>\n",
       "<p>8493878 rows × 3 columns</p>\n",
       "</div>"
      ],
      "text/plain": [
       "          user_id  launch_type  date\n",
       "0        10157996            0   129\n",
       "1        10139583            0   129\n",
       "2        10277501            0   129\n",
       "3        10099847            0   129\n",
       "4        10532773            0   129\n",
       "...           ...          ...   ...\n",
       "8493873  10184712            0   145\n",
       "8493874  10418703            0   145\n",
       "8493875  10313492            0   145\n",
       "8493876  10239105            0   145\n",
       "8493877  10333944            0   145\n",
       "\n",
       "[8493878 rows x 3 columns]"
      ]
     },
     "execution_count": 6,
     "metadata": {},
     "output_type": "execute_result"
    }
   ],
   "source": [
    "app_launch_logs"
   ]
  },
  {
   "cell_type": "code",
   "execution_count": null,
   "metadata": {},
   "outputs": [],
   "source": []
  },
  {
   "cell_type": "code",
   "execution_count": null,
   "metadata": {},
   "outputs": [],
   "source": []
  },
  {
   "cell_type": "code",
   "execution_count": null,
   "metadata": {},
   "outputs": [],
   "source": []
  },
  {
   "cell_type": "markdown",
   "metadata": {},
   "source": [
    "<font color=gree>本次比赛需要比赛选手预测user在指定时间点后7天有几天登录爱奇艺APP，但是这里主办方并没有给相关标签，这里就需要我们自己通过用户登录APP的日志手动进行构造，构造思路如下：</font>\n",
    "* 1.从App launch logs中提取出每个用户的登录APP的序列\n",
    "* 2.我们对所有用户选择一个end_date作为参考点，将end_date后7天的用户等APP的天数作为标签，这样便人为构造了标签，注意这里的end_date的选取有两种情况\n",
    "    * 第一种情况是用户登录APP的记录过少，如果用户登录APP的最新的天与最早登录APP的天之间少于7天的话，我们认为这种用户的历史记录过少，这里我们对这种用户直接随机选取end_data\n",
    "    * 第二种情况是用户登录APP的记录较多，如果用户 登录APP的最新的天与最早登录APP的天之间大于7天的话，那么我们认为这类用户的历史行为信息就较为丰富，我们在选取end_data的时候就尽可能在用户的历史信息序列里面进行选取，这样就可以尽可能的利用用户的历史行为信息\n",
    "* 3.我们在获取的end_date之后便可以统计当前end_date之后7天的用户登录APP的天数，这样便完成的标签的构造"
   ]
  },
  {
   "cell_type": "code",
   "execution_count": null,
   "metadata": {},
   "outputs": [],
   "source": []
  },
  {
   "cell_type": "code",
   "execution_count": null,
   "metadata": {},
   "outputs": [],
   "source": []
  },
  {
   "cell_type": "code",
   "execution_count": null,
   "metadata": {},
   "outputs": [],
   "source": []
  },
  {
   "cell_type": "code",
   "execution_count": null,
   "metadata": {},
   "outputs": [],
   "source": []
  },
  {
   "cell_type": "code",
   "execution_count": null,
   "metadata": {},
   "outputs": [],
   "source": []
  }
 ],
 "metadata": {
  "interpreter": {
   "hash": "5fb527b06e16c0bf53bd22ca6a0a890a2219c4494de699106f117a6dd9aed55e"
  },
  "kernelspec": {
   "display_name": "Python 3.9.5 64-bit",
   "language": "python",
   "name": "python3"
  },
  "language_info": {
   "codemirror_mode": {
    "name": "ipython",
    "version": 3
   },
   "file_extension": ".py",
   "mimetype": "text/x-python",
   "name": "python",
   "nbconvert_exporter": "python",
   "pygments_lexer": "ipython3",
   "version": "3.9.5"
  },
  "orig_nbformat": 4
 },
 "nbformat": 4,
 "nbformat_minor": 2
}
