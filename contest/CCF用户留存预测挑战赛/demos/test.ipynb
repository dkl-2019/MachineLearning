{
 "cells": [
  {
   "cell_type": "code",
   "execution_count": 1,
   "metadata": {},
   "outputs": [],
   "source": [
    "import pandas as pd\n",
    "import numpy as np\n",
    "\n",
    "import warnings\n",
    "warnings.filterwarnings('ignore')"
   ]
  },
  {
   "cell_type": "code",
   "execution_count": 2,
   "metadata": {},
   "outputs": [],
   "source": [
    "# 训练集\n",
    "app_launch_logs = pd.read_csv('F:/aliyuun_datas/CCF用户留存预测挑战赛/datas/app_launch_logs.csv')\n",
    "user_interaction_data = pd.read_csv('F:/aliyuun_datas/CCF用户留存预测挑战赛/datas/user_interaction_data.csv')\n",
    "user_playback_data = pd.read_csv('F:/aliyuun_datas/CCF用户留存预测挑战赛/datas/user_playback_data.csv')\n",
    "user_portrait_data = pd.read_csv('F:/aliyuun_datas/CCF用户留存预测挑战赛/datas/user_portrait_data.csv')\n",
    "video_related_data = pd.read_csv('F:/aliyuun_datas/CCF用户留存预测挑战赛/datas/video_related_data.csv')\n",
    "\n",
    "# 测试集\n",
    "test_a = pd.read_csv('F:/aliyuun_datas/CCF用户留存预测挑战赛/datas/test_without_label.csv')"
   ]
  },
  {
   "cell_type": "code",
   "execution_count": 3,
   "metadata": {},
   "outputs": [
    {
     "data": {
      "text/plain": [
       "((8493878, 3),\n",
       " (198608, 4),\n",
       " (71046035, 4),\n",
       " (596906, 9),\n",
       " (4250105, 5),\n",
       " (15001, 2))"
      ]
     },
     "execution_count": 3,
     "metadata": {},
     "output_type": "execute_result"
    }
   ],
   "source": [
    "app_launch_logs.shape, user_interaction_data.shape, user_playback_data.shape, user_portrait_data.shape, video_related_data.shape, test_a.shape"
   ]
  },
  {
   "cell_type": "markdown",
   "metadata": {},
   "source": [
    "## 缺失查看"
   ]
  },
  {
   "cell_type": "code",
   "execution_count": 9,
   "metadata": {},
   "outputs": [
    {
     "data": {
      "text/plain": [
       "user_id        0\n",
       "launch_type    0\n",
       "date           0\n",
       "dtype: int64"
      ]
     },
     "execution_count": 9,
     "metadata": {},
     "output_type": "execute_result"
    }
   ],
   "source": [
    "app_launch_logs.isnull().sum()"
   ]
  },
  {
   "cell_type": "code",
   "execution_count": 10,
   "metadata": {},
   "outputs": [
    {
     "data": {
      "text/plain": [
       "user_id          0\n",
       "item_id          0\n",
       "interact_type    0\n",
       "date             0\n",
       "dtype: int64"
      ]
     },
     "execution_count": 10,
     "metadata": {},
     "output_type": "execute_result"
    }
   ],
   "source": [
    "user_interaction_data.isnull().sum()"
   ]
  },
  {
   "cell_type": "code",
   "execution_count": 11,
   "metadata": {},
   "outputs": [
    {
     "data": {
      "text/plain": [
       "user_id         0\n",
       "item_id     60483\n",
       "playtime        0\n",
       "date            0\n",
       "dtype: int64"
      ]
     },
     "execution_count": 11,
     "metadata": {},
     "output_type": "execute_result"
    }
   ],
   "source": [
    "user_playback_data.isnull().sum()"
   ]
  },
  {
   "cell_type": "code",
   "execution_count": 12,
   "metadata": {},
   "outputs": [
    {
     "data": {
      "text/plain": [
       "user_id                  0\n",
       "device_type            339\n",
       "device_ram           37772\n",
       "device_rom           28434\n",
       "sex                   6447\n",
       "age                   7738\n",
       "education            11003\n",
       "occupation_status     7983\n",
       "territory_code       37281\n",
       "dtype: int64"
      ]
     },
     "execution_count": 12,
     "metadata": {},
     "output_type": "execute_result"
    }
   ],
   "source": [
    "user_portrait_data.isnull().sum()"
   ]
  },
  {
   "cell_type": "code",
   "execution_count": 13,
   "metadata": {},
   "outputs": [
    {
     "data": {
      "text/plain": [
       "item_id           66\n",
       "duration      364078\n",
       "father_id    2820142\n",
       "tag_list      592337\n",
       "cast         3775461\n",
       "dtype: int64"
      ]
     },
     "execution_count": 13,
     "metadata": {},
     "output_type": "execute_result"
    }
   ],
   "source": [
    "video_related_data.isnull().sum()"
   ]
  },
  {
   "cell_type": "code",
   "execution_count": 14,
   "metadata": {},
   "outputs": [
    {
     "data": {
      "text/plain": [
       "14939"
      ]
     },
     "execution_count": 14,
     "metadata": {},
     "output_type": "execute_result"
    }
   ],
   "source": [
    "test_a['end_date'].duplicated().sum()"
   ]
  },
  {
   "cell_type": "markdown",
   "metadata": {},
   "source": [
    "## 提取数据特征"
   ]
  },
  {
   "cell_type": "code",
   "execution_count": 7,
   "metadata": {},
   "outputs": [],
   "source": [
    "# 创建数据表\n",
    "col = list(app_launch_logs.columns[1:-1]) + ['launch_date']  + ['playback_item_duration','playback_item_father_id'] + list(user_playback_data.columns[2:-1]) + ['playback_date'] + list(user_portrait_data.columns[1:]) + list(test_a.columns[1:])\n",
    "df = pd.DataFrame(index = list(test_a.user_id), columns=col)"
   ]
  },
  {
   "cell_type": "code",
   "execution_count": 5,
   "metadata": {},
   "outputs": [],
   "source": [
    "def selectFeatures(tables):\n",
    "    for i in df.index:\n",
    "        f = 0\n",
    "        for j in tables:\n",
    "            f += 1\n",
    "            t = j.loc[j['user_id'] == i]\n",
    "            if f == 1:\n",
    "                s1 = np.mean(t.launch_type)\n",
    "                s2 = max(t.date) - min(t.date)\n",
    "                df.loc[i, 'launch_type'] = s1\n",
    "                df.loc[i, 'launch_date'] = s2\n",
    "            if f == 2:\n",
    "                for p in t.item_id:\n",
    "                    o = video_related_data.loc[video_related_data['item_id'] == p]\n",
    "                    df.loc[i, 'playback_item_duration'] = np.mean(o.duration)\n",
    "                    df.loc[i, 'playback_item_father_id'] = np.mean(o.father_id)\n",
    "                s1 = np.mean(t.playtime)\n",
    "                s2 = np.max(t.date) - np.min(t.date)\n",
    "                df.loc[i, 'playtime'] = s1\n",
    "                df.loc[i, 'playback_date'] = s2\n",
    "            if f == 3:\n",
    "                s = np.array(t).ravel()\n",
    "                if len(s) !=0:\n",
    "                    for k in range(len(user_portrait_data.columns[1:])):\n",
    "                        df.loc[i, user_portrait_data.columns[k+1]] = s[k+1]\n",
    "            if f == 4:\n",
    "                df.end_date = np.array(test_a['end_date']).ravel()\n",
    "    return None"
   ]
  },
  {
   "cell_type": "code",
   "execution_count": 8,
   "metadata": {},
   "outputs": [],
   "source": [
    "selectFeatures([app_launch_logs, user_playback_data, user_portrait_data, test_a])"
   ]
  },
  {
   "cell_type": "code",
   "execution_count": 15,
   "metadata": {},
   "outputs": [],
   "source": [
    "# df.to_csv('F:/aliyuun_datas/CCF用户留存预测挑战赛/features1.csv')"
   ]
  },
  {
   "cell_type": "markdown",
   "metadata": {},
   "source": [
    "## 预处理数据"
   ]
  },
  {
   "cell_type": "code",
   "execution_count": 16,
   "metadata": {},
   "outputs": [],
   "source": [
    "numeric_df = df.dtypes[df.dtypes != 'object'].index"
   ]
  },
  {
   "cell_type": "code",
   "execution_count": 17,
   "metadata": {},
   "outputs": [],
   "source": [
    "df[numeric_df] = df[numeric_df].apply(lambda x: (x - x.mean()) / (x.std()))"
   ]
  },
  {
   "cell_type": "code",
   "execution_count": 18,
   "metadata": {},
   "outputs": [],
   "source": [
    "# 标准化后，每个特征的均值变为0，所以可以直接用0来填充\n",
    "df[numeric_df] = df[numeric_df].fillna(0)"
   ]
  },
  {
   "cell_type": "code",
   "execution_count": 19,
   "metadata": {},
   "outputs": [],
   "source": [
    "# 离散数值转成指示特征（dummy_na=True将缺失值也当作合法的特征值并为其创建指示特征）\n",
    "df = pd.get_dummies(df, dummy_na=True)"
   ]
  },
  {
   "cell_type": "code",
   "execution_count": 20,
   "metadata": {},
   "outputs": [
    {
     "data": {
      "text/plain": [
       "(15001, 18498)"
      ]
     },
     "execution_count": 20,
     "metadata": {},
     "output_type": "execute_result"
    }
   ],
   "source": [
    "df.shape"
   ]
  },
  {
   "cell_type": "code",
   "execution_count": 21,
   "metadata": {},
   "outputs": [],
   "source": [
    "# df.to_csv('F:/aliyuun_datas/CCF用户留存预测挑战赛/features2.csv')"
   ]
  },
  {
   "cell_type": "markdown",
   "metadata": {},
   "source": [
    "## 降维处理"
   ]
  },
  {
   "cell_type": "code",
   "execution_count": 22,
   "metadata": {},
   "outputs": [
    {
     "data": {
      "text/plain": [
       "(15001, 18498)"
      ]
     },
     "execution_count": 22,
     "metadata": {},
     "output_type": "execute_result"
    }
   ],
   "source": [
    "# 导入数据\n",
    "data = pd.read_csv('F:/aliyuun_datas/CCF用户留存预测挑战赛/features2.csv', index_col=0)\n",
    "data.shape"
   ]
  },
  {
   "cell_type": "code",
   "execution_count": 23,
   "metadata": {},
   "outputs": [],
   "source": [
    "# 选取合适维数\n",
    "from sklearn.decomposition import PCA\n",
    "pca = PCA(n_components=0.99).fit_transform(data)"
   ]
  },
  {
   "cell_type": "code",
   "execution_count": 24,
   "metadata": {},
   "outputs": [
    {
     "data": {
      "text/plain": [
       "(15001, 12469)"
      ]
     },
     "execution_count": 24,
     "metadata": {},
     "output_type": "execute_result"
    }
   ],
   "source": [
    "pca.shape"
   ]
  },
  {
   "cell_type": "code",
   "execution_count": 25,
   "metadata": {},
   "outputs": [],
   "source": [
    "# pd.DataFrame(pca).to_csv('F:/aliyuun_datas/CCF用户留存预测挑战赛/pcaFeatures.csv')"
   ]
  },
  {
   "cell_type": "markdown",
   "metadata": {},
   "source": [
    "## 模型训练：XGB"
   ]
  },
  {
   "cell_type": "code",
   "execution_count": 26,
   "metadata": {},
   "outputs": [],
   "source": [
    "# 分割数据集（X, y既作训练数据又作测试数据）\n",
    "import numpy as np\n",
    "import pandas as pd\n",
    "sample = pd.read_csv('F:/aliyuun_datas/CCF用户留存预测挑战赛/datas/sample-a.csv', header=None)\n",
    "y = np.array(sample.iloc[:,1])\n",
    "data = pd.read_csv('F:/aliyuun_datas/CCF用户留存预测挑战赛/pcaFeatures.csv', index_col=0)\n",
    "pca = np.array(data)"
   ]
  },
  {
   "cell_type": "code",
   "execution_count": 27,
   "metadata": {},
   "outputs": [],
   "source": [
    "import joblib\n",
    "X = pca"
   ]
  },
  {
   "cell_type": "code",
   "execution_count": 28,
   "metadata": {},
   "outputs": [
    {
     "data": {
      "text/plain": [
       "['model_xgboost.m']"
      ]
     },
     "execution_count": 28,
     "metadata": {},
     "output_type": "execute_result"
    }
   ],
   "source": [
    "# xgboost回归分析、调参\n",
    "import xgboost as xgb\n",
    "model_xgboost = xgb.XGBRegressor()\n",
    "model_xgboost.fit(X, y)\n",
    "joblib.dump(model_xgboost, 'model_xgboost.m')"
   ]
  },
  {
   "cell_type": "code",
   "execution_count": 29,
   "metadata": {},
   "outputs": [
    {
     "data": {
      "text/plain": [
       "['model_randomForestReg.m']"
      ]
     },
     "execution_count": 29,
     "metadata": {},
     "output_type": "execute_result"
    }
   ],
   "source": [
    "from sklearn.ensemble import RandomForestRegressor\n",
    "model_randomForestReg = RandomForestRegressor()\n",
    "model_randomForestReg.fit(X, y)\n",
    "joblib.dump(model_randomForestReg, 'model_randomForestReg.m')"
   ]
  },
  {
   "cell_type": "code",
   "execution_count": 30,
   "metadata": {},
   "outputs": [
    {
     "data": {
      "text/plain": [
       "['model_extraTreeReg.m']"
      ]
     },
     "execution_count": 30,
     "metadata": {},
     "output_type": "execute_result"
    }
   ],
   "source": [
    "from sklearn.ensemble import ExtraTreesRegressor\n",
    "model_extraTreeReg = ExtraTreesRegressor()\n",
    "model_extraTreeReg.fit(X, y)\n",
    "joblib.dump(model_extraTreeReg, 'model_extraTreeReg.m')"
   ]
  },
  {
   "cell_type": "code",
   "execution_count": 31,
   "metadata": {},
   "outputs": [
    {
     "data": {
      "text/plain": [
       "['model_decisionTreeReg.m']"
      ]
     },
     "execution_count": 31,
     "metadata": {},
     "output_type": "execute_result"
    }
   ],
   "source": [
    "from sklearn.tree import DecisionTreeRegressor\n",
    "model_decisionTreeReg = DecisionTreeRegressor()\n",
    "model_decisionTreeReg.fit(X, y)\n",
    "joblib.dump(model_decisionTreeReg, 'model_decisionTreeReg.m')"
   ]
  },
  {
   "cell_type": "code",
   "execution_count": 32,
   "metadata": {},
   "outputs": [
    {
     "data": {
      "text/plain": [
       "['model_knn.m']"
      ]
     },
     "execution_count": 32,
     "metadata": {},
     "output_type": "execute_result"
    }
   ],
   "source": [
    "from sklearn.neighbors import KNeighborsRegressor\n",
    "model_knn = KNeighborsRegressor(weights=\"uniform\")\n",
    "model_knn.fit(X, y)\n",
    "joblib.dump(model_knn, 'model_knn.m')"
   ]
  },
  {
   "cell_type": "markdown",
   "metadata": {},
   "source": [
    "## 模型评估"
   ]
  },
  {
   "cell_type": "code",
   "execution_count": 33,
   "metadata": {},
   "outputs": [],
   "source": [
    "# 导入pca\n",
    "import pandas as pd\n",
    "import numpy as np\n",
    "import joblib"
   ]
  },
  {
   "cell_type": "code",
   "execution_count": 34,
   "metadata": {},
   "outputs": [],
   "source": [
    "# 导入数据\n",
    "data = pd.read_csv('F:/aliyuun_datas/CCF用户留存预测挑战赛/pcaFeatures.csv', index_col=0)\n",
    "pca = np.array(data)"
   ]
  },
  {
   "cell_type": "code",
   "execution_count": 35,
   "metadata": {},
   "outputs": [
    {
     "data": {
      "text/plain": [
       "(15001, 12469)"
      ]
     },
     "execution_count": 35,
     "metadata": {},
     "output_type": "execute_result"
    }
   ],
   "source": [
    "# 查看数据维数\n",
    "pca.shape"
   ]
  },
  {
   "cell_type": "code",
   "execution_count": 37,
   "metadata": {},
   "outputs": [],
   "source": [
    "# 回归真实标签\n",
    "sample = pd.read_csv('F:/aliyuun_datas/CCF用户留存预测挑战赛/datas/sample-a.csv', header=None)\n",
    "y = np.array(sample.iloc[:,1])"
   ]
  },
  {
   "cell_type": "code",
   "execution_count": 38,
   "metadata": {},
   "outputs": [],
   "source": [
    "# 导入模型：初步选用xgboost，RandomForestRegression\n",
    "model = joblib.load('model_xgboost.m')"
   ]
  },
  {
   "cell_type": "code",
   "execution_count": 39,
   "metadata": {},
   "outputs": [],
   "source": [
    "# 定义评价函数\n",
    "def gain(real, predict):\n",
    "    grad = predict - real\n",
    "    hess = 100 * (1- (np.abs(grad) / 7).mean())\n",
    "    return hess"
   ]
  },
  {
   "cell_type": "code",
   "execution_count": 40,
   "metadata": {},
   "outputs": [
    {
     "data": {
      "text/plain": [
       "92.28824197045672"
      ]
     },
     "execution_count": 40,
     "metadata": {},
     "output_type": "execute_result"
    }
   ],
   "source": [
    "pred = model.predict(pca)\n",
    "gain(y, pred)"
   ]
  },
  {
   "cell_type": "code",
   "execution_count": 41,
   "metadata": {},
   "outputs": [],
   "source": [
    "# 处理数据\n",
    "pred[pred<0] = 0\n",
    "pred[pred>7] = 7"
   ]
  },
  {
   "cell_type": "code",
   "execution_count": 42,
   "metadata": {},
   "outputs": [
    {
     "data": {
      "text/plain": [
       "92.28891224955667"
      ]
     },
     "execution_count": 42,
     "metadata": {},
     "output_type": "execute_result"
    }
   ],
   "source": [
    "gain(y, pred)"
   ]
  },
  {
   "cell_type": "code",
   "execution_count": 43,
   "metadata": {},
   "outputs": [
    {
     "name": "stdout",
     "output_type": "stream",
     "text": [
      "R Squared is: 0.8847543294909925\n"
     ]
    }
   ],
   "source": [
    "from sklearn.metrics import r2_score\n",
    "print(f'R Squared is: {r2_score(y, pred)}')"
   ]
  },
  {
   "cell_type": "markdown",
   "metadata": {},
   "source": [
    "## 处理结果文件"
   ]
  },
  {
   "cell_type": "code",
   "execution_count": null,
   "metadata": {},
   "outputs": [],
   "source": [
    "# 写入文件\n",
    "result = sample.copy()\n",
    "result.iloc[:,1] = np.around(pred, decimals=2)\n",
    "pd.DataFrame(result).to_csv('F:/aliyuun_datas/CCF用户留存预测挑战赛/result/submission_xgb.csv', index=0, header=None)"
   ]
  },
  {
   "cell_type": "code",
   "execution_count": null,
   "metadata": {},
   "outputs": [],
   "source": []
  },
  {
   "cell_type": "code",
   "execution_count": null,
   "metadata": {},
   "outputs": [],
   "source": []
  },
  {
   "cell_type": "code",
   "execution_count": null,
   "metadata": {},
   "outputs": [],
   "source": []
  }
 ],
 "metadata": {
  "interpreter": {
   "hash": "5fb527b06e16c0bf53bd22ca6a0a890a2219c4494de699106f117a6dd9aed55e"
  },
  "kernelspec": {
   "display_name": "Python 3.9.5 64-bit",
   "language": "python",
   "name": "python3"
  },
  "language_info": {
   "codemirror_mode": {
    "name": "ipython",
    "version": 3
   },
   "file_extension": ".py",
   "mimetype": "text/x-python",
   "name": "python",
   "nbconvert_exporter": "python",
   "pygments_lexer": "ipython3",
   "version": "3.9.5"
  },
  "orig_nbformat": 4
 },
 "nbformat": 4,
 "nbformat_minor": 2
}
