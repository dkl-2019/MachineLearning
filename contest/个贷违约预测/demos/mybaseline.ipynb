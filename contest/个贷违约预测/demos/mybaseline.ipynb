{
 "metadata": {
  "language_info": {
   "codemirror_mode": {
    "name": "ipython",
    "version": 3
   },
   "file_extension": ".py",
   "mimetype": "text/x-python",
   "name": "python",
   "nbconvert_exporter": "python",
   "pygments_lexer": "ipython3",
   "version": "3.9.5"
  },
  "orig_nbformat": 4,
  "kernelspec": {
   "name": "python3",
   "display_name": "Python 3.9.5 64-bit (system)"
  },
  "interpreter": {
   "hash": "192a88fd96c5f88b0f93f6844c224266c9a88fc5236fe406ecce83d3f919f99d"
  }
 },
 "nbformat": 4,
 "nbformat_minor": 2,
 "cells": [
  {
   "cell_type": "code",
   "execution_count": 1,
   "source": [
    "import pandas as pd\r\n",
    "import os\r\n",
    "import gc\r\n",
    "import datetime\r\n",
    "import lightgbm as lgb\r\n",
    "import xgboost as xgb\r\n",
    "from catboost import CatBoostRegressor\r\n",
    "from sklearn.linear_model import SGDRegressor, LinearRegression, Ridge\r\n",
    "from sklearn.preprocessing import MinMaxScaler\r\n",
    "import math\r\n",
    "import numpy as np\r\n",
    "from tqdm import tqdm\r\n",
    "from sklearn.model_selection import StratifiedKFold, KFold\r\n",
    "from sklearn.metrics import accuracy_score, f1_score, roc_auc_score, log_loss\r\n",
    "import matplotlib.pyplot as plt\r\n",
    "import time\r\n",
    "import warnings\r\n",
    "warnings.filterwarnings('ignore')"
   ],
   "outputs": [],
   "metadata": {}
  },
  {
   "cell_type": "code",
   "execution_count": 2,
   "source": [
    "train_internet = pd.read_csv('E:/TianChi/个贷违约预测/datas/train_internet.csv')\r\n",
    "data_train  = pd.read_csv('E:/TianChi/个贷违约预测/datas/train_public.csv')\r\n",
    "data_test = pd.read_csv('E:/TianChi/个贷违约预测/datas/test_public (1).csv')\r\n",
    "submit_example = pd.read_csv('E:/TianChi/个贷违约预测/datas/submit_example.csv')"
   ],
   "outputs": [],
   "metadata": {}
  },
  {
   "cell_type": "code",
   "execution_count": 3,
   "source": [
    "data = pd.concat([data_train, data_test], axis=0, ignore_index=True)\r\n",
    "data.shape"
   ],
   "outputs": [
    {
     "output_type": "execute_result",
     "data": {
      "text/plain": [
       "(15000, 39)"
      ]
     },
     "metadata": {},
     "execution_count": 3
    }
   ],
   "metadata": {}
  },
  {
   "cell_type": "markdown",
   "source": [
    "# <font color=gree>数据预处理</font>"
   ],
   "metadata": {}
  },
  {
   "cell_type": "code",
   "execution_count": 4,
   "source": [
    "numerical_fea = list(data.select_dtypes(exclude=['object']).columns)\r\n",
    "category_fea = list(filter(lambda x: x not in numerical_fea,list(data.columns)))\r\n",
    "label = 'isDefault'\r\n",
    "numerical_fea.remove(label)"
   ],
   "outputs": [],
   "metadata": {}
  },
  {
   "cell_type": "code",
   "execution_count": 5,
   "source": [
    "print(numerical_fea)\r\n",
    "\r\n",
    "category_fea"
   ],
   "outputs": [
    {
     "output_type": "stream",
     "name": "stdout",
     "text": [
      "['loan_id', 'user_id', 'total_loan', 'year_of_loan', 'interest', 'monthly_payment', 'house_exist', 'censor_status', 'use', 'post_code', 'region', 'debt_loan_ratio', 'del_in_18month', 'scoring_low', 'scoring_high', 'known_outstanding_loan', 'known_dero', 'pub_dero_bankrup', 'recircle_b', 'recircle_u', 'initial_list_status', 'app_type', 'title', 'policy_code', 'f0', 'f1', 'f2', 'f3', 'f4', 'early_return', 'early_return_amount', 'early_return_amount_3mon']\n"
     ]
    },
    {
     "output_type": "execute_result",
     "data": {
      "text/plain": [
       "['class',\n",
       " 'employer_type',\n",
       " 'industry',\n",
       " 'work_year',\n",
       " 'issue_date',\n",
       " 'earlies_credit_mon']"
      ]
     },
     "metadata": {},
     "execution_count": 5
    }
   ],
   "metadata": {}
  },
  {
   "cell_type": "code",
   "execution_count": 6,
   "source": [
    "#按照中位数填充数值型特征\r\n",
    "data[numerical_fea] = data[numerical_fea].fillna(data[numerical_fea].median())\r\n",
    "#按照众数填充类别型特征\r\n",
    "data[category_fea] = data[category_fea].fillna(data[category_fea].mode())"
   ],
   "outputs": [],
   "metadata": {}
  },
  {
   "cell_type": "markdown",
   "source": [
    "# <font color=yellow>时间特征处理'issue_date'</font>"
   ],
   "metadata": {}
  },
  {
   "cell_type": "code",
   "execution_count": 7,
   "source": [
    "data['issue_date'].value_counts().sort_index()"
   ],
   "outputs": [
    {
     "output_type": "execute_result",
     "data": {
      "text/plain": [
       "2007/10/1     2\n",
       "2007/12/1     1\n",
       "2007/8/1      1\n",
       "2008/1/1      4\n",
       "2008/10/1     1\n",
       "             ..\n",
       "2018/5/1     64\n",
       "2018/6/1     61\n",
       "2018/7/1     42\n",
       "2018/8/1     36\n",
       "2018/9/1     22\n",
       "Name: issue_date, Length: 131, dtype: int64"
      ]
     },
     "metadata": {},
     "execution_count": 7
    }
   ],
   "metadata": {}
  },
  {
   "cell_type": "code",
   "execution_count": 8,
   "source": [
    "data['issue_date'] = pd.to_datetime(data['issue_date'], format='%Y-%m-%d')\r\n",
    "startdate = datetime.datetime.strptime('2007-10-01', '%Y-%m-%d')\r\n",
    "data['issueDateDT'] = data['issue_date'].apply(lambda x: x-startdate).dt.days\r\n",
    "data[['issueDateDT']]\r\n",
    "data.drop('issue_date', axis=1, inplace=True)"
   ],
   "outputs": [],
   "metadata": {}
  },
  {
   "cell_type": "code",
   "execution_count": 9,
   "source": [
    "data['issueDateDT'].value_counts().sort_index()"
   ],
   "outputs": [
    {
     "output_type": "execute_result",
     "data": {
      "text/plain": [
       "-61       1\n",
       " 0        2\n",
       " 61       1\n",
       " 92       4\n",
       " 152      3\n",
       "         ..\n",
       " 3957    36\n",
       " 3988    22\n",
       " 4018    20\n",
       " 4049    20\n",
       " 4079    14\n",
       "Name: issueDateDT, Length: 131, dtype: int64"
      ]
     },
     "metadata": {},
     "execution_count": 9
    }
   ],
   "metadata": {}
  },
  {
   "cell_type": "markdown",
   "source": [
    "# <font color=yellow>'work_year'处理</font>"
   ],
   "metadata": {}
  },
  {
   "cell_type": "code",
   "execution_count": 10,
   "source": [
    "data['work_year'].value_counts(dropna=False).sort_index()"
   ],
   "outputs": [
    {
     "output_type": "execute_result",
     "data": {
      "text/plain": [
       "1 year       1015\n",
       "10+ years    5000\n",
       "2 years      1311\n",
       "3 years      1161\n",
       "4 years       884\n",
       "5 years       957\n",
       "6 years       706\n",
       "7 years       660\n",
       "8 years       682\n",
       "9 years       577\n",
       "< 1 year     1147\n",
       "NaN           900\n",
       "Name: work_year, dtype: int64"
      ]
     },
     "metadata": {},
     "execution_count": 10
    }
   ],
   "metadata": {}
  },
  {
   "cell_type": "code",
   "execution_count": 11,
   "source": [
    "data['work_year'].replace(to_replace='10+ years', value='10 years', inplace=True)\r\n",
    "data['work_year'].replace('< 1 year', '0 years', inplace=True)\r\n",
    "\r\n",
    "def employmentLength_to_int(s):\r\n",
    "    if pd.isnull(s):\r\n",
    "        return s\r\n",
    "    else:\r\n",
    "        return np.int8(s.split()[0])\r\n",
    "    \r\n",
    "data['work_year'] = data['work_year'].apply(employmentLength_to_int)"
   ],
   "outputs": [],
   "metadata": {}
  },
  {
   "cell_type": "code",
   "execution_count": 12,
   "source": [
    "data['work_year'].value_counts(dropna=False).sort_index()"
   ],
   "outputs": [
    {
     "output_type": "execute_result",
     "data": {
      "text/plain": [
       "0.0     1147\n",
       "1.0     1015\n",
       "2.0     1311\n",
       "3.0     1161\n",
       "4.0      884\n",
       "5.0      957\n",
       "6.0      706\n",
       "7.0      660\n",
       "8.0      682\n",
       "9.0      577\n",
       "10.0    5000\n",
       "NaN      900\n",
       "Name: work_year, dtype: int64"
      ]
     },
     "metadata": {},
     "execution_count": 12
    }
   ],
   "metadata": {}
  },
  {
   "cell_type": "markdown",
   "source": [
    "# <font color=yellow>'earlies_credit_mon'处理</font>"
   ],
   "metadata": {}
  },
  {
   "cell_type": "code",
   "execution_count": 13,
   "source": [
    "data['earlies_credit_mon'].sample(5)"
   ],
   "outputs": [
    {
     "output_type": "execute_result",
     "data": {
      "text/plain": [
       "10655    Jul-92\n",
       "12473     2-Nov\n",
       "13004    Nov-99\n",
       "14915    Aug-82\n",
       "13358    Jan-98\n",
       "Name: earlies_credit_mon, dtype: object"
      ]
     },
     "metadata": {},
     "execution_count": 13
    }
   ],
   "metadata": {}
  },
  {
   "cell_type": "code",
   "execution_count": 14,
   "source": [
    "data.drop('earlies_credit_mon', axis=1, inplace=True)\r\n",
    "data.shape"
   ],
   "outputs": [
    {
     "output_type": "execute_result",
     "data": {
      "text/plain": [
       "(15000, 38)"
      ]
     },
     "metadata": {},
     "execution_count": 14
    }
   ],
   "metadata": {}
  },
  {
   "cell_type": "markdown",
   "source": [
    "# <font color=pink>类别特征处理</font>"
   ],
   "metadata": {}
  },
  {
   "cell_type": "code",
   "execution_count": 15,
   "source": [
    "# 部分类别特征\r\n",
    "category_fea.remove('earlies_credit_mon')\r\n",
    "category_fea.remove('issue_date')\r\n",
    "for f in category_fea:\r\n",
    "    print(f, '类型数：', data[f].nunique())"
   ],
   "outputs": [
    {
     "output_type": "stream",
     "name": "stdout",
     "text": [
      "class 类型数： 7\n",
      "employer_type 类型数： 6\n",
      "industry 类型数： 14\n",
      "work_year 类型数： 11\n"
     ]
    }
   ],
   "metadata": {}
  },
  {
   "cell_type": "code",
   "execution_count": 16,
   "source": [
    "data[category_fea]"
   ],
   "outputs": [
    {
     "output_type": "execute_result",
     "data": {
      "text/html": [
       "<div>\n",
       "<style scoped>\n",
       "    .dataframe tbody tr th:only-of-type {\n",
       "        vertical-align: middle;\n",
       "    }\n",
       "\n",
       "    .dataframe tbody tr th {\n",
       "        vertical-align: top;\n",
       "    }\n",
       "\n",
       "    .dataframe thead th {\n",
       "        text-align: right;\n",
       "    }\n",
       "</style>\n",
       "<table border=\"1\" class=\"dataframe\">\n",
       "  <thead>\n",
       "    <tr style=\"text-align: right;\">\n",
       "      <th></th>\n",
       "      <th>class</th>\n",
       "      <th>employer_type</th>\n",
       "      <th>industry</th>\n",
       "      <th>work_year</th>\n",
       "    </tr>\n",
       "  </thead>\n",
       "  <tbody>\n",
       "    <tr>\n",
       "      <th>0</th>\n",
       "      <td>C</td>\n",
       "      <td>政府机构</td>\n",
       "      <td>金融业</td>\n",
       "      <td>3.0</td>\n",
       "    </tr>\n",
       "    <tr>\n",
       "      <th>1</th>\n",
       "      <td>C</td>\n",
       "      <td>政府机构</td>\n",
       "      <td>金融业</td>\n",
       "      <td>10.0</td>\n",
       "    </tr>\n",
       "    <tr>\n",
       "      <th>2</th>\n",
       "      <td>A</td>\n",
       "      <td>政府机构</td>\n",
       "      <td>公共服务、社会组织</td>\n",
       "      <td>10.0</td>\n",
       "    </tr>\n",
       "    <tr>\n",
       "      <th>3</th>\n",
       "      <td>A</td>\n",
       "      <td>世界五百强</td>\n",
       "      <td>文化和体育业</td>\n",
       "      <td>6.0</td>\n",
       "    </tr>\n",
       "    <tr>\n",
       "      <th>4</th>\n",
       "      <td>C</td>\n",
       "      <td>政府机构</td>\n",
       "      <td>信息传输、软件和信息技术服务业</td>\n",
       "      <td>0.0</td>\n",
       "    </tr>\n",
       "    <tr>\n",
       "      <th>...</th>\n",
       "      <td>...</td>\n",
       "      <td>...</td>\n",
       "      <td>...</td>\n",
       "      <td>...</td>\n",
       "    </tr>\n",
       "    <tr>\n",
       "      <th>14995</th>\n",
       "      <td>C</td>\n",
       "      <td>政府机构</td>\n",
       "      <td>信息传输、软件和信息技术服务业</td>\n",
       "      <td>0.0</td>\n",
       "    </tr>\n",
       "    <tr>\n",
       "      <th>14996</th>\n",
       "      <td>A</td>\n",
       "      <td>政府机构</td>\n",
       "      <td>房地产业</td>\n",
       "      <td>5.0</td>\n",
       "    </tr>\n",
       "    <tr>\n",
       "      <th>14997</th>\n",
       "      <td>A</td>\n",
       "      <td>上市企业</td>\n",
       "      <td>房地产业</td>\n",
       "      <td>10.0</td>\n",
       "    </tr>\n",
       "    <tr>\n",
       "      <th>14998</th>\n",
       "      <td>A</td>\n",
       "      <td>政府机构</td>\n",
       "      <td>文化和体育业</td>\n",
       "      <td>10.0</td>\n",
       "    </tr>\n",
       "    <tr>\n",
       "      <th>14999</th>\n",
       "      <td>A</td>\n",
       "      <td>普通企业</td>\n",
       "      <td>交通运输、仓储和邮政业</td>\n",
       "      <td>4.0</td>\n",
       "    </tr>\n",
       "  </tbody>\n",
       "</table>\n",
       "<p>15000 rows × 4 columns</p>\n",
       "</div>"
      ],
      "text/plain": [
       "      class employer_type         industry  work_year\n",
       "0         C          政府机构              金融业        3.0\n",
       "1         C          政府机构              金融业       10.0\n",
       "2         A          政府机构        公共服务、社会组织       10.0\n",
       "3         A         世界五百强           文化和体育业        6.0\n",
       "4         C          政府机构  信息传输、软件和信息技术服务业        0.0\n",
       "...     ...           ...              ...        ...\n",
       "14995     C          政府机构  信息传输、软件和信息技术服务业        0.0\n",
       "14996     A          政府机构             房地产业        5.0\n",
       "14997     A          上市企业             房地产业       10.0\n",
       "14998     A          政府机构           文化和体育业       10.0\n",
       "14999     A          普通企业      交通运输、仓储和邮政业        4.0\n",
       "\n",
       "[15000 rows x 4 columns]"
      ]
     },
     "metadata": {},
     "execution_count": 16
    }
   ],
   "metadata": {}
  },
  {
   "cell_type": "markdown",
   "source": [
    "# <font color=yellow>硬编码</font>"
   ],
   "metadata": {}
  },
  {
   "cell_type": "code",
   "execution_count": 17,
   "source": [
    "data['class'] = data['class'].map({'A':1,'B':2,'C':3,'D':4,'E':5,'F':6,'G':7})"
   ],
   "outputs": [],
   "metadata": {}
  },
  {
   "cell_type": "code",
   "execution_count": 18,
   "source": [
    "from sklearn.preprocessing import LabelEncoder\r\n",
    "for col in category_fea:\r\n",
    "    lbl = LabelEncoder().fit(data[col])\r\n",
    "    data[col] = lbl.transform(data[col])\r\n",
    "data[category_fea]"
   ],
   "outputs": [
    {
     "output_type": "execute_result",
     "data": {
      "text/html": [
       "<div>\n",
       "<style scoped>\n",
       "    .dataframe tbody tr th:only-of-type {\n",
       "        vertical-align: middle;\n",
       "    }\n",
       "\n",
       "    .dataframe tbody tr th {\n",
       "        vertical-align: top;\n",
       "    }\n",
       "\n",
       "    .dataframe thead th {\n",
       "        text-align: right;\n",
       "    }\n",
       "</style>\n",
       "<table border=\"1\" class=\"dataframe\">\n",
       "  <thead>\n",
       "    <tr style=\"text-align: right;\">\n",
       "      <th></th>\n",
       "      <th>class</th>\n",
       "      <th>employer_type</th>\n",
       "      <th>industry</th>\n",
       "      <th>work_year</th>\n",
       "    </tr>\n",
       "  </thead>\n",
       "  <tbody>\n",
       "    <tr>\n",
       "      <th>0</th>\n",
       "      <td>2</td>\n",
       "      <td>3</td>\n",
       "      <td>13</td>\n",
       "      <td>3</td>\n",
       "    </tr>\n",
       "    <tr>\n",
       "      <th>1</th>\n",
       "      <td>2</td>\n",
       "      <td>3</td>\n",
       "      <td>13</td>\n",
       "      <td>10</td>\n",
       "    </tr>\n",
       "    <tr>\n",
       "      <th>2</th>\n",
       "      <td>0</td>\n",
       "      <td>3</td>\n",
       "      <td>3</td>\n",
       "      <td>10</td>\n",
       "    </tr>\n",
       "    <tr>\n",
       "      <th>3</th>\n",
       "      <td>0</td>\n",
       "      <td>1</td>\n",
       "      <td>10</td>\n",
       "      <td>6</td>\n",
       "    </tr>\n",
       "    <tr>\n",
       "      <th>4</th>\n",
       "      <td>2</td>\n",
       "      <td>3</td>\n",
       "      <td>2</td>\n",
       "      <td>0</td>\n",
       "    </tr>\n",
       "    <tr>\n",
       "      <th>...</th>\n",
       "      <td>...</td>\n",
       "      <td>...</td>\n",
       "      <td>...</td>\n",
       "      <td>...</td>\n",
       "    </tr>\n",
       "    <tr>\n",
       "      <th>14995</th>\n",
       "      <td>2</td>\n",
       "      <td>3</td>\n",
       "      <td>2</td>\n",
       "      <td>0</td>\n",
       "    </tr>\n",
       "    <tr>\n",
       "      <th>14996</th>\n",
       "      <td>0</td>\n",
       "      <td>3</td>\n",
       "      <td>8</td>\n",
       "      <td>5</td>\n",
       "    </tr>\n",
       "    <tr>\n",
       "      <th>14997</th>\n",
       "      <td>0</td>\n",
       "      <td>0</td>\n",
       "      <td>8</td>\n",
       "      <td>10</td>\n",
       "    </tr>\n",
       "    <tr>\n",
       "      <th>14998</th>\n",
       "      <td>0</td>\n",
       "      <td>3</td>\n",
       "      <td>10</td>\n",
       "      <td>10</td>\n",
       "    </tr>\n",
       "    <tr>\n",
       "      <th>14999</th>\n",
       "      <td>0</td>\n",
       "      <td>4</td>\n",
       "      <td>0</td>\n",
       "      <td>4</td>\n",
       "    </tr>\n",
       "  </tbody>\n",
       "</table>\n",
       "<p>15000 rows × 4 columns</p>\n",
       "</div>"
      ],
      "text/plain": [
       "       class  employer_type  industry  work_year\n",
       "0          2              3        13          3\n",
       "1          2              3        13         10\n",
       "2          0              3         3         10\n",
       "3          0              1        10          6\n",
       "4          2              3         2          0\n",
       "...      ...            ...       ...        ...\n",
       "14995      2              3         2          0\n",
       "14996      0              3         8          5\n",
       "14997      0              0         8         10\n",
       "14998      0              3        10         10\n",
       "14999      0              4         0          4\n",
       "\n",
       "[15000 rows x 4 columns]"
      ]
     },
     "metadata": {},
     "execution_count": 18
    }
   ],
   "metadata": {}
  },
  {
   "cell_type": "markdown",
   "source": [
    "## 训练数据/测试数据准备"
   ],
   "metadata": {}
  },
  {
   "cell_type": "code",
   "execution_count": 19,
   "source": [
    "data.columns"
   ],
   "outputs": [
    {
     "output_type": "execute_result",
     "data": {
      "text/plain": [
       "Index(['loan_id', 'user_id', 'total_loan', 'year_of_loan', 'interest',\n",
       "       'monthly_payment', 'class', 'employer_type', 'industry', 'work_year',\n",
       "       'house_exist', 'censor_status', 'use', 'post_code', 'region',\n",
       "       'debt_loan_ratio', 'del_in_18month', 'scoring_low', 'scoring_high',\n",
       "       'known_outstanding_loan', 'known_dero', 'pub_dero_bankrup',\n",
       "       'recircle_b', 'recircle_u', 'initial_list_status', 'app_type', 'title',\n",
       "       'policy_code', 'f0', 'f1', 'f2', 'f3', 'f4', 'early_return',\n",
       "       'early_return_amount', 'early_return_amount_3mon', 'isDefault',\n",
       "       'issueDateDT'],\n",
       "      dtype='object')"
      ]
     },
     "metadata": {},
     "execution_count": 19
    }
   ],
   "metadata": {}
  },
  {
   "cell_type": "code",
   "execution_count": 20,
   "source": [
    "features = [f for f in data.columns if f not in ['loan_id', 'user_id', 'issueDate','isDefault']]\r\n",
    "\r\n",
    "train = data[data.isDefault.notnull()].reset_index(drop=True)\r\n",
    "test = data[data.isDefault.isnull()].reset_index(drop=True)\r\n",
    "print(train['isDefault'])\r\n",
    "\r\n",
    "x_train = train[features]\r\n",
    "x_test = test[features]\r\n",
    "\r\n",
    "y_train = train['isDefault']"
   ],
   "outputs": [
    {
     "output_type": "stream",
     "name": "stdout",
     "text": [
      "0       0.0\n",
      "1       0.0\n",
      "2       0.0\n",
      "3       0.0\n",
      "4       0.0\n",
      "       ... \n",
      "9995    0.0\n",
      "9996    0.0\n",
      "9997    0.0\n",
      "9998    0.0\n",
      "9999    0.0\n",
      "Name: isDefault, Length: 10000, dtype: float64\n"
     ]
    }
   ],
   "metadata": {}
  },
  {
   "cell_type": "code",
   "execution_count": 21,
   "source": [
    "y_train.shape"
   ],
   "outputs": [
    {
     "output_type": "execute_result",
     "data": {
      "text/plain": [
       "(10000,)"
      ]
     },
     "metadata": {},
     "execution_count": 21
    }
   ],
   "metadata": {}
  },
  {
   "cell_type": "markdown",
   "source": [
    "## 模型训练\n",
    "\n",
    "* 直接构建了一个函数，可以调用三种树模型，方便快捷"
   ],
   "metadata": {}
  },
  {
   "cell_type": "code",
   "execution_count": 22,
   "source": [
    "def cv_model(clf, train_x, train_y, test_x, clf_name):\r\n",
    "    folds = 5\r\n",
    "    seed = 2020\r\n",
    "    kf = KFold(n_splits=folds, shuffle=True, random_state=seed)\r\n",
    "\r\n",
    "    train = np.zeros(train_x.shape[0])\r\n",
    "    test = np.zeros(test_x.shape[0])\r\n",
    "\r\n",
    "    cv_scores = []\r\n",
    "\r\n",
    "    for i, (train_index, valid_index) in enumerate(kf.split(train_x, train_y)):\r\n",
    "        print('************************************ {} ************************************'.format(str(i+1)))\r\n",
    "        trn_x, trn_y, val_x, val_y = train_x.iloc[train_index], train_y[train_index], train_x.iloc[valid_index], train_y[valid_index]\r\n",
    "\r\n",
    "        if clf_name == \"lgb\":\r\n",
    "            train_matrix = clf.Dataset(trn_x, label=trn_y)\r\n",
    "            valid_matrix = clf.Dataset(val_x, label=val_y)\r\n",
    "\r\n",
    "            params = {\r\n",
    "                'boosting_type': 'gbdt',\r\n",
    "                'objective': 'binary',\r\n",
    "                'metric': 'auc',\r\n",
    "                'min_child_weight': 5,\r\n",
    "                'num_leaves': 2 ** 5,\r\n",
    "                'lambda_l2': 10,\r\n",
    "                'feature_fraction': 0.8,\r\n",
    "                'bagging_fraction': 0.8,\r\n",
    "                'bagging_freq': 4,\r\n",
    "                'learning_rate': 0.1,\r\n",
    "                'seed': 2020,\r\n",
    "                'nthread': 28,\r\n",
    "                'n_jobs':24,\r\n",
    "                'silent': True,\r\n",
    "                'verbose': -1,\r\n",
    "            }\r\n",
    "\r\n",
    "            model = clf.train(params, train_matrix, 50000, valid_sets=[train_matrix, valid_matrix], verbose_eval=200,early_stopping_rounds=200)\r\n",
    "            val_pred = model.predict(val_x, num_iteration=model.best_iteration)\r\n",
    "            test_pred = model.predict(test_x, num_iteration=model.best_iteration)\r\n",
    "            \r\n",
    "            # print(list(sorted(zip(features, model.feature_importance(\"gain\")), key=lambda x: x[1], reverse=True))[:20])\r\n",
    "                \r\n",
    "        if clf_name == \"xgb\":\r\n",
    "            train_matrix = clf.DMatrix(trn_x , label=trn_y)\r\n",
    "            valid_matrix = clf.DMatrix(val_x , label=val_y)\r\n",
    "            test_matrix = clf.DMatrix(test_x)\r\n",
    "            \r\n",
    "            params = {'booster': 'gbtree',\r\n",
    "                      'objective': 'binary:logistic',\r\n",
    "                      'eval_metric': 'auc',\r\n",
    "                      'gamma': 1,\r\n",
    "                      'min_child_weight': 1.5,\r\n",
    "                      'max_depth': 5,\r\n",
    "                      'lambda': 10,\r\n",
    "                      'subsample': 0.7,\r\n",
    "                      'colsample_bytree': 0.7,\r\n",
    "                      'colsample_bylevel': 0.7,\r\n",
    "                      'eta': 0.04,\r\n",
    "                      'tree_method': 'exact',\r\n",
    "                      'seed': 2020,\r\n",
    "                      'nthread': 36,\r\n",
    "                      \"silent\": True,\r\n",
    "                      }\r\n",
    "            \r\n",
    "            watchlist = [(train_matrix, 'train'),(valid_matrix, 'eval')]\r\n",
    "            \r\n",
    "            model = clf.train(params, train_matrix, num_boost_round=50000, evals=watchlist, verbose_eval=200, early_stopping_rounds=200)\r\n",
    "            val_pred  = model.predict(valid_matrix, ntree_limit=model.best_ntree_limit)\r\n",
    "            test_pred = model.predict(test_matrix , ntree_limit=model.best_ntree_limit)\r\n",
    "                 \r\n",
    "        if clf_name == \"cat\":\r\n",
    "            params = {'learning_rate': 0.05, 'depth': 5, 'l2_leaf_reg': 10, 'bootstrap_type': 'Bernoulli',\r\n",
    "                      'od_type': 'Iter', 'od_wait': 50, 'random_seed': 11, 'allow_writing_files': False}\r\n",
    "            \r\n",
    "            model = clf(iterations=20000, **params)\r\n",
    "            model.fit(trn_x, trn_y, eval_set=(val_x, val_y),\r\n",
    "                      cat_features=[], use_best_model=True, verbose=500)\r\n",
    "            \r\n",
    "            val_pred  = model.predict(val_x)\r\n",
    "            test_pred = model.predict(test_x)\r\n",
    "            \r\n",
    "        train[valid_index] = val_pred\r\n",
    "        test = test_pred / kf.n_splits\r\n",
    "        cv_scores.append(roc_auc_score(val_y, val_pred))\r\n",
    "        \r\n",
    "        print(cv_scores)\r\n",
    "       \r\n",
    "    print(\"%s_scotrainre_list:\" % clf_name, cv_scores)\r\n",
    "    print(\"%s_score_mean:\" % clf_name, np.mean(cv_scores))\r\n",
    "    print(\"%s_score_std:\" % clf_name, np.std(cv_scores))\r\n",
    "    return train, test"
   ],
   "outputs": [],
   "metadata": {}
  },
  {
   "cell_type": "code",
   "execution_count": 23,
   "source": [
    "def lgb_model(x_train, y_train, x_test):\r\n",
    "    lgb_train, lgb_test = cv_model(lgb, x_train, y_train, x_test, \"lgb\")\r\n",
    "    return lgb_train, lgb_test\r\n",
    "\r\n",
    "def xgb_model(x_train, y_train, x_test):\r\n",
    "    xgb_train, xgb_test = cv_model(xgb, x_train, y_train, x_test, \"xgb\")\r\n",
    "    return xgb_train, xgb_test\r\n",
    "\r\n",
    "def cat_model(x_train, y_train, x_test):\r\n",
    "    cat_train, cat_test = cv_model(CatBoostRegressor, x_train, y_train, x_test, \"cat\") \r\n",
    "    return cat_train, cat_test"
   ],
   "outputs": [],
   "metadata": {}
  },
  {
   "cell_type": "code",
   "execution_count": 24,
   "source": [
    "lgb_train, lgb_test = lgb_model(x_train, y_train, x_test)"
   ],
   "outputs": [
    {
     "output_type": "stream",
     "name": "stdout",
     "text": [
      "************************************ 1 ************************************\n",
      "[LightGBM] [Warning] num_threads is set with nthread=28, will be overridden by n_jobs=24. Current value: num_threads=24\n",
      "[LightGBM] [Warning] Unknown parameter: silent\n",
      "Training until validation scores don't improve for 200 rounds\n",
      "[200]\ttraining's auc: 0.994107\tvalid_1's auc: 0.868743\n",
      "Early stopping, best iteration is:\n",
      "[35]\ttraining's auc: 0.931233\tvalid_1's auc: 0.878123\n",
      "[0.8781231723658007]\n",
      "************************************ 2 ************************************\n",
      "[LightGBM] [Warning] num_threads is set with nthread=28, will be overridden by n_jobs=24. Current value: num_threads=24\n",
      "[LightGBM] [Warning] Unknown parameter: silent\n",
      "Training until validation scores don't improve for 200 rounds\n",
      "[200]\ttraining's auc: 0.99392\tvalid_1's auc: 0.880656\n",
      "Early stopping, best iteration is:\n",
      "[54]\ttraining's auc: 0.947523\tvalid_1's auc: 0.892191\n",
      "[0.8781231723658007, 0.8921910664239693]\n",
      "************************************ 3 ************************************\n",
      "[LightGBM] [Warning] num_threads is set with nthread=28, will be overridden by n_jobs=24. Current value: num_threads=24\n",
      "[LightGBM] [Warning] Unknown parameter: silent\n",
      "Training until validation scores don't improve for 200 rounds\n",
      "[200]\ttraining's auc: 0.995632\tvalid_1's auc: 0.860456\n",
      "Early stopping, best iteration is:\n",
      "[49]\ttraining's auc: 0.945953\tvalid_1's auc: 0.871299\n",
      "[0.8781231723658007, 0.8921910664239693, 0.8712993590605531]\n",
      "************************************ 4 ************************************\n",
      "[LightGBM] [Warning] num_threads is set with nthread=28, will be overridden by n_jobs=24. Current value: num_threads=24\n",
      "[LightGBM] [Warning] Unknown parameter: silent\n",
      "Training until validation scores don't improve for 200 rounds\n",
      "[200]\ttraining's auc: 0.994536\tvalid_1's auc: 0.876384\n",
      "Early stopping, best iteration is:\n",
      "[24]\ttraining's auc: 0.921519\tvalid_1's auc: 0.884457\n",
      "[0.8781231723658007, 0.8921910664239693, 0.8712993590605531, 0.8844570553839365]\n",
      "************************************ 5 ************************************\n",
      "[LightGBM] [Warning] num_threads is set with nthread=28, will be overridden by n_jobs=24. Current value: num_threads=24\n",
      "[LightGBM] [Warning] Unknown parameter: silent\n",
      "Training until validation scores don't improve for 200 rounds\n",
      "[200]\ttraining's auc: 0.994428\tvalid_1's auc: 0.868084\n",
      "Early stopping, best iteration is:\n",
      "[28]\ttraining's auc: 0.92526\tvalid_1's auc: 0.877692\n",
      "[0.8781231723658007, 0.8921910664239693, 0.8712993590605531, 0.8844570553839365, 0.877692068933895]\n",
      "lgb_scotrainre_list: [0.8781231723658007, 0.8921910664239693, 0.8712993590605531, 0.8844570553839365, 0.877692068933895]\n",
      "lgb_score_mean: 0.880752544433631\n",
      "lgb_score_std: 0.007073980607235646\n"
     ]
    }
   ],
   "metadata": {}
  },
  {
   "cell_type": "code",
   "execution_count": 25,
   "source": [
    "xgb_train, xgb_test = xgb_model(x_train, y_train, x_test)"
   ],
   "outputs": [
    {
     "output_type": "stream",
     "name": "stdout",
     "text": [
      "************************************ 1 ************************************\n",
      "[23:19:49] WARNING: C:/Users/Administrator/workspace/xgboost-win64_release_1.4.0/src/learner.cc:573: \n",
      "Parameters: { \"silent\" } might not be used.\n",
      "\n",
      "  This may not be accurate due to some parameters are only used in language bindings but\n",
      "  passed down to XGBoost core.  Or some parameters are not used but slip through this\n",
      "  verification. Please open an issue if you find above cases.\n",
      "\n",
      "\n",
      "[0]\ttrain-auc:0.86040\teval-auc:0.85525\n",
      "[200]\ttrain-auc:0.93492\teval-auc:0.87669\n",
      "[362]\ttrain-auc:0.95951\teval-auc:0.87463\n",
      "[0.8774161786806238]\n",
      "************************************ 2 ************************************\n",
      "[23:19:51] WARNING: C:/Users/Administrator/workspace/xgboost-win64_release_1.4.0/src/learner.cc:573: \n",
      "Parameters: { \"silent\" } might not be used.\n",
      "\n",
      "  This may not be accurate due to some parameters are only used in language bindings but\n",
      "  passed down to XGBoost core.  Or some parameters are not used but slip through this\n",
      "  verification. Please open an issue if you find above cases.\n",
      "\n",
      "\n",
      "[0]\ttrain-auc:0.85992\teval-auc:0.86898\n",
      "[200]\ttrain-auc:0.93410\teval-auc:0.89263\n",
      "[301]\ttrain-auc:0.95127\teval-auc:0.88867\n",
      "[0.8774161786806238, 0.8929801941579265]\n",
      "************************************ 3 ************************************\n",
      "[23:19:53] WARNING: C:/Users/Administrator/workspace/xgboost-win64_release_1.4.0/src/learner.cc:573: \n",
      "Parameters: { \"silent\" } might not be used.\n",
      "\n",
      "  This may not be accurate due to some parameters are only used in language bindings but\n",
      "  passed down to XGBoost core.  Or some parameters are not used but slip through this\n",
      "  verification. Please open an issue if you find above cases.\n",
      "\n",
      "\n",
      "[0]\ttrain-auc:0.86207\teval-auc:0.84444\n",
      "[200]\ttrain-auc:0.93731\teval-auc:0.87234\n",
      "[334]\ttrain-auc:0.95844\teval-auc:0.86979\n",
      "[0.8774161786806238, 0.8929801941579265, 0.8743740755681055]\n",
      "************************************ 4 ************************************\n",
      "[23:19:55] WARNING: C:/Users/Administrator/workspace/xgboost-win64_release_1.4.0/src/learner.cc:573: \n",
      "Parameters: { \"silent\" } might not be used.\n",
      "\n",
      "  This may not be accurate due to some parameters are only used in language bindings but\n",
      "  passed down to XGBoost core.  Or some parameters are not used but slip through this\n",
      "  verification. Please open an issue if you find above cases.\n",
      "\n",
      "\n",
      "[0]\ttrain-auc:0.86198\teval-auc:0.85279\n",
      "[200]\ttrain-auc:0.93537\teval-auc:0.88434\n",
      "[311]\ttrain-auc:0.95301\teval-auc:0.88248\n",
      "[0.8774161786806238, 0.8929801941579265, 0.8743740755681055, 0.8865101638349515]\n",
      "************************************ 5 ************************************\n",
      "[23:19:58] WARNING: C:/Users/Administrator/workspace/xgboost-win64_release_1.4.0/src/learner.cc:573: \n",
      "Parameters: { \"silent\" } might not be used.\n",
      "\n",
      "  This may not be accurate due to some parameters are only used in language bindings but\n",
      "  passed down to XGBoost core.  Or some parameters are not used but slip through this\n",
      "  verification. Please open an issue if you find above cases.\n",
      "\n",
      "\n",
      "[0]\ttrain-auc:0.86131\teval-auc:0.85910\n",
      "[200]\ttrain-auc:0.93570\teval-auc:0.88235\n",
      "[400]\ttrain-auc:0.96540\teval-auc:0.87992\n",
      "[417]\ttrain-auc:0.96703\teval-auc:0.87953\n",
      "[0.8774161786806238, 0.8929801941579265, 0.8743740755681055, 0.8865101638349515, 0.8829774476400089]\n",
      "xgb_scotrainre_list: [0.8774161786806238, 0.8929801941579265, 0.8743740755681055, 0.8865101638349515, 0.8829774476400089]\n",
      "xgb_score_mean: 0.8828516119763232\n",
      "xgb_score_std: 0.006593960448632876\n"
     ]
    }
   ],
   "metadata": {}
  },
  {
   "cell_type": "code",
   "execution_count": 26,
   "source": [
    "cat_train, cat_test = cat_model(x_train, y_train, x_test)"
   ],
   "outputs": [
    {
     "output_type": "stream",
     "name": "stdout",
     "text": [
      "************************************ 1 ************************************\n",
      "0:\tlearn: 0.3706852\ttest: 0.3628935\tbest: 0.3628935 (0)\ttotal: 65.5ms\tremaining: 21m 50s\n",
      "Stopped by overfitting detector  (50 iterations wait)\n",
      "\n",
      "bestTest = 0.3124762561\n",
      "bestIteration = 65\n",
      "\n",
      "Shrink model to first 66 iterations.\n",
      "[0.8749417007825051]\n",
      "************************************ 2 ************************************\n",
      "0:\tlearn: 0.3696463\ttest: 0.3669898\tbest: 0.3669898 (0)\ttotal: 3.88ms\tremaining: 1m 17s\n",
      "Stopped by overfitting detector  (50 iterations wait)\n",
      "\n",
      "bestTest = 0.3075200572\n",
      "bestIteration = 245\n",
      "\n",
      "Shrink model to first 246 iterations.\n",
      "[0.8749417007825051, 0.8928519834734623]\n",
      "************************************ 3 ************************************\n",
      "0:\tlearn: 0.3692642\ttest: 0.3684896\tbest: 0.3684896 (0)\ttotal: 3.32ms\tremaining: 1m 6s\n",
      "Stopped by overfitting detector  (50 iterations wait)\n",
      "\n",
      "bestTest = 0.3142670668\n",
      "bestIteration = 183\n",
      "\n",
      "Shrink model to first 184 iterations.\n",
      "[0.8749417007825051, 0.8928519834734623, 0.8747057505266461]\n",
      "************************************ 4 ************************************\n",
      "0:\tlearn: 0.3676118\ttest: 0.3759026\tbest: 0.3759026 (0)\ttotal: 4.68ms\tremaining: 1m 33s\n",
      "Stopped by overfitting detector  (50 iterations wait)\n",
      "\n",
      "bestTest = 0.3143518238\n",
      "bestIteration = 309\n",
      "\n",
      "Shrink model to first 310 iterations.\n",
      "[0.8749417007825051, 0.8928519834734623, 0.8747057505266461, 0.8824056707855252]\n",
      "************************************ 5 ************************************\n",
      "0:\tlearn: 0.3685083\ttest: 0.3714131\tbest: 0.3714131 (0)\ttotal: 4.9ms\tremaining: 1m 37s\n",
      "Stopped by overfitting detector  (50 iterations wait)\n",
      "\n",
      "bestTest = 0.3132644183\n",
      "bestIteration = 253\n",
      "\n",
      "Shrink model to first 254 iterations.\n",
      "[0.8749417007825051, 0.8928519834734623, 0.8747057505266461, 0.8824056707855252, 0.8815136957794566]\n",
      "cat_scotrainre_list: [0.8749417007825051, 0.8928519834734623, 0.8747057505266461, 0.8824056707855252, 0.8815136957794566]\n",
      "cat_score_mean: 0.8812837602695189\n",
      "cat_score_std: 0.006612522549754533\n"
     ]
    }
   ],
   "metadata": {}
  },
  {
   "cell_type": "markdown",
   "source": [
    "# 模型调参\n",
    "\n",
    "## 贪心调参\n",
    "先使用当前对模型影响最大的参数进行调优，达到当前参数下的模型最优化，再使用对模型影响次之的参数进行调优，如此下去，直到所有的参数调整完毕。\n",
    "这个方法的缺点就是可能会调到局部最优而不是全局最优，但是只需要一步一步的进行参数最优化调试即可，容易理解。\n",
    "\n",
    "需要注意的是在树模型中参数调整的顺序，也就是各个参数对模型的影响程度，这里列举一下日常调参过程中常用的参数和调参顺序：\n",
    "* ①：max_depth、num_leaves\n",
    "* ②：min_data_in_leaf、min_child_weight\n",
    "* ③：bagging_fraction、 feature_fraction、bagging_freq\n",
    "* ④：reg_lambda、reg_alpha\n",
    "* ⑤：min_split_gain"
   ],
   "metadata": {}
  },
  {
   "cell_type": "code",
   "execution_count": 27,
   "source": [
    "# from sklearn.model_selection import cross_val_score\r\n",
    "\r\n",
    "# # 调objective\r\n",
    "# best_obj = dict()\r\n",
    "# for obj in objective:\r\n",
    "#     model = LGBMRegressor(objective=obj)\r\n",
    "#     \"\"\"预测并计算roc的相关指标\"\"\"\r\n",
    "#     score = cross_val_score(model, X_train, y_train, cv=5, scoring='roc_auc').mean()\r\n",
    "#     best_obj[obj] = score\r\n",
    "\r\n",
    "# # num_leaves\r\n",
    "# best_leaves = dict()\r\n",
    "# for leaves in num_leaves:\r\n",
    "#     model = LGBMRegressor(objective=min(best_obj.items(), key=lambda x:x[1])[0], num_leaves=leaves)\r\n",
    "#     \"\"\"预测并计算roc的相关指标\"\"\"\r\n",
    "#     score = cross_val_score(model, X_train, y_train, cv=5, scoring='roc_auc').mean()\r\n",
    "#     best_leaves[leaves] = score\r\n",
    "\r\n",
    "# # max_depth\r\n",
    "# best_depth = dict()\r\n",
    "# for depth in max_depth:\r\n",
    "#     model = LGBMRegressor(objective=min(best_obj.items(), key=lambda x:x[1])[0],\r\n",
    "#                           num_leaves=min(best_leaves.items(), key=lambda x:x[1])[0],\r\n",
    "#                           max_depth=depth)\r\n",
    "#     \"\"\"预测并计算roc的相关指标\"\"\"\r\n",
    "#     score = cross_val_score(model, X_train, y_train, cv=5, scoring='roc_auc').mean()\r\n",
    "#     best_depth[depth] = score"
   ],
   "outputs": [],
   "metadata": {}
  },
  {
   "cell_type": "code",
   "execution_count": 27,
   "source": [
    "rh_test = lgb_test*0.35 + xgb_test*0.35 + cat_test*0.3"
   ],
   "outputs": [],
   "metadata": {}
  },
  {
   "cell_type": "code",
   "execution_count": 28,
   "source": [
    "rh_test"
   ],
   "outputs": [
    {
     "output_type": "execute_result",
     "data": {
      "text/plain": [
       "array([0.00334499, 0.01356397, 0.0015958 , ..., 0.00182963, 0.00459576,\n",
       "       0.00225359])"
      ]
     },
     "metadata": {},
     "execution_count": 28
    }
   ],
   "metadata": {}
  },
  {
   "cell_type": "code",
   "execution_count": 29,
   "source": [
    "data_test['isDefault'] = rh_test"
   ],
   "outputs": [],
   "metadata": {}
  },
  {
   "cell_type": "code",
   "execution_count": 30,
   "source": [
    "data_test.rename({'loan_id': 'id'}, axis=1)[['id','isDefault']].to_csv('E:/TianChi/个贷违约预测/result/result00.csv', index=None)"
   ],
   "outputs": [],
   "metadata": {}
  },
  {
   "cell_type": "code",
   "execution_count": 33,
   "source": [
    "data_test['loan_id']"
   ],
   "outputs": [
    {
     "output_type": "execute_result",
     "data": {
      "text/plain": [
       "0       1000575\n",
       "1       1028125\n",
       "2       1010694\n",
       "3       1026712\n",
       "4       1002895\n",
       "         ...   \n",
       "4995    1008856\n",
       "4996    1016651\n",
       "4997    1024140\n",
       "4998    1014316\n",
       "4999    1012946\n",
       "Name: loan_id, Length: 5000, dtype: int64"
      ]
     },
     "metadata": {},
     "execution_count": 33
    }
   ],
   "metadata": {}
  },
  {
   "cell_type": "code",
   "execution_count": 34,
   "source": [
    "data_test['isDefault']"
   ],
   "outputs": [
    {
     "output_type": "execute_result",
     "data": {
      "text/plain": [
       "0       0.003345\n",
       "1       0.013564\n",
       "2       0.001596\n",
       "3       0.000997\n",
       "4       0.002541\n",
       "          ...   \n",
       "4995    0.068051\n",
       "4996    0.003975\n",
       "4997    0.001830\n",
       "4998    0.004596\n",
       "4999    0.002254\n",
       "Name: isDefault, Length: 5000, dtype: float64"
      ]
     },
     "metadata": {},
     "execution_count": 34
    }
   ],
   "metadata": {}
  },
  {
   "cell_type": "code",
   "execution_count": null,
   "source": [],
   "outputs": [],
   "metadata": {}
  },
  {
   "cell_type": "code",
   "execution_count": null,
   "source": [],
   "outputs": [],
   "metadata": {}
  }
 ]
}