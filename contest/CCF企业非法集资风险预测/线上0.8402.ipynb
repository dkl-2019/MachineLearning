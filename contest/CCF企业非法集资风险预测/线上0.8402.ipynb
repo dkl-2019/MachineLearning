{
 "cells": [
  {
   "cell_type": "code",
   "execution_count": 1,
   "metadata": {},
   "outputs": [
    {
     "name": "stderr",
     "output_type": "stream",
     "text": [
      "C:\\ProgramData\\Anaconda3\\lib\\site-packages\\dask\\dataframe\\utils.py:14: FutureWarning: pandas.util.testing is deprecated. Use the functions in the public API at pandas.testing instead.\n",
      "  import pandas.util.testing as tm\n",
      "C:\\ProgramData\\Anaconda3\\lib\\site-packages\\sklearn\\ensemble\\weight_boosting.py:29: DeprecationWarning: numpy.core.umath_tests is an internal NumPy module and should not be imported. It will be removed in a future NumPy release.\n",
      "  from numpy.core.umath_tests import inner1d\n"
     ]
    }
   ],
   "source": [
    "import warnings\n",
    "from tqdm import tqdm\n",
    "import numpy as np\n",
    "import pandas as pd\n",
    "import xgboost as xgb\n",
    "import lightgbm as lgb\n",
    "import catboost as cab\n",
    "from sklearn.ensemble import RandomForestClassifier\n",
    "from sklearn.model_selection import StratifiedKFold\n",
    "from sklearn.model_selection import train_test_split\n",
    "from sklearn.metrics import f1_score,precision_recall_fscore_support,roc_curve,auc,roc_auc_score\n",
    "from sklearn.model_selection import GridSearchCV\n",
    "from matplotlib import pyplot as plt\n",
    "from sklearn.ensemble import RandomForestClassifier\n",
    "import pandas as pd\n",
    "import gc\n",
    "#from featexp import get_univariate_plots#用于特征筛选，需要先安装featexp\n",
    "warnings.filterwarnings(\"ignore\")\n",
    "plt.rcParams['font.sans-serif']=['Simhei']\n",
    "plt.rcParams['axes.unicode_minus']=False\n",
    "import json\n",
    "from datetime import datetime"
   ]
  },
  {
   "cell_type": "code",
   "execution_count": 2,
   "metadata": {},
   "outputs": [],
   "source": [
    "entprise_train = pd.read_csv('train/entprise_info.csv',engine='python')\n",
    "base_info = pd.read_csv('train/base_info.csv',engine='python',encoding='utf-8')\n",
    "entprise_test = pd.read_csv('entprise_evaluate.csv')\n",
    "reccap_predict = pd.read_csv('reccap_predict.csv')['reccap']\n",
    "empnum_predict = pd.read_csv('empnum_predict.csv')['empnum']"
   ]
  },
  {
   "cell_type": "code",
   "execution_count": 3,
   "metadata": {},
   "outputs": [],
   "source": [
    "other_info = pd.read_csv('train/'+ 'other_info.csv')\n",
    "other_info = other_info[~other_info['id'].duplicated()]\n",
    "other_info['other_SUM'] = other_info[['legal_judgment_num', 'brand_num', 'patent_num']].sum(1)\n",
    "other_info['other_NULL_SUM'] = other_info[['legal_judgment_num', 'brand_num', 'patent_num']].isnull().astype(int).sum(1)"
   ]
  },
  {
   "cell_type": "code",
   "execution_count": 4,
   "metadata": {},
   "outputs": [],
   "source": [
    "news_info = pd.read_csv('train/' + 'news_info.csv')\n",
    "news_info['public_date'] = news_info['public_date'].apply(lambda x: x if '-' in str(x) else np.nan)\n",
    "news_info['public_date'] = pd.to_datetime(news_info['public_date'])\n",
    "news_info['public_date'] = (datetime.now() - news_info['public_date']).dt.days\n",
    "\n",
    "news_info_df = news_info.groupby('id').agg({'public_date': ['count','max','min','mean']}).reset_index()\n",
    "news_info_df.columns = ['id', 'public_date_COUNT', 'public_MAX', 'public_MIN', 'public_MEAN']\n",
    "news_info_df2 = pd.pivot_table(news_info, index='id', columns='positive_negtive', aggfunc='count').reset_index()\n",
    "news_info_df2.columns = ['id', 'news_COUNT1', 'news_COUNT2', 'news_COUNT3']\n",
    "news_info_df = pd.merge(news_info_df, news_info_df2)"
   ]
  },
  {
   "cell_type": "code",
   "execution_count": 5,
   "metadata": {},
   "outputs": [],
   "source": [
    "annual_report_info = pd.read_csv('train/' + 'annual_report_info.csv')\n",
    "annual_report_info_df = annual_report_info.groupby('id').agg({\n",
    "    'ANCHEYEAR': ['max'],\n",
    "    'STATE': ['max'],\n",
    "    'FUNDAM': ['max'],\n",
    "    'EMPNUM': ['max'],\n",
    "    'UNEEMPLNUM': ['max', 'sum']\n",
    "})\n",
    "annual_report_info_df.columns = pd.Index(['PREV_' + e[0] + \"_\" + e[1].upper() \n",
    "                                for e in annual_report_info_df.columns.tolist()])\n",
    "annual_report_info_df = annual_report_info_df.reset_index()"
   ]
  },
  {
   "cell_type": "code",
   "execution_count": 21,
   "metadata": {},
   "outputs": [],
   "source": [
    "change_info = pd.read_csv('train/' + 'change_info.csv')\n",
    "change_info['bgrq'] = (change_info['bgrq'] / 10000000000).astype(int)\n",
    "\n",
    "change_info_df = change_info.groupby('id').agg({\n",
    "    'bgxmdm': ['count', 'nunique'],\n",
    "    'bgq':['nunique'],\n",
    "    'bgh': ['nunique'],\n",
    "    'bgrq': ['nunique'],\n",
    "})\n",
    "change_info_df.columns = pd.Index(['changeinfo_' + e[0] + \"_\" + e[1].upper() \n",
    "                                for e in change_info_df.columns.tolist()])\n",
    "change_info_df = change_info_df.reset_index()"
   ]
  },
  {
   "cell_type": "code",
   "execution_count": 22,
   "metadata": {},
   "outputs": [],
   "source": [
    "tax_info = pd.read_csv('train/' + 'tax_info.csv')\n",
    "tax_info_df = tax_info.groupby('id').agg({\n",
    "    'TAX_CATEGORIES': ['count'],\n",
    "    'TAX_ITEMS': ['count'],\n",
    "    'TAXATION_BASIS': ['count'],\n",
    "    'TAX_AMOUNT': ['max', 'min', 'mean'],\n",
    "})\n",
    "tax_info_df.columns = pd.Index(['PREV_' + e[0] + \"_\" + e[1].upper() \n",
    "                                for e in tax_info_df.columns.tolist()])\n",
    "tax_info_df = tax_info_df.reset_index()"
   ]
  },
  {
   "cell_type": "code",
   "execution_count": 23,
   "metadata": {},
   "outputs": [],
   "source": [
    "entprise = pd.concat([entprise_train,entprise_test])\n",
    "data = pd.merge(entprise,base_info,on='id')\n",
    "data = pd.merge(data,other_info,on='id',how='left')\n",
    "data = pd.merge(data,news_info_df,on='id',how='left')\n",
    "data = pd.merge(data,annual_report_info_df,on='id',how='left')\n",
    "data = pd.merge(data,change_info_df,on='id',how='left')\n",
    "data = pd.merge(data,tax_info_df,on='id',how='left')\n",
    "data.drop(['ptbusscope','midpreindcode','score'],axis=1,inplace=True)"
   ]
  },
  {
   "cell_type": "code",
   "execution_count": 24,
   "metadata": {},
   "outputs": [],
   "source": [
    "data['enttypeitem'] = data['enttypegb']//10*10\n",
    "data['enttypeminu'] = data['enttypegb']"
   ]
  },
  {
   "cell_type": "code",
   "execution_count": 25,
   "metadata": {},
   "outputs": [],
   "source": [
    "data['regcap'] = data['regcap'].fillna(data['regcap'].mean())\n",
    "data['reccap'] = reccap_predict\n",
    "data['empnum'] = empnum_predict\n",
    "data['reccap'] = data['reccap']"
   ]
  },
  {
   "cell_type": "code",
   "execution_count": 26,
   "metadata": {},
   "outputs": [],
   "source": [
    "data['opform'].fillna(10,inplace=True)\n",
    "data['opform'] = data['opform'].astype(str)\n",
    "from sklearn.preprocessing import LabelEncoder\n",
    "labelencoder1 = LabelEncoder()\n",
    "labelencoder2 = LabelEncoder()\n",
    "labelencoder3 = LabelEncoder()\n",
    "labelencoder4 = LabelEncoder()\n",
    "data['opform'] = labelencoder1.fit_transform(data['opform'])\n",
    "data['oploc'] = labelencoder2.fit_transform(data['oploc'])\n",
    "data['industryphy'] = labelencoder3.fit_transform(data['industryphy'])\n",
    "data['oplocdistrict'] = labelencoder4.fit_transform(data['oplocdistrict'])\n",
    "def opto_process(x):\n",
    "    if len(x)>3:\n",
    "        return x[:4]\n",
    "    else:\n",
    "        return x\n",
    "data['opfrom'] = data['opfrom'].map(lambda x:x[:4])\n",
    "data['opto'].fillna('nan',inplace=True)\n",
    "data['opto'] = data['opto'].map(opto_process)\n",
    "data['opfrom'] = data['opfrom'].astype(int)\n",
    "data['opto'] = data['opto'].astype(float)\n",
    "data['industryco'] = data['industryco'].fillna(data['industryco'].mean())\n",
    "data.loc[data['opto'].isnull(),\"opto\"] = data[data['opto'].isnull()]['opfrom']+50.0\n",
    "data['enttpe_year'] = data['opfrom'] - data['opto']\n",
    "data['opscope'] = data['opscope'].apply(lambda x:x.replace(\"、\",\"/\").replace(\"；\",\"/\").replace(\"，\",\"/\").replace(\"。\",\"/\"))\n",
    "data['opscope'] = data['opscope'].apply(lambda x:x.replace(\"（\",\"/\").replace(\"）\",\"/\").replace(\"，\",\"/\").replace(\"。\",\"/\"))\n",
    "data['opscope'] = data['opscope'].apply(lambda x:\"\".join(x.split(\"/\")))\n",
    "import jieba\n",
    "data['opscope_1'] = data['opscope'].apply(lambda x:jieba.lcut(x,cut_all=True))\n",
    "from collections import Counter\n",
    "def jieba_func(x):\n",
    "    str1 = list(Counter(x).keys())[0]\n",
    "    str2 = list(Counter(x).keys())[1]\n",
    "    count = str1+str2\n",
    "    return count\n",
    "data['count_opscope'] = data['opscope'].apply(lambda x:jieba_func(x))\n",
    "le6 = LabelEncoder()\n",
    "data['opscope_length'] = data['opscope_1'].apply(lambda x:len(x))\n",
    "# data['opscope'] = data['opscope'].apply(lambda x:x.split('/')[-2:])\n",
    "data['opscope_label'] = le6.fit_transform(data['count_opscope'])"
   ]
  },
  {
   "cell_type": "code",
   "execution_count": 27,
   "metadata": {},
   "outputs": [
    {
     "name": "stdout",
     "output_type": "stream",
     "text": [
      "分桶完毕.................\n"
     ]
    }
   ],
   "source": [
    "def bucket(name,bucket_len):\n",
    "    gap_list=[data[name].quantile(i/bucket_len) for i in range(bucket_len+1)]\n",
    "    len_data=len(data[name])\n",
    "    new_col=[]\n",
    "    for i in data[name].values:\n",
    "        for j in range(len(gap_list)):\n",
    "            if gap_list[j]>=i:\n",
    "                encode=j\n",
    "                break\n",
    "        new_col.append(encode)\n",
    "    return new_col\n",
    "#注册资本_实缴资本\n",
    "data['regcap_reccap']=data['regcap']-data['reccap']\n",
    "#注册资本分桶\n",
    "data['regcap']=data['regcap'].fillna(data['regcap'].median())\n",
    "data['bucket_regcap']=bucket('regcap',5)\n",
    "#实缴资本分桶\n",
    "data['reccap']=data['reccap'].fillna(data['reccap'].median())\n",
    "data['bucket_reccap']=bucket('reccap',5)\n",
    "#注册资本_实缴资本分桶\n",
    "data['regcap_reccap']=data['regcap_reccap'].fillna(data['regcap_reccap'].median())\n",
    "data['bucket_regcap_reccap']=bucket('regcap_reccap',5)\n",
    "print('分桶完毕.................')"
   ]
  },
  {
   "cell_type": "code",
   "execution_count": 28,
   "metadata": {},
   "outputs": [],
   "source": [
    "# data['dom'] = data['dom'].apply(lambda x:x[:16])\n",
    "le7 = LabelEncoder()\n",
    "data['dom'] = le7.fit_transform(data['dom'])"
   ]
  },
  {
   "cell_type": "code",
   "execution_count": 29,
   "metadata": {},
   "outputs": [
    {
     "name": "stderr",
     "output_type": "stream",
     "text": [
      "100%|████████████████████████████████████████████████████████████████████████| 24865/24865 [00:00<00:00, 132140.34it/s]\n",
      "100%|████████████████████████████████████████████████████████████████████████| 24865/24865 [00:00<00:00, 135012.52it/s]\n",
      "100%|████████████████████████████████████████████████████████████████████████| 24865/24865 [00:00<00:00, 132846.95it/s]\n",
      "100%|████████████████████████████████████████████████████████████████████████| 24865/24865 [00:00<00:00, 132140.34it/s]\n",
      "100%|████████████████████████████████████████████████████████████████████████| 24865/24865 [00:00<00:00, 132846.79it/s]\n",
      "100%|████████████████████████████████████████████████████████████████████████| 24865/24865 [00:00<00:00, 132140.18it/s]\n"
     ]
    }
   ],
   "source": [
    "from tqdm import tqdm\n",
    "def cross_two(name_1,name_2):\n",
    "    new_col=[]\n",
    "    encode=0\n",
    "    dic={}\n",
    "    val_1=data[name_1]\n",
    "    val_2=data[name_2]\n",
    "    for i in tqdm(range(len(val_1))):\n",
    "        tmp=str(val_1[i])+'_'+str(val_2[i])\n",
    "        if tmp in dic:\n",
    "            new_col.append(dic[tmp])\n",
    "        else:\n",
    "            dic[tmp]=encode\n",
    "            new_col.append(encode)\n",
    "            encode+=1\n",
    "    return new_col\n",
    "#作企业类型-小类的交叉特征\n",
    "data['enttypegb']=data['enttypegb'].fillna(\"无\")\n",
    "data['enttypeitem']=data['enttypeitem'].fillna(\"无\")\n",
    "new_col=cross_two('enttypegb','enttypeitem')#作企业类型-小类的交叉特征\n",
    "data['enttypegb_enttypeitem']=new_col\n",
    "#\n",
    "#行业类别-细类的交叉特征\n",
    "data['industryphy']=data['industryphy'].fillna(\"无\")\n",
    "data['industryco']=data['industryco'].fillna(\"无\")\n",
    "new_col=cross_two('industryphy','industryco')#作企业类型-小类的交叉特征\n",
    "data['industryphy_industryco']=new_col\n",
    "#企业类型-行业类别的交叉特征\n",
    "new_col=cross_two('enttypegb','industryphy')#作企业类型-小类的交叉特征\n",
    "data['enttypegb_industryphy']=new_col\n",
    "#行业类别-企业类型小类的交叉特征\n",
    "new_col=cross_two('industryphy','enttypeitem')#作企业类型-小类的交叉特征\n",
    "data['industryphy_enttypeitem']=new_col\n",
    "#行业类别细类--企业类型小类的交叉特征\n",
    "new_col=cross_two('industryco','enttypeitem')#作企业类型-小类的交叉特征\n",
    "data['industryco_enttypeitem']=new_col\n",
    "\n",
    "#企业类型-小类-行业类别-细类的交叉特征\n",
    "new_col=cross_two('enttypegb_enttypeitem','industryphy_industryco')#作企业类型-小类的交叉特征\n",
    "data['enttypegb_enttypeitem_industryphy_industryco']=new_col"
   ]
  },
  {
   "cell_type": "code",
   "execution_count": 46,
   "metadata": {},
   "outputs": [],
   "source": [
    "data['enttypeminu_RANK'] = data['enttypeminu'].map(data.groupby(['enttypeminu'])['label'].mean().rank())\n",
    "data['enttypeitem_RANK'] = data['enttypeitem'].map(data.groupby(['enttypeitem'])['label'].mean().rank())"
   ]
  },
  {
   "cell_type": "code",
   "execution_count": 47,
   "metadata": {},
   "outputs": [],
   "source": [
    "for fea in ['industryphy','enttype','enttypeitem','empnum','opfrom','regcap','reccap','opto','enttypeminu']:\n",
    "    data[fea+'_counts'] = data.groupby([fea])['id'].transform('count')"
   ]
  },
  {
   "cell_type": "code",
   "execution_count": 48,
   "metadata": {},
   "outputs": [],
   "source": [
    "x_train = data[data['label'].notnull()]\n",
    "y_train = x_train['label']\n",
    "x_test = data[data['label'].isnull()]\n",
    "features_name = [i for i in data.columns if i not in ['id','regcap','reccap','enttype','enttypeitem','enttypeminu','bucket_regcap_reccap','townsign','count_opscope','opscope_1','oplocdistrict','adbusign','compform','opform','orgid','exenum','opscope','enttypegb','label','state','jobid','regtype','parnum','venind','protype','oploc','forreccap','forregcap','congro']]\n",
    "#features_name = ['industryco', 'dom', 'opfrom', 'opto', 'empnum', 'enttpe_year', 'opscope_length', 'opscope_label', 'regcap_reccap', 'bucket_regcap', 'bucket_reccap', 'enttypegb_enttypeitem', 'industryphy_industryco', 'enttypegb_industryphy', 'industryphy_enttypeitem', 'industryco_enttypeitem', 'enttypegb_enttypeitem_industryphy_industryco', 'industryphy_counts', 'enttype_counts', 'enttypeitem_counts', 'empnum_counts', 'regcap_counts', 'opto_counts']\n",
    "x_train = x_train[features_name]\n",
    "x_test = x_test[features_name]"
   ]
  },
  {
   "cell_type": "code",
   "execution_count": 49,
   "metadata": {},
   "outputs": [
    {
     "name": "stdout",
     "output_type": "stream",
     "text": [
      "<class 'pandas.core.frame.DataFrame'>\n",
      "Int64Index: 10000 entries, 14865 to 24864\n",
      "Data columns (total 58 columns):\n",
      " #   Column                                        Non-Null Count  Dtype  \n",
      "---  ------                                        --------------  -----  \n",
      " 0   industryphy                                   10000 non-null  int64  \n",
      " 1   industryco                                    10000 non-null  float64\n",
      " 2   dom                                           10000 non-null  int64  \n",
      " 3   opfrom                                        10000 non-null  int32  \n",
      " 4   opto                                          10000 non-null  float64\n",
      " 5   empnum                                        10000 non-null  float64\n",
      " 6   legal_judgment_num                            691 non-null    float64\n",
      " 7   brand_num                                     422 non-null    float64\n",
      " 8   patent_num                                    212 non-null    float64\n",
      " 9   other_SUM                                     1052 non-null   float64\n",
      " 10  other_NULL_SUM                                1052 non-null   float64\n",
      " 11  public_date_COUNT                             539 non-null    float64\n",
      " 12  public_MAX                                    539 non-null    float64\n",
      " 13  public_MIN                                    539 non-null    float64\n",
      " 14  public_MEAN                                   539 non-null    float64\n",
      " 15  news_COUNT1                                   347 non-null    float64\n",
      " 16  news_COUNT2                                   139 non-null    float64\n",
      " 17  news_COUNT3                                   339 non-null    float64\n",
      " 18  PREV_ANCHEYEAR_MAX                            5601 non-null   float64\n",
      " 19  PREV_STATE_MAX                                5601 non-null   float64\n",
      " 20  PREV_FUNDAM_MAX                               1963 non-null   float64\n",
      " 21  PREV_EMPNUM_MAX                               5599 non-null   float64\n",
      " 22  PREV_UNEEMPLNUM_MAX                           5169 non-null   float64\n",
      " 23  PREV_UNEEMPLNUM_SUM                           5601 non-null   float64\n",
      " 24  changeinfo_bgxmdm_COUNT                       4693 non-null   float64\n",
      " 25  changeinfo_bgxmdm_NUNIQUE                     4693 non-null   float64\n",
      " 26  changeinfo_bgq_NUNIQUE                        4693 non-null   float64\n",
      " 27  changeinfo_bgh_NUNIQUE                        4693 non-null   float64\n",
      " 28  changeinfo_bgrq_NUNIQUE                       4693 non-null   float64\n",
      " 29  PREV_TAX_CATEGORIES_COUNT                     634 non-null    float64\n",
      " 30  PREV_TAX_ITEMS_COUNT                          634 non-null    float64\n",
      " 31  PREV_TAXATION_BASIS_COUNT                     634 non-null    float64\n",
      " 32  PREV_TAX_AMOUNT_MAX                           634 non-null    float64\n",
      " 33  PREV_TAX_AMOUNT_MIN                           634 non-null    float64\n",
      " 34  PREV_TAX_AMOUNT_MEAN                          634 non-null    float64\n",
      " 35  enttpe_year                                   10000 non-null  float64\n",
      " 36  opscope_length                                10000 non-null  int64  \n",
      " 37  opscope_label                                 10000 non-null  int64  \n",
      " 38  regcap_reccap                                 10000 non-null  float64\n",
      " 39  bucket_regcap                                 10000 non-null  int64  \n",
      " 40  bucket_reccap                                 10000 non-null  int64  \n",
      " 41  enttypegb_enttypeitem                         10000 non-null  int64  \n",
      " 42  industryphy_industryco                        10000 non-null  int64  \n",
      " 43  enttypegb_industryphy                         10000 non-null  int64  \n",
      " 44  industryphy_enttypeitem                       10000 non-null  int64  \n",
      " 45  industryco_enttypeitem                        10000 non-null  int64  \n",
      " 46  enttypegb_enttypeitem_industryphy_industryco  10000 non-null  int64  \n",
      " 47  industryphy_counts                            10000 non-null  int64  \n",
      " 48  enttype_counts                                10000 non-null  int64  \n",
      " 49  enttypeitem_counts                            10000 non-null  int64  \n",
      " 50  empnum_counts                                 10000 non-null  int64  \n",
      " 51  opfrom_counts                                 10000 non-null  int64  \n",
      " 52  regcap_counts                                 10000 non-null  int64  \n",
      " 53  reccap_counts                                 10000 non-null  int64  \n",
      " 54  opto_counts                                   10000 non-null  int64  \n",
      " 55  enttypeminu_counts                            10000 non-null  int64  \n",
      " 56  enttypeminu_RANK                              9991 non-null   float64\n",
      " 57  enttypeitem_RANK                              9994 non-null   float64\n",
      "dtypes: float64(36), int32(1), int64(21)\n",
      "memory usage: 4.5 MB\n"
     ]
    }
   ],
   "source": [
    "x_test.info()"
   ]
  },
  {
   "cell_type": "code",
   "execution_count": null,
   "metadata": {},
   "outputs": [],
   "source": [
    "from itertools import combinations\n",
    "\n",
    "def combine(temp_list, n):\n",
    "    temp_list2 = []\n",
    "    for c in combinations(temp_list, n):\n",
    "        temp_list2.append(list(c))\n",
    "    return temp_list2\n",
    "\n",
    "list1 = x_train.columns.values\n",
    "end_list = []\n",
    "for i in range(24,len(list1)+1):\n",
    "    end_list.extend(combine(list1, i))"
   ]
  },
  {
   "cell_type": "code",
   "execution_count": null,
   "metadata": {},
   "outputs": [],
   "source": [
    "print(len(end_list))"
   ]
  },
  {
   "cell_type": "markdown",
   "metadata": {},
   "source": [
    "## lgb"
   ]
  },
  {
   "cell_type": "code",
   "execution_count": 50,
   "metadata": {},
   "outputs": [],
   "source": [
    "def eval_score(y_test,y_pre):\n",
    "    _,_,f_class,_=precision_recall_fscore_support(y_true=y_test,y_pred=y_pre,labels=[0,1],average=None)\n",
    "    fper_class={'合法':f_class[0],'违法':f_class[1],'f1':f1_score(y_test,y_pre)}\n",
    "    return fper_class\n",
    "\n",
    "\n",
    "def k_fold_serachParmaters(model,train_val_data,train_val_kind, test_kind):\n",
    "    mean_f1=0\n",
    "    mean_f1Train=0\n",
    "    n_splits=5\n",
    "    \n",
    "    cat_features = ['industryphy', 'industryco', 'enttype',\n",
    "           'enttypeitem', 'enttypeminu', 'enttypegb',\n",
    "          'dom', 'oploc', 'opform']\n",
    "    \n",
    "    sk = StratifiedKFold(n_splits=n_splits, shuffle=True, random_state=2020)\n",
    "    pred_Test = np.zeros(len(test_kind))\n",
    "    for train, test in sk.split(train_val_data, train_val_kind):\n",
    "        x_train = train_val_data.iloc[train]\n",
    "        y_train = train_val_kind.iloc[train]\n",
    "        x_test = train_val_data.iloc[test]\n",
    "        y_test = train_val_kind.iloc[test]\n",
    "\n",
    "        model.fit(x_train, y_train, \n",
    "                  eval_set=[(x_test, y_test)], \n",
    "                  #categorical_feature = cat_features,\n",
    "                 early_stopping_rounds=100,\n",
    "                 verbose=False)\n",
    "        \n",
    "        pred = model.predict(x_test)\n",
    "        fper_class = eval_score(y_test,pred)\n",
    "        \n",
    "        pred_Train = model.predict(x_train)\n",
    "        pred_Test += model.predict_proba(test_kind)[:, 1]/n_splits\n",
    "        fper_class_train = eval_score(y_train,pred_Train)\n",
    "\n",
    "        mean_f1 += fper_class['f1']/n_splits\n",
    "        mean_f1Train+=fper_class_train['f1']/n_splits\n",
    "        # print(mean_f1, mean_f1Train)\n",
    "        \n",
    "        \n",
    "    return mean_f1, pred_Test"
   ]
  },
  {
   "cell_type": "code",
   "execution_count": 51,
   "metadata": {},
   "outputs": [
    {
     "name": "stdout",
     "output_type": "stream",
     "text": [
      "0.8482888806122139 0.0012595440425055894\n"
     ]
    }
   ],
   "source": [
    "score_tta = None\n",
    "score_list = []\n",
    "\n",
    "tta_fold = 20\n",
    "for _ in range(tta_fold):\n",
    "    clf = lgb.LGBMClassifier(\n",
    "        num_leaves=np.random.randint(6,9), min_child_samples=np.random.randint(10,20),\n",
    "        max_depth=5,learning_rate=0.03,\n",
    "        n_estimators=150,n_jobs=-1)\n",
    "\n",
    "    score, test_pred = k_fold_serachParmaters(clf,\n",
    "                           x_train,\n",
    "                           y_train,\n",
    "                           x_test,\n",
    "                          )\n",
    "\n",
    "    if score_tta is None:\n",
    "        score_tta = test_pred/tta_fold\n",
    "    else:\n",
    "        score_tta += test_pred/tta_fold\n",
    "    # print(score)\n",
    "    score_list.append(score)\n",
    "    \n",
    "print(np.array(score_list).mean(), np.array(score_list).std())\n",
    "# 0.8478168974849689 0.83884757\n",
    "\n",
    "# 0.8420447002972562 0.00198977186270193\n",
    "# 0.8430490420761639 0.0022246925904664443"
   ]
  },
  {
   "cell_type": "code",
   "execution_count": 52,
   "metadata": {},
   "outputs": [],
   "source": [
    "entprise_test = pd.read_csv('entprise_evaluate.csv')\n",
    "dict1 = {\n",
    "    'id':entprise_test.id,\n",
    "    'score':score_tta\n",
    "}\n",
    "df = pd.DataFrame(dict1)\n",
    "df.to_csv(r'result/1122_5.csv', index=False)"
   ]
  },
  {
   "cell_type": "markdown",
   "metadata": {},
   "source": [
    "## 随机森林"
   ]
  },
  {
   "cell_type": "code",
   "execution_count": 36,
   "metadata": {},
   "outputs": [
    {
     "name": "stdout",
     "output_type": "stream",
     "text": [
      "************************************ 1 ************************************\n",
      "train F1：0.9364380113278792\n",
      "Valid F1：0.790450928381963\n",
      "************************************ 2 ************************************\n",
      "train F1：0.9357357357357357\n",
      "Valid F1：0.8249258160237388\n",
      "************************************ 3 ************************************\n",
      "train F1：0.9300254452926209\n",
      "Valid F1：0.8726415094339622\n",
      "************************************ 4 ************************************\n",
      "train F1：0.9299935773924214\n",
      "Valid F1：0.8523002421307506\n",
      "************************************ 5 ************************************\n",
      "train F1：0.9337620578778134\n",
      "Valid F1：0.8558139534883721\n",
      "Train average F1：0.9331909655252941 Valid average F1：0.8392264898917574\n"
     ]
    }
   ],
   "source": [
    "from sklearn.metrics import auc, roc_curve,f1_score,precision_score,recall_score\n",
    "from sklearn.model_selection import StratifiedKFold, KFold\n",
    "from catboost import CatBoostRegressor\n",
    "from sklearn.ensemble import RandomForestClassifier\n",
    "# 模型\n",
    "rf_train_data = x_train.fillna(-1)\n",
    "rf_test_data = x_test.fillna(-1)\n",
    "rf = RandomForestClassifier(oob_score=True, random_state=2020,\n",
    "            n_estimators= 60,max_depth=13,min_samples_split=10)\n",
    "def stat_func(x):\n",
    "    l1 = []\n",
    "    for i in x:\n",
    "        if i>0.5:\n",
    "            a = 1\n",
    "            l1.append(a)\n",
    "        else:\n",
    "            a = 0\n",
    "            l1.append(a)\n",
    "    return l1\n",
    "def score_fuc(p,r):\n",
    "    return 2*p*r/(p+r)\n",
    "cat_list = [3]\n",
    "# 本地验证\n",
    "kf = KFold(n_splits=5,shuffle=True,random_state=2020)\n",
    "devscore = []\n",
    "tevscore = []\n",
    "count = 1\n",
    "result_test = pd.DataFrame()\n",
    "for tidx,didx in kf.split(rf_train_data.index):\n",
    "    print('************************************ {} ************************************'.format(str(count)))\n",
    "    count += 1\n",
    "    tf = rf_train_data.iloc[tidx]\n",
    "    df = rf_train_data.iloc[didx]\n",
    "    tt = y_train.iloc[tidx]\n",
    "    dt = y_train.iloc[didx]\n",
    "    rf.fit(tf, tt)\n",
    "    pre_train = rf.predict(tf)\n",
    "    stat_pre_train = stat_func(pre_train)\n",
    "    p = precision_score(tt,stat_pre_train)\n",
    "    r = recall_score(tt,stat_pre_train)\n",
    "    score = score_fuc(p,r)\n",
    "    #score = f1_score(stat_pre_train,tt)\n",
    "    tevscore.append(score)\n",
    "    print(\"train F1：%s\"%score)\n",
    "    pre = rf.predict(df)\n",
    "    stat_pre = stat_func(pre)\n",
    "    p = precision_score(dt,stat_pre)\n",
    "    r = recall_score(dt,stat_pre)\n",
    "    score = score_fuc(p,r)\n",
    "    devscore.append(score)\n",
    "    print(\"Valid F1：%s\"%score)\n",
    "    result_test[str(count-1)+\"折\"] = rf.predict(rf_test_data)/5\n",
    "print(\"Train average F1：%s\"%np.mean(tevscore),\"Valid average F1：%s\"%np.mean(devscore))\n",
    "result_test['result'] = result_test['1折']+result_test['2折']+result_test['3折']+result_test['4折']+result_test['5折']\n",
    "result = result_test['result'].values\n",
    "result_1 = stat_func(result)"
   ]
  },
  {
   "cell_type": "code",
   "execution_count": 42,
   "metadata": {},
   "outputs": [
    {
     "data": {
      "text/plain": [
       "0.851420380269206"
      ]
     },
     "execution_count": 42,
     "metadata": {},
     "output_type": "execute_result"
    }
   ],
   "source": [
    "np.mean(devscore[1:])"
   ]
  },
  {
   "cell_type": "code",
   "execution_count": 37,
   "metadata": {},
   "outputs": [
    {
     "data": {
      "image/png": "[encoded data removed]",
      "text/plain": [
       "<Figure size 720x720 with 1 Axes>"
      ]
     },
     "metadata": {},
     "output_type": "display_data"
    }
   ],
   "source": [
    "import matplotlib.pyplot as plt\n",
    "plt.figure(figsize=(10,10))\n",
    "a = pd.DataFrame()\n",
    "feature_import = rf.feature_importances_\n",
    "feature_name  = x_train.columns.tolist()\n",
    "plt.barh(feature_name,feature_import)\n",
    "plt.show()"
   ]
  },
  {
   "cell_type": "code",
   "execution_count": 38,
   "metadata": {},
   "outputs": [
    {
     "data": {
      "text/plain": [
       "0    9092\n",
       "1     908\n",
       "Name: score, dtype: int64"
      ]
     },
     "execution_count": 38,
     "metadata": {},
     "output_type": "execute_result"
    }
   ],
   "source": [
    "entprise_test = pd.read_csv('entprise_evaluate.csv')\n",
    "dict1 = {\n",
    "    'id':entprise_test.id,\n",
    "    'score':result_1\n",
    "}\n",
    "df = pd.DataFrame(dict1)\n",
    "df.score.value_counts()"
   ]
  },
  {
   "cell_type": "code",
   "execution_count": 45,
   "metadata": {},
   "outputs": [],
   "source": [
    "entprise_test = pd.read_csv('entprise_evaluate.csv')\n",
    "dict1 = {\n",
    "    'id':entprise_test.id,\n",
    "    'score':result_1\n",
    "}\n",
    "df = pd.DataFrame(dict1)\n",
    "df.to_csv(r'result/1122_4.csv', index=False)"
   ]
  },
  {
   "cell_type": "code",
   "execution_count": 35,
   "metadata": {},
   "outputs": [],
   "source": [
    "from sklearn.metrics import auc, roc_curve,f1_score,precision_score,recall_score\n",
    "from sklearn.model_selection import StratifiedKFold, KFold\n",
    "from catboost import CatBoostRegressor\n",
    "from sklearn.ensemble import RandomForestClassifier\n",
    "# 模型\n",
    "def model_func(x_train_a,y_train_a):\n",
    "    rf = RandomForestClassifier(oob_score=True, random_state=2020,\n",
    "                n_estimators= 60,max_depth=13,min_samples_split=10)\n",
    "    def stat_func(x):\n",
    "        l1 = []\n",
    "        for i in x:\n",
    "            if i>0.5:\n",
    "                a = 1\n",
    "                l1.append(a)\n",
    "            else:\n",
    "                a = 0\n",
    "                l1.append(a)\n",
    "        return l1\n",
    "    def score_fuc(p,r):\n",
    "        return 2*p*r/(p+r)\n",
    "    cat_list = [3]\n",
    "    # 本地验证\n",
    "    kf = KFold(n_splits=5,shuffle=True,random_state=2020)\n",
    "    devscore = []\n",
    "    tevscore = []\n",
    "    count = 1\n",
    "#     result_test = pd.DataFrame()\n",
    "    for tidx,didx in kf.split(x_train_a.index):\n",
    "        #print('************************************ {} ************************************'.format(str(count)))\n",
    "        count += 1\n",
    "        tf = x_train_a.iloc[tidx]\n",
    "        df = x_train_a.iloc[didx]\n",
    "        tt = y_train_a.iloc[tidx]\n",
    "        dt = y_train_a.iloc[didx]\n",
    "        rf.fit(tf, tt)\n",
    "        pre_train = rf.predict(tf)\n",
    "        stat_pre_train = stat_func(pre_train)\n",
    "        p = precision_score(tt,stat_pre_train)\n",
    "        r = recall_score(tt,stat_pre_train)\n",
    "        score = score_fuc(p,r)\n",
    "        #score = f1_score(stat_pre_train,tt)\n",
    "        tevscore.append(score)\n",
    "        print(\"train F1：%s\"%score)\n",
    "        pre = rf.predict(df)\n",
    "        stat_pre = stat_func(pre)\n",
    "        p = precision_score(dt,stat_pre)\n",
    "        r = recall_score(dt,stat_pre)\n",
    "        score = score_fuc(p,r)\n",
    "        devscore.append(score)\n",
    "        print(\"Valid F1：%s\"%score)\n",
    "        result_test[str(count-1)+\"折\"] = rf.predict(x_test)/5\n",
    "    print(\"Train average F1：%s\"%np.mean(tevscore),\"Valid average F1：%s\"%np.mean(devscore))\n",
    "    return np.mean(devscore)"
   ]
  },
  {
   "cell_type": "code",
   "execution_count": null,
   "metadata": {},
   "outputs": [],
   "source": [
    "best = 0\n",
    "best_dic = {}\n",
    "for n in end_list:\n",
    "    features_name = n\n",
    "    x_train_a = x_train[features_name]\n",
    "    x_test_a = x_test[features_name]\n",
    "    f1_score = model_func(x_train_a,y_train)\n",
    "    if f1_score>best:\n",
    "        best = f1_score\n",
    "        best_dic[best] = n\n",
    "        print(n)"
   ]
  },
  {
   "cell_type": "code",
   "execution_count": null,
   "metadata": {},
   "outputs": [],
   "source": [
    "l = ['industryco', 'dom', 'opfrom', 'opto', 'empnum', 'enttpe_year', 'opscope_length', 'opscope_label', 'regcap_reccap', 'bucket_regcap', 'bucket_reccap', 'enttypegb_enttypeitem', 'industryphy_industryco', 'enttypegb_industryphy', 'industryphy_enttypeitem', 'industryco_enttypeitem', 'enttypegb_enttypeitem_industryphy_industryco', 'industryphy_counts', 'enttype_counts', 'enttypeitem_counts', 'empnum_counts', 'regcap_counts', 'opto_counts']\n",
    "len(l)\n",
    "#0.8514893338633541"
   ]
  },
  {
   "cell_type": "code",
   "execution_count": null,
   "metadata": {},
   "outputs": [],
   "source": [
    "result_test['result'] = result_test['1折']+result_test['2折']+result_test['3折']+result_test['4折']+result_test['5折']"
   ]
  },
  {
   "cell_type": "code",
   "execution_count": null,
   "metadata": {},
   "outputs": [],
   "source": [
    "result = result_test['result'].values\n",
    "result_1 = stat_func(result)"
   ]
  },
  {
   "cell_type": "code",
   "execution_count": null,
   "metadata": {},
   "outputs": [],
   "source": [
    "import matplotlib.pyplot as plt\n",
    "plt.figure(figsize=(10,10))\n",
    "a = pd.DataFrame()\n",
    "feature_import = rf.feature_importances_\n",
    "feature_name  = x_train.columns.tolist()\n",
    "plt.barh(feature_name,feature_import)\n",
    "plt.show()"
   ]
  },
  {
   "cell_type": "code",
   "execution_count": null,
   "metadata": {},
   "outputs": [],
   "source": [
    "entprise_test = pd.read_csv('entprise_evaluate.csv')\n",
    "dict1 = {\n",
    "    'id':entprise_test.id,\n",
    "    'score':result_1\n",
    "}\n",
    "df = pd.DataFrame(dict1)\n",
    "df.to_csv(r'1115_1.csv', index=False)"
   ]
  },
  {
   "cell_type": "code",
   "execution_count": null,
   "metadata": {},
   "outputs": [],
   "source": [
    "from sklearn.metrics import auc, roc_curve,f1_score\n",
    "from sklearn.model_selection import StratifiedKFold, KFold\n",
    "#from catboost import CatBoostRegressor\n",
    "import lightgbm as lgb\n",
    "# 模型\n",
    "model_lgb = lgb.LGBMRegressor(objective='regression',num_leaves=100,\n",
    "                              learning_rate=0.2, n_estimators=60, max_depth=5, \n",
    "                              metric='rmse', bagging_fraction = 1.0, feature_fraction = 1.0)\n",
    "def stat_func(x):\n",
    "    l1 = []\n",
    "    for i in x:\n",
    "        if i>0.5:\n",
    "            a = 1\n",
    "            l1.append(a)\n",
    "        else:\n",
    "            a = 0\n",
    "            l1.append(a)\n",
    "    return l1\n",
    "cat_list = [3]\n",
    "# 本地验证\n",
    "kf = KFold(n_splits=5,shuffle=True,random_state=2020)\n",
    "devscore = []\n",
    "tevscore = []\n",
    "count = 1\n",
    "result_test = pd.DataFrame()\n",
    "for tidx,didx in kf.split(x_train.index):\n",
    "    print('************************************ {} ************************************'.format(str(count)))\n",
    "    count += 1\n",
    "    tf = x_train.iloc[tidx]\n",
    "    df = x_train.iloc[didx]\n",
    "    tt = y_train.iloc[tidx]\n",
    "    dt = y_train.iloc[didx]\n",
    "    lgb_train = lgb.Dataset(tf,tt,free_raw_data=False)\n",
    "    lgb_eval = lgb.Dataset(df,dt,reference=lgb_train,free_raw_data=False)\n",
    "    model_lgb.fit(tf,tt)\n",
    "    #catr.fit(tf, tt,cat_features=cat_list)\n",
    "    pre_train = model_lgb.predict(tf)\n",
    "    stat_pre_train = stat_func(pre_train)\n",
    "    score = f1_score(stat_pre_train,tt)\n",
    "    tevscore.append(score)\n",
    "    print(\"train F1：%s\"%score)\n",
    "    pre = model_lgb.predict(df)\n",
    "    stat_pre = stat_func(pre)\n",
    "    score = f1_score(stat_pre,dt)\n",
    "    devscore.append(score)\n",
    "    print(\"Valid F1：%s\"%score)\n",
    "    result_test[str(count-1)+\"折\"] = rf.predict(x_test)/5\n",
    "print(\"Train average F1：%s\"%np.mean(tevscore),\"Valid average F1：%s\"%np.mean(devscore))\n",
    "result_test['result'] = result_test['1折']+result_test['2折']+result_test['3折']+result_test['4折']+result_test['5折']\n",
    "result = result_test['result'].values\n",
    "result_1 = stat_func(result)"
   ]
  },
  {
   "cell_type": "code",
   "execution_count": null,
   "metadata": {},
   "outputs": [],
   "source": [
    "entprise_test = pd.read_csv('../entprise_evaluate.csv')\n",
    "dict1 = {\n",
    "    'id':entprise_test.id,\n",
    "    'score':result_1\n",
    "}\n",
    "df = pd.DataFrame(dict1)\n",
    "df.score.value_counts()"
   ]
  },
  {
   "cell_type": "code",
   "execution_count": null,
   "metadata": {},
   "outputs": [],
   "source": [
    "entprise_test = pd.read_csv('../entprise_evaluate.csv')\n",
    "dict1 = {\n",
    "    'id':entprise_test.id,\n",
    "    'score':result_1\n",
    "}\n",
    "df = pd.DataFrame(dict1)\n",
    "df.to_csv(r'../result/1120_2_lgb.csv', index=False)"
   ]
  },
  {
   "cell_type": "markdown",
   "metadata": {},
   "source": [
    "## Catboost"
   ]
  },
  {
   "cell_type": "code",
   "execution_count": null,
   "metadata": {},
   "outputs": [],
   "source": [
    "from sklearn.metrics import auc, roc_curve,f1_score,precision_score,recall_score\n",
    "from sklearn.model_selection import StratifiedKFold, KFold\n",
    "from catboost import CatBoostRegressor\n",
    "# 模型\n",
    "def makecatr():\n",
    "    params = {\n",
    "        \"learning_rate\":0.01,\n",
    "        'iterations':5000,\n",
    "        'depth': 5,\n",
    "        'l2_leaf_reg': 3,\n",
    "        'bootstrap_type':'Bernoulli',\n",
    "        'od_type': 'Iter',\n",
    "        'od_wait': 50,\n",
    "        'random_seed': 2020,\n",
    "        'allow_writing_files': False,\n",
    "        'task_type':'CPU',\n",
    "        'verbose':500,\n",
    "        'loss_function':'RMSE',\n",
    "    }\n",
    "    \n",
    "    catr = CatBoostRegressor(**params)\n",
    "    return catr\n",
    "def stat_func(x):\n",
    "    l1 = []\n",
    "    for i in x:\n",
    "        if i>0.5:\n",
    "            a = 1\n",
    "            l1.append(a)\n",
    "        else:\n",
    "            a = 0\n",
    "            l1.append(a)\n",
    "    return l1\n",
    "def score_fuc(p,r):\n",
    "    return 2*p*r/(p+r)\n",
    "cat_list = [3]\n",
    "# 本地验证\n",
    "kf = KFold(n_splits=5,shuffle=True,random_state=2020)\n",
    "devscore = []\n",
    "tevscore = []\n",
    "count = 1\n",
    "result_test = pd.DataFrame()\n",
    "for tidx,didx in kf.split(x_train.index):\n",
    "    print('************************************ {} ************************************'.format(str(count)))\n",
    "    count += 1\n",
    "    tf = x_train.iloc[tidx]\n",
    "    df = x_train.iloc[didx]\n",
    "    tt = y_train.iloc[tidx]\n",
    "    dt = y_train.iloc[didx]\n",
    "    catr = makecatr()\n",
    "    catr.fit(tf, tt,cat_features=cat_list)\n",
    "    pre_train = catr.predict(tf)\n",
    "    stat_pre_train = stat_func(pre_train)\n",
    "    p = precision_score(tt,stat_pre_train)\n",
    "    r = recall_score(tt,stat_pre_train)\n",
    "    score = score_fuc(p,r)\n",
    "    #score = f1_score(stat_pre_train,tt)\n",
    "    tevscore.append(score)\n",
    "    print(\"train F1：%s\"%score)\n",
    "    pre = catr.predict(df)\n",
    "    stat_pre = stat_func(pre)\n",
    "    p = precision_score(dt,stat_pre)\n",
    "    r = recall_score(dt,stat_pre)\n",
    "    score = score_fuc(p,r)\n",
    "    devscore.append(score)\n",
    "    result_test[str(count-1)+\"折\"] = rf.predict(x_test)/5\n",
    "    print(\"Valid F1：%s\"%score)\n",
    "print(\"Train average F1：%s\"%np.mean(tevscore),\"Valid average F1：%s\"%np.mean(devscore))\n",
    "result_test['result'] = result_test['1折']+result_test['2折']+result_test['3折']+result_test['4折']+result_test['5折']\n",
    "result = result_test['result'].values\n",
    "result_1 = stat_func(result)"
   ]
  },
  {
   "cell_type": "code",
   "execution_count": null,
   "metadata": {},
   "outputs": [],
   "source": [
    "result_1"
   ]
  },
  {
   "cell_type": "code",
   "execution_count": null,
   "metadata": {},
   "outputs": [],
   "source": [
    "entprise_test = pd.read_csv('entprise_evaluate.csv')\n",
    "dict1 = {\n",
    "    'id':entprise_test.id,\n",
    "    'score':result_1\n",
    "}\n",
    "df = pd.DataFrame(dict1)\n",
    "df.to_csv(r'1115_2.csv', index=False)"
   ]
  },
  {
   "cell_type": "code",
   "execution_count": null,
   "metadata": {},
   "outputs": [],
   "source": [
    "from sklearn.metrics import auc, roc_curve,f1_score\n",
    "from sklearn.model_selection import StratifiedKFold, KFold\n",
    "#from catboost import CatBoostRegressor\n",
    "import lightgbm as lgb\n",
    "# 模型\n",
    "params = {\n",
    "        'boosting_type': 'gbdt',\n",
    "        'boosting': 'dart',\n",
    "        'objective': 'binary',\n",
    "        'metric': 'binary_logloss',\n",
    "        'learning_rate': 0.01,\n",
    "        'num_leaves':25,\n",
    "        'max_depth':3,\n",
    "        'max_bin':10,\n",
    "        'min_data_in_leaf':8,\n",
    "        'feature_fraction': 0.6,\n",
    "        'bagging_fraction': 1,\n",
    "        'bagging_freq':0,\n",
    "        'lambda_l1': 0,\n",
    "        'lambda_l2': 0,\n",
    "        'min_split_gain': 0\n",
    "}\n",
    "def stat_func(x):\n",
    "    l1 = []\n",
    "    for i in x:\n",
    "        if i>0.5:\n",
    "            a = 1\n",
    "            l1.append(a)\n",
    "        else:\n",
    "            a = 0\n",
    "            l1.append(a)\n",
    "    return l1\n",
    "cat_list = [3]\n",
    "# 本地验证\n",
    "kf = KFold(n_splits=5,shuffle=True,random_state=2020)\n",
    "devscore = []\n",
    "tevscore = []\n",
    "count = 1\n",
    "for tidx,didx in kf.split(x_train.index):\n",
    "    print('************************************ {} ************************************'.format(str(count)))\n",
    "    count += 1\n",
    "    tf = x_train.iloc[tidx]\n",
    "    df = x_train.iloc[didx]\n",
    "    tt = y_train.iloc[tidx]\n",
    "    dt = y_train.iloc[didx]\n",
    "    lgb_train = lgb.Dataset(tf,tt,free_raw_data=False)\n",
    "    lgb_eval = lgb.Dataset(df,dt,reference=lgb_train,free_raw_data=False)\n",
    "    gbm  = lgb.train(params,lgb_train,num_boost_round=2000,valid_sets=lgb_eval,verbose_eval=200)\n",
    "    #catr.fit(tf, tt,cat_features=cat_list)\n",
    "    pre_train = gbm.predict(tf)\n",
    "    stat_pre_train = stat_func(pre_train)\n",
    "    score = f1_score(stat_pre_train,tt)\n",
    "    tevscore.append(score)\n",
    "    print(\"train F1：%s\"%score)\n",
    "    pre = gbm.predict(df)\n",
    "    stat_pre = stat_func(pre)\n",
    "    score = f1_score(stat_pre,dt)\n",
    "    devscore.append(score)\n",
    "    print(\"Valid F1：%s\"%score)\n",
    "print(\"Train average F1：%s\"%np.mean(tevscore),\"Valid average F1：%s\"%np.mean(devscore))"
   ]
  },
  {
   "cell_type": "code",
   "execution_count": null,
   "metadata": {},
   "outputs": [],
   "source": [
    "entprise_test = pd.read_csv('entprise_evaluate.csv')\n",
    "dict1 = {\n",
    "    'id':entprise_test.id,\n",
    "    'score':pre\n",
    "}\n",
    "df = pd.DataFrame(dict1)\n",
    "df.to_csv(r'1109_3.csv', index=False)\n",
    "# 0.82877408\n",
    "#0.8267"
   ]
  },
  {
   "cell_type": "code",
   "execution_count": null,
   "metadata": {},
   "outputs": [],
   "source": [
    "def eval_score(y_test,y_pre):\n",
    "    _,_,f_class,_=precision_recall_fscore_support(y_true=y_test,y_pred=y_pre,labels=[0,1],average=None)\n",
    "    fper_class={'合法':f_class[0],'违法':f_class[1],'f1':f1_score(y_test,y_pre)}\n",
    "    return fper_class\n",
    "#\n",
    "def k_fold_serachParmaters(model,train_val_data,train_val_kind):\n",
    "    mean_f1=0\n",
    "    mean_f1Train=0\n",
    "    n_splits=5\n",
    "    sk = StratifiedKFold(n_splits=n_splits, shuffle=True, random_state=2020)\n",
    "    for train, test in sk.split(train_val_data, train_val_kind):\n",
    "        x_train = train_val_data.iloc[train]\n",
    "        y_train = train_val_kind.iloc[train]\n",
    "        x_test = train_val_data.iloc[test]\n",
    "        y_test = train_val_kind.iloc[test]\n",
    "\n",
    "        model.fit(x_train, y_train)\n",
    "        pred = model.predict(x_test)\n",
    "        fper_class =  eval_score(y_test,pred)\n",
    "        mean_f1+=fper_class['f1']/n_splits\n",
    "        #print(fper_class)\n",
    "        \n",
    "        pred_Train = model.predict(x_train)\n",
    "        fper_class_train =  eval_score(y_train,pred_Train)\n",
    "        mean_f1Train+=fper_class_train['f1']/n_splits\n",
    "    #print('mean valf1:',mean_f1)\n",
    "    #print('mean trainf1:',mean_f1Train)\n",
    "    return mean_f1"
   ]
  },
  {
   "cell_type": "code",
   "execution_count": null,
   "metadata": {},
   "outputs": [],
   "source": [
    "rf = RandomForestClassifier(oob_score=True, random_state=2020,\n",
    "            n_estimators= 15,max_depth=19,min_samples_split=12)\n",
    "k_fold_serachParmaters(rf,x_train,y_train)"
   ]
  },
  {
   "cell_type": "code",
   "execution_count": null,
   "metadata": {},
   "outputs": [],
   "source": [
    "pre1 = rf.predict(x_test)"
   ]
  },
  {
   "cell_type": "code",
   "execution_count": null,
   "metadata": {},
   "outputs": [],
   "source": [
    "entprise_test = pd.read_csv('entprise_evaluate.csv')\n",
    "dict1 = {\n",
    "    'id':entprise_test.id,\n",
    "    'score':pre1\n",
    "}\n",
    "df = pd.DataFrame(dict1)\n",
    "df.to_csv(r'1109_1.csv', index=False)"
   ]
  },
  {
   "cell_type": "code",
   "execution_count": null,
   "metadata": {},
   "outputs": [],
   "source": [
    "n_estimators_list = []\n",
    "for i in range(60,70):\n",
    "    n_estimators_list.append(int(i))\n",
    "min_samples_split_list = []\n",
    "for i in range(12,30):\n",
    "    min_samples_split_list.append(i)\n",
    "max_depth_list = []\n",
    "for i in range(19,30):\n",
    "    max_depth_list.append(i)"
   ]
  },
  {
   "cell_type": "code",
   "execution_count": null,
   "metadata": {
    "scrolled": false
   },
   "outputs": [],
   "source": [
    "from sklearn.ensemble import RandomForestClassifier\n",
    "from sklearn.model_selection import learning_curve, GridSearchCV\n",
    "\n",
    "def search_param(n_estimators,max_depth,min_samples_split):\n",
    "    rf = RandomForestClassifier(oob_score=True, random_state=2020,\n",
    "                    n_estimators= n_estimators,max_depth=max_depth,min_samples_split=min_samples_split)\n",
    "    mean_f1=k_fold_serachParmaters(rf,x_train,y_train)\n",
    "    return mean_f1\n",
    "\n",
    "#搜索最佳参数\n",
    "param=[]\n",
    "best=0\n",
    "for n_estimators in n_estimators_list:\n",
    "    print('n_estimators:',n_estimators)\n",
    "    for min_samples_split in min_samples_split_list:\n",
    "        for max_depth in max_depth_list:\n",
    "            mean_f1=search_param(n_estimators,max_depth,min_samples_split)\n",
    "            if mean_f1>best:\n",
    "                param=[n_estimators,min_samples_split,max_depth]\n",
    "                best=mean_f1\n",
    "                print(param,best)"
   ]
  },
  {
   "cell_type": "code",
   "execution_count": null,
   "metadata": {},
   "outputs": [],
   "source": [
    "n_estimators = 15\n",
    "min_samples_split = 12\n",
    "max_depth = 19"
   ]
  },
  {
   "cell_type": "code",
   "execution_count": null,
   "metadata": {},
   "outputs": [],
   "source": [
    "x_train.enttypeitem.unique()"
   ]
  },
  {
   "cell_type": "code",
   "execution_count": null,
   "metadata": {},
   "outputs": [],
   "source": [
    "x_train.regcap.value_counts()"
   ]
  },
  {
   "cell_type": "code",
   "execution_count": null,
   "metadata": {},
   "outputs": [],
   "source": [
    "x_train.reccap[0]"
   ]
  },
  {
   "cell_type": "code",
   "execution_count": null,
   "metadata": {
    "scrolled": true
   },
   "outputs": [],
   "source": [
    "x_train.info()"
   ]
  },
  {
   "cell_type": "code",
   "execution_count": null,
   "metadata": {
    "scrolled": false
   },
   "outputs": [],
   "source": [
    "feas_importances_dict = {col:importance for col,importance in zip(list(x_train.columns),list(catr.feature_importances_))}\n",
    "print('Feature importances:\\n',feas_importances_dict)"
   ]
  },
  {
   "cell_type": "code",
   "execution_count": null,
   "metadata": {},
   "outputs": [],
   "source": [
    "feas_importances_dict = {col:importance for col,importance in zip(list(x_train.columns),list(catr.feature_importances_))}\n",
    "print('Feature importances:\\n',feas_importances_dict)"
   ]
  },
  {
   "cell_type": "code",
   "execution_count": null,
   "metadata": {},
   "outputs": [],
   "source": [
    "'bucket_regcap_reccap'"
   ]
  }
 ],
 "metadata": {
  "kernelspec": {
   "display_name": "Python 3",
   "language": "python",
   "name": "python3"
  },
  "language_info": {
   "codemirror_mode": {
    "name": "ipython",
    "version": 3
   },
   "file_extension": ".py",
   "mimetype": "text/x-python",
   "name": "python",
   "nbconvert_exporter": "python",
   "pygments_lexer": "ipython3",
   "version": "3.6.4"
  }
 },
 "nbformat": 4,
 "nbformat_minor": 2
}
