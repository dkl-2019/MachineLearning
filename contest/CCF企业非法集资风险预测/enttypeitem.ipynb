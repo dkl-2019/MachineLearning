{
 "cells": [
  {
   "cell_type": "code",
   "execution_count": 1,
   "metadata": {},
   "outputs": [],
   "source": [
    "import pandas as pd\n",
    "import numpy as np"
   ]
  },
  {
   "cell_type": "code",
   "execution_count": 2,
   "metadata": {},
   "outputs": [],
   "source": [
    "entprise_train = pd.read_csv('train/entprise_info.csv',engine='python')\n",
    "base_info = pd.read_csv('train/base_info.csv',engine='python',encoding='utf-8')\n",
    "entprise_test = pd.read_csv('entprise_evaluate.csv')"
   ]
  },
  {
   "cell_type": "code",
   "execution_count": 3,
   "metadata": {},
   "outputs": [],
   "source": [
    "entprise = pd.concat([entprise_train,entprise_test])\n",
    "data = pd.merge(entprise,base_info,on='id')\n",
    "data.drop(['ptbusscope','midpreindcode','score'],axis=1,inplace=True)"
   ]
  },
  {
   "cell_type": "code",
   "execution_count": 4,
   "metadata": {},
   "outputs": [],
   "source": [
    "def opto_process(x):\n",
    "    if len(x)>3:\n",
    "        return x[:4]\n",
    "    else:\n",
    "        return x\n",
    "data['opfrom'] = data['opfrom'].map(lambda x:x[:4])\n",
    "data['opto'].fillna('nan',inplace=True)\n",
    "data['opto'] = data['opto'].map(opto_process)\n",
    "data['opfrom'] = data['opfrom'].astype(int)\n",
    "data['opto'] = data['opto'].astype(float)\n",
    "data['opform'] = data['opform'].fillna(\"货币\")"
   ]
  },
  {
   "cell_type": "code",
   "execution_count": 5,
   "metadata": {},
   "outputs": [],
   "source": [
    "train = data[data['enttypeitem'].notnull()]\n",
    "test = data[data['enttypeitem'].isnull()]"
   ]
  },
  {
   "cell_type": "code",
   "execution_count": 6,
   "metadata": {},
   "outputs": [
    {
     "name": "stderr",
     "output_type": "stream",
     "text": [
      "C:\\ProgramData\\Anaconda3\\lib\\site-packages\\ipykernel_launcher.py:1: SettingWithCopyWarning: \n",
      "A value is trying to be set on a copy of a slice from a DataFrame.\n",
      "Try using .loc[row_indexer,col_indexer] = value instead\n",
      "\n",
      "See the caveats in the documentation: https://pandas.pydata.org/pandas-docs/stable/user_guide/indexing.html#returning-a-view-versus-a-copy\n",
      "  \"\"\"Entry point for launching an IPython kernel.\n"
     ]
    }
   ],
   "source": [
    "train['enttypeitem_label'] = (train['enttypeitem']-train['enttype'])/10"
   ]
  },
  {
   "cell_type": "code",
   "execution_count": 7,
   "metadata": {},
   "outputs": [],
   "source": [
    "x_train = train.drop(['id','enttypeitem_label','enttypeitem'],axis=1)\n",
    "y_train = train['enttypeitem_label']\n",
    "x_test = test.drop(['id','enttypeitem'],axis=1)"
   ]
  },
  {
   "cell_type": "code",
   "execution_count": 8,
   "metadata": {},
   "outputs": [
    {
     "name": "stdout",
     "output_type": "stream",
     "text": [
      "<class 'pandas.core.frame.DataFrame'>\n",
      "Int64Index: 8214 entries, 1 to 24859\n",
      "Data columns (total 30 columns):\n",
      " #   Column         Non-Null Count  Dtype  \n",
      "---  ------         --------------  -----  \n",
      " 0   label          4637 non-null   float64\n",
      " 1   oplocdistrict  8214 non-null   int64  \n",
      " 2   industryphy    8214 non-null   object \n",
      " 3   industryco     8214 non-null   float64\n",
      " 4   dom            8214 non-null   object \n",
      " 5   opscope        8214 non-null   object \n",
      " 6   enttype        8214 non-null   int64  \n",
      " 7   opfrom         8214 non-null   int32  \n",
      " 8   opto           150 non-null    float64\n",
      " 9   state          8214 non-null   int64  \n",
      " 10  orgid          8214 non-null   int64  \n",
      " 11  jobid          8214 non-null   int64  \n",
      " 12  adbusign       8214 non-null   int64  \n",
      " 13  townsign       8214 non-null   int64  \n",
      " 14  regtype        8214 non-null   int64  \n",
      " 15  empnum         8206 non-null   float64\n",
      " 16  compform       8178 non-null   float64\n",
      " 17  parnum         0 non-null      float64\n",
      " 18  exenum         0 non-null      float64\n",
      " 19  opform         8214 non-null   object \n",
      " 20  venind         8125 non-null   float64\n",
      " 21  enttypeminu    0 non-null      float64\n",
      " 22  protype        0 non-null      float64\n",
      " 23  oploc          8214 non-null   object \n",
      " 24  regcap         8214 non-null   float64\n",
      " 25  reccap         65 non-null     float64\n",
      " 26  forreccap      23 non-null     float64\n",
      " 27  forregcap      23 non-null     float64\n",
      " 28  congro         23 non-null     float64\n",
      " 29  enttypegb      8214 non-null   int64  \n",
      "dtypes: float64(15), int32(1), int64(9), object(5)\n",
      "memory usage: 1.9+ MB\n"
     ]
    }
   ],
   "source": [
    "x_test.info()"
   ]
  },
  {
   "cell_type": "code",
   "execution_count": 9,
   "metadata": {},
   "outputs": [
    {
     "name": "stdout",
     "output_type": "stream",
     "text": [
      "0:\tlearn: 2.0525938\ttotal: 242ms\tremaining: 8m 4s\n",
      "500:\tlearn: 0.0125408\ttotal: 1m 18s\tremaining: 3m 55s\n",
      "1000:\tlearn: 0.0084459\ttotal: 2m 41s\tremaining: 2m 40s\n",
      "1500:\tlearn: 0.0066994\ttotal: 4m 4s\tremaining: 1m 21s\n",
      "1999:\tlearn: 0.0056082\ttotal: 5m 29s\tremaining: 0us\n"
     ]
    }
   ],
   "source": [
    "from catboost import CatBoostClassifier\n",
    "catboost_model = CatBoostClassifier(\n",
    "    iterations=2000,\n",
    "    od_type='Iter',\n",
    "    od_wait=120,\n",
    "    max_depth=8,\n",
    "    learning_rate=0.02,\n",
    "    l2_leaf_reg=9,\n",
    "    random_seed=2020,\n",
    "    metric_period=50,\n",
    "    fold_len_multiplier=1.1,\n",
    "    loss_function='MultiClass',\n",
    "    logging_level='Verbose'\n",
    "    )\n",
    "cat_attrs = [2,4,5,19,23]\n",
    "catboost_model.fit(x_train,y_train,cat_features=cat_attrs,verbose=500)\n",
    "y_pred = catboost_model.predict(x_test)\n"
   ]
  },
  {
   "cell_type": "code",
   "execution_count": 14,
   "metadata": {
    "scrolled": true
   },
   "outputs": [],
   "source": [
    "x_test['enttypeitem_label'] = y_pred"
   ]
  },
  {
   "cell_type": "code",
   "execution_count": 16,
   "metadata": {},
   "outputs": [
    {
     "data": {
      "text/plain": [
       "3.0    8967\n",
       "5.0    5721\n",
       "9.0     868\n",
       "4.0     764\n",
       "1.0     147\n",
       "2.0     110\n",
       "0.0      71\n",
       "8.0       2\n",
       "6.0       1\n",
       "Name: enttypeitem_label, dtype: int64"
      ]
     },
     "execution_count": 16,
     "metadata": {},
     "output_type": "execute_result"
    }
   ],
   "source": [
    "y_train.value_counts()"
   ]
  },
  {
   "cell_type": "code",
   "execution_count": 15,
   "metadata": {},
   "outputs": [
    {
     "data": {
      "text/plain": [
       "0.0    8120\n",
       "1.0      72\n",
       "4.0      20\n",
       "3.0       2\n",
       "Name: enttypeitem_label, dtype: int64"
      ]
     },
     "execution_count": 15,
     "metadata": {},
     "output_type": "execute_result"
    }
   ],
   "source": [
    "x_test['enttypeitem_label'].value_counts()"
   ]
  }
 ],
 "metadata": {
  "kernelspec": {
   "display_name": "Python 3",
   "language": "python",
   "name": "python3"
  },
  "language_info": {
   "codemirror_mode": {
    "name": "ipython",
    "version": 3
   },
   "file_extension": ".py",
   "mimetype": "text/x-python",
   "name": "python",
   "nbconvert_exporter": "python",
   "pygments_lexer": "ipython3",
   "version": "3.6.4"
  }
 },
 "nbformat": 4,
 "nbformat_minor": 2
}
