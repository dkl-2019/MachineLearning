{
 "cells": [
  {
   "cell_type": "code",
   "execution_count": 1,
   "metadata": {},
   "outputs": [
    {
     "name": "stderr",
     "output_type": "stream",
     "text": [
      "C:\\ProgramData\\Anaconda3\\lib\\site-packages\\dask\\dataframe\\utils.py:14: FutureWarning: pandas.util.testing is deprecated. Use the functions in the public API at pandas.testing instead.\n",
      "  import pandas.util.testing as tm\n",
      "C:\\ProgramData\\Anaconda3\\lib\\site-packages\\sklearn\\ensemble\\weight_boosting.py:29: DeprecationWarning: numpy.core.umath_tests is an internal NumPy module and should not be imported. It will be removed in a future NumPy release.\n",
      "  from numpy.core.umath_tests import inner1d\n"
     ]
    }
   ],
   "source": [
    "import warnings\n",
    "from tqdm import tqdm\n",
    "import numpy as np\n",
    "import pandas as pd\n",
    "import xgboost as xgb\n",
    "import lightgbm as lgb\n",
    "import catboost as cab\n",
    "from sklearn.ensemble import RandomForestClassifier\n",
    "from sklearn.model_selection import StratifiedKFold\n",
    "from sklearn.model_selection import train_test_split\n",
    "from sklearn.metrics import f1_score,precision_recall_fscore_support,roc_curve,auc,roc_auc_score\n",
    "from sklearn.model_selection import GridSearchCV\n",
    "from matplotlib import pyplot as plt\n",
    "from sklearn.ensemble import RandomForestClassifier\n",
    "import pandas as pd\n",
    "import gc\n",
    "#from featexp import get_univariate_plots#用于特征筛选，需要先安装featexp\n",
    "warnings.filterwarnings(\"ignore\")\n",
    "plt.rcParams['font.sans-serif']=['Simhei']\n",
    "plt.rcParams['axes.unicode_minus']=False\n",
    "import json"
   ]
  },
  {
   "cell_type": "code",
   "execution_count": 2,
   "metadata": {},
   "outputs": [],
   "source": [
    "entprise_train = pd.read_csv('../train/entprise_info.csv',engine='python')\n",
    "base_info = pd.read_csv('../train/base_info.csv',engine='python',encoding='utf-8')\n",
    "entprise_test = pd.read_csv('../entprise_evaluate.csv')\n",
    "reccap_predict = pd.read_csv('../reccap_predict.csv')['reccap']\n",
    "empnum_predict = pd.read_csv('../empnum_predict.csv')['empnum']"
   ]
  },
  {
   "cell_type": "code",
   "execution_count": 3,
   "metadata": {},
   "outputs": [],
   "source": [
    "entprise = pd.concat([entprise_train,entprise_test])\n",
    "data = pd.merge(entprise,base_info,on='id')\n",
    "data.drop(['ptbusscope','midpreindcode','score'],axis=1,inplace=True)"
   ]
  },
  {
   "cell_type": "code",
   "execution_count": 4,
   "metadata": {},
   "outputs": [],
   "source": [
    "data['enttypeitem'] = data['enttypegb']//10*10\n",
    "data['enttypeminu'] = data['enttypegb']"
   ]
  },
  {
   "cell_type": "code",
   "execution_count": 5,
   "metadata": {},
   "outputs": [],
   "source": [
    "data['regcap'] = data['regcap'].fillna(data['regcap'].mean())\n",
    "data['reccap'] = reccap_predict\n",
    "data['empnum'] = empnum_predict\n",
    "data['reccap'] = data['reccap']"
   ]
  },
  {
   "cell_type": "code",
   "execution_count": 6,
   "metadata": {},
   "outputs": [
    {
     "name": "stdout",
     "output_type": "stream",
     "text": [
      "<class 'pandas.core.frame.DataFrame'>\n",
      "Int64Index: 24865 entries, 0 to 24864\n",
      "Data columns (total 32 columns):\n",
      " #   Column         Non-Null Count  Dtype  \n",
      "---  ------         --------------  -----  \n",
      " 0   id             24865 non-null  object \n",
      " 1   label          14865 non-null  float64\n",
      " 2   oplocdistrict  24865 non-null  int64  \n",
      " 3   industryphy    24865 non-null  object \n",
      " 4   industryco     24864 non-null  float64\n",
      " 5   dom            24865 non-null  object \n",
      " 6   opscope        24865 non-null  object \n",
      " 7   enttype        24865 non-null  int64  \n",
      " 8   enttypeitem    24865 non-null  int64  \n",
      " 9   opfrom         24865 non-null  object \n",
      " 10  opto           8825 non-null   object \n",
      " 11  state          24865 non-null  int64  \n",
      " 12  orgid          24865 non-null  int64  \n",
      " 13  jobid          24865 non-null  int64  \n",
      " 14  adbusign       24865 non-null  int64  \n",
      " 15  townsign       24865 non-null  int64  \n",
      " 16  regtype        24865 non-null  int64  \n",
      " 17  empnum         24865 non-null  float64\n",
      " 18  compform       10631 non-null  float64\n",
      " 19  parnum         2339 non-null   float64\n",
      " 20  exenum         1378 non-null   float64\n",
      " 21  opform         9000 non-null   object \n",
      " 22  venind         8437 non-null   float64\n",
      " 23  enttypeminu    24865 non-null  int64  \n",
      " 24  protype        34 non-null     float64\n",
      " 25  oploc          24865 non-null  object \n",
      " 26  regcap         24865 non-null  float64\n",
      " 27  reccap         24865 non-null  float64\n",
      " 28  forreccap      227 non-null    float64\n",
      " 29  forregcap      250 non-null    float64\n",
      " 30  congro         249 non-null    float64\n",
      " 31  enttypegb      24865 non-null  int64  \n",
      "dtypes: float64(13), int64(11), object(8)\n",
      "memory usage: 6.3+ MB\n"
     ]
    }
   ],
   "source": [
    "data.info()"
   ]
  },
  {
   "cell_type": "code",
   "execution_count": 7,
   "metadata": {},
   "outputs": [],
   "source": [
    "data['opform'].fillna(10,inplace=True)\n",
    "data['opform'] = data['opform'].astype(str)"
   ]
  },
  {
   "cell_type": "code",
   "execution_count": 8,
   "metadata": {},
   "outputs": [],
   "source": [
    "from sklearn.preprocessing import LabelEncoder\n",
    "labelencoder1 = LabelEncoder()\n",
    "labelencoder2 = LabelEncoder()\n",
    "labelencoder3 = LabelEncoder()\n",
    "labelencoder4 = LabelEncoder()\n",
    "data['opform'] = labelencoder1.fit_transform(data['opform'])\n",
    "data['oploc'] = labelencoder2.fit_transform(data['oploc'])\n",
    "data['industryphy'] = labelencoder3.fit_transform(data['industryphy'])\n",
    "data['oplocdistrict'] = labelencoder4.fit_transform(data['oplocdistrict'])"
   ]
  },
  {
   "cell_type": "code",
   "execution_count": 9,
   "metadata": {},
   "outputs": [],
   "source": [
    "def opto_process(x):\n",
    "    if len(x)>3:\n",
    "        return x[:4]\n",
    "    else:\n",
    "        return x\n",
    "data['opfrom'] = data['opfrom'].map(lambda x:x[:4])\n",
    "data['opto'].fillna('nan',inplace=True)\n",
    "data['opto'] = data['opto'].map(opto_process)\n",
    "data['opfrom'] = data['opfrom'].astype(int)\n",
    "data['opto'] = data['opto'].astype(float)"
   ]
  },
  {
   "cell_type": "code",
   "execution_count": 10,
   "metadata": {},
   "outputs": [],
   "source": [
    "data['industryco'] = data['industryco'].fillna(data['industryco'].mean())"
   ]
  },
  {
   "cell_type": "code",
   "execution_count": 11,
   "metadata": {},
   "outputs": [],
   "source": [
    "data.loc[data['opto'].isnull(),\"opto\"] = data[data['opto'].isnull()]['opfrom']+50.0"
   ]
  },
  {
   "cell_type": "code",
   "execution_count": 12,
   "metadata": {},
   "outputs": [],
   "source": [
    "data['enttpe_year'] = data['opfrom'] - data['opto']"
   ]
  },
  {
   "cell_type": "code",
   "execution_count": 13,
   "metadata": {},
   "outputs": [],
   "source": [
    "data['opscope'] = data['opscope'].apply(lambda x:x.replace(\"、\",\"/\").replace(\"；\",\"/\").replace(\"，\",\"/\").replace(\"。\",\"/\"))\n",
    "data['opscope'] = data['opscope'].apply(lambda x:x.replace(\"（\",\"/\").replace(\"）\",\"/\").replace(\"，\",\"/\").replace(\"。\",\"/\"))"
   ]
  },
  {
   "cell_type": "code",
   "execution_count": 14,
   "metadata": {
    "scrolled": true
   },
   "outputs": [],
   "source": [
    "data['opscope'] = data['opscope'].apply(lambda x:\"\".join(x.split(\"/\")))"
   ]
  },
  {
   "cell_type": "code",
   "execution_count": 15,
   "metadata": {},
   "outputs": [
    {
     "data": {
      "text/plain": [
       "0        实业投资创业投资投资咨询不得从事经纪涉及前置许可的除外依法须经批准的项目经相关部门批准后方可...\n",
       "1                                           摄影摄像相册冲印制作司仪服务\n",
       "2        OLED显示屏制造LED电子屏销售发光二极管LED芯片制造设备制造发光二极管LED管制造标牌...\n",
       "3        新能源科技领域内的技术研发技术服务金属材料除贵金属煤炭铁精粉矿产品钢材化工产品除危化品建筑材...\n",
       "4                        汽车维修保养服务依法须经批准的项目经相关部门批准后方可开展经营活动\n",
       "                               ...                        \n",
       "24860    化妆品日用百货一类医疗器械婴幼儿用品服装服饰销售健康信息咨询除医疗广告设计制作发布代理投资管...\n",
       "24861    生物技术咨询研发转让保健食品批发食品流通许可证有效期至2017年8月3日化妆品高分子材料电器...\n",
       "24862    环保领域内的技术开发技术咨询技术服务技术转让环保设备的设计生产销售镁合金铝合金及其它金属国家...\n",
       "24863    电子产品电子元器件线束电子连接器五金电线电缆研发生产销售自营和代理各类商品和技术的进出口业务...\n",
       "24864    资产管理投资管理投资咨询证券期货咨询除外财务咨询企业管理咨询以上咨询均除经纪市场信息咨询企业...\n",
       "Name: opscope, Length: 24865, dtype: object"
      ]
     },
     "execution_count": 15,
     "metadata": {},
     "output_type": "execute_result"
    }
   ],
   "source": [
    "data['opscope']"
   ]
  },
  {
   "cell_type": "code",
   "execution_count": 16,
   "metadata": {},
   "outputs": [
    {
     "name": "stderr",
     "output_type": "stream",
     "text": [
      "Building prefix dict from the default dictionary ...\n",
      "Loading model from cache C:\\Users\\ADMINI~1\\AppData\\Local\\Temp\\jieba.cache\n",
      "Loading model cost 0.566 seconds.\n",
      "Prefix dict has been built successfully.\n"
     ]
    }
   ],
   "source": [
    "import jieba\n",
    "data['opscope_1'] = data['opscope'].apply(lambda x:jieba.lcut(x,cut_all=True))"
   ]
  },
  {
   "cell_type": "code",
   "execution_count": 17,
   "metadata": {},
   "outputs": [],
   "source": [
    "from collections import Counter\n",
    "def jieba_func(x):\n",
    "    str1 = list(Counter(x).keys())[0]\n",
    "    str2 = list(Counter(x).keys())[1]\n",
    "    count = str1+str2\n",
    "    return count\n",
    "data['count_opscope'] = data['opscope'].apply(lambda x:jieba_func(x))"
   ]
  },
  {
   "cell_type": "code",
   "execution_count": 18,
   "metadata": {},
   "outputs": [],
   "source": [
    "le6 = LabelEncoder()\n",
    "data['opscope_length'] = data['opscope_1'].apply(lambda x:len(x))\n",
    "# data['opscope'] = data['opscope'].apply(lambda x:x.split('/')[-2:])\n",
    "data['opscope_label'] = le6.fit_transform(data['count_opscope'])"
   ]
  },
  {
   "cell_type": "code",
   "execution_count": 19,
   "metadata": {},
   "outputs": [
    {
     "name": "stdout",
     "output_type": "stream",
     "text": [
      "分桶完毕.................\n"
     ]
    }
   ],
   "source": [
    "def bucket(name,bucket_len):\n",
    "    gap_list=[data[name].quantile(i/bucket_len) for i in range(bucket_len+1)]\n",
    "    len_data=len(data[name])\n",
    "    new_col=[]\n",
    "    for i in data[name].values:\n",
    "        for j in range(len(gap_list)):\n",
    "            if gap_list[j]>=i:\n",
    "                encode=j\n",
    "                break\n",
    "        new_col.append(encode)\n",
    "    return new_col\n",
    "#注册资本_实缴资本\n",
    "data['regcap_reccap']=data['regcap']-data['reccap']\n",
    "#注册资本分桶\n",
    "data['regcap']=data['regcap'].fillna(data['regcap'].median())\n",
    "data['bucket_regcap']=bucket('regcap',5)\n",
    "#实缴资本分桶\n",
    "data['reccap']=data['reccap'].fillna(data['reccap'].median())\n",
    "data['bucket_reccap']=bucket('reccap',5)\n",
    "#注册资本_实缴资本分桶\n",
    "data['regcap_reccap']=data['regcap_reccap'].fillna(data['regcap_reccap'].median())\n",
    "data['bucket_regcap_reccap']=bucket('regcap_reccap',5)\n",
    "print('分桶完毕.................')"
   ]
  },
  {
   "cell_type": "code",
   "execution_count": 20,
   "metadata": {},
   "outputs": [],
   "source": [
    "# data['dom'] = data['dom'].apply(lambda x:x[:16])\n",
    "le7 = LabelEncoder()\n",
    "data['dom'] = le7.fit_transform(data['dom'])"
   ]
  },
  {
   "cell_type": "code",
   "execution_count": 21,
   "metadata": {},
   "outputs": [],
   "source": [
    "# data['dom_1'] = data['dom'].apply(lambda x:x[:16])\n",
    "# data['dom_2'] = data['dom'].apply(lambda x:x[16:32])\n",
    "# data['dom_3'] = data['dom'].apply(lambda x:x[32:48])\n",
    "# data['dom_4'] = data['dom'].apply(lambda x:x[48:64])\n",
    "# data['dom_5'] = data['dom'].apply(lambda x:x[64:80])\n",
    "# data['dom_6'] = data['dom'].apply(lambda x:x[80:])\n",
    "# from sklearn.preprocessing import LabelEncoder\n",
    "# features_name = [i for i in data.columns if i in [\"dom\",\"dom_1\",\"dom_2\",\"dom_3\",\"dom_4\",\"dom_5\",\"dom_6\"]]\n",
    "# for i in features_name:\n",
    "#     le = LabelEncoder()\n",
    "#     data[i+'_label'] = le.fit_transform(data[i])\n",
    "# #data['finall_label'] = data['dom_1_label']+data['dom_2_label']+data['dom_3_label']+data['dom_4_label']+data['dom_5_label']+data['dom_6_label']"
   ]
  },
  {
   "cell_type": "code",
   "execution_count": 22,
   "metadata": {},
   "outputs": [
    {
     "data": {
      "text/plain": [
       "0        20778\n",
       "1        17164\n",
       "2         6889\n",
       "3         8423\n",
       "4         3372\n",
       "         ...  \n",
       "24860    21920\n",
       "24861    12389\n",
       "24862      568\n",
       "24863    11310\n",
       "24864    19326\n",
       "Name: dom, Length: 24865, dtype: int64"
      ]
     },
     "execution_count": 22,
     "metadata": {},
     "output_type": "execute_result"
    }
   ],
   "source": [
    "data['dom']"
   ]
  },
  {
   "cell_type": "code",
   "execution_count": 23,
   "metadata": {},
   "outputs": [
    {
     "name": "stderr",
     "output_type": "stream",
     "text": [
      "100%|████████████████████████████████████████████████████████████████████████| 24865/24865 [00:00<00:00, 130749.43it/s]\n",
      "100%|████████████████████████████████████████████████████████████████████████| 24865/24865 [00:00<00:00, 135015.32it/s]\n",
      "100%|████████████████████████████████████████████████████████████████████████| 24865/24865 [00:00<00:00, 132140.01it/s]\n",
      "100%|████████████████████████████████████████████████████████████████████████| 24865/24865 [00:00<00:00, 132846.95it/s]\n",
      "100%|████████████████████████████████████████████████████████████████████████| 24865/24865 [00:00<00:00, 132847.12it/s]\n",
      "100%|████████████████████████████████████████████████████████████████████████| 24865/24865 [00:00<00:00, 132140.01it/s]\n",
      "100%|████████████████████████████████████████████████████████████████████████| 24865/24865 [00:00<00:00, 131441.37it/s]\n"
     ]
    }
   ],
   "source": [
    "from tqdm import tqdm\n",
    "def cross_two(name_1,name_2):\n",
    "    new_col=[]\n",
    "    encode=0\n",
    "    dic={}\n",
    "    val_1=data[name_1]\n",
    "    val_2=data[name_2]\n",
    "    for i in tqdm(range(len(val_1))):\n",
    "        tmp=str(val_1[i])+'_'+str(val_2[i])\n",
    "        if tmp in dic:\n",
    "            new_col.append(dic[tmp])\n",
    "        else:\n",
    "            dic[tmp]=encode\n",
    "            new_col.append(encode)\n",
    "            encode+=1\n",
    "    return new_col\n",
    "#作企业类型-小类的交叉特征\n",
    "data['enttypegb']=data['enttypegb'].fillna(\"无\")\n",
    "data['enttypeitem']=data['enttypeitem'].fillna(\"无\")\n",
    "new_col=cross_two('enttypegb','enttypeitem')#作企业类型-小类的交叉特征\n",
    "data['enttypegb_enttypeitem']=new_col\n",
    "#\n",
    "#行业类别-细类的交叉特征\n",
    "data['industryphy']=data['industryphy'].fillna(\"无\")\n",
    "data['industryco']=data['industryco'].fillna(\"无\")\n",
    "new_col=cross_two('industryphy','industryco')#作企业类型-小类的交叉特征\n",
    "data['industryphy_industryco']=new_col\n",
    "#企业类型-行业类别的交叉特征\n",
    "new_col=cross_two('enttypegb','industryphy')#作企业类型-小类的交叉特征\n",
    "data['enttypegb_industryphy']=new_col\n",
    "#行业类别-企业类型小类的交叉特征\n",
    "new_col=cross_two('industryphy','enttypeitem')#作企业类型-小类的交叉特征\n",
    "data['industryphy_enttypeitem']=new_col\n",
    "#行业类别细类--企业类型小类的交叉特征\n",
    "new_col=cross_two('industryco','enttypeitem')#作企业类型-小类的交叉特征\n",
    "data['industryco_enttypeitem']=new_col\n",
    "new_col=cross_two('enttype','enttypegb_enttypeitem')#作企业类型-小类的交叉特征\n",
    "data['enttype_enttypegb_enttypeitem']=new_col\n",
    "#企业类型-小类-行业类别-细类的交叉特征\n",
    "new_col=cross_two('enttypegb_enttypeitem','industryphy_industryco')#作企业类型-小类的交叉特征\n",
    "data['enttypegb_enttypeitem_industryphy_industryco']=new_col"
   ]
  },
  {
   "cell_type": "code",
   "execution_count": 24,
   "metadata": {},
   "outputs": [],
   "source": [
    "data['enttypeminu_RANK'] = data['enttypeminu'].map(data.groupby(['enttypeminu'])['label'].mean().rank())\n",
    "data['enttypeitem_RANK'] = data['enttypeitem'].map(data.groupby(['enttypeitem'])['label'].mean().rank())\n",
    "data['enttype_RANK'] = data['enttype'].map(data.groupby(['enttype'])['label'].mean().rank())"
   ]
  },
  {
   "cell_type": "code",
   "execution_count": 25,
   "metadata": {},
   "outputs": [],
   "source": [
    "for fea in ['industryphy','enttype','enttypeitem','opfrom','regcap','opto','enttypeminu']:\n",
    "    data[fea+'_counts'] = data.groupby([fea])['id'].transform('count')"
   ]
  },
  {
   "cell_type": "code",
   "execution_count": 26,
   "metadata": {},
   "outputs": [],
   "source": [
    "x_train = data[data['label'].notnull()]\n",
    "y_train = x_train['label']\n",
    "x_test = data[data['label'].isnull()]\n",
    "features_name = [i for i in data.columns if i not in ['id','regcap','reccap','enttype','enttypeitem','enttypeminu','bucket_regcap_reccap','townsign','count_opscope','opscope_1','oplocdistrict','adbusign','compform','opform','orgid','exenum','opscope','enttypegb','label','state','jobid','regtype','parnum','venind','protype','oploc','forreccap','forregcap','congro']]\n",
    "#features_name = ['industryco', 'dom', 'opfrom', 'opto', 'empnum', 'enttpe_year', 'opscope_length', 'opscope_label', 'regcap_reccap', 'bucket_regcap', 'bucket_reccap', 'enttypegb_enttypeitem', 'industryphy_industryco', 'enttypegb_industryphy', 'industryphy_enttypeitem', 'industryco_enttypeitem', 'enttypegb_enttypeitem_industryphy_industryco', 'industryphy_counts', 'enttype_counts', 'enttypeitem_counts', 'empnum_counts', 'regcap_counts', 'opto_counts']\n",
    "x_train = x_train[features_name]\n",
    "x_test = x_test[features_name]"
   ]
  },
  {
   "cell_type": "code",
   "execution_count": 27,
   "metadata": {},
   "outputs": [],
   "source": [
    "x_train = x_train.fillna(-1)\n",
    "x_test = x_test.fillna(-1)"
   ]
  },
  {
   "cell_type": "code",
   "execution_count": 28,
   "metadata": {},
   "outputs": [
    {
     "name": "stdout",
     "output_type": "stream",
     "text": [
      "<class 'pandas.core.frame.DataFrame'>\n",
      "Int64Index: 10000 entries, 14865 to 24864\n",
      "Data columns (total 29 columns):\n",
      " #   Column                                        Non-Null Count  Dtype  \n",
      "---  ------                                        --------------  -----  \n",
      " 0   industryphy                                   10000 non-null  int64  \n",
      " 1   industryco                                    10000 non-null  float64\n",
      " 2   dom                                           10000 non-null  int64  \n",
      " 3   opfrom                                        10000 non-null  int32  \n",
      " 4   opto                                          10000 non-null  float64\n",
      " 5   empnum                                        10000 non-null  float64\n",
      " 6   enttpe_year                                   10000 non-null  float64\n",
      " 7   opscope_length                                10000 non-null  int64  \n",
      " 8   opscope_label                                 10000 non-null  int64  \n",
      " 9   regcap_reccap                                 10000 non-null  float64\n",
      " 10  bucket_regcap                                 10000 non-null  int64  \n",
      " 11  bucket_reccap                                 10000 non-null  int64  \n",
      " 12  enttypegb_enttypeitem                         10000 non-null  int64  \n",
      " 13  industryphy_industryco                        10000 non-null  int64  \n",
      " 14  enttypegb_industryphy                         10000 non-null  int64  \n",
      " 15  industryphy_enttypeitem                       10000 non-null  int64  \n",
      " 16  industryco_enttypeitem                        10000 non-null  int64  \n",
      " 17  enttype_enttypegb_enttypeitem                 10000 non-null  int64  \n",
      " 18  enttypegb_enttypeitem_industryphy_industryco  10000 non-null  int64  \n",
      " 19  enttypeminu_RANK                              10000 non-null  float64\n",
      " 20  enttypeitem_RANK                              10000 non-null  float64\n",
      " 21  enttype_RANK                                  10000 non-null  float64\n",
      " 22  industryphy_counts                            10000 non-null  int64  \n",
      " 23  enttype_counts                                10000 non-null  int64  \n",
      " 24  enttypeitem_counts                            10000 non-null  int64  \n",
      " 25  opfrom_counts                                 10000 non-null  int64  \n",
      " 26  regcap_counts                                 10000 non-null  int64  \n",
      " 27  opto_counts                                   10000 non-null  int64  \n",
      " 28  enttypeminu_counts                            10000 non-null  int64  \n",
      "dtypes: float64(8), int32(1), int64(20)\n",
      "memory usage: 2.3 MB\n"
     ]
    }
   ],
   "source": [
    "x_test.info()"
   ]
  },
  {
   "cell_type": "code",
   "execution_count": null,
   "metadata": {},
   "outputs": [],
   "source": [
    "from itertools import combinations\n",
    "\n",
    "def combine(temp_list, n):\n",
    "    temp_list2 = []\n",
    "    for c in combinations(temp_list, n):\n",
    "        temp_list2.append(list(c))\n",
    "    return temp_list2\n",
    "\n",
    "list1 = x_train.columns.values\n",
    "end_list = []\n",
    "for i in range(24,len(list1)+1):\n",
    "    end_list.extend(combine(list1, i))"
   ]
  },
  {
   "cell_type": "code",
   "execution_count": null,
   "metadata": {},
   "outputs": [],
   "source": [
    "print(len(end_list))"
   ]
  },
  {
   "cell_type": "markdown",
   "metadata": {},
   "source": [
    "## 随机森林"
   ]
  },
  {
   "cell_type": "code",
   "execution_count": 29,
   "metadata": {},
   "outputs": [
    {
     "name": "stdout",
     "output_type": "stream",
     "text": [
      "************************************ 1 ************************************\n",
      "train F1：0.928391959798995\n",
      "Valid F1：0.8439897698209717\n",
      "************************************ 2 ************************************\n",
      "train F1：0.929951690821256\n",
      "Valid F1：0.8259587020648967\n",
      "************************************ 3 ************************************\n",
      "train F1：0.9267982176957351\n",
      "Valid F1：0.8644859813084111\n",
      "************************************ 4 ************************************\n",
      "train F1：0.922879177377892\n",
      "Valid F1：0.8771084337349399\n",
      "************************************ 5 ************************************\n",
      "train F1：0.9241645244215939\n",
      "Valid F1：0.8416075650118202\n",
      "Train average F1：0.9264371140230944 Valid average F1：0.8506300903882078\n"
     ]
    }
   ],
   "source": [
    "from sklearn.metrics import auc, roc_curve,f1_score,precision_score,recall_score\n",
    "from sklearn.model_selection import StratifiedKFold, KFold\n",
    "from catboost import CatBoostRegressor\n",
    "from sklearn.ensemble import RandomForestClassifier\n",
    "# 模型\n",
    "rf = RandomForestClassifier(oob_score=True, random_state=2020,\n",
    "            n_estimators= 60,max_depth=13,min_samples_split=10)\n",
    "def stat_func(x):\n",
    "    l1 = []\n",
    "    for i in x:\n",
    "        if i>0.5:\n",
    "            a = 1\n",
    "            l1.append(a)\n",
    "        else:\n",
    "            a = 0\n",
    "            l1.append(a)\n",
    "    return l1\n",
    "def score_fuc(p,r):\n",
    "    return 2*p*r/(p+r)\n",
    "cat_list = [3]\n",
    "# 本地验证\n",
    "kf = KFold(n_splits=5,shuffle=True,random_state=2020)\n",
    "devscore = []\n",
    "tevscore = []\n",
    "count = 1\n",
    "result_test = pd.DataFrame()\n",
    "for tidx,didx in kf.split(x_train.index):\n",
    "    print('************************************ {} ************************************'.format(str(count)))\n",
    "    count += 1\n",
    "    tf = x_train.iloc[tidx]\n",
    "    df = x_train.iloc[didx]\n",
    "    tt = y_train.iloc[tidx]\n",
    "    dt = y_train.iloc[didx]\n",
    "    rf.fit(tf, tt)\n",
    "    pre_train = rf.predict(tf)\n",
    "    stat_pre_train = stat_func(pre_train)\n",
    "    p = precision_score(tt,stat_pre_train)\n",
    "    r = recall_score(tt,stat_pre_train)\n",
    "    score = score_fuc(p,r)\n",
    "    #score = f1_score(stat_pre_train,tt)\n",
    "    tevscore.append(score)\n",
    "    print(\"train F1：%s\"%score)\n",
    "    pre = rf.predict(df)\n",
    "    stat_pre = stat_func(pre)\n",
    "    p = precision_score(dt,stat_pre)\n",
    "    r = recall_score(dt,stat_pre)\n",
    "    score = score_fuc(p,r)\n",
    "    devscore.append(score)\n",
    "    print(\"Valid F1：%s\"%score)\n",
    "    result_test[str(count-1)+\"折\"] = rf.predict(x_test)/5\n",
    "print(\"Train average F1：%s\"%np.mean(tevscore),\"Valid average F1：%s\"%np.mean(devscore))\n",
    "result_test['result'] = result_test['1折']+result_test['2折']+result_test['3折']+result_test['4折']+result_test['5折']\n",
    "result = result_test['result'].values\n",
    "result_1 = stat_func(result)"
   ]
  },
  {
   "cell_type": "code",
   "execution_count": 30,
   "metadata": {},
   "outputs": [
    {
     "data": {
      "image/png": "[encoded data removed]",
      "text/plain": [
       "<Figure size 720x720 with 1 Axes>"
      ]
     },
     "metadata": {},
     "output_type": "display_data"
    }
   ],
   "source": [
    "import matplotlib.pyplot as plt\n",
    "plt.figure(figsize=(10,10))\n",
    "a = pd.DataFrame()\n",
    "feature_import = rf.feature_importances_\n",
    "feature_name  = x_train.columns.tolist()\n",
    "plt.barh(feature_name,feature_import)\n",
    "plt.show()"
   ]
  },
  {
   "cell_type": "code",
   "execution_count": 31,
   "metadata": {},
   "outputs": [
    {
     "data": {
      "text/plain": [
       "0    9097\n",
       "1     903\n",
       "Name: score, dtype: int64"
      ]
     },
     "execution_count": 31,
     "metadata": {},
     "output_type": "execute_result"
    }
   ],
   "source": [
    "entprise_test = pd.read_csv('../entprise_evaluate.csv')\n",
    "dict1 = {\n",
    "    'id':entprise_test.id,\n",
    "    'score':result_1\n",
    "}\n",
    "df = pd.DataFrame(dict1)\n",
    "df.score.value_counts()"
   ]
  },
  {
   "cell_type": "code",
   "execution_count": null,
   "metadata": {},
   "outputs": [],
   "source": [
    "entprise_test = pd.read_csv('../entprise_evaluate.csv')\n",
    "dict1 = {\n",
    "    'id':entprise_test.id,\n",
    "    'score':result_1\n",
    "}\n",
    "df = pd.DataFrame(dict1)\n",
    "df.to_csv(r'../result/1130_3.csv', index=False)"
   ]
  },
  {
   "cell_type": "code",
   "execution_count": null,
   "metadata": {},
   "outputs": [],
   "source": [
    "from sklearn.metrics import auc, roc_curve,f1_score,precision_score,recall_score\n",
    "from sklearn.model_selection import StratifiedKFold, KFold\n",
    "from catboost import CatBoostRegressor\n",
    "from sklearn.ensemble import RandomForestClassifier\n",
    "# 模型\n",
    "def model_func(x_train_a,y_train_a):\n",
    "    rf = RandomForestClassifier(oob_score=True, random_state=2020,\n",
    "                n_estimators= 60,max_depth=13,min_samples_split=10)\n",
    "    def stat_func(x):\n",
    "        l1 = []\n",
    "        for i in x:\n",
    "            if i>0.5:\n",
    "                a = 1\n",
    "                l1.append(a)\n",
    "            else:\n",
    "                a = 0\n",
    "                l1.append(a)\n",
    "        return l1\n",
    "    def score_fuc(p,r):\n",
    "        return 2*p*r/(p+r)\n",
    "    cat_list = [3]\n",
    "    # 本地验证\n",
    "    kf = KFold(n_splits=5,shuffle=True,random_state=2020)\n",
    "    devscore = []\n",
    "    tevscore = []\n",
    "    count = 1\n",
    "#     result_test = pd.DataFrame()\n",
    "    for tidx,didx in kf.split(x_train_a.index):\n",
    "        #print('************************************ {} ************************************'.format(str(count)))\n",
    "        count += 1\n",
    "        tf = x_train_a.iloc[tidx]\n",
    "        df = x_train_a.iloc[didx]\n",
    "        tt = y_train_a.iloc[tidx]\n",
    "        dt = y_train_a.iloc[didx]\n",
    "        rf.fit(tf, tt)\n",
    "        pre_train = rf.predict(tf)\n",
    "        stat_pre_train = stat_func(pre_train)\n",
    "        p = precision_score(tt,stat_pre_train)\n",
    "        r = recall_score(tt,stat_pre_train)\n",
    "        score = score_fuc(p,r)\n",
    "        #score = f1_score(stat_pre_train,tt)\n",
    "        tevscore.append(score)\n",
    "        print(\"train F1：%s\"%score)\n",
    "        pre = rf.predict(df)\n",
    "        stat_pre = stat_func(pre)\n",
    "        p = precision_score(dt,stat_pre)\n",
    "        r = recall_score(dt,stat_pre)\n",
    "        score = score_fuc(p,r)\n",
    "        devscore.append(score)\n",
    "        print(\"Valid F1：%s\"%score)\n",
    "        result_test[str(count-1)+\"折\"] = rf.predict(x_test)/5\n",
    "    print(\"Train average F1：%s\"%np.mean(tevscore),\"Valid average F1：%s\"%np.mean(devscore))\n",
    "    return np.mean(devscore)"
   ]
  },
  {
   "cell_type": "code",
   "execution_count": null,
   "metadata": {},
   "outputs": [],
   "source": [
    "import"
   ]
  },
  {
   "cell_type": "code",
   "execution_count": null,
   "metadata": {},
   "outputs": [],
   "source": [
    "best = 0\n",
    "best_dic = {}\n",
    "for n in end_list:\n",
    "    features_name = n\n",
    "    x_train_a = x_train[features_name]\n",
    "    x_test_a = x_test[features_name]\n",
    "    f1_score = model_func(x_train_a,y_train)\n",
    "    if f1_score>best:\n",
    "        best = f1_score\n",
    "        best_dic[best] = n\n",
    "        print(n)"
   ]
  },
  {
   "cell_type": "code",
   "execution_count": null,
   "metadata": {},
   "outputs": [],
   "source": [
    "l = ['industryco', 'dom', 'opfrom', 'opto', 'empnum', 'enttpe_year', 'opscope_length', 'opscope_label', 'regcap_reccap', 'bucket_regcap', 'bucket_reccap', 'enttypegb_enttypeitem', 'industryphy_industryco', 'enttypegb_industryphy', 'industryphy_enttypeitem', 'industryco_enttypeitem', 'enttypegb_enttypeitem_industryphy_industryco', 'industryphy_counts', 'enttype_counts', 'enttypeitem_counts', 'empnum_counts', 'regcap_counts', 'opto_counts']\n",
    "len(l)\n",
    "#0.8514893338633541"
   ]
  },
  {
   "cell_type": "code",
   "execution_count": null,
   "metadata": {},
   "outputs": [],
   "source": [
    "result_test['result'] = result_test['1折']+result_test['2折']+result_test['3折']+result_test['4折']+result_test['5折']"
   ]
  },
  {
   "cell_type": "code",
   "execution_count": null,
   "metadata": {},
   "outputs": [],
   "source": [
    "result = result_test['result'].values\n",
    "result_1 = stat_func(result)"
   ]
  },
  {
   "cell_type": "code",
   "execution_count": null,
   "metadata": {},
   "outputs": [],
   "source": [
    "import matplotlib.pyplot as plt\n",
    "plt.figure(figsize=(10,10))\n",
    "a = pd.DataFrame()\n",
    "feature_import = rf.feature_importances_\n",
    "feature_name  = x_train.columns.tolist()\n",
    "plt.barh(feature_name,feature_import)\n",
    "plt.show()"
   ]
  },
  {
   "cell_type": "code",
   "execution_count": null,
   "metadata": {},
   "outputs": [],
   "source": [
    "entprise_test = pd.read_csv('entprise_evaluate.csv')\n",
    "dict1 = {\n",
    "    'id':entprise_test.id,\n",
    "    'score':result_1\n",
    "}\n",
    "df = pd.DataFrame(dict1)\n",
    "df.to_csv(r'1115_1.csv', index=False)"
   ]
  },
  {
   "cell_type": "code",
   "execution_count": null,
   "metadata": {},
   "outputs": [],
   "source": [
    "from sklearn.metrics import auc, roc_curve,f1_score\n",
    "from sklearn.model_selection import StratifiedKFold, KFold\n",
    "#from catboost import CatBoostRegressor\n",
    "import lightgbm as lgb\n",
    "# 模型\n",
    "model_lgb = lgb.LGBMRegressor(objective='regression',num_leaves=100,\n",
    "                              learning_rate=0.2, n_estimators=60, max_depth=5, \n",
    "                              metric='rmse', bagging_fraction = 1.0, feature_fraction = 1.0)\n",
    "def stat_func(x):\n",
    "    l1 = []\n",
    "    for i in x:\n",
    "        if i>0.5:\n",
    "            a = 1\n",
    "            l1.append(a)\n",
    "        else:\n",
    "            a = 0\n",
    "            l1.append(a)\n",
    "    return l1\n",
    "cat_list = [3]\n",
    "# 本地验证\n",
    "kf = KFold(n_splits=5,shuffle=True,random_state=2020)\n",
    "devscore = []\n",
    "tevscore = []\n",
    "count = 1\n",
    "result_test = pd.DataFrame()\n",
    "for tidx,didx in kf.split(x_train.index):\n",
    "    print('************************************ {} ************************************'.format(str(count)))\n",
    "    count += 1\n",
    "    tf = x_train.iloc[tidx]\n",
    "    df = x_train.iloc[didx]\n",
    "    tt = y_train.iloc[tidx]\n",
    "    dt = y_train.iloc[didx]\n",
    "    lgb_train = lgb.Dataset(tf,tt,free_raw_data=False)\n",
    "    lgb_eval = lgb.Dataset(df,dt,reference=lgb_train,free_raw_data=False)\n",
    "    model_lgb.fit(tf,tt)\n",
    "    #catr.fit(tf, tt,cat_features=cat_list)\n",
    "    pre_train = model_lgb.predict(tf)\n",
    "    stat_pre_train = stat_func(pre_train)\n",
    "    score = f1_score(stat_pre_train,tt)\n",
    "    tevscore.append(score)\n",
    "    print(\"train F1：%s\"%score)\n",
    "    pre = model_lgb.predict(df)\n",
    "    stat_pre = stat_func(pre)\n",
    "    score = f1_score(stat_pre,dt)\n",
    "    devscore.append(score)\n",
    "    print(\"Valid F1：%s\"%score)\n",
    "    result_test[str(count-1)+\"折\"] = rf.predict(x_test)/5\n",
    "print(\"Train average F1：%s\"%np.mean(tevscore),\"Valid average F1：%s\"%np.mean(devscore))\n",
    "result_test['result'] = result_test['1折']+result_test['2折']+result_test['3折']+result_test['4折']+result_test['5折']\n",
    "result = result_test['result'].values\n",
    "result_1 = stat_func(result)"
   ]
  },
  {
   "cell_type": "code",
   "execution_count": null,
   "metadata": {},
   "outputs": [],
   "source": [
    "entprise_test = pd.read_csv('../entprise_evaluate.csv')\n",
    "dict1 = {\n",
    "    'id':entprise_test.id,\n",
    "    'score':result_1\n",
    "}\n",
    "df = pd.DataFrame(dict1)\n",
    "df.score.value_counts()"
   ]
  },
  {
   "cell_type": "code",
   "execution_count": null,
   "metadata": {},
   "outputs": [],
   "source": [
    "entprise_test = pd.read_csv('../entprise_evaluate.csv')\n",
    "dict1 = {\n",
    "    'id':entprise_test.id,\n",
    "    'score':result_1\n",
    "}\n",
    "df = pd.DataFrame(dict1)\n",
    "df.to_csv(r'../result/1120_2_lgb.csv', index=False)"
   ]
  },
  {
   "cell_type": "markdown",
   "metadata": {},
   "source": [
    "## Catboost"
   ]
  },
  {
   "cell_type": "code",
   "execution_count": null,
   "metadata": {},
   "outputs": [],
   "source": [
    "from sklearn.metrics import auc, roc_curve,f1_score,precision_score,recall_score\n",
    "from sklearn.model_selection import StratifiedKFold, KFold\n",
    "from catboost import CatBoostRegressor\n",
    "# 模型\n",
    "def makecatr():\n",
    "    params = {\n",
    "        \"learning_rate\":0.01,\n",
    "        'iterations':5000,\n",
    "        'depth': 5,\n",
    "        'l2_leaf_reg': 3,\n",
    "        'bootstrap_type':'Bernoulli',\n",
    "        'od_type': 'Iter',\n",
    "        'od_wait': 50,\n",
    "        'random_seed': 2020,\n",
    "        'allow_writing_files': False,\n",
    "        'task_type':'CPU',\n",
    "        'verbose':500,\n",
    "        'loss_function':'RMSE',\n",
    "    }\n",
    "    \n",
    "    catr = CatBoostRegressor(**params)\n",
    "    return catr\n",
    "def stat_func(x):\n",
    "    l1 = []\n",
    "    for i in x:\n",
    "        if i>0.5:\n",
    "            a = 1\n",
    "            l1.append(a)\n",
    "        else:\n",
    "            a = 0\n",
    "            l1.append(a)\n",
    "    return l1\n",
    "def score_fuc(p,r):\n",
    "    return 2*p*r/(p+r)\n",
    "cat_list = [3]\n",
    "# 本地验证\n",
    "kf = KFold(n_splits=5,shuffle=True,random_state=2020)\n",
    "devscore = []\n",
    "tevscore = []\n",
    "count = 1\n",
    "result_test = pd.DataFrame()\n",
    "for tidx,didx in kf.split(x_train.index):\n",
    "    print('************************************ {} ************************************'.format(str(count)))\n",
    "    count += 1\n",
    "    tf = x_train.iloc[tidx]\n",
    "    df = x_train.iloc[didx]\n",
    "    tt = y_train.iloc[tidx]\n",
    "    dt = y_train.iloc[didx]\n",
    "    catr = makecatr()\n",
    "    catr.fit(tf, tt,cat_features=cat_list)\n",
    "    pre_train = catr.predict(tf)\n",
    "    stat_pre_train = stat_func(pre_train)\n",
    "    p = precision_score(tt,stat_pre_train)\n",
    "    r = recall_score(tt,stat_pre_train)\n",
    "    score = score_fuc(p,r)\n",
    "    #score = f1_score(stat_pre_train,tt)\n",
    "    tevscore.append(score)\n",
    "    print(\"train F1：%s\"%score)\n",
    "    pre = catr.predict(df)\n",
    "    stat_pre = stat_func(pre)\n",
    "    p = precision_score(dt,stat_pre)\n",
    "    r = recall_score(dt,stat_pre)\n",
    "    score = score_fuc(p,r)\n",
    "    devscore.append(score)\n",
    "    result_test[str(count-1)+\"折\"] = rf.predict(x_test)/5\n",
    "    print(\"Valid F1：%s\"%score)\n",
    "print(\"Train average F1：%s\"%np.mean(tevscore),\"Valid average F1：%s\"%np.mean(devscore))\n",
    "result_test['result'] = result_test['1折']+result_test['2折']+result_test['3折']+result_test['4折']+result_test['5折']\n",
    "result = result_test['result'].values\n",
    "result_1 = stat_func(result)"
   ]
  },
  {
   "cell_type": "code",
   "execution_count": null,
   "metadata": {},
   "outputs": [],
   "source": [
    "result_1"
   ]
  },
  {
   "cell_type": "code",
   "execution_count": null,
   "metadata": {},
   "outputs": [],
   "source": [
    "entprise_test = pd.read_csv('entprise_evaluate.csv')\n",
    "dict1 = {\n",
    "    'id':entprise_test.id,\n",
    "    'score':result_1\n",
    "}\n",
    "df = pd.DataFrame(dict1)\n",
    "df.to_csv(r'1115_2.csv', index=False)"
   ]
  },
  {
   "cell_type": "code",
   "execution_count": null,
   "metadata": {},
   "outputs": [],
   "source": [
    "from sklearn.metrics import auc, roc_curve,f1_score\n",
    "from sklearn.model_selection import StratifiedKFold, KFold\n",
    "#from catboost import CatBoostRegressor\n",
    "import lightgbm as lgb\n",
    "# 模型\n",
    "params = {\n",
    "        'boosting_type': 'gbdt',\n",
    "        'boosting': 'dart',\n",
    "        'objective': 'binary',\n",
    "        'metric': 'binary_logloss',\n",
    "        'learning_rate': 0.01,\n",
    "        'num_leaves':25,\n",
    "        'max_depth':3,\n",
    "        'max_bin':10,\n",
    "        'min_data_in_leaf':8,\n",
    "        'feature_fraction': 0.6,\n",
    "        'bagging_fraction': 1,\n",
    "        'bagging_freq':0,\n",
    "        'lambda_l1': 0,\n",
    "        'lambda_l2': 0,\n",
    "        'min_split_gain': 0\n",
    "}\n",
    "def stat_func(x):\n",
    "    l1 = []\n",
    "    for i in x:\n",
    "        if i>0.5:\n",
    "            a = 1\n",
    "            l1.append(a)\n",
    "        else:\n",
    "            a = 0\n",
    "            l1.append(a)\n",
    "    return l1\n",
    "cat_list = [3]\n",
    "# 本地验证\n",
    "kf = KFold(n_splits=5,shuffle=True,random_state=2020)\n",
    "devscore = []\n",
    "tevscore = []\n",
    "count = 1\n",
    "for tidx,didx in kf.split(x_train.index):\n",
    "    print('************************************ {} ************************************'.format(str(count)))\n",
    "    count += 1\n",
    "    tf = x_train.iloc[tidx]\n",
    "    df = x_train.iloc[didx]\n",
    "    tt = y_train.iloc[tidx]\n",
    "    dt = y_train.iloc[didx]\n",
    "    lgb_train = lgb.Dataset(tf,tt,free_raw_data=False)\n",
    "    lgb_eval = lgb.Dataset(df,dt,reference=lgb_train,free_raw_data=False)\n",
    "    gbm  = lgb.train(params,lgb_train,num_boost_round=2000,valid_sets=lgb_eval,verbose_eval=200)\n",
    "    #catr.fit(tf, tt,cat_features=cat_list)\n",
    "    pre_train = gbm.predict(tf)\n",
    "    stat_pre_train = stat_func(pre_train)\n",
    "    score = f1_score(stat_pre_train,tt)\n",
    "    tevscore.append(score)\n",
    "    print(\"train F1：%s\"%score)\n",
    "    pre = gbm.predict(df)\n",
    "    stat_pre = stat_func(pre)\n",
    "    score = f1_score(stat_pre,dt)\n",
    "    devscore.append(score)\n",
    "    print(\"Valid F1：%s\"%score)\n",
    "print(\"Train average F1：%s\"%np.mean(tevscore),\"Valid average F1：%s\"%np.mean(devscore))"
   ]
  },
  {
   "cell_type": "code",
   "execution_count": null,
   "metadata": {},
   "outputs": [],
   "source": [
    "entprise_test = pd.read_csv('entprise_evaluate.csv')\n",
    "dict1 = {\n",
    "    'id':entprise_test.id,\n",
    "    'score':pre\n",
    "}\n",
    "df = pd.DataFrame(dict1)\n",
    "df.to_csv(r'1109_3.csv', index=False)\n",
    "# 0.82877408\n",
    "#0.8267"
   ]
  },
  {
   "cell_type": "code",
   "execution_count": null,
   "metadata": {},
   "outputs": [],
   "source": [
    "def eval_score(y_test,y_pre):\n",
    "    _,_,f_class,_=precision_recall_fscore_support(y_true=y_test,y_pred=y_pre,labels=[0,1],average=None)\n",
    "    fper_class={'合法':f_class[0],'违法':f_class[1],'f1':f1_score(y_test,y_pre)}\n",
    "    return fper_class\n",
    "#\n",
    "def k_fold_serachParmaters(model,train_val_data,train_val_kind):\n",
    "    mean_f1=0\n",
    "    mean_f1Train=0\n",
    "    n_splits=5\n",
    "    sk = StratifiedKFold(n_splits=n_splits, shuffle=True, random_state=2020)\n",
    "    for train, test in sk.split(train_val_data, train_val_kind):\n",
    "        x_train = train_val_data.iloc[train]\n",
    "        y_train = train_val_kind.iloc[train]\n",
    "        x_test = train_val_data.iloc[test]\n",
    "        y_test = train_val_kind.iloc[test]\n",
    "\n",
    "        model.fit(x_train, y_train)\n",
    "        pred = model.predict(x_test)\n",
    "        fper_class =  eval_score(y_test,pred)\n",
    "        mean_f1+=fper_class['f1']/n_splits\n",
    "        #print(fper_class)\n",
    "        \n",
    "        pred_Train = model.predict(x_train)\n",
    "        fper_class_train =  eval_score(y_train,pred_Train)\n",
    "        mean_f1Train+=fper_class_train['f1']/n_splits\n",
    "    #print('mean valf1:',mean_f1)\n",
    "    #print('mean trainf1:',mean_f1Train)\n",
    "    return mean_f1"
   ]
  },
  {
   "cell_type": "code",
   "execution_count": null,
   "metadata": {},
   "outputs": [],
   "source": [
    "rf = RandomForestClassifier(oob_score=True, random_state=2020,\n",
    "            n_estimators= 15,max_depth=19,min_samples_split=12)\n",
    "k_fold_serachParmaters(rf,x_train,y_train)"
   ]
  },
  {
   "cell_type": "code",
   "execution_count": null,
   "metadata": {},
   "outputs": [],
   "source": [
    "pre1 = rf.predict(x_test)"
   ]
  },
  {
   "cell_type": "code",
   "execution_count": null,
   "metadata": {},
   "outputs": [],
   "source": [
    "entprise_test = pd.read_csv('entprise_evaluate.csv')\n",
    "dict1 = {\n",
    "    'id':entprise_test.id,\n",
    "    'score':pre1\n",
    "}\n",
    "df = pd.DataFrame(dict1)\n",
    "df.to_csv(r'1109_1.csv', index=False)"
   ]
  },
  {
   "cell_type": "code",
   "execution_count": null,
   "metadata": {},
   "outputs": [],
   "source": [
    "n_estimators_list = []\n",
    "for i in range(60,70):\n",
    "    n_estimators_list.append(int(i))\n",
    "min_samples_split_list = []\n",
    "for i in range(12,30):\n",
    "    min_samples_split_list.append(i)\n",
    "max_depth_list = []\n",
    "for i in range(19,30):\n",
    "    max_depth_list.append(i)"
   ]
  },
  {
   "cell_type": "code",
   "execution_count": null,
   "metadata": {
    "scrolled": false
   },
   "outputs": [],
   "source": [
    "from sklearn.ensemble import RandomForestClassifier\n",
    "from sklearn.model_selection import learning_curve, GridSearchCV\n",
    "\n",
    "def search_param(n_estimators,max_depth,min_samples_split):\n",
    "    rf = RandomForestClassifier(oob_score=True, random_state=2020,\n",
    "                    n_estimators= n_estimators,max_depth=max_depth,min_samples_split=min_samples_split)\n",
    "    mean_f1=k_fold_serachParmaters(rf,x_train,y_train)\n",
    "    return mean_f1\n",
    "\n",
    "#搜索最佳参数\n",
    "param=[]\n",
    "best=0\n",
    "for n_estimators in n_estimators_list:\n",
    "    print('n_estimators:',n_estimators)\n",
    "    for min_samples_split in min_samples_split_list:\n",
    "        for max_depth in max_depth_list:\n",
    "            mean_f1=search_param(n_estimators,max_depth,min_samples_split)\n",
    "            if mean_f1>best:\n",
    "                param=[n_estimators,min_samples_split,max_depth]\n",
    "                best=mean_f1\n",
    "                print(param,best)"
   ]
  },
  {
   "cell_type": "code",
   "execution_count": null,
   "metadata": {},
   "outputs": [],
   "source": [
    "n_estimators = 15\n",
    "min_samples_split = 12\n",
    "max_depth = 19"
   ]
  },
  {
   "cell_type": "code",
   "execution_count": null,
   "metadata": {},
   "outputs": [],
   "source": [
    "x_train.enttypeitem.unique()"
   ]
  },
  {
   "cell_type": "code",
   "execution_count": null,
   "metadata": {},
   "outputs": [],
   "source": [
    "x_train.regcap.value_counts()"
   ]
  },
  {
   "cell_type": "code",
   "execution_count": null,
   "metadata": {},
   "outputs": [],
   "source": [
    "x_train.reccap[0]"
   ]
  },
  {
   "cell_type": "code",
   "execution_count": null,
   "metadata": {
    "scrolled": true
   },
   "outputs": [],
   "source": [
    "x_train.info()"
   ]
  },
  {
   "cell_type": "code",
   "execution_count": null,
   "metadata": {
    "scrolled": false
   },
   "outputs": [],
   "source": [
    "feas_importances_dict = {col:importance for col,importance in zip(list(x_train.columns),list(catr.feature_importances_))}\n",
    "print('Feature importances:\\n',feas_importances_dict)"
   ]
  },
  {
   "cell_type": "code",
   "execution_count": null,
   "metadata": {},
   "outputs": [],
   "source": [
    "feas_importances_dict = {col:importance for col,importance in zip(list(x_train.columns),list(catr.feature_importances_))}\n",
    "print('Feature importances:\\n',feas_importances_dict)"
   ]
  },
  {
   "cell_type": "code",
   "execution_count": null,
   "metadata": {},
   "outputs": [],
   "source": [
    "'bucket_regcap_reccap'"
   ]
  }
 ],
 "metadata": {
  "kernelspec": {
   "display_name": "Python 3",
   "language": "python",
   "name": "python3"
  },
  "language_info": {
   "codemirror_mode": {
    "name": "ipython",
    "version": 3
   },
   "file_extension": ".py",
   "mimetype": "text/x-python",
   "name": "python",
   "nbconvert_exporter": "python",
   "pygments_lexer": "ipython3",
   "version": "3.6.4"
  }
 },
 "nbformat": 4,
 "nbformat_minor": 2
}
