{
 "cells": [
  {
   "cell_type": "code",
   "execution_count": 1,
   "metadata": {},
   "outputs": [
    {
     "name": "stderr",
     "output_type": "stream",
     "text": [
      "C:\\ProgramData\\Anaconda3\\lib\\site-packages\\dask\\dataframe\\utils.py:14: FutureWarning: pandas.util.testing is deprecated. Use the functions in the public API at pandas.testing instead.\n",
      "  import pandas.util.testing as tm\n",
      "C:\\ProgramData\\Anaconda3\\lib\\site-packages\\sklearn\\ensemble\\weight_boosting.py:29: DeprecationWarning: numpy.core.umath_tests is an internal NumPy module and should not be imported. It will be removed in a future NumPy release.\n",
      "  from numpy.core.umath_tests import inner1d\n"
     ]
    }
   ],
   "source": [
    "import warnings\n",
    "from tqdm import tqdm\n",
    "import numpy as np\n",
    "import pandas as pd\n",
    "import xgboost as xgb\n",
    "import lightgbm as lgb\n",
    "import catboost as cab\n",
    "from sklearn.ensemble import RandomForestClassifier\n",
    "from sklearn.metrics import classification_report, f1_score\n",
    "from sklearn.model_selection import StratifiedKFold, KFold\n",
    "from sklearn.model_selection import train_test_split\n",
    "from sklearn.metrics import f1_score,precision_recall_fscore_support,roc_curve,auc,roc_auc_score\n",
    "from sklearn.model_selection import GridSearchCV\n",
    "from matplotlib import pyplot as plt\n",
    "from sklearn.ensemble import RandomForestClassifier\n",
    "import pandas as pd\n",
    "import gc\n",
    "from sklearn import feature_extraction\n",
    "from sklearn.feature_extraction.text import TfidfTransformer\n",
    "from sklearn.feature_extraction.text import CountVectorizer\n",
    "\n",
    "#from featexp import get_univariate_plots#用于特征筛选，需要先安装featexp\n",
    "warnings.filterwarnings(\"ignore\")\n",
    "plt.rcParams['font.sans-serif']=['Simhei']\n",
    "plt.rcParams['axes.unicode_minus']=False\n",
    "import json\n",
    "import jieba"
   ]
  },
  {
   "cell_type": "code",
   "execution_count": 2,
   "metadata": {},
   "outputs": [],
   "source": [
    "base_info=pd.read_csv('train/base_info.csv')#企业的基本信息\n",
    "annual_report_info=pd.read_csv('train/annual_report_info.csv')#企业的年报基本信息\n",
    "tax_info=pd.read_csv('train/tax_info.csv')#企业的纳税信息\n",
    "change_info=pd.read_csv('train/change_info.csv')#变更信息\n",
    "news_info=pd.read_csv('train/news_info.csv')#舆情信18\n",
    "other_info=pd.read_csv('train/other_info.csv')#其它信息\n",
    "entprise_info=pd.read_csv('train/entprise_info.csv')#企业标注信息{0: 13884, 1: 981}\n",
    "entprise_evaluate=pd.read_csv('entprise_evaluate.csv')#未标注信息"
   ]
  },
  {
   "cell_type": "code",
   "execution_count": 3,
   "metadata": {},
   "outputs": [],
   "source": [
    "entprise_train = pd.read_csv('train/entprise_info.csv',engine='python')\n",
    "base_info = pd.read_csv('train/base_info.csv',engine='python',encoding='utf-8')\n",
    "entprise_test = pd.read_csv('entprise_evaluate.csv')\n",
    "reccap_predict = pd.read_csv('reccap_predict.csv')['reccap']\n",
    "empnum_predict = pd.read_csv('empnum_predict.csv')['empnum']"
   ]
  },
  {
   "cell_type": "code",
   "execution_count": 4,
   "metadata": {},
   "outputs": [
    {
     "name": "stdout",
     "output_type": "stream",
     "text": [
      "finished .............\n"
     ]
    }
   ],
   "source": [
    "#change_info\n",
    "change_info_clean=change_info.drop(['bgrq','bgq','bgh'],axis=1)\n",
    "change_info_clean = change_info_clean.groupby('id',sort=False).agg('mean')\n",
    "change_info_clean=pd.DataFrame(change_info_clean).reset_index()\n",
    "#other_info\n",
    "#空值大于0.5的列都删除掉\n",
    "buf_group = other_info.groupby('id',sort=False).agg('mean')\n",
    "other_info_clean=pd.DataFrame(buf_group).reset_index()\n",
    "other_info_clean=other_info_clean.fillna(-1)\n",
    "other_info_clean = other_info_clean.groupby('id',sort=False).agg('mean')\n",
    "other_info_clean=pd.DataFrame(other_info_clean).reset_index()\n",
    "#news_info\n",
    "news_info_clean=news_info.drop(['public_date'],axis=1)\n",
    "#对object类型进行编码\n",
    "news_info_clean['positive_negtive']=news_info_clean['positive_negtive'].fillna(\"中立\")\n",
    "#\n",
    "dic={}\n",
    "cate=news_info_clean.positive_negtive.unique()\n",
    "for i in range(len(cate)):\n",
    "    dic[cate[i]]=i\n",
    "#\n",
    "news_info_clean['positive_negtive']=news_info_clean['positive_negtive'].map(dic)\n",
    "news_info_clean = news_info_clean.groupby('id',sort=False).agg('mean')\n",
    "news_info_clean=pd.DataFrame(news_info_clean).reset_index()\n",
    "#处理annual_report_info的数据\n",
    "#空值大于0.5的列都删除掉\n",
    "annual_report_info_clean=annual_report_info.dropna(thresh=annual_report_info.shape[0]*0.5,how='all',axis=1)\n",
    "#对object类型进行编码\n",
    "annual_report_info_clean['BUSSTNAME']=annual_report_info_clean['BUSSTNAME'].fillna(\"无\")\n",
    "dic = {'无':-1,'开业':0, '歇业':1, '停业':2, '清算':3}\n",
    "#\n",
    "annual_report_info_clean['BUSSTNAME']=annual_report_info_clean['BUSSTNAME'].map(dic)\n",
    "annual_report_info_clean = annual_report_info_clean.groupby('id',sort=False).agg('mean')\n",
    "annual_report_info_clean=pd.DataFrame(annual_report_info_clean).reset_index()\n",
    "#处理tax数据\n",
    "tax_info_clean=tax_info.copy()\n",
    "tax_info_clean['START_DATE']=pd.to_datetime(tax_info_clean['START_DATE'])\n",
    "tax_info_clean['END_DATE']=pd.to_datetime(tax_info_clean['END_DATE'])\n",
    "tax_info_clean['gap_day']=(tax_info_clean['END_DATE']-tax_info_clean['START_DATE']).dt.total_seconds()//3600//24\n",
    "tax_info_clean=tax_info_clean.drop(['START_DATE','END_DATE'],axis=1)\n",
    "tax_info_clean['TAX_CATEGORIES']=tax_info_clean['TAX_CATEGORIES'].fillna(\"无\")#17 unique\n",
    "tax_info_clean['TAX_ITEMS']=tax_info_clean['TAX_ITEMS'].fillna(\"无\")#275 TAX_ITEMS\n",
    "#对object类型进行编码\n",
    "dic={}\n",
    "cate=tax_info_clean.TAX_CATEGORIES.unique()\n",
    "for i in range(len(cate)):\n",
    "    dic[cate[i]]=i\n",
    "tax_info_clean['TAX_CATEGORIES']=tax_info_clean['TAX_CATEGORIES'].map(dic)\n",
    "#\n",
    "dic={}\n",
    "cate=tax_info_clean.TAX_ITEMS.unique()\n",
    "for i in range(len(cate)):\n",
    "    dic[cate[i]]=i\n",
    "tax_info_clean['TAX_ITEMS']=tax_info_clean['TAX_ITEMS'].map(dic)\n",
    "tax_info_clean['income']=tax_info_clean['TAX_AMOUNT']/tax_info_clean['TAX_RATE']\n",
    "#\n",
    "tax_info_clean = tax_info_clean.groupby('id',sort=False).agg('mean')\n",
    "tax_info_clean=pd.DataFrame(tax_info_clean).reset_index()\n",
    "#税额分箱\n",
    "tax_info_clean['TAX_AMOUNT']=tax_info_clean['TAX_AMOUNT'].fillna(tax_info_clean['TAX_AMOUNT'].median())\n",
    "tax_info_clean['bucket_TAX_AMOUNT']=pd.qcut(tax_info_clean['TAX_AMOUNT'], 10, labels=False,duplicates='drop')\n",
    "print('finished .............')"
   ]
  },
  {
   "cell_type": "code",
   "execution_count": null,
   "metadata": {},
   "outputs": [],
   "source": [
    "def stopwordslist():\n",
    "    stopwords = [line.strip() for line in open('cn_stopwords.txt',encoding='UTF-8').readlines()]\n",
    "    return stopwords\n",
    "# 创建一个停用词列表\n",
    "stopwords = stopwordslist()\n",
    "stopwords+=['、', '；', '，', '）','（']\n",
    "#\n",
    "train_df_scope=base_info.merge(entprise_train)[['id','opscope','label']]\n",
    "test_df_scope=base_info[base_info['id'].isin(entprise_test['id'].unique().tolist())]\n",
    "test_df_scope=test_df_scope.reset_index(drop=True)[['id','opscope']]\n",
    "str_label_0=''\n",
    "str_label_1=''\n",
    "for index,name,opscope,label in train_df_scope.itertuples():\n",
    "    # 结巴分词\n",
    "    seg_text = jieba.cut(opscope.replace(\"\\t\", \" \").replace(\"\\n\", \" \"))\n",
    "    outline = \" \".join(seg_text)\n",
    "    out_str=\"\"\n",
    "    for per in outline.split():\n",
    "        if per not in stopwords: \n",
    "            out_str += per\n",
    "            out_str+=\" \"\n",
    "    if label==0:\n",
    "        str_label_0+=out_str\n",
    "    else:\n",
    "        str_label_1+=out_str\n",
    "corpus=[str_label_0,str_label_1]\n",
    "vectorizer=CountVectorizer()#该类会将文本中的词语转换为词频矩阵，矩阵元素a[i][j] 表示j词在i类文本下的词频\n",
    "transformer=TfidfTransformer()#该类会统计每个词语的tf-idf权值\n",
    "tfidf=transformer.fit_transform(vectorizer.fit_transform(corpus))#第一个fit_transform是计算tf-idf，第二个fit_transform是将文本转为词频矩阵\n",
    "word=vectorizer.get_feature_names()#获取词袋模型中的所有词语总共7175个词语\n",
    "weight=tfidf.toarray()#将(2, 7175)tf-idf矩阵抽取出来，元素a[i][j]表示j词在i类文本中的tf-idf权重\n",
    "# for i in range(len(weight)):#打印每类文本的tf-idf词语权重，第一个for遍历所有文本，第二个for便利某一类文本下的词语权重\n",
    "#     #\n",
    "#     for j in range(len(word)):\n",
    "#         print(word[j],weight[i][j])\n",
    "#下面将会根据tfidi算出来的权重将经营范围的文本特征转换为数值(利用weight[1,:]也即各个词语在第二类(违法类中所占据的权重之和))\n",
    "illegal_word_weights={}\n",
    "for i in range(len(word)):\n",
    "    illegal_word_weights[word[i]]=weight[1][i]\n",
    "tfidi_opscope=[]\n",
    "for index,name,opscope in base_info[['id','opscope']].itertuples():\n",
    "    seg_text = jieba.cut(opscope.replace(\"\\t\", \" \").replace(\"\\n\", \" \"))\n",
    "    outline = \" \".join(seg_text)\n",
    "    tfidi_frt=0\n",
    "    for per in outline.split():\n",
    "        if per in illegal_word_weights: \n",
    "            tfidi_frt+=illegal_word_weights[per]\n",
    "    tfidi_opscope.append(tfidi_frt)\n",
    "base_info['tfidif_opscope']=tfidi_opscope\n",
    "print('对opscope提取tfidif特征完毕..........')"
   ]
  },
  {
   "cell_type": "code",
   "execution_count": 6,
   "metadata": {},
   "outputs": [],
   "source": [
    "entprise = pd.concat([entprise_train,entprise_test])\n",
    "data = pd.merge(entprise,base_info,on='id')\n",
    "data.drop(['ptbusscope','midpreindcode','score'],axis=1,inplace=True)"
   ]
  },
  {
   "cell_type": "code",
   "execution_count": 7,
   "metadata": {},
   "outputs": [],
   "source": [
    "data=data.merge(annual_report_info_clean,how='outer')\n",
    "data=data.merge(tax_info_clean,how='outer')\n",
    "data=data.merge(change_info_clean,how='outer')\n",
    "data=data.merge(news_info_clean,how='outer')\n",
    "data=data.merge(other_info_clean,how='outer')"
   ]
  },
  {
   "cell_type": "code",
   "execution_count": 8,
   "metadata": {},
   "outputs": [],
   "source": [
    "data['id_feature'] = data['id'].apply(lambda x:x[:16])\n",
    "from sklearn.preprocessing import LabelEncoder\n",
    "le1 = LabelEncoder()\n",
    "data['id_feature'] =le1.fit_transform(data['id_feature'])"
   ]
  },
  {
   "cell_type": "code",
   "execution_count": 9,
   "metadata": {},
   "outputs": [
    {
     "name": "stdout",
     "output_type": "stream",
     "text": [
      "<class 'pandas.core.frame.DataFrame'>\n",
      "Int64Index: 24865 entries, 0 to 24864\n",
      "Data columns (total 64 columns):\n",
      " #   Column              Non-Null Count  Dtype  \n",
      "---  ------              --------------  -----  \n",
      " 0   id                  24865 non-null  object \n",
      " 1   label               14865 non-null  float64\n",
      " 2   oplocdistrict       24865 non-null  int64  \n",
      " 3   industryphy         24865 non-null  object \n",
      " 4   industryco          24864 non-null  float64\n",
      " 5   dom                 24865 non-null  object \n",
      " 6   opscope             24865 non-null  object \n",
      " 7   enttype             24865 non-null  int64  \n",
      " 8   enttypeitem         16651 non-null  float64\n",
      " 9   opfrom              24865 non-null  object \n",
      " 10  opto                8825 non-null   object \n",
      " 11  state               24865 non-null  int64  \n",
      " 12  orgid               24865 non-null  int64  \n",
      " 13  jobid               24865 non-null  int64  \n",
      " 14  adbusign            24865 non-null  int64  \n",
      " 15  townsign            24865 non-null  int64  \n",
      " 16  regtype             24865 non-null  int64  \n",
      " 17  empnum              19615 non-null  float64\n",
      " 18  compform            10631 non-null  float64\n",
      " 19  parnum              2339 non-null   float64\n",
      " 20  exenum              1378 non-null   float64\n",
      " 21  opform              9000 non-null   object \n",
      " 22  venind              8437 non-null   float64\n",
      " 23  enttypeminu         7270 non-null   float64\n",
      " 24  protype             34 non-null     float64\n",
      " 25  oploc               24865 non-null  object \n",
      " 26  regcap              24674 non-null  float64\n",
      " 27  reccap              7084 non-null   float64\n",
      " 28  forreccap           227 non-null    float64\n",
      " 29  forregcap           250 non-null    float64\n",
      " 30  congro              249 non-null    float64\n",
      " 31  enttypegb           24865 non-null  int64  \n",
      " 32  ANCHEYEAR           8937 non-null   float64\n",
      " 33  STATE               8937 non-null   float64\n",
      " 34  EMPNUM              8932 non-null   float64\n",
      " 35  EMPNUMSIGN          6225 non-null   float64\n",
      " 36  BUSSTNAME           8937 non-null   float64\n",
      " 37  COLGRANUM           8176 non-null   float64\n",
      " 38  RETSOLNUM           8176 non-null   float64\n",
      " 39  DISPERNUM           8176 non-null   float64\n",
      " 40  UNENUM              8176 non-null   float64\n",
      " 41  COLEMPLNUM          8176 non-null   float64\n",
      " 42  RETEMPLNUM          8176 non-null   float64\n",
      " 43  DISEMPLNUM          8176 non-null   float64\n",
      " 44  UNEEMPLNUM          8176 non-null   float64\n",
      " 45  WEBSITSIGN          8931 non-null   float64\n",
      " 46  FORINVESTSIGN       6118 non-null   float64\n",
      " 47  STOCKTRANSIGN       5034 non-null   float64\n",
      " 48  PUBSTATE            8932 non-null   float64\n",
      " 49  TAX_CATEGORIES      808 non-null    float64\n",
      " 50  TAX_ITEMS           808 non-null    float64\n",
      " 51  TAXATION_BASIS      386 non-null    float64\n",
      " 52  TAX_RATE            386 non-null    float64\n",
      " 53  DEDUCTION           386 non-null    float64\n",
      " 54  TAX_AMOUNT          808 non-null    float64\n",
      " 55  gap_day             808 non-null    float64\n",
      " 56  income              386 non-null    float64\n",
      " 57  bucket_TAX_AMOUNT   808 non-null    float64\n",
      " 58  bgxmdm              8726 non-null   float64\n",
      " 59  positive_negtive    927 non-null    float64\n",
      " 60  legal_judgment_num  1888 non-null   float64\n",
      " 61  brand_num           1888 non-null   float64\n",
      " 62  patent_num          1888 non-null   float64\n",
      " 63  id_feature          24865 non-null  int64  \n",
      "dtypes: float64(46), int64(10), object(8)\n",
      "memory usage: 12.3+ MB\n"
     ]
    }
   ],
   "source": [
    "data.info()"
   ]
  },
  {
   "cell_type": "code",
   "execution_count": 10,
   "metadata": {},
   "outputs": [],
   "source": [
    "data['enttypeitem'] = data['enttypegb']//10*10\n",
    "data['enttypeminu'] = data['enttypegb']\n",
    "data['regcap'] = data['regcap'].fillna(data['regcap'].mean())\n",
    "data['reccap'] = reccap_predict\n",
    "data['empnum'] = empnum_predict\n",
    "data['reccap'] = data['reccap']\n",
    "data['opform'].fillna(10,inplace=True)\n",
    "data['opform'] = data['opform'].astype(str)\n",
    "from sklearn.preprocessing import LabelEncoder\n",
    "labelencoder1 = LabelEncoder()\n",
    "labelencoder2 = LabelEncoder()\n",
    "labelencoder3 = LabelEncoder()\n",
    "labelencoder4 = LabelEncoder()\n",
    "data['opform'] = labelencoder1.fit_transform(data['opform'])\n",
    "data['oploc'] = labelencoder2.fit_transform(data['oploc'])\n",
    "data['industryphy'] = labelencoder3.fit_transform(data['industryphy'])\n",
    "data['oplocdistrict'] = labelencoder4.fit_transform(data['oplocdistrict'])\n",
    "def opto_process(x):\n",
    "    if len(x)>3:\n",
    "        return x[:4]\n",
    "    else:\n",
    "        return x\n",
    "data['opfrom'] = data['opfrom'].map(lambda x:x[:4])\n",
    "data['opto'].fillna('nan',inplace=True)\n",
    "data['opto'] = data['opto'].map(opto_process)\n",
    "data['opfrom'] = data['opfrom'].astype(int)\n",
    "data['opto'] = data['opto'].astype(float)\n",
    "data['industryco'] = data['industryco'].fillna(data['industryco'].mean())\n",
    "data.loc[data['opto'].isnull(),\"opto\"] = data[data['opto'].isnull()]['opfrom']+50.0\n",
    "data['enttpe_year'] = data['opfrom'] - data['opto']\n",
    "data['opscope'] = data['opscope'].apply(lambda x:x.replace(\"、\",\"/\").replace(\"；\",\"/\").replace(\"，\",\"/\").replace(\"。\",\"/\"))\n",
    "data['opscope'] = data['opscope'].apply(lambda x:x.replace(\"（\",\"/\").replace(\"）\",\"/\").replace(\"，\",\"/\").replace(\"。\",\"/\"))\n",
    "data['opscope_1'] = data['opscope'].apply(lambda x:x.split(\"/\"))\n",
    "data['opscope_feature'] = data['opscope'].apply(lambda x:x.split(\"/\")[0][-2:])\n",
    "le2 = LabelEncoder()\n",
    "data['opscope_feature'] = le2.fit_transform(data['opscope_feature'])\n",
    "# import jieba\n",
    "# data['opscope_1'] = data['opscope'].apply(lambda x:jieba.lcut(x,cut_all=True))\n",
    "# from collections import Counter\n",
    "# def jieba_func(x):\n",
    "#     str1 = list(Counter(x).keys())[0]\n",
    "#     str2 = list(Counter(x).keys())[1]\n",
    "#     count = str1+str2\n",
    "#     return count\n",
    "# data['count_opscope'] = data['opscope'].apply(lambda x:jieba_func(x))\n",
    "# le6 = LabelEncoder()\n",
    "data['opscope_length'] = data['opscope_1'].apply(lambda x:len(x))\n",
    "# data['opscope'] = data['opscope'].apply(lambda x:x.split('/')[-2:])\n",
    "# data['opscope_label'] = le6.fit_transform(data['count_opscope'])"
   ]
  },
  {
   "cell_type": "code",
   "execution_count": 11,
   "metadata": {},
   "outputs": [
    {
     "data": {
      "text/plain": [
       "0        实业投资/创业投资/投资咨询/不得从事经纪//涉及前置许可的除外///依法须经批准的项目/经...\n",
       "1                                       摄影/摄像/相册冲印制作/司仪服务/\n",
       "2        OLED显示屏制造/LED电子屏销售/发光二极管/LED/芯片制造设备制造/发光二极管/LE...\n",
       "3        新能源科技领域内的技术研发/技术服务/金属材料/除贵金属//煤炭/铁精粉/矿产品/钢材/化工...\n",
       "4                    汽车维修/保养服务/依法须经批准的项目/经相关部门批准后方可开展经营活动/\n",
       "                               ...                        \n",
       "24860    化妆品/日用百货/一类医疗器械/婴幼儿用品/服装服饰销售/健康信息咨询/除医疗//广告设计/...\n",
       "24861    生物技术咨询/研发/转让/保健食品批发/食品流通许可证有效期至2017年8月3日//化妆品/...\n",
       "24862    环保领域内的技术开发/技术咨询/技术服务/技术转让/环保设备的设计/生产/销售/镁合金/铝合...\n",
       "24863    电子产品/电子元器件/线束/电子连接器/五金/电线/电缆研发/生产/销售/自营和代理各类商品...\n",
       "24864    资产管理/投资管理/投资咨询/证券/期货咨询除外//财务咨询/企业管理咨询/以上咨询均除经纪...\n",
       "Name: opscope, Length: 24865, dtype: object"
      ]
     },
     "execution_count": 11,
     "metadata": {},
     "output_type": "execute_result"
    }
   ],
   "source": [
    "data['opscope']"
   ]
  },
  {
   "cell_type": "code",
   "execution_count": 12,
   "metadata": {},
   "outputs": [
    {
     "name": "stdout",
     "output_type": "stream",
     "text": [
      "分桶完毕.................\n"
     ]
    }
   ],
   "source": [
    "def bucket(name,bucket_len):\n",
    "    gap_list=[data[name].quantile(i/bucket_len) for i in range(bucket_len+1)]\n",
    "    len_data=len(data[name])\n",
    "    new_col=[]\n",
    "    for i in data[name].values:\n",
    "        for j in range(len(gap_list)):\n",
    "            if gap_list[j]>=i:\n",
    "                encode=j\n",
    "                break\n",
    "        new_col.append(encode)\n",
    "    return new_col\n",
    "#注册资本_实缴资本\n",
    "data['regcap_reccap']=data['regcap']-data['reccap']\n",
    "#注册资本分桶\n",
    "data['regcap']=data['regcap'].fillna(data['regcap'].median())\n",
    "data['bucket_regcap']=bucket('regcap',5)\n",
    "#实缴资本分桶\n",
    "data['reccap']=data['reccap'].fillna(data['reccap'].median())\n",
    "data['bucket_reccap']=bucket('reccap',5)\n",
    "#注册资本_实缴资本分桶\n",
    "data['regcap_reccap']=data['regcap_reccap'].fillna(data['regcap_reccap'].median())\n",
    "data['bucket_regcap_reccap']=bucket('regcap_reccap',5)\n",
    "print('分桶完毕.................')"
   ]
  },
  {
   "cell_type": "code",
   "execution_count": 13,
   "metadata": {},
   "outputs": [],
   "source": [
    "# data['dom'] = data['dom'].apply(lambda x:x[:16])\n",
    "le7 = LabelEncoder()\n",
    "data['dom'] = le7.fit_transform(data['dom'])"
   ]
  },
  {
   "cell_type": "code",
   "execution_count": null,
   "metadata": {},
   "outputs": [],
   "source": [
    "# data['dom_1'] = data['dom'].apply(lambda x:x[:16])\n",
    "# data['dom_2'] = data['dom'].apply(lambda x:x[16:32])\n",
    "# data['dom_3'] = data['dom'].apply(lambda x:x[32:48])\n",
    "# data['dom_4'] = data['dom'].apply(lambda x:x[48:64])\n",
    "# data['dom_5'] = data['dom'].apply(lambda x:x[64:80])\n",
    "# data['dom_6'] = data['dom'].apply(lambda x:x[80:])\n",
    "# from sklearn.preprocessing import LabelEncoder\n",
    "# features_name = [i for i in data.columns if i in [\"dom\",\"dom_1\",\"dom_2\",\"dom_3\",\"dom_4\",\"dom_5\",\"dom_6\"]]\n",
    "# for i in features_name:\n",
    "#     le = LabelEncoder()\n",
    "#     data[i+'_label'] = le.fit_transform(data[i])\n",
    "# data['finall_label'] = data['dom_1_label']+data['dom_2_label']+data['dom_3_label']+data['dom_4_label']+data['dom_5_label']+data['dom_6_label']"
   ]
  },
  {
   "cell_type": "code",
   "execution_count": 14,
   "metadata": {},
   "outputs": [
    {
     "name": "stderr",
     "output_type": "stream",
     "text": [
      "100%|████████████████████████████████████████████████████████████████████████| 24865/24865 [00:00<00:00, 135013.05it/s]\n",
      "100%|████████████████████████████████████████████████████████████████████████| 24865/24865 [00:00<00:00, 136496.67it/s]\n",
      "100%|████████████████████████████████████████████████████████████████████████| 24865/24865 [00:00<00:00, 136497.20it/s]\n",
      "100%|████████████████████████████████████████████████████████████████████████| 24865/24865 [00:00<00:00, 135750.80it/s]\n",
      "100%|████████████████████████████████████████████████████████████████████████| 24865/24865 [00:00<00:00, 137250.59it/s]\n",
      "100%|████████████████████████████████████████████████████████████████████████| 24865/24865 [00:00<00:00, 135750.80it/s]\n",
      "100%|████████████████████████████████████████████████████████████████████████| 24865/24865 [00:00<00:00, 136496.67it/s]\n",
      "100%|████████████████████████████████████████████████████████████████████████| 24865/24865 [00:00<00:00, 135750.63it/s]\n",
      "100%|████████████████████████████████████████████████████████████████████████| 24865/24865 [00:00<00:00, 138013.62it/s]\n"
     ]
    }
   ],
   "source": [
    "from tqdm import tqdm\n",
    "def cross_two(name_1,name_2):\n",
    "    new_col=[]\n",
    "    encode=0\n",
    "    dic={}\n",
    "    val_1=data[name_1]\n",
    "    val_2=data[name_2]\n",
    "    for i in tqdm(range(len(val_1))):\n",
    "        tmp=str(val_1[i])+'_'+str(val_2[i])\n",
    "        if tmp in dic:\n",
    "            new_col.append(dic[tmp])\n",
    "        else:\n",
    "            dic[tmp]=encode\n",
    "            new_col.append(encode)\n",
    "            encode+=1\n",
    "    return new_col\n",
    "#作企业类型-小类的交叉特征\n",
    "data['enttypegb']=data['enttypegb'].fillna(\"无\")\n",
    "data['enttypeitem']=data['enttypeitem'].fillna(\"无\")\n",
    "new_col=cross_two('enttypegb','enttypeitem')#作企业类型-小类的交叉特征\n",
    "data['enttypegb_enttypeitem']=new_col\n",
    "new_col=cross_two('enttype','enttypegb_enttypeitem')#作企业类型-小类的交叉特征\n",
    "data['enttype_enttypegb_enttypeitem']=new_col\n",
    "#\n",
    "#行业类别-细类的交叉特征\n",
    "data['industryphy']=data['industryphy'].fillna(\"无\")\n",
    "data['industryco']=data['industryco'].fillna(\"无\")\n",
    "new_col=cross_two('industryphy','industryco')#作企业类型-小类的交叉特征\n",
    "data['industryphy_industryco']=new_col\n",
    "#企业类型-行业类别的交叉特征\n",
    "new_col=cross_two('enttypegb','industryphy')#作企业类型-小类的交叉特征\n",
    "data['enttypegb_industryphy']=new_col\n",
    "#行业类别-企业类型小类的交叉特征\n",
    "new_col=cross_two('industryphy','enttypeitem')#作企业类型-小类的交叉特征\n",
    "data['industryphy_enttypeitem']=new_col\n",
    "#行业类别细类--企业类型小类的交叉特征\n",
    "new_col=cross_two('industryco','enttypeitem')#作企业类型-小类的交叉特征\n",
    "data['industryco_enttypeitem']=new_col\n",
    "\n",
    "#企业类型-小类-行业类别-细类的交叉特征\n",
    "new_col=cross_two('enttypegb_enttypeitem','industryphy_industryco')#作企业类型-小类的交叉特征\n",
    "data['enttypegb_enttypeitem_industryphy_industryco']=new_col"
   ]
  },
  {
   "cell_type": "code",
   "execution_count": null,
   "metadata": {},
   "outputs": [],
   "source": [
    "data.dom.value_counts()"
   ]
  },
  {
   "cell_type": "code",
   "execution_count": 15,
   "metadata": {},
   "outputs": [],
   "source": [
    "for fea in ['industryphy','enttype','enttypeitem','opfrom','regcap','opto','enttypeminu']:\n",
    "    data[fea+'_counts'] = data.groupby([fea])['id'].transform('count')"
   ]
  },
  {
   "cell_type": "code",
   "execution_count": 19,
   "metadata": {},
   "outputs": [],
   "source": [
    "x_train = data[data['label'].notnull()]\n",
    "y_train = x_train['label']\n",
    "x_test = data[data['label'].isnull()]\n",
    "features_name = [i for i in data.columns if i not in ['id','id_feature','regcap','reccap','enttype','enttypeitem','enttypeminu','bucket_regcap_reccap','townsign','count_opscope','opscope_1','oplocdistrict','adbusign','compform','opform','orgid','exenum','opscope','enttypegb','label','state','jobid','regtype','parnum','venind','protype','oploc','forreccap','forregcap','congro']]\n",
    "#features_name = ['tfidif_opscope', 'industryphy', 'industryco', 'dom', 'opfrom', 'opto', 'empnum', 'enttpe_year', 'opscope_length', 'opscope_label', 'regcap_reccap', 'bucket_regcap', 'bucket_reccap', 'enttypegb_enttypeitem', 'enttype_enttypegb_enttypeitem', 'industryphy_industryco', 'industryco_enttypeitem', 'enttypegb_enttypeitem_industryphy_industryco', 'industryphy_counts', 'enttype_counts', 'enttypeitem_counts', 'empnum_counts', 'opfrom_counts', 'regcap_counts', 'reccap_counts', 'opto_counts', 'enttypeminu_counts']\n",
    "#features_name = ['industryphy', 'industryco', 'dom', 'opfrom', 'opto', 'empnum', 'enttpe_year', 'opscope_length', 'opscope_label', 'regcap_reccap', 'bucket_regcap', 'bucket_reccap', 'enttypegb_enttypeitem', 'industryphy_industryco', 'enttypegb_industryphy', 'industryphy_enttypeitem', 'industryco_enttypeitem', 'enttypegb_enttypeitem_industryphy_industryco', 'industryphy_counts', 'enttype_counts', 'enttypeitem_counts', 'empnum_counts', 'opfrom_counts', 'regcap_counts', 'reccap_counts', 'opto_counts', 'enttypeminu_counts', 'id_feature_dom']\n",
    "x_train = x_train[features_name]\n",
    "x_test = x_test[features_name]\n",
    "x_train = x_train.fillna(-1)\n",
    "x_test = x_test.fillna(-1)"
   ]
  },
  {
   "cell_type": "code",
   "execution_count": 20,
   "metadata": {},
   "outputs": [
    {
     "name": "stdout",
     "output_type": "stream",
     "text": [
      "<class 'pandas.core.frame.DataFrame'>\n",
      "Int64Index: 10000 entries, 14865 to 24864\n",
      "Data columns (total 59 columns):\n",
      " #   Column                                        Non-Null Count  Dtype  \n",
      "---  ------                                        --------------  -----  \n",
      " 0   industryphy                                   10000 non-null  int64  \n",
      " 1   industryco                                    10000 non-null  float64\n",
      " 2   dom                                           10000 non-null  int64  \n",
      " 3   opfrom                                        10000 non-null  int32  \n",
      " 4   opto                                          10000 non-null  float64\n",
      " 5   empnum                                        10000 non-null  float64\n",
      " 6   ANCHEYEAR                                     10000 non-null  float64\n",
      " 7   STATE                                         10000 non-null  float64\n",
      " 8   EMPNUM                                        10000 non-null  float64\n",
      " 9   EMPNUMSIGN                                    10000 non-null  float64\n",
      " 10  BUSSTNAME                                     10000 non-null  float64\n",
      " 11  COLGRANUM                                     10000 non-null  float64\n",
      " 12  RETSOLNUM                                     10000 non-null  float64\n",
      " 13  DISPERNUM                                     10000 non-null  float64\n",
      " 14  UNENUM                                        10000 non-null  float64\n",
      " 15  COLEMPLNUM                                    10000 non-null  float64\n",
      " 16  RETEMPLNUM                                    10000 non-null  float64\n",
      " 17  DISEMPLNUM                                    10000 non-null  float64\n",
      " 18  UNEEMPLNUM                                    10000 non-null  float64\n",
      " 19  WEBSITSIGN                                    10000 non-null  float64\n",
      " 20  FORINVESTSIGN                                 10000 non-null  float64\n",
      " 21  STOCKTRANSIGN                                 10000 non-null  float64\n",
      " 22  PUBSTATE                                      10000 non-null  float64\n",
      " 23  TAX_CATEGORIES                                10000 non-null  float64\n",
      " 24  TAX_ITEMS                                     10000 non-null  float64\n",
      " 25  TAXATION_BASIS                                10000 non-null  float64\n",
      " 26  TAX_RATE                                      10000 non-null  float64\n",
      " 27  DEDUCTION                                     10000 non-null  float64\n",
      " 28  TAX_AMOUNT                                    10000 non-null  float64\n",
      " 29  gap_day                                       10000 non-null  float64\n",
      " 30  income                                        10000 non-null  float64\n",
      " 31  bucket_TAX_AMOUNT                             10000 non-null  float64\n",
      " 32  bgxmdm                                        10000 non-null  float64\n",
      " 33  positive_negtive                              10000 non-null  float64\n",
      " 34  legal_judgment_num                            10000 non-null  float64\n",
      " 35  brand_num                                     10000 non-null  float64\n",
      " 36  patent_num                                    10000 non-null  float64\n",
      " 37  enttpe_year                                   10000 non-null  float64\n",
      " 38  opscope_feature                               10000 non-null  int64  \n",
      " 39  opscope_length                                10000 non-null  int64  \n",
      " 40  regcap_reccap                                 10000 non-null  float64\n",
      " 41  bucket_regcap                                 10000 non-null  int64  \n",
      " 42  bucket_reccap                                 10000 non-null  int64  \n",
      " 43  enttypegb_enttypeitem                         10000 non-null  int64  \n",
      " 44  enttype_enttypegb_enttypeitem                 10000 non-null  int64  \n",
      " 45  industryphy_industryco                        10000 non-null  int64  \n",
      " 46  enttypegb_industryphy                         10000 non-null  int64  \n",
      " 47  industryphy_enttypeitem                       10000 non-null  int64  \n",
      " 48  industryco_enttypeitem                        10000 non-null  int64  \n",
      " 49  enttypegb_enttypeitem_industryphy_industryco  10000 non-null  int64  \n",
      " 50  opscope_feature_industryphy                   10000 non-null  int64  \n",
      " 51  opscope_feature_industryco                    10000 non-null  int64  \n",
      " 52  industryphy_counts                            10000 non-null  int64  \n",
      " 53  enttype_counts                                10000 non-null  int64  \n",
      " 54  enttypeitem_counts                            10000 non-null  int64  \n",
      " 55  opfrom_counts                                 10000 non-null  int64  \n",
      " 56  regcap_counts                                 10000 non-null  int64  \n",
      " 57  opto_counts                                   10000 non-null  int64  \n",
      " 58  enttypeminu_counts                            10000 non-null  int64  \n",
      "dtypes: float64(36), int32(1), int64(22)\n",
      "memory usage: 4.5 MB\n"
     ]
    }
   ],
   "source": [
    "x_test.info()"
   ]
  },
  {
   "cell_type": "code",
   "execution_count": null,
   "metadata": {},
   "outputs": [],
   "source": [
    "from itertools import combinations\n",
    "\n",
    "def combine(temp_list, n):\n",
    "    temp_list2 = []\n",
    "    for c in combinations(temp_list, n):\n",
    "        temp_list2.append(list(c))\n",
    "    return temp_list2\n",
    "\n",
    "list1 = x_train.columns.values\n",
    "end_list = []\n",
    "for i in range(29,len(list1)+1):\n",
    "    end_list.extend(combine(list1, i))"
   ]
  },
  {
   "cell_type": "code",
   "execution_count": null,
   "metadata": {},
   "outputs": [],
   "source": [
    "print(len(end_list))"
   ]
  },
  {
   "cell_type": "code",
   "execution_count": null,
   "metadata": {},
   "outputs": [],
   "source": [
    "from sklearn.metrics import auc, roc_curve,f1_score,precision_score,recall_score\n",
    "from sklearn.model_selection import StratifiedKFold, KFold\n",
    "from catboost import CatBoostRegressor\n",
    "from sklearn.ensemble import RandomForestClassifier\n",
    "# 模型\n",
    "def model_func(x_train_a,y_train_a):\n",
    "    rf = RandomForestClassifier(oob_score=True, random_state=2020,\n",
    "                n_estimators= 60,max_depth=13,min_samples_split=10)\n",
    "    def stat_func(x):\n",
    "        l1 = []\n",
    "        for i in x:\n",
    "            if i>0.5:\n",
    "                a = 1\n",
    "                l1.append(a)\n",
    "            else:\n",
    "                a = 0\n",
    "                l1.append(a)\n",
    "        return l1\n",
    "    def score_fuc(p,r):\n",
    "        return 2*p*r/(p+r)\n",
    "    cat_list = [3]\n",
    "    # 本地验证\n",
    "    kf = KFold(n_splits=5,shuffle=True,random_state=2020)\n",
    "    devscore = []\n",
    "    tevscore = []\n",
    "    count = 1\n",
    "#     result_test = pd.DataFrame()\n",
    "    for tidx,didx in kf.split(x_train_a.index):\n",
    "        #print('************************************ {} ************************************'.format(str(count)))\n",
    "        count += 1\n",
    "        tf = x_train_a.iloc[tidx]\n",
    "        df = x_train_a.iloc[didx]\n",
    "        tt = y_train_a.iloc[tidx]\n",
    "        dt = y_train_a.iloc[didx]\n",
    "        rf.fit(tf, tt)\n",
    "        pre_train = rf.predict(tf)\n",
    "        stat_pre_train = stat_func(pre_train)\n",
    "        p = precision_score(tt,stat_pre_train)\n",
    "        r = recall_score(tt,stat_pre_train)\n",
    "        score = score_fuc(p,r)\n",
    "        #score = f1_score(stat_pre_train,tt)\n",
    "        tevscore.append(score)\n",
    "        #print(\"train F1：%s\"%score)\n",
    "        pre = rf.predict(df)\n",
    "        stat_pre = stat_func(pre)\n",
    "        p = precision_score(dt,stat_pre)\n",
    "        r = recall_score(dt,stat_pre)\n",
    "        score = score_fuc(p,r)\n",
    "        devscore.append(score)\n",
    "        #print(\"Valid F1：%s\"%score)\n",
    "        #result_test[str(count-1)+\"折\"] = rf.predict(x_test)/5\n",
    "    print(\"Train average F1：%s\"%np.mean(tevscore),\"Valid average F1：%s\"%np.mean(devscore))\n",
    "    return np.mean(devscore)"
   ]
  },
  {
   "cell_type": "code",
   "execution_count": null,
   "metadata": {},
   "outputs": [],
   "source": [
    "best = 0\n",
    "best_dic = {}\n",
    "for n in end_list:\n",
    "    features_name = n\n",
    "    x_train_a = x_train[features_name]\n",
    "    x_test_a = x_test[features_name]\n",
    "    f1_score = model_func(x_train_a,y_train)\n",
    "    if f1_score>best:\n",
    "        best = f1_score\n",
    "        best_dic[best] = n\n",
    "        print(n)"
   ]
  },
  {
   "cell_type": "code",
   "execution_count": null,
   "metadata": {},
   "outputs": [],
   "source": [
    "best_dic"
   ]
  },
  {
   "cell_type": "markdown",
   "metadata": {},
   "source": [
    "## 随机森林"
   ]
  },
  {
   "cell_type": "code",
   "execution_count": 21,
   "metadata": {
    "scrolled": true
   },
   "outputs": [
    {
     "name": "stdout",
     "output_type": "stream",
     "text": [
      "************************************ 1 ************************************\n",
      "train F1：0.93\n",
      "Valid F1：0.8134715025906735\n",
      "************************************ 2 ************************************\n",
      "train F1：0.9375750300120049\n",
      "Valid F1：0.830860534124629\n",
      "************************************ 3 ************************************\n",
      "train F1：0.9338422391857506\n",
      "Valid F1：0.8605200945626478\n",
      "************************************ 4 ************************************\n",
      "train F1：0.9322250639386189\n",
      "Valid F1：0.8543689320388349\n",
      "************************************ 5 ************************************\n",
      "train F1：0.935897435897436\n",
      "Valid F1：0.8443396226415094\n",
      "Train average F1：0.9339079538067621 Valid average F1：0.840712137191659\n"
     ]
    }
   ],
   "source": [
    "from sklearn.metrics import auc, roc_curve,f1_score,precision_score,recall_score\n",
    "from sklearn.model_selection import StratifiedKFold, KFold\n",
    "from catboost import CatBoostRegressor\n",
    "from sklearn.ensemble import RandomForestClassifier\n",
    "# 模型\n",
    "rf = RandomForestClassifier(oob_score=True, random_state=2020,\n",
    "            n_estimators= 60,max_depth=13,min_samples_split=10)\n",
    "def stat_func(x):\n",
    "    l1 = []\n",
    "    for i in x:\n",
    "        if i>0.5:\n",
    "            a = 1\n",
    "            l1.append(a)\n",
    "        else:\n",
    "            a = 0\n",
    "            l1.append(a)\n",
    "    return l1\n",
    "def score_fuc(p,r):\n",
    "    return 2*p*r/(p+r)\n",
    "cat_list = [3]\n",
    "# 本地验证\n",
    "kf = KFold(n_splits=5,shuffle=True,random_state=2020)\n",
    "devscore = []\n",
    "tevscore = []\n",
    "count = 1\n",
    "result_test = pd.DataFrame()\n",
    "for tidx,didx in kf.split(x_train.index):\n",
    "    print('************************************ {} ************************************'.format(str(count)))\n",
    "    count += 1\n",
    "    tf = x_train.iloc[tidx]\n",
    "    df = x_train.iloc[didx]\n",
    "    tt = y_train.iloc[tidx]\n",
    "    dt = y_train.iloc[didx]\n",
    "    rf.fit(tf, tt)\n",
    "    pre_train = rf.predict(tf)\n",
    "    stat_pre_train = stat_func(pre_train)\n",
    "    p = precision_score(tt,stat_pre_train)\n",
    "    r = recall_score(tt,stat_pre_train)\n",
    "    score = score_fuc(p,r)\n",
    "    #score = f1_score(stat_pre_train,tt)\n",
    "    tevscore.append(score)\n",
    "    print(\"train F1：%s\"%score)\n",
    "    pre = rf.predict(df)\n",
    "    stat_pre = stat_func(pre)\n",
    "    p = precision_score(dt,stat_pre)\n",
    "    r = recall_score(dt,stat_pre)\n",
    "    score = score_fuc(p,r)\n",
    "    devscore.append(score)\n",
    "    result_test[str(count-1)+\"折\"] = rf.predict(x_test)/5\n",
    "    print(\"Valid F1：%s\"%score)\n",
    "print(\"Train average F1：%s\"%np.mean(tevscore),\"Valid average F1：%s\"%np.mean(devscore))\n",
    "result_test['result'] = result_test['1折']+result_test['2折']+result_test['3折']+result_test['4折']+result_test['5折']\n",
    "result = result_test['result'].values\n",
    "result_1 = stat_func(result)"
   ]
  },
  {
   "cell_type": "code",
   "execution_count": 22,
   "metadata": {},
   "outputs": [
    {
     "data": {
      "image/png": "[encoded data removed]",
      "text/plain": [
       "<Figure size 720x720 with 1 Axes>"
      ]
     },
     "metadata": {},
     "output_type": "display_data"
    }
   ],
   "source": [
    "import matplotlib.pyplot as plt\n",
    "plt.figure(figsize=(10,10))\n",
    "a = pd.DataFrame()\n",
    "feature_import = rf.feature_importances_\n",
    "feature_name  = x_train.columns.tolist()\n",
    "plt.barh(feature_name,feature_import)\n",
    "plt.show()"
   ]
  },
  {
   "cell_type": "code",
   "execution_count": 23,
   "metadata": {},
   "outputs": [
    {
     "data": {
      "text/plain": [
       "0    9101\n",
       "1     899\n",
       "Name: score, dtype: int64"
      ]
     },
     "execution_count": 23,
     "metadata": {},
     "output_type": "execute_result"
    }
   ],
   "source": [
    "entprise_test = pd.read_csv('entprise_evaluate.csv')\n",
    "dict1 = {\n",
    "    'id':entprise_test.id,\n",
    "    'score':result_1\n",
    "}\n",
    "df = pd.DataFrame(dict1)\n",
    "df.score.value_counts()"
   ]
  },
  {
   "cell_type": "code",
   "execution_count": null,
   "metadata": {},
   "outputs": [],
   "source": [
    "entprise_test = pd.read_csv('entprise_evaluate.csv')\n",
    "dict1 = {\n",
    "    'id':entprise_test.id,\n",
    "    'score':result_1\n",
    "}\n",
    "df = pd.DataFrame(dict1)\n",
    "df.to_csv(r'./result/1120_1.csv', index=False)"
   ]
  },
  {
   "cell_type": "markdown",
   "metadata": {},
   "source": [
    "## Catboost"
   ]
  },
  {
   "cell_type": "code",
   "execution_count": 32,
   "metadata": {},
   "outputs": [
    {
     "name": "stdout",
     "output_type": "stream",
     "text": [
      "************************************ 1 ************************************\n",
      "[LightGBM] [Warning] feature_fraction is set=1.0, colsample_bytree=1.0 will be ignored. Current value: feature_fraction=1.0\n",
      "[LightGBM] [Warning] bagging_fraction is set=0.8, subsample=1.0 will be ignored. Current value: bagging_fraction=0.8\n",
      "train F1：0.9065015479876162\n",
      "Valid F1：0.8123393316195373\n",
      "************************************ 2 ************************************\n",
      "[LightGBM] [Warning] feature_fraction is set=1.0, colsample_bytree=1.0 will be ignored. Current value: feature_fraction=1.0\n",
      "[LightGBM] [Warning] bagging_fraction is set=0.8, subsample=1.0 will be ignored. Current value: bagging_fraction=0.8\n",
      "train F1：0.9170149253731343\n",
      "Valid F1：0.8284023668639054\n",
      "************************************ 3 ************************************\n",
      "[LightGBM] [Warning] feature_fraction is set=1.0, colsample_bytree=1.0 will be ignored. Current value: feature_fraction=1.0\n",
      "[LightGBM] [Warning] bagging_fraction is set=0.8, subsample=1.0 will be ignored. Current value: bagging_fraction=0.8\n",
      "train F1：0.9162995594713657\n",
      "Valid F1：0.8448687350835322\n",
      "************************************ 4 ************************************\n",
      "[LightGBM] [Warning] feature_fraction is set=1.0, colsample_bytree=1.0 will be ignored. Current value: feature_fraction=1.0\n",
      "[LightGBM] [Warning] bagging_fraction is set=0.8, subsample=1.0 will be ignored. Current value: bagging_fraction=0.8\n",
      "train F1：0.9218950064020487\n",
      "Valid F1：0.859903381642512\n",
      "************************************ 5 ************************************\n",
      "[LightGBM] [Warning] feature_fraction is set=1.0, colsample_bytree=1.0 will be ignored. Current value: feature_fraction=1.0\n",
      "[LightGBM] [Warning] bagging_fraction is set=0.8, subsample=1.0 will be ignored. Current value: bagging_fraction=0.8\n",
      "train F1：0.9211195928753182\n",
      "Valid F1：0.8498845265588915\n",
      "Train average F1：0.9165661264218965 Valid average F1：0.8390796683536756\n"
     ]
    }
   ],
   "source": [
    "from sklearn.metrics import auc, roc_curve,f1_score\n",
    "from sklearn.model_selection import StratifiedKFold, KFold\n",
    "#from catboost import CatBoostRegressor\n",
    "import lightgbm as lgb\n",
    "# 模型\n",
    "model_lgb = lgb.LGBMRegressor(objective='regression',num_leaves=100,\n",
    "                              learning_rate=0.2, n_estimators=60, max_depth=5, \n",
    "                              metric='rmse', bagging_fraction = 0.8, feature_fraction = 1.0)\n",
    "def stat_func(x):\n",
    "    l1 = []\n",
    "    for i in x:\n",
    "        if i>0.5:\n",
    "            a = 1\n",
    "            l1.append(a)\n",
    "        else:\n",
    "            a = 0\n",
    "            l1.append(a)\n",
    "    return l1\n",
    "cat_list = [3]\n",
    "# 本地验证\n",
    "kf = KFold(n_splits=5,shuffle=True,random_state=2020)\n",
    "devscore = []\n",
    "tevscore = []\n",
    "count = 1\n",
    "for tidx,didx in kf.split(x_train.index):\n",
    "    print('************************************ {} ************************************'.format(str(count)))\n",
    "    count += 1\n",
    "    tf = x_train.iloc[tidx]\n",
    "    df = x_train.iloc[didx]\n",
    "    tt = y_train.iloc[tidx]\n",
    "    dt = y_train.iloc[didx]\n",
    "    lgb_train = lgb.Dataset(tf,tt,free_raw_data=False)\n",
    "    lgb_eval = lgb.Dataset(df,dt,reference=lgb_train,free_raw_data=False)\n",
    "    model_lgb.fit(tf,tt)\n",
    "    #catr.fit(tf, tt,cat_features=cat_list)\n",
    "    pre_train = model_lgb.predict(tf)\n",
    "    stat_pre_train = stat_func(pre_train)\n",
    "    score = f1_score(stat_pre_train,tt)\n",
    "    tevscore.append(score)\n",
    "    print(\"train F1：%s\"%score)\n",
    "    pre = model_lgb.predict(df)\n",
    "    stat_pre = stat_func(pre)\n",
    "    score = f1_score(stat_pre,dt)\n",
    "    devscore.append(score)\n",
    "    print(\"Valid F1：%s\"%score)\n",
    "print(\"Train average F1：%s\"%np.mean(tevscore),\"Valid average F1：%s\"%np.mean(devscore))"
   ]
  },
  {
   "cell_type": "code",
   "execution_count": null,
   "metadata": {},
   "outputs": [],
   "source": [
    "from sklearn.metrics import auc, roc_curve,f1_score,precision_score,recall_score\n",
    "from sklearn.model_selection import StratifiedKFold, KFold\n",
    "from catboost import CatBoostRegressor\n",
    "# 模型\n",
    "def makecatr():\n",
    "    params = {\n",
    "        \"learning_rate\":0.01,\n",
    "        'iterations':5000,\n",
    "        'depth': 5,\n",
    "        'l2_leaf_reg': 3,\n",
    "        'bootstrap_type':'Bernoulli',\n",
    "        'od_type': 'Iter',\n",
    "        'od_wait': 50,\n",
    "        'random_seed': 2020,\n",
    "        'allow_writing_files': False,\n",
    "        'task_type':'CPU',\n",
    "        'verbose':500,\n",
    "        'loss_function':'RMSE',\n",
    "    }\n",
    "    \n",
    "    catr = CatBoostRegressor(**params)\n",
    "    return catr\n",
    "def stat_func(x):\n",
    "    l1 = []\n",
    "    for i in x:\n",
    "        if i>0.5:\n",
    "            a = 1\n",
    "            l1.append(a)\n",
    "        else:\n",
    "            a = 0\n",
    "            l1.append(a)\n",
    "    return l1\n",
    "def score_fuc(p,r):\n",
    "    return 2*p*r/(p+r)\n",
    "cat_list = [3]\n",
    "# 本地验证\n",
    "kf = KFold(n_splits=5,shuffle=True,random_state=2020)\n",
    "devscore = []\n",
    "tevscore = []\n",
    "count = 1\n",
    "result_test = pd.DataFrame()\n",
    "for tidx,didx in kf.split(x_train.index):\n",
    "    print('************************************ {} ************************************'.format(str(count)))\n",
    "    count += 1\n",
    "    tf = x_train.iloc[tidx]\n",
    "    df = x_train.iloc[didx]\n",
    "    tt = y_train.iloc[tidx]\n",
    "    dt = y_train.iloc[didx]\n",
    "    catr = makecatr()\n",
    "    catr.fit(tf, tt)\n",
    "    pre_train = catr.predict(tf)\n",
    "    stat_pre_train = stat_func(pre_train)\n",
    "    p = precision_score(tt,stat_pre_train)\n",
    "    r = recall_score(tt,stat_pre_train)\n",
    "    score = score_fuc(p,r)\n",
    "    #score = f1_score(stat_pre_train,tt)\n",
    "    tevscore.append(score)\n",
    "    print(\"train F1：%s\"%score)\n",
    "    pre = catr.predict(df)\n",
    "    stat_pre = stat_func(pre)\n",
    "    p = precision_score(dt,stat_pre)\n",
    "    r = recall_score(dt,stat_pre)\n",
    "    score = score_fuc(p,r)\n",
    "    devscore.append(score)\n",
    "    result_test[str(count-1)+\"折\"] = rf.predict(x_test)/5\n",
    "    print(\"Valid F1：%s\"%score)\n",
    "print(\"Train average F1：%s\"%np.mean(tevscore),\"Valid average F1：%s\"%np.mean(devscore))\n",
    "result_test['result'] = result_test['1折']+result_test['2折']+result_test['3折']+result_test['4折']+result_test['5折']\n",
    "result = result_test['result'].values\n",
    "result_1 = stat_func(result)"
   ]
  },
  {
   "cell_type": "code",
   "execution_count": null,
   "metadata": {},
   "outputs": [],
   "source": [
    "entprise_test = pd.read_csv('entprise_evaluate.csv')\n",
    "dict1 = {\n",
    "    'id':entprise_test.id,\n",
    "    'score':result_1\n",
    "}\n",
    "df = pd.DataFrame(dict1)\n",
    "df.score.value_counts()"
   ]
  },
  {
   "cell_type": "code",
   "execution_count": null,
   "metadata": {},
   "outputs": [],
   "source": [
    "result_1"
   ]
  },
  {
   "cell_type": "code",
   "execution_count": null,
   "metadata": {},
   "outputs": [],
   "source": [
    "entprise_test = pd.read_csv('entprise_evaluate.csv')\n",
    "dict1 = {\n",
    "    'id':entprise_test.id,\n",
    "    'score':result_1\n",
    "}\n",
    "df = pd.DataFrame(dict1)\n",
    "df.to_csv(r'1118_4.csv', index=False)"
   ]
  },
  {
   "cell_type": "code",
   "execution_count": null,
   "metadata": {},
   "outputs": [],
   "source": [
    "from sklearn.metrics import auc, roc_curve,f1_score\n",
    "from sklearn.model_selection import StratifiedKFold, KFold\n",
    "#from catboost import CatBoostRegressor\n",
    "import lightgbm as lgb\n",
    "# 模型\n",
    "params = {\n",
    "        'boosting_type': 'gbdt',\n",
    "        'boosting': 'dart',\n",
    "        'objective': 'binary',\n",
    "        'metric': 'binary_logloss',\n",
    "        'learning_rate': 0.01,\n",
    "        'num_leaves':25,\n",
    "        'max_depth':3,\n",
    "        'max_bin':10,\n",
    "        'min_data_in_leaf':8,\n",
    "        'feature_fraction': 0.6,\n",
    "        'bagging_fraction': 1,\n",
    "        'bagging_freq':0,\n",
    "        'lambda_l1': 0,\n",
    "        'lambda_l2': 0,\n",
    "        'min_split_gain': 0\n",
    "}\n",
    "def stat_func(x):\n",
    "    l1 = []\n",
    "    for i in x:\n",
    "        if i>0.5:\n",
    "            a = 1\n",
    "            l1.append(a)\n",
    "        else:\n",
    "            a = 0\n",
    "            l1.append(a)\n",
    "    return l1\n",
    "cat_list = [3]\n",
    "# 本地验证\n",
    "kf = KFold(n_splits=5,shuffle=True,random_state=2020)\n",
    "devscore = []\n",
    "tevscore = []\n",
    "count = 1\n",
    "for tidx,didx in kf.split(x_train.index):\n",
    "    print('************************************ {} ************************************'.format(str(count)))\n",
    "    count += 1\n",
    "    tf = x_train.iloc[tidx]\n",
    "    df = x_train.iloc[didx]\n",
    "    tt = y_train.iloc[tidx]\n",
    "    dt = y_train.iloc[didx]\n",
    "    lgb_train = lgb.Dataset(tf,tt,free_raw_data=False)\n",
    "    lgb_eval = lgb.Dataset(df,dt,reference=lgb_train,free_raw_data=False)\n",
    "    gbm  = lgb.train(params,lgb_train,num_boost_round=2000,valid_sets=lgb_eval,verbose_eval=200)\n",
    "    #catr.fit(tf, tt,cat_features=cat_list)\n",
    "    pre_train = gbm.predict(tf)\n",
    "    stat_pre_train = stat_func(pre_train)\n",
    "    score = f1_score(stat_pre_train,tt)\n",
    "    tevscore.append(score)\n",
    "    print(\"train F1：%s\"%score)\n",
    "    pre = gbm.predict(df)\n",
    "    stat_pre = stat_func(pre)\n",
    "    score = f1_score(stat_pre,dt)\n",
    "    devscore.append(score)\n",
    "    print(\"Valid F1：%s\"%score)\n",
    "print(\"Train average F1：%s\"%np.mean(tevscore),\"Valid average F1：%s\"%np.mean(devscore))"
   ]
  },
  {
   "cell_type": "code",
   "execution_count": null,
   "metadata": {},
   "outputs": [],
   "source": [
    "entprise_test = pd.read_csv('entprise_evaluate.csv')\n",
    "dict1 = {\n",
    "    'id':entprise_test.id,\n",
    "    'score':pre\n",
    "}\n",
    "df = pd.DataFrame(dict1)\n",
    "df.to_csv(r'1109_3.csv', index=False)\n",
    "# 0.82877408\n",
    "#0.8267"
   ]
  },
  {
   "cell_type": "code",
   "execution_count": null,
   "metadata": {},
   "outputs": [],
   "source": [
    "def eval_score(y_test,y_pre):\n",
    "    _,_,f_class,_=precision_recall_fscore_support(y_true=y_test,y_pred=y_pre,labels=[0,1],average=None)\n",
    "    fper_class={'合法':f_class[0],'违法':f_class[1],'f1':f1_score(y_test,y_pre)}\n",
    "    return fper_class\n",
    "#\n",
    "def k_fold_serachParmaters(model,train_val_data,train_val_kind):\n",
    "    mean_f1=0\n",
    "    mean_f1Train=0\n",
    "    n_splits=5\n",
    "    sk = StratifiedKFold(n_splits=n_splits, shuffle=True, random_state=2020)\n",
    "    for train, test in sk.split(train_val_data, train_val_kind):\n",
    "        x_train = train_val_data.iloc[train]\n",
    "        y_train = train_val_kind.iloc[train]\n",
    "        x_test = train_val_data.iloc[test]\n",
    "        y_test = train_val_kind.iloc[test]\n",
    "\n",
    "        model.fit(x_train, y_train)\n",
    "        pred = model.predict(x_test)\n",
    "        fper_class =  eval_score(y_test,pred)\n",
    "        mean_f1+=fper_class['f1']/n_splits\n",
    "        #print(fper_class)\n",
    "        \n",
    "        pred_Train = model.predict(x_train)\n",
    "        fper_class_train =  eval_score(y_train,pred_Train)\n",
    "        mean_f1Train+=fper_class_train['f1']/n_splits\n",
    "    #print('mean valf1:',mean_f1)\n",
    "    #print('mean trainf1:',mean_f1Train)\n",
    "    return mean_f1"
   ]
  },
  {
   "cell_type": "code",
   "execution_count": null,
   "metadata": {},
   "outputs": [],
   "source": [
    "rf = RandomForestClassifier(oob_score=True, random_state=2020,\n",
    "            n_estimators= 15,max_depth=19,min_samples_split=12)\n",
    "k_fold_serachParmaters(rf,x_train,y_train)"
   ]
  },
  {
   "cell_type": "code",
   "execution_count": null,
   "metadata": {},
   "outputs": [],
   "source": [
    "pre1 = rf.predict(x_test)"
   ]
  },
  {
   "cell_type": "code",
   "execution_count": null,
   "metadata": {},
   "outputs": [],
   "source": [
    "entprise_test = pd.read_csv('entprise_evaluate.csv')\n",
    "dict1 = {\n",
    "    'id':entprise_test.id,\n",
    "    'score':pre1\n",
    "}\n",
    "df = pd.DataFrame(dict1)\n",
    "df.to_csv(r'1109_1.csv', index=False)"
   ]
  },
  {
   "cell_type": "code",
   "execution_count": null,
   "metadata": {},
   "outputs": [],
   "source": [
    "n_estimators_list = []\n",
    "for i in range(60,70):\n",
    "    n_estimators_list.append(int(i))\n",
    "min_samples_split_list = []\n",
    "for i in range(12,30):\n",
    "    min_samples_split_list.append(i)\n",
    "max_depth_list = []\n",
    "for i in range(19,30):\n",
    "    max_depth_list.append(i)"
   ]
  },
  {
   "cell_type": "code",
   "execution_count": null,
   "metadata": {
    "scrolled": false
   },
   "outputs": [],
   "source": [
    "from sklearn.ensemble import RandomForestClassifier\n",
    "from sklearn.model_selection import learning_curve, GridSearchCV\n",
    "\n",
    "def search_param(n_estimators,max_depth,min_samples_split):\n",
    "    rf = RandomForestClassifier(oob_score=True, random_state=2020,\n",
    "                    n_estimators= n_estimators,max_depth=max_depth,min_samples_split=min_samples_split)\n",
    "    mean_f1=k_fold_serachParmaters(rf,x_train,y_train)\n",
    "    return mean_f1\n",
    "\n",
    "#搜索最佳参数\n",
    "param=[]\n",
    "best=0\n",
    "for n_estimators in n_estimators_list:\n",
    "    print('n_estimators:',n_estimators)\n",
    "    for min_samples_split in min_samples_split_list:\n",
    "        for max_depth in max_depth_list:\n",
    "            mean_f1=search_param(n_estimators,max_depth,min_samples_split)\n",
    "            if mean_f1>best:\n",
    "                param=[n_estimators,min_samples_split,max_depth]\n",
    "                best=mean_f1\n",
    "                print(param,best)"
   ]
  },
  {
   "cell_type": "code",
   "execution_count": null,
   "metadata": {},
   "outputs": [],
   "source": [
    "n_estimators = 15\n",
    "min_samples_split = 12\n",
    "max_depth = 19"
   ]
  },
  {
   "cell_type": "code",
   "execution_count": null,
   "metadata": {},
   "outputs": [],
   "source": [
    "x_train.enttypeitem.unique()"
   ]
  },
  {
   "cell_type": "code",
   "execution_count": null,
   "metadata": {},
   "outputs": [],
   "source": [
    "x_train.regcap.value_counts()"
   ]
  },
  {
   "cell_type": "code",
   "execution_count": null,
   "metadata": {},
   "outputs": [],
   "source": [
    "x_train.reccap[0]"
   ]
  },
  {
   "cell_type": "code",
   "execution_count": null,
   "metadata": {
    "scrolled": true
   },
   "outputs": [],
   "source": [
    "x_train.info()"
   ]
  },
  {
   "cell_type": "code",
   "execution_count": null,
   "metadata": {
    "scrolled": false
   },
   "outputs": [],
   "source": [
    "feas_importances_dict = {col:importance for col,importance in zip(list(x_train.columns),list(catr.feature_importances_))}\n",
    "print('Feature importances:\\n',feas_importances_dict)"
   ]
  },
  {
   "cell_type": "code",
   "execution_count": null,
   "metadata": {},
   "outputs": [],
   "source": [
    "feas_importances_dict = {col:importance for col,importance in zip(list(x_train.columns),list(catr.feature_importances_))}\n",
    "print('Feature importances:\\n',feas_importances_dict)"
   ]
  },
  {
   "cell_type": "code",
   "execution_count": null,
   "metadata": {},
   "outputs": [],
   "source": [
    "'bucket_regcap_reccap'"
   ]
  }
 ],
 "metadata": {
  "kernelspec": {
   "display_name": "Python 3",
   "language": "python",
   "name": "python3"
  },
  "language_info": {
   "codemirror_mode": {
    "name": "ipython",
    "version": 3
   },
   "file_extension": ".py",
   "mimetype": "text/x-python",
   "name": "python",
   "nbconvert_exporter": "python",
   "pygments_lexer": "ipython3",
   "version": "3.6.4"
  }
 },
 "nbformat": 4,
 "nbformat_minor": 2
}
