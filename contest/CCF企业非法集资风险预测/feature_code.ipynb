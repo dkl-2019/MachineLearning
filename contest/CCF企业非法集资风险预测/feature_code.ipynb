{
 "cells": [
  {
   "cell_type": "code",
   "execution_count": 1,
   "metadata": {},
   "outputs": [],
   "source": [
    "import pandas as pd\n",
    "import numpy as np"
   ]
  },
  {
   "cell_type": "code",
   "execution_count": 2,
   "metadata": {},
   "outputs": [],
   "source": [
    "entprise_train = pd.read_csv('train/entprise_info.csv',engine='python')\n",
    "base_info = pd.read_csv('train/base_info.csv',engine='python',encoding='utf-8')\n",
    "entprise_test = pd.read_csv('entprise_evaluate.csv')"
   ]
  },
  {
   "cell_type": "code",
   "execution_count": 3,
   "metadata": {},
   "outputs": [],
   "source": [
    "entprise = pd.concat([entprise_train,entprise_test])\n",
    "data = pd.merge(entprise,base_info,on='id')\n",
    "data.drop(['ptbusscope','midpreindcode','score'],axis=1,inplace=True)"
   ]
  },
  {
   "cell_type": "code",
   "execution_count": 53,
   "metadata": {},
   "outputs": [],
   "source": [
    "data['dom_1'] = data['dom'].apply(lambda x:x[:16])\n",
    "data['dom_2'] = data['dom'].apply(lambda x:x[:32])\n",
    "data['dom_3'] = data['dom'].apply(lambda x:x[:48])\n",
    "data['dom_4'] = data['dom'].apply(lambda x:x[:64])\n",
    "data['dom_5'] = data['dom'].apply(lambda x:x[:80])\n",
    "data['dom_6'] = data['dom'].apply(lambda x:x[80:])"
   ]
  },
  {
   "cell_type": "code",
   "execution_count": 54,
   "metadata": {
    "scrolled": true
   },
   "outputs": [
    {
     "data": {
      "text/plain": [
       "31487d8f256f16bd6244b7251be2ebb2b55c713be7e2b6d1    3176\n",
       "31487d8f256f16bd6244b7251be2ebb2ae36cd652943e86c    2679\n",
       "31487d8f256f16bd6244b7251be2ebb227ca54d864983f5d    1940\n",
       "31487d8f256f16bd6244b7251be2ebb2104d8ea0072d61ed    1904\n",
       "4584ebf59d03a95bc1757937a913c61e46e87c5fca94a4d1    1243\n",
       "                                                    ... \n",
       "ca213febe80e171cf62c2ed671ebb5cbd247ca7b114dd540       1\n",
       "0e65d8933d245d0c6ba6d26638f920521765b5531d98eda7       1\n",
       "ca213febe80e171cf62c2ed671ebb5cbf2685f3a91f9487a       1\n",
       "ca213febe80e171c5ab458cd1d4bd3745eac1da5c53ac515       1\n",
       "ca213febe80e171cf62c2ed671ebb5cb103e586d9241af88       1\n",
       "Name: dom_3, Length: 1792, dtype: int64"
      ]
     },
     "execution_count": 54,
     "metadata": {},
     "output_type": "execute_result"
    }
   ],
   "source": [
    "data.dom_3.value_counts()"
   ]
  },
  {
   "cell_type": "code",
   "execution_count": 55,
   "metadata": {},
   "outputs": [],
   "source": [
    "from sklearn.preprocessing import LabelEncoder\n",
    "features_name = [i for i in data.columns if i in [\"dom_1\",\"dom_2\",\"dom_3\",\"dom_4\",\"dom_5\",\"dom_6\"]]\n",
    "for i in features_name:\n",
    "    le = LabelEncoder()\n",
    "    data[i+'_label'] = le.fit_transform(data[i])\n",
    "data['finall_label'] = data['dom_1_label']+data['dom_2_label']+data['dom_3_label']+data['dom_4_label']+data['dom_5_label']+data['dom_6_label']"
   ]
  },
  {
   "cell_type": "code",
   "execution_count": 56,
   "metadata": {},
   "outputs": [
    {
     "data": {
      "text/plain": [
       "0        21965\n",
       "1        24364\n",
       "2         9095\n",
       "3        25598\n",
       "4         6840\n",
       "         ...  \n",
       "24860    29092\n",
       "24861    19331\n",
       "24862     8975\n",
       "24863    20408\n",
       "24864    15289\n",
       "Name: finall_label, Length: 24865, dtype: int64"
      ]
     },
     "execution_count": 56,
     "metadata": {},
     "output_type": "execute_result"
    }
   ],
   "source": [
    "data['finall_label']"
   ]
  },
  {
   "cell_type": "code",
   "execution_count": 57,
   "metadata": {},
   "outputs": [
    {
     "name": "stderr",
     "output_type": "stream",
     "text": [
      "100%|████████████████████████████████████████████████████████████████████████| 24865/24865 [00:00<00:00, 132847.29it/s]\n",
      "100%|████████████████████████████████████████████████████████████████████████| 24865/24865 [00:00<00:00, 132141.01it/s]\n"
     ]
    }
   ],
   "source": [
    "from tqdm import tqdm\n",
    "def cross_two(name_1,name_2):\n",
    "    new_col=[]\n",
    "    encode=0\n",
    "    dic={}\n",
    "    val_1=data[name_1]\n",
    "    val_2=data[name_2]\n",
    "    for i in tqdm(range(len(val_1))):\n",
    "        tmp=str(val_1[i])+'_'+str(val_2[i])\n",
    "        if tmp in dic:\n",
    "            new_col.append(dic[tmp])\n",
    "        else:\n",
    "            dic[tmp]=encode\n",
    "            new_col.append(encode)\n",
    "            encode+=1\n",
    "    return new_col\n",
    "#作企业类型-小类的交叉特征\n",
    "new_col=cross_two('dom_1_label','dom_2_label')#作企业类型-小类的交叉特征\n",
    "data['dom_1_label_dom_2_label']=new_col\n",
    "new_col=cross_two('dom_2_label','dom_3_label')\n",
    "data['dom_2_label_dom_3_label']=new_col\n",
    "#行业类别-细类的交叉特征\n",
    "# data['industryphy']=data['industryphy'].fillna(\"无\")\n",
    "# data['industryco']=data['industryco'].fillna(\"无\")\n",
    "# new_col=cross_two('industryphy','industryco')#作企业类型-小类的交叉特征\n",
    "# data['industryphy_industryco']=new_col\n",
    "# print('交叉特征完毕.................')"
   ]
  },
  {
   "cell_type": "code",
   "execution_count": 59,
   "metadata": {},
   "outputs": [
    {
     "data": {
      "text/plain": [
       "0        0\n",
       "1        1\n",
       "2        2\n",
       "3        2\n",
       "4        2\n",
       "        ..\n",
       "24860    4\n",
       "24861    2\n",
       "24862    2\n",
       "24863    2\n",
       "24864    0\n",
       "Name: dom_1_label_dom_2_label, Length: 24865, dtype: int64"
      ]
     },
     "execution_count": 59,
     "metadata": {},
     "output_type": "execute_result"
    }
   ],
   "source": [
    "data['dom_1_label_dom_2_label']"
   ]
  },
  {
   "cell_type": "code",
   "execution_count": 45,
   "metadata": {},
   "outputs": [
    {
     "data": {
      "text/plain": [
       "0        3.514816e+20\n",
       "1        3.596159e+19\n",
       "2        9.157996e+18\n",
       "3        9.157123e+20\n",
       "4        9.157261e+18\n",
       "             ...     \n",
       "24860    3.539718e+20\n",
       "24861    9.157128e+20\n",
       "24862    9.157102e+17\n",
       "24863    9.157128e+19\n",
       "24864    3.514875e+19\n",
       "Name: finall_label, Length: 24865, dtype: float64"
      ]
     },
     "execution_count": 45,
     "metadata": {},
     "output_type": "execute_result"
    }
   ],
   "source": [
    "\"dom_1_label\",\"dom_2_label\",\"dom_3_label\",\"dom_4_label\",\"dom_5_label\",\"dom_6_label\",\"dom\",\"dom_1\",\"dom_2\",\"dom_3\",\"dom_4\",\"dom_5\",\"dom_6\","
   ]
  },
  {
   "cell_type": "code",
   "execution_count": 24,
   "metadata": {},
   "outputs": [],
   "source": [
    "features_name = [i for i in data.columns if i in [\"dom\",\"dom_1\",\"dom_2\",\"dom_3\",\"dom_4\",\"dom_5\",\"dom_6\"]]\n",
    "dom_data = data[features_name]"
   ]
  },
  {
   "cell_type": "code",
   "execution_count": 25,
   "metadata": {},
   "outputs": [],
   "source": [
    "dom_data.to_csv(\"dom_data.csv\")"
   ]
  },
  {
   "cell_type": "code",
   "execution_count": null,
   "metadata": {},
   "outputs": [],
   "source": []
  },
  {
   "cell_type": "code",
   "execution_count": null,
   "metadata": {},
   "outputs": [],
   "source": [
    "data[data['dom_1']=='ca213febe80e171c']"
   ]
  },
  {
   "cell_type": "code",
   "execution_count": null,
   "metadata": {},
   "outputs": [],
   "source": [
    "data['dom_1'].value_counts()"
   ]
  },
  {
   "cell_type": "code",
   "execution_count": null,
   "metadata": {},
   "outputs": [],
   "source": [
    "len('ca213febe80e171c')"
   ]
  },
  {
   "cell_type": "code",
   "execution_count": null,
   "metadata": {},
   "outputs": [],
   "source": [
    "len('317c93127eeefb0fd28c160028851c6976e7a2156fc50b9e')"
   ]
  },
  {
   "cell_type": "code",
   "execution_count": null,
   "metadata": {},
   "outputs": [],
   "source": [
    "len('31487d8f256f16bd6244b7251be2ebb2b55c713be7e2b6d1')"
   ]
  },
  {
   "cell_type": "code",
   "execution_count": null,
   "metadata": {},
   "outputs": [],
   "source": [
    "len('31487d8f256f16bd6244b7251be2ebb2')"
   ]
  },
  {
   "cell_type": "code",
   "execution_count": null,
   "metadata": {},
   "outputs": [],
   "source": [
    "len('4584ebf59d03a95bc1757937a913c61e46e87c5fca94a4d1')"
   ]
  },
  {
   "cell_type": "code",
   "execution_count": 15,
   "metadata": {},
   "outputs": [],
   "source": [
    "import pandas as pd\n",
    "import numpy as np"
   ]
  },
  {
   "cell_type": "code",
   "execution_count": 40,
   "metadata": {},
   "outputs": [],
   "source": [
    "data = pd.read_csv('look_data1.csv',encoding='gbk')"
   ]
  },
  {
   "cell_type": "code",
   "execution_count": 41,
   "metadata": {},
   "outputs": [],
   "source": [
    "x_train = data[data['label'].notnull()]\n",
    "y_train = x_train['label']\n",
    "x_test = data[data['label'].isnull()]"
   ]
  },
  {
   "cell_type": "code",
   "execution_count": 42,
   "metadata": {},
   "outputs": [],
   "source": [
    "x_train.to_csv(\"train_data.csv\",index=False,encoding='gbk')\n",
    "x_test.to_csv(\"test_data.csv\",index=False,encoding='gbk')"
   ]
  },
  {
   "cell_type": "code",
   "execution_count": 34,
   "metadata": {},
   "outputs": [],
   "source": [
    "data1['dom_16'] = data1['dom'].apply(lambda x:x[:16])"
   ]
  },
  {
   "cell_type": "code",
   "execution_count": 38,
   "metadata": {},
   "outputs": [
    {
     "data": {
      "text/plain": [
       "O    10312\n",
       "M     7017\n",
       "R     2968\n",
       "L     1428\n",
       "J     1130\n",
       "P      625\n",
       "N      567\n",
       "Q      382\n",
       "F      114\n",
       "K       87\n",
       "I       73\n",
       "E       63\n",
       "C       44\n",
       "G       15\n",
       "H       15\n",
       "A        9\n",
       "D        7\n",
       "S        6\n",
       "B        2\n",
       "T        1\n",
       "Name: industryphy, dtype: int64"
      ]
     },
     "execution_count": 38,
     "metadata": {},
     "output_type": "execute_result"
    }
   ],
   "source": [
    "data1['industryphy'].value_counts()"
   ]
  },
  {
   "cell_type": "code",
   "execution_count": 46,
   "metadata": {},
   "outputs": [
    {
     "name": "stderr",
     "output_type": "stream",
     "text": [
      "C:\\ProgramData\\Anaconda3\\lib\\site-packages\\ipykernel_launcher.py:1: SettingWithCopyWarning: \n",
      "A value is trying to be set on a copy of a slice from a DataFrame.\n",
      "Try using .loc[row_indexer,col_indexer] = value instead\n",
      "\n",
      "See the caveats in the documentation: https://pandas.pydata.org/pandas-docs/stable/user_guide/indexing.html#returning-a-view-versus-a-copy\n",
      "  \"\"\"Entry point for launching an IPython kernel.\n"
     ]
    },
    {
     "data": {
      "text/plain": [
       "(56,)"
      ]
     },
     "execution_count": 46,
     "metadata": {},
     "output_type": "execute_result"
    }
   ],
   "source": [
    "x_train['id_16'] = x_train['id'].apply(lambda x:x[:16])\n",
    "x_train['id_16'].value_counts().shape"
   ]
  },
  {
   "cell_type": "code",
   "execution_count": 48,
   "metadata": {},
   "outputs": [
    {
     "name": "stderr",
     "output_type": "stream",
     "text": [
      "C:\\ProgramData\\Anaconda3\\lib\\site-packages\\ipykernel_launcher.py:1: SettingWithCopyWarning: \n",
      "A value is trying to be set on a copy of a slice from a DataFrame.\n",
      "Try using .loc[row_indexer,col_indexer] = value instead\n",
      "\n",
      "See the caveats in the documentation: https://pandas.pydata.org/pandas-docs/stable/user_guide/indexing.html#returning-a-view-versus-a-copy\n",
      "  \"\"\"Entry point for launching an IPython kernel.\n"
     ]
    },
    {
     "data": {
      "text/plain": [
       "(36,)"
      ]
     },
     "execution_count": 48,
     "metadata": {},
     "output_type": "execute_result"
    }
   ],
   "source": [
    "x_test['id_16'] = x_test['id'].apply(lambda x:x[:16])\n",
    "x_test['id_16'].value_counts().shape"
   ]
  },
  {
   "cell_type": "code",
   "execution_count": 47,
   "metadata": {},
   "outputs": [
    {
     "data": {
      "text/plain": [
       "(65,)"
      ]
     },
     "execution_count": 47,
     "metadata": {},
     "output_type": "execute_result"
    }
   ],
   "source": [
    "data1['id_16'] = data1['id'].apply(lambda x:x[:16])\n",
    "data1['id_16'].value_counts().shape"
   ]
  },
  {
   "cell_type": "code",
   "execution_count": 26,
   "metadata": {},
   "outputs": [
    {
     "data": {
      "text/plain": [
       "(65,)"
      ]
     },
     "execution_count": 26,
     "metadata": {},
     "output_type": "execute_result"
    }
   ],
   "source": [
    "data1['id_16'].value_counts().shape"
   ]
  },
  {
   "cell_type": "code",
   "execution_count": 18,
   "metadata": {},
   "outputs": [],
   "source": [
    "data1['opscope'] = data1['opscope'].apply(lambda x:x.replace(\"、\",\"/\").replace(\"；\",\"/\").replace(\"，\",\"/\").replace(\"。\",\"/\"))\n",
    "data1['opscope'] = data1['opscope'].apply(lambda x:x.replace(\"（\",\"/\").replace(\"）\",\"/\").replace(\"，\",\"/\").replace(\"。\",\"/\"))"
   ]
  },
  {
   "cell_type": "code",
   "execution_count": 23,
   "metadata": {},
   "outputs": [],
   "source": [
    "data1['opscope_feature'] = data1['opscope'].apply(lambda x:x.split(\"/\")[0][-2:])"
   ]
  },
  {
   "cell_type": "code",
   "execution_count": 24,
   "metadata": {},
   "outputs": [
    {
     "data": {
      "text/plain": [
       "服务    6312\n",
       "研发    1802\n",
       "开发    1734\n",
       "投资    1242\n",
       "咨询    1124\n",
       "      ... \n",
       "管网       1\n",
       "探测       1\n",
       "灯箱       1\n",
       "料油       1\n",
       "设        1\n",
       "Name: opscope_feature, Length: 1044, dtype: int64"
      ]
     },
     "execution_count": 24,
     "metadata": {},
     "output_type": "execute_result"
    }
   ],
   "source": [
    "data1['opscope_feature'].value_counts()"
   ]
  }
 ],
 "metadata": {
  "kernelspec": {
   "display_name": "Python 3",
   "language": "python",
   "name": "python3"
  },
  "language_info": {
   "codemirror_mode": {
    "name": "ipython",
    "version": 3
   },
   "file_extension": ".py",
   "mimetype": "text/x-python",
   "name": "python",
   "nbconvert_exporter": "python",
   "pygments_lexer": "ipython3",
   "version": "3.6.4"
  }
 },
 "nbformat": 4,
 "nbformat_minor": 2
}
