{
 "cells": [
  {
   "cell_type": "code",
   "execution_count": 1,
   "metadata": {},
   "outputs": [],
   "source": [
    "import pandas as pd\n",
    "import numpy as np"
   ]
  },
  {
   "cell_type": "code",
   "execution_count": 2,
   "metadata": {},
   "outputs": [],
   "source": [
    "entprise_train = pd.read_csv('train/entprise_info.csv',engine='python')\n",
    "base_info = pd.read_csv('train/base_info.csv',engine='python',encoding='utf-8')\n",
    "entprise_test = pd.read_csv('entprise_evaluate.csv')"
   ]
  },
  {
   "cell_type": "code",
   "execution_count": 3,
   "metadata": {},
   "outputs": [],
   "source": [
    "entprise = pd.concat([entprise_train,entprise_test])\n",
    "data = pd.merge(entprise,base_info,on='id')\n",
    "data.drop(['ptbusscope','midpreindcode','score'],axis=1,inplace=True)"
   ]
  },
  {
   "cell_type": "code",
   "execution_count": 4,
   "metadata": {},
   "outputs": [],
   "source": [
    "data['enttypeitem'] = data['enttypegb']//10*10\n",
    "data['enttypeminu'] = data['enttypegb']"
   ]
  },
  {
   "cell_type": "code",
   "execution_count": 9,
   "metadata": {},
   "outputs": [],
   "source": [
    "data['opform'].fillna(10,inplace=True)\n",
    "data['opform'] = data['opform'].astype(str)"
   ]
  },
  {
   "cell_type": "code",
   "execution_count": 10,
   "metadata": {},
   "outputs": [],
   "source": [
    "from sklearn.preprocessing import LabelEncoder\n",
    "labelencoder1 = LabelEncoder()\n",
    "labelencoder2 = LabelEncoder()\n",
    "labelencoder3 = LabelEncoder()\n",
    "labelencoder4 = LabelEncoder()\n",
    "data['opform'] = labelencoder1.fit_transform(data['opform'])\n",
    "data['oploc'] = labelencoder2.fit_transform(data['oploc'])\n",
    "data['industryphy'] = labelencoder3.fit_transform(data['industryphy'])\n",
    "data['oplocdistrict'] = labelencoder4.fit_transform(data['oplocdistrict'])"
   ]
  },
  {
   "cell_type": "code",
   "execution_count": 11,
   "metadata": {},
   "outputs": [],
   "source": [
    "def opto_process(x):\n",
    "    if len(x)>3:\n",
    "        return x[:4]\n",
    "    else:\n",
    "        return x\n",
    "data['opfrom'] = data['opfrom'].map(lambda x:x[:4])\n",
    "data['opto'].fillna('nan',inplace=True)\n",
    "data['opto'] = data['opto'].map(opto_process)\n",
    "data['opfrom'] = data['opfrom'].astype(int)\n",
    "data['opto'] = data['opto'].astype(float)"
   ]
  },
  {
   "cell_type": "code",
   "execution_count": 12,
   "metadata": {},
   "outputs": [],
   "source": [
    "data['industryco'] = data['industryco'].fillna(data['industryco'].mean())"
   ]
  },
  {
   "cell_type": "code",
   "execution_count": 13,
   "metadata": {},
   "outputs": [],
   "source": [
    "data.loc[data['opto'].isnull(),\"opto\"] = data[data['opto'].isnull()]['opfrom']+50.0"
   ]
  },
  {
   "cell_type": "code",
   "execution_count": 14,
   "metadata": {},
   "outputs": [
    {
     "name": "stderr",
     "output_type": "stream",
     "text": [
      "Building prefix dict from the default dictionary ...\n",
      "Loading model from cache C:\\Users\\ADMINI~1\\AppData\\Local\\Temp\\jieba.cache\n",
      "Loading model cost 0.550 seconds.\n",
      "Prefix dict has been built successfully.\n"
     ]
    }
   ],
   "source": [
    "data['opscope'] = data['opscope'].apply(lambda x:x.replace(\"、\",\"/\").replace(\"；\",\"/\").replace(\"，\",\"/\").replace(\"。\",\"/\"))\n",
    "data['opscope'] = data['opscope'].apply(lambda x:x.replace(\"（\",\"/\").replace(\"）\",\"/\").replace(\"，\",\"/\").replace(\"。\",\"/\"))\n",
    "data['opscope'] = data['opscope'].apply(lambda x:\"\".join(x.split(\"/\")))\n",
    "import jieba\n",
    "data['opscope_1'] = data['opscope'].apply(lambda x:jieba.lcut(x,cut_all=True))\n",
    "from collections import Counter\n",
    "def jieba_func(x):\n",
    "    str1 = list(Counter(x).keys())[0]\n",
    "    str2 = list(Counter(x).keys())[1]\n",
    "    count = str1+str2\n",
    "    return count\n",
    "data['count_opscope'] = data['opscope'].apply(lambda x:jieba_func(x))\n",
    "le6 = LabelEncoder()\n",
    "data['opscope_length'] = data['opscope_1'].apply(lambda x:len(x))\n",
    "# data['opscope'] = data['opscope'].apply(lambda x:x.split('/')[-2:])\n",
    "data['opscope_label'] = le6.fit_transform(data['count_opscope'])"
   ]
  },
  {
   "cell_type": "code",
   "execution_count": 17,
   "metadata": {},
   "outputs": [],
   "source": [
    "columns = data.columns.tolist()\n",
    "for j in columns:\n",
    "    columns_dtype = data[j].dtype\n",
    "    if columns_dtype == 'object':\n",
    "        data.drop(j,axis=1,inplace=True)\n",
    "    else:\n",
    "        continue"
   ]
  },
  {
   "cell_type": "code",
   "execution_count": 19,
   "metadata": {},
   "outputs": [
    {
     "name": "stdout",
     "output_type": "stream",
     "text": [
      "<class 'pandas.core.frame.DataFrame'>\n",
      "Int64Index: 24865 entries, 0 to 24864\n",
      "Data columns (total 31 columns):\n",
      " #   Column          Non-Null Count  Dtype  \n",
      "---  ------          --------------  -----  \n",
      " 0   label           14865 non-null  float64\n",
      " 1   oplocdistrict   24865 non-null  int64  \n",
      " 2   industryphy     24865 non-null  int64  \n",
      " 3   industryco      24865 non-null  float64\n",
      " 4   enttype         24865 non-null  int64  \n",
      " 5   enttypeitem     24865 non-null  int64  \n",
      " 6   opfrom          24865 non-null  int32  \n",
      " 7   opto            24865 non-null  float64\n",
      " 8   state           24865 non-null  int64  \n",
      " 9   orgid           24865 non-null  int64  \n",
      " 10  jobid           24865 non-null  int64  \n",
      " 11  adbusign        24865 non-null  int64  \n",
      " 12  townsign        24865 non-null  int64  \n",
      " 13  regtype         24865 non-null  int64  \n",
      " 14  empnum          19615 non-null  float64\n",
      " 15  compform        10631 non-null  float64\n",
      " 16  parnum          2339 non-null   float64\n",
      " 17  exenum          1378 non-null   float64\n",
      " 18  opform          24865 non-null  int64  \n",
      " 19  venind          8437 non-null   float64\n",
      " 20  enttypeminu     24865 non-null  int64  \n",
      " 21  protype         34 non-null     float64\n",
      " 22  oploc           24865 non-null  int64  \n",
      " 23  regcap          24674 non-null  float64\n",
      " 24  reccap          7084 non-null   float64\n",
      " 25  forreccap       227 non-null    float64\n",
      " 26  forregcap       250 non-null    float64\n",
      " 27  congro          249 non-null    float64\n",
      " 28  enttypegb       24865 non-null  int64  \n",
      " 29  opscope_length  24865 non-null  int64  \n",
      " 30  opscope_label   24865 non-null  int64  \n",
      "dtypes: float64(14), int32(1), int64(16)\n",
      "memory usage: 6.0 MB\n"
     ]
    }
   ],
   "source": [
    "data.info()"
   ]
  },
  {
   "cell_type": "code",
   "execution_count": 20,
   "metadata": {},
   "outputs": [],
   "source": [
    "x_train = data[data['empnum'].notnull()]\n",
    "y_train = x_train['empnum']\n",
    "x_train = x_train.drop(\"empnum\",axis=1)\n",
    "x_test = data[data['empnum'].isnull()]\n",
    "x_test = x_test.drop('empnum',axis=1)"
   ]
  },
  {
   "cell_type": "code",
   "execution_count": 23,
   "metadata": {},
   "outputs": [
    {
     "name": "stdout",
     "output_type": "stream",
     "text": [
      "<class 'pandas.core.frame.DataFrame'>\n",
      "Int64Index: 19615 entries, 0 to 24861\n",
      "Data columns (total 30 columns):\n",
      " #   Column          Non-Null Count  Dtype  \n",
      "---  ------          --------------  -----  \n",
      " 0   label           12502 non-null  float64\n",
      " 1   oplocdistrict   19615 non-null  int64  \n",
      " 2   industryphy     19615 non-null  int64  \n",
      " 3   industryco      19615 non-null  float64\n",
      " 4   enttype         19615 non-null  int64  \n",
      " 5   enttypeitem     19615 non-null  int64  \n",
      " 6   opfrom          19615 non-null  int32  \n",
      " 7   opto            19615 non-null  float64\n",
      " 8   state           19615 non-null  int64  \n",
      " 9   orgid           19615 non-null  int64  \n",
      " 10  jobid           19615 non-null  int64  \n",
      " 11  adbusign        19615 non-null  int64  \n",
      " 12  townsign        19615 non-null  int64  \n",
      " 13  regtype         19615 non-null  int64  \n",
      " 14  compform        10630 non-null  float64\n",
      " 15  parnum          2327 non-null   float64\n",
      " 16  exenum          1366 non-null   float64\n",
      " 17  opform          19615 non-null  int64  \n",
      " 18  venind          8373 non-null   float64\n",
      " 19  enttypeminu     19615 non-null  int64  \n",
      " 20  protype         17 non-null     float64\n",
      " 21  oploc           19615 non-null  int64  \n",
      " 22  regcap          19545 non-null  float64\n",
      " 23  reccap          5161 non-null   float64\n",
      " 24  forreccap       223 non-null    float64\n",
      " 25  forregcap       231 non-null    float64\n",
      " 26  congro          230 non-null    float64\n",
      " 27  enttypegb       19615 non-null  int64  \n",
      " 28  opscope_length  19615 non-null  int64  \n",
      " 29  opscope_label   19615 non-null  int64  \n",
      "dtypes: float64(13), int32(1), int64(16)\n",
      "memory usage: 4.6 MB\n"
     ]
    }
   ],
   "source": [
    "x_train.info()"
   ]
  },
  {
   "cell_type": "code",
   "execution_count": 25,
   "metadata": {},
   "outputs": [
    {
     "name": "stdout",
     "output_type": "stream",
     "text": [
      "************************************ 1 ************************************\n",
      "[LightGBM] [Warning] feature_fraction is set=0.5, colsample_bytree=1.0 will be ignored. Current value: feature_fraction=0.5\n",
      "[LightGBM] [Warning] bagging_fraction is set=0.8, subsample=1.0 will be ignored. Current value: bagging_fraction=0.8\n",
      "train F1：239.90805981184428\n",
      "Valid F1：58.05924221843423\n",
      "************************************ 2 ************************************\n",
      "[LightGBM] [Warning] feature_fraction is set=0.5, colsample_bytree=1.0 will be ignored. Current value: feature_fraction=0.5\n",
      "[LightGBM] [Warning] bagging_fraction is set=0.8, subsample=1.0 will be ignored. Current value: bagging_fraction=0.8\n",
      "train F1：233.1022449334925\n",
      "Valid F1：92.54658236027196\n",
      "************************************ 3 ************************************\n",
      "[LightGBM] [Warning] feature_fraction is set=0.5, colsample_bytree=1.0 will be ignored. Current value: feature_fraction=0.5\n",
      "[LightGBM] [Warning] bagging_fraction is set=0.8, subsample=1.0 will be ignored. Current value: bagging_fraction=0.8\n",
      "train F1：245.88354461227445\n",
      "Valid F1：29.054668330354605\n",
      "************************************ 4 ************************************\n",
      "[LightGBM] [Warning] feature_fraction is set=0.5, colsample_bytree=1.0 will be ignored. Current value: feature_fraction=0.5\n",
      "[LightGBM] [Warning] bagging_fraction is set=0.8, subsample=1.0 will be ignored. Current value: bagging_fraction=0.8\n",
      "train F1：103.9733012268678\n",
      "Valid F1：647.4919979394108\n",
      "************************************ 5 ************************************\n",
      "[LightGBM] [Warning] feature_fraction is set=0.5, colsample_bytree=1.0 will be ignored. Current value: feature_fraction=0.5\n",
      "[LightGBM] [Warning] bagging_fraction is set=0.8, subsample=1.0 will be ignored. Current value: bagging_fraction=0.8\n",
      "train F1：177.3153062161576\n",
      "Valid F1：339.48413092939023\n",
      "Train average F1：216.6819078578498 Valid average F1：nan\n"
     ]
    },
    {
     "name": "stderr",
     "output_type": "stream",
     "text": [
      "C:\\ProgramData\\Anaconda3\\lib\\site-packages\\numpy\\core\\fromnumeric.py:3257: RuntimeWarning: Mean of empty slice.\n",
      "  out=out, **kwargs)\n",
      "C:\\ProgramData\\Anaconda3\\lib\\site-packages\\numpy\\core\\_methods.py:161: RuntimeWarning: invalid value encountered in double_scalars\n",
      "  ret = ret.dtype.type(ret / rcount)\n"
     ]
    }
   ],
   "source": [
    "from sklearn.metrics import auc, roc_curve,f1_score,mean_squared_error\n",
    "from sklearn.model_selection import StratifiedKFold, KFold\n",
    "#from catboost import CatBoostRegressor\n",
    "import lightgbm as lgb\n",
    "# 模型\n",
    "model_lgb = lgb.LGBMRegressor(objective='regression',num_leaves=100,\n",
    "                              learning_rate=0.08, n_estimators=50, max_depth=5, \n",
    "                              metric='rmse', bagging_fraction = 0.8, feature_fraction = 0.5)\n",
    "def stat_func(x):\n",
    "    l1 = []\n",
    "    for i in x:\n",
    "        if i>0.5:\n",
    "            a = 1\n",
    "            l1.append(a)\n",
    "        else:\n",
    "            a = 0\n",
    "            l1.append(a)\n",
    "    return l1\n",
    "cat_list = [3]\n",
    "# 本地验证\n",
    "kf = KFold(n_splits=5,shuffle=True,random_state=2020)\n",
    "devscore = []\n",
    "tevscore = []\n",
    "count = 1\n",
    "for tidx,didx in kf.split(x_train.index):\n",
    "    print('************************************ {} ************************************'.format(str(count)))\n",
    "    count += 1\n",
    "    tf = x_train.iloc[tidx]\n",
    "    df = x_train.iloc[didx]\n",
    "    tt = y_train.iloc[tidx]\n",
    "    dt = y_train.iloc[didx]\n",
    "    lgb_train = lgb.Dataset(tf,tt,free_raw_data=False)\n",
    "    lgb_eval = lgb.Dataset(df,dt,reference=lgb_train,free_raw_data=False)\n",
    "    model_lgb.fit(tf,tt)\n",
    "    pre_train = model_lgb.predict(tf)\n",
    "    score = mean_squared_error(pre_train,tt)\n",
    "    tevscore.append(score)\n",
    "    print(\"train F1：%s\"%score)\n",
    "    pre = model_lgb.predict(df)\n",
    "    score = mean_squared_error(pre,dt)\n",
    "    tevscore.append(score)\n",
    "    print(\"Valid F1：%s\"%score)\n",
    "print(\"Train average F1：%s\"%np.mean(tevscore),\"Valid average F1：%s\"%np.mean(devscore))"
   ]
  },
  {
   "cell_type": "code",
   "execution_count": 26,
   "metadata": {},
   "outputs": [],
   "source": [
    "lgb_pre = model_lgb.predict(x_test)"
   ]
  },
  {
   "cell_type": "code",
   "execution_count": 35,
   "metadata": {},
   "outputs": [
    {
     "data": {
      "text/plain": [
       "(5250, 30)"
      ]
     },
     "execution_count": 35,
     "metadata": {},
     "output_type": "execute_result"
    }
   ],
   "source": [
    "x_test.shape"
   ]
  },
  {
   "cell_type": "code",
   "execution_count": 29,
   "metadata": {},
   "outputs": [],
   "source": [
    "lgb_pre_1 = []\n",
    "for i in lgb_pre:\n",
    "    lgb_pre_1.append(int(i))"
   ]
  },
  {
   "cell_type": "code",
   "execution_count": 37,
   "metadata": {},
   "outputs": [],
   "source": [
    "data.loc[data['empnum'].isnull(),'empnum'] = lgb_pre_1"
   ]
  },
  {
   "cell_type": "code",
   "execution_count": 39,
   "metadata": {},
   "outputs": [],
   "source": [
    "data.to_csv(\"empnum_predict.csv\",index=False)"
   ]
  }
 ],
 "metadata": {
  "kernelspec": {
   "display_name": "Python 3",
   "language": "python",
   "name": "python3"
  },
  "language_info": {
   "codemirror_mode": {
    "name": "ipython",
    "version": 3
   },
   "file_extension": ".py",
   "mimetype": "text/x-python",
   "name": "python",
   "nbconvert_exporter": "python",
   "pygments_lexer": "ipython3",
   "version": "3.6.4"
  }
 },
 "nbformat": 4,
 "nbformat_minor": 2
}
