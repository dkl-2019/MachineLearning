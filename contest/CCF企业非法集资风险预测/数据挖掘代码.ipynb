{
 "cells": [
  {
   "cell_type": "code",
   "execution_count": 1,
   "metadata": {},
   "outputs": [
    {
     "name": "stderr",
     "output_type": "stream",
     "text": [
      "C:\\ProgramData\\Anaconda3\\lib\\site-packages\\dask\\dataframe\\utils.py:14: FutureWarning: pandas.util.testing is deprecated. Use the functions in the public API at pandas.testing instead.\n",
      "  import pandas.util.testing as tm\n",
      "C:\\ProgramData\\Anaconda3\\lib\\site-packages\\sklearn\\ensemble\\weight_boosting.py:29: DeprecationWarning: numpy.core.umath_tests is an internal NumPy module and should not be imported. It will be removed in a future NumPy release.\n",
      "  from numpy.core.umath_tests import inner1d\n"
     ]
    }
   ],
   "source": [
    "import warnings\n",
    "from tqdm import tqdm\n",
    "import numpy as np\n",
    "import pandas as pd\n",
    "import xgboost as xgb\n",
    "import lightgbm as lgb\n",
    "import catboost as cab\n",
    "from sklearn.ensemble import RandomForestClassifier\n",
    "from sklearn.model_selection import StratifiedKFold\n",
    "from sklearn.model_selection import train_test_split\n",
    "from sklearn.metrics import f1_score,precision_recall_fscore_support,roc_curve,auc,roc_auc_score\n",
    "from sklearn.model_selection import GridSearchCV\n",
    "from matplotlib import pyplot as plt\n",
    "from sklearn.ensemble import RandomForestClassifier\n",
    "import pandas as pd\n",
    "import gc\n",
    "#from featexp import get_univariate_plots#用于特征筛选，需要先安装featexp\n",
    "warnings.filterwarnings(\"ignore\")\n",
    "plt.rcParams['font.sans-serif']=['Simhei']\n",
    "plt.rcParams['axes.unicode_minus']=False\n",
    "import json"
   ]
  },
  {
   "cell_type": "code",
   "execution_count": 2,
   "metadata": {},
   "outputs": [],
   "source": [
    "import sklearn"
   ]
  },
  {
   "cell_type": "code",
   "execution_count": 3,
   "metadata": {},
   "outputs": [
    {
     "name": "stdout",
     "output_type": "stream",
     "text": [
      "1.17.0\n",
      "1.1.3\n",
      "2.0.9\n",
      "0.19.1\n",
      "0.24.2\n"
     ]
    }
   ],
   "source": [
    "print(np.__version__)\n",
    "print(pd.__version__)\n",
    "print(json.__version__)\n",
    "print(sklearn.__version__)\n",
    "print(cab.__version__)"
   ]
  },
  {
   "cell_type": "code",
   "execution_count": 4,
   "metadata": {},
   "outputs": [],
   "source": [
    "entprise_train = pd.read_csv('train/entprise_info.csv',engine='python')\n",
    "base_info = pd.read_csv('train/base_info.csv',engine='python',encoding='utf-8')\n",
    "entprise_test = pd.read_csv('entprise_evaluate.csv')\n",
    "reccap_predict = pd.read_csv('reccap_predict.csv')['reccap']\n",
    "empnum_predict = pd.read_csv('empnum_predict.csv')['empnum']"
   ]
  },
  {
   "cell_type": "code",
   "execution_count": 5,
   "metadata": {},
   "outputs": [],
   "source": [
    "entprise = pd.concat([entprise_train,entprise_test])\n",
    "data = pd.merge(entprise,base_info,on='id')\n",
    "data.drop(['ptbusscope','midpreindcode','score'],axis=1,inplace=True)"
   ]
  },
  {
   "cell_type": "markdown",
   "metadata": {},
   "source": [
    "## 观察数据信息"
   ]
  },
  {
   "cell_type": "code",
   "execution_count": 6,
   "metadata": {},
   "outputs": [
    {
     "name": "stdout",
     "output_type": "stream",
     "text": [
      "<class 'pandas.core.frame.DataFrame'>\n",
      "Int64Index: 24865 entries, 0 to 24864\n",
      "Data columns (total 32 columns):\n",
      " #   Column         Non-Null Count  Dtype  \n",
      "---  ------         --------------  -----  \n",
      " 0   id             24865 non-null  object \n",
      " 1   label          14865 non-null  float64\n",
      " 2   oplocdistrict  24865 non-null  int64  \n",
      " 3   industryphy    24865 non-null  object \n",
      " 4   industryco     24864 non-null  float64\n",
      " 5   dom            24865 non-null  object \n",
      " 6   opscope        24865 non-null  object \n",
      " 7   enttype        24865 non-null  int64  \n",
      " 8   enttypeitem    16651 non-null  float64\n",
      " 9   opfrom         24865 non-null  object \n",
      " 10  opto           8825 non-null   object \n",
      " 11  state          24865 non-null  int64  \n",
      " 12  orgid          24865 non-null  int64  \n",
      " 13  jobid          24865 non-null  int64  \n",
      " 14  adbusign       24865 non-null  int64  \n",
      " 15  townsign       24865 non-null  int64  \n",
      " 16  regtype        24865 non-null  int64  \n",
      " 17  empnum         19615 non-null  float64\n",
      " 18  compform       10631 non-null  float64\n",
      " 19  parnum         2339 non-null   float64\n",
      " 20  exenum         1378 non-null   float64\n",
      " 21  opform         9000 non-null   object \n",
      " 22  venind         8437 non-null   float64\n",
      " 23  enttypeminu    7270 non-null   float64\n",
      " 24  protype        34 non-null     float64\n",
      " 25  oploc          24865 non-null  object \n",
      " 26  regcap         24674 non-null  float64\n",
      " 27  reccap         7084 non-null   float64\n",
      " 28  forreccap      227 non-null    float64\n",
      " 29  forregcap      250 non-null    float64\n",
      " 30  congro         249 non-null    float64\n",
      " 31  enttypegb      24865 non-null  int64  \n",
      "dtypes: float64(15), int64(9), object(8)\n",
      "memory usage: 6.3+ MB\n"
     ]
    }
   ],
   "source": [
    "data.info()"
   ]
  },
  {
   "cell_type": "markdown",
   "metadata": {},
   "source": [
    "## EDA"
   ]
  },
  {
   "cell_type": "code",
   "execution_count": 7,
   "metadata": {},
   "outputs": [],
   "source": [
    "import matplotlib.pyplot as plt\n",
    "import seaborn as sns"
   ]
  },
  {
   "cell_type": "markdown",
   "metadata": {},
   "source": [
    "## 正负样本比例图"
   ]
  },
  {
   "cell_type": "code",
   "execution_count": 8,
   "metadata": {},
   "outputs": [
    {
     "data": {
      "image/png": "[encoded data removed]",
      "text/plain": [
       "<Figure size 1296x288 with 2 Axes>"
      ]
     },
     "metadata": {},
     "output_type": "display_data"
    }
   ],
   "source": [
    "f,ax = plt.subplots(1,2,figsize=(18,4))\n",
    "data1 = data[data['label'].notnull()]\n",
    "data1['label'].value_counts().plot.pie(explode=[0,0.1],autopct='%1.1f%%',ax=ax[0],shadow=True)\n",
    "ax[0].set_title('label')\n",
    "ax[0].set_ylabel(\"\")\n",
    "sns.countplot('label',data=data1,ax=ax[1])\n",
    "ax[1].set_title(\"label_count\")\n",
    "plt.show()"
   ]
  },
  {
   "cell_type": "markdown",
   "metadata": {},
   "source": [
    "## 对是否城镇和非法集资进行可视化探索"
   ]
  },
  {
   "cell_type": "code",
   "execution_count": 9,
   "metadata": {},
   "outputs": [
    {
     "data": {
      "image/png": "[encoded data removed]",
      "text/plain": [
       "<Figure size 1296x288 with 2 Axes>"
      ]
     },
     "metadata": {},
     "output_type": "display_data"
    }
   ],
   "source": [
    "f,ax = plt.subplots(1,2,figsize=(18,4))\n",
    "data1[['label','townsign']].groupby('label').mean().plot.bar(ax=ax[0])\n",
    "ax[0].set_title(\"label vs townsign\")\n",
    "sns.countplot('townsign',hue='label',data=data1,ax=ax[1])\n",
    "ax[1].set_title(\"label vs is town\")\n",
    "plt.show()"
   ]
  },
  {
   "cell_type": "markdown",
   "metadata": {},
   "source": [
    "# 企业状态和是否非法集资的关系"
   ]
  },
  {
   "cell_type": "code",
   "execution_count": 10,
   "metadata": {},
   "outputs": [
    {
     "data": {
      "image/png": "[encoded data removed]",
      "text/plain": [
       "<Figure size 1296x288 with 2 Axes>"
      ]
     },
     "metadata": {},
     "output_type": "display_data"
    }
   ],
   "source": [
    "f,ax = plt.subplots(1,2,figsize=(18,4))\n",
    "data1['state'].value_counts().plot.bar(color=['#CD7F32','#FFDF00','#D3D3D3'],ax=ax[0])\n",
    "ax[0].set_title(\"number of state\")\n",
    "ax[0].set_ylabel(\"count\")\n",
    "sns.countplot('state',hue='label',data=data1,ax=ax[1])\n",
    "ax[1].set_title(\"label vs state\")\n",
    "plt.show()"
   ]
  },
  {
   "cell_type": "code",
   "execution_count": 11,
   "metadata": {},
   "outputs": [
    {
     "data": {
      "text/html": [
       "<style  type=\"text/css\" >\n",
       "#T_340b7e10_2a65_11eb_932f_2cf05d46c67frow0_col0,#T_340b7e10_2a65_11eb_932f_2cf05d46c67frow0_col5,#T_340b7e10_2a65_11eb_932f_2cf05d46c67frow4_col0,#T_340b7e10_2a65_11eb_932f_2cf05d46c67frow4_col1,#T_340b7e10_2a65_11eb_932f_2cf05d46c67frow4_col2,#T_340b7e10_2a65_11eb_932f_2cf05d46c67frow4_col3,#T_340b7e10_2a65_11eb_932f_2cf05d46c67frow4_col4,#T_340b7e10_2a65_11eb_932f_2cf05d46c67frow4_col5,#T_340b7e10_2a65_11eb_932f_2cf05d46c67frow4_col6{\n",
       "            background-color:  #008066;\n",
       "            color:  #f1f1f1;\n",
       "        }#T_340b7e10_2a65_11eb_932f_2cf05d46c67frow0_col1{\n",
       "            background-color:  #65b266;\n",
       "            color:  #000000;\n",
       "        }#T_340b7e10_2a65_11eb_932f_2cf05d46c67frow0_col2{\n",
       "            background-color:  #91c866;\n",
       "            color:  #000000;\n",
       "        }#T_340b7e10_2a65_11eb_932f_2cf05d46c67frow0_col3,#T_340b7e10_2a65_11eb_932f_2cf05d46c67frow3_col3{\n",
       "            background-color:  #f0f866;\n",
       "            color:  #000000;\n",
       "        }#T_340b7e10_2a65_11eb_932f_2cf05d46c67frow0_col4{\n",
       "            background-color:  #369b66;\n",
       "            color:  #000000;\n",
       "        }#T_340b7e10_2a65_11eb_932f_2cf05d46c67frow0_col6{\n",
       "            background-color:  #6ab466;\n",
       "            color:  #000000;\n",
       "        }#T_340b7e10_2a65_11eb_932f_2cf05d46c67frow1_col0,#T_340b7e10_2a65_11eb_932f_2cf05d46c67frow1_col1,#T_340b7e10_2a65_11eb_932f_2cf05d46c67frow1_col2,#T_340b7e10_2a65_11eb_932f_2cf05d46c67frow1_col3,#T_340b7e10_2a65_11eb_932f_2cf05d46c67frow1_col4,#T_340b7e10_2a65_11eb_932f_2cf05d46c67frow1_col5,#T_340b7e10_2a65_11eb_932f_2cf05d46c67frow1_col6,#T_340b7e10_2a65_11eb_932f_2cf05d46c67frow2_col0,#T_340b7e10_2a65_11eb_932f_2cf05d46c67frow2_col5,#T_340b7e10_2a65_11eb_932f_2cf05d46c67frow3_col0,#T_340b7e10_2a65_11eb_932f_2cf05d46c67frow3_col4,#T_340b7e10_2a65_11eb_932f_2cf05d46c67frow3_col5{\n",
       "            background-color:  #ffff66;\n",
       "            color:  #000000;\n",
       "        }#T_340b7e10_2a65_11eb_932f_2cf05d46c67frow2_col1{\n",
       "            background-color:  #b0d866;\n",
       "            color:  #000000;\n",
       "        }#T_340b7e10_2a65_11eb_932f_2cf05d46c67frow2_col2{\n",
       "            background-color:  #73b966;\n",
       "            color:  #000000;\n",
       "        }#T_340b7e10_2a65_11eb_932f_2cf05d46c67frow2_col3{\n",
       "            background-color:  #1e8e66;\n",
       "            color:  #000000;\n",
       "        }#T_340b7e10_2a65_11eb_932f_2cf05d46c67frow2_col4{\n",
       "            background-color:  #c9e466;\n",
       "            color:  #000000;\n",
       "        }#T_340b7e10_2a65_11eb_932f_2cf05d46c67frow2_col6{\n",
       "            background-color:  #a8d366;\n",
       "            color:  #000000;\n",
       "        }#T_340b7e10_2a65_11eb_932f_2cf05d46c67frow3_col1{\n",
       "            background-color:  #f2f866;\n",
       "            color:  #000000;\n",
       "        }#T_340b7e10_2a65_11eb_932f_2cf05d46c67frow3_col2{\n",
       "            background-color:  #fbfd66;\n",
       "            color:  #000000;\n",
       "        }#T_340b7e10_2a65_11eb_932f_2cf05d46c67frow3_col6{\n",
       "            background-color:  #f3f966;\n",
       "            color:  #000000;\n",
       "        }</style><table id=\"T_340b7e10_2a65_11eb_932f_2cf05d46c67f\" ><thead>    <tr>        <th class=\"blank\" ></th>        <th class=\"index_name level0\" >state</th>        <th class=\"col_heading level0 col0\" >4</th>        <th class=\"col_heading level0 col1\" >6</th>        <th class=\"col_heading level0 col2\" >7</th>        <th class=\"col_heading level0 col3\" >11</th>        <th class=\"col_heading level0 col4\" >13</th>        <th class=\"col_heading level0 col5\" >20</th>        <th class=\"col_heading level0 col6\" >All</th>    </tr>    <tr>        <th class=\"index_name level0\" >townsign</th>        <th class=\"index_name level1\" >label</th>        <th class=\"blank\" ></th>        <th class=\"blank\" ></th>        <th class=\"blank\" ></th>        <th class=\"blank\" ></th>        <th class=\"blank\" ></th>        <th class=\"blank\" ></th>        <th class=\"blank\" ></th>    </tr></thead><tbody>\n",
       "                <tr>\n",
       "                        <th id=\"T_340b7e10_2a65_11eb_932f_2cf05d46c67flevel0_row0\" class=\"row_heading level0 row0\" rowspan=2>0</th>\n",
       "                        <th id=\"T_340b7e10_2a65_11eb_932f_2cf05d46c67flevel1_row0\" class=\"row_heading level1 row0\" >0.0</th>\n",
       "                        <td id=\"T_340b7e10_2a65_11eb_932f_2cf05d46c67frow0_col0\" class=\"data row0 col0\" >3</td>\n",
       "                        <td id=\"T_340b7e10_2a65_11eb_932f_2cf05d46c67frow0_col1\" class=\"data row0 col1\" >7886</td>\n",
       "                        <td id=\"T_340b7e10_2a65_11eb_932f_2cf05d46c67frow0_col2\" class=\"data row0 col2\" >796</td>\n",
       "                        <td id=\"T_340b7e10_2a65_11eb_932f_2cf05d46c67frow0_col3\" class=\"data row0 col3\" >1</td>\n",
       "                        <td id=\"T_340b7e10_2a65_11eb_932f_2cf05d46c67frow0_col4\" class=\"data row0 col4\" >33</td>\n",
       "                        <td id=\"T_340b7e10_2a65_11eb_932f_2cf05d46c67frow0_col5\" class=\"data row0 col5\" >1</td>\n",
       "                        <td id=\"T_340b7e10_2a65_11eb_932f_2cf05d46c67frow0_col6\" class=\"data row0 col6\" >8720</td>\n",
       "            </tr>\n",
       "            <tr>\n",
       "                                <th id=\"T_340b7e10_2a65_11eb_932f_2cf05d46c67flevel1_row1\" class=\"row_heading level1 row1\" >1.0</th>\n",
       "                        <td id=\"T_340b7e10_2a65_11eb_932f_2cf05d46c67frow1_col0\" class=\"data row1 col0\" >0</td>\n",
       "                        <td id=\"T_340b7e10_2a65_11eb_932f_2cf05d46c67frow1_col1\" class=\"data row1 col1\" >133</td>\n",
       "                        <td id=\"T_340b7e10_2a65_11eb_932f_2cf05d46c67frow1_col2\" class=\"data row1 col2\" >2</td>\n",
       "                        <td id=\"T_340b7e10_2a65_11eb_932f_2cf05d46c67frow1_col3\" class=\"data row1 col3\" >0</td>\n",
       "                        <td id=\"T_340b7e10_2a65_11eb_932f_2cf05d46c67frow1_col4\" class=\"data row1 col4\" >0</td>\n",
       "                        <td id=\"T_340b7e10_2a65_11eb_932f_2cf05d46c67frow1_col5\" class=\"data row1 col5\" >0</td>\n",
       "                        <td id=\"T_340b7e10_2a65_11eb_932f_2cf05d46c67frow1_col6\" class=\"data row1 col6\" >135</td>\n",
       "            </tr>\n",
       "            <tr>\n",
       "                        <th id=\"T_340b7e10_2a65_11eb_932f_2cf05d46c67flevel0_row2\" class=\"row_heading level0 row2\" rowspan=2>1</th>\n",
       "                        <th id=\"T_340b7e10_2a65_11eb_932f_2cf05d46c67flevel1_row2\" class=\"row_heading level1 row2\" >0.0</th>\n",
       "                        <td id=\"T_340b7e10_2a65_11eb_932f_2cf05d46c67frow2_col0\" class=\"data row2 col0\" >0</td>\n",
       "                        <td id=\"T_340b7e10_2a65_11eb_932f_2cf05d46c67frow2_col1\" class=\"data row2 col1\" >4126</td>\n",
       "                        <td id=\"T_340b7e10_2a65_11eb_932f_2cf05d46c67frow2_col2\" class=\"data row2 col2\" >1014</td>\n",
       "                        <td id=\"T_340b7e10_2a65_11eb_932f_2cf05d46c67frow2_col3\" class=\"data row2 col3\" >15</td>\n",
       "                        <td id=\"T_340b7e10_2a65_11eb_932f_2cf05d46c67frow2_col4\" class=\"data row2 col4\" >9</td>\n",
       "                        <td id=\"T_340b7e10_2a65_11eb_932f_2cf05d46c67frow2_col5\" class=\"data row2 col5\" >0</td>\n",
       "                        <td id=\"T_340b7e10_2a65_11eb_932f_2cf05d46c67frow2_col6\" class=\"data row2 col6\" >5164</td>\n",
       "            </tr>\n",
       "            <tr>\n",
       "                                <th id=\"T_340b7e10_2a65_11eb_932f_2cf05d46c67flevel1_row3\" class=\"row_heading level1 row3\" >1.0</th>\n",
       "                        <td id=\"T_340b7e10_2a65_11eb_932f_2cf05d46c67frow3_col0\" class=\"data row3 col0\" >0</td>\n",
       "                        <td id=\"T_340b7e10_2a65_11eb_932f_2cf05d46c67frow3_col1\" class=\"data row3 col1\" >811</td>\n",
       "                        <td id=\"T_340b7e10_2a65_11eb_932f_2cf05d46c67frow3_col2\" class=\"data row3 col2\" >34</td>\n",
       "                        <td id=\"T_340b7e10_2a65_11eb_932f_2cf05d46c67frow3_col3\" class=\"data row3 col3\" >1</td>\n",
       "                        <td id=\"T_340b7e10_2a65_11eb_932f_2cf05d46c67frow3_col4\" class=\"data row3 col4\" >0</td>\n",
       "                        <td id=\"T_340b7e10_2a65_11eb_932f_2cf05d46c67frow3_col5\" class=\"data row3 col5\" >0</td>\n",
       "                        <td id=\"T_340b7e10_2a65_11eb_932f_2cf05d46c67frow3_col6\" class=\"data row3 col6\" >846</td>\n",
       "            </tr>\n",
       "            <tr>\n",
       "                        <th id=\"T_340b7e10_2a65_11eb_932f_2cf05d46c67flevel0_row4\" class=\"row_heading level0 row4\" >All</th>\n",
       "                        <th id=\"T_340b7e10_2a65_11eb_932f_2cf05d46c67flevel1_row4\" class=\"row_heading level1 row4\" ></th>\n",
       "                        <td id=\"T_340b7e10_2a65_11eb_932f_2cf05d46c67frow4_col0\" class=\"data row4 col0\" >3</td>\n",
       "                        <td id=\"T_340b7e10_2a65_11eb_932f_2cf05d46c67frow4_col1\" class=\"data row4 col1\" >12956</td>\n",
       "                        <td id=\"T_340b7e10_2a65_11eb_932f_2cf05d46c67frow4_col2\" class=\"data row4 col2\" >1846</td>\n",
       "                        <td id=\"T_340b7e10_2a65_11eb_932f_2cf05d46c67frow4_col3\" class=\"data row4 col3\" >17</td>\n",
       "                        <td id=\"T_340b7e10_2a65_11eb_932f_2cf05d46c67frow4_col4\" class=\"data row4 col4\" >42</td>\n",
       "                        <td id=\"T_340b7e10_2a65_11eb_932f_2cf05d46c67frow4_col5\" class=\"data row4 col5\" >1</td>\n",
       "                        <td id=\"T_340b7e10_2a65_11eb_932f_2cf05d46c67frow4_col6\" class=\"data row4 col6\" >14865</td>\n",
       "            </tr>\n",
       "    </tbody></table>"
      ],
      "text/plain": [
       "<pandas.io.formats.style.Styler at 0x1ec795dd470>"
      ]
     },
     "execution_count": 11,
     "metadata": {},
     "output_type": "execute_result"
    }
   ],
   "source": [
    "pd.crosstab([data1.townsign,data1.label],data1.state,margins=True).style.background_gradient(cmap='summer_r')"
   ]
  },
  {
   "cell_type": "code",
   "execution_count": 12,
   "metadata": {},
   "outputs": [
    {
     "data": {
      "image/png": "[encoded data removed]",
      "text/plain": [
       "<Figure size 336x288 with 1 Axes>"
      ]
     },
     "metadata": {},
     "output_type": "display_data"
    }
   ],
   "source": [
    "sns.factorplot('state','label',hue='townsign',data=data1)\n",
    "plt.show()"
   ]
  },
  {
   "cell_type": "markdown",
   "metadata": {},
   "source": [
    "## 企业状态和企业行业细类代码与是否非法集资的关系"
   ]
  },
  {
   "cell_type": "code",
   "execution_count": 13,
   "metadata": {},
   "outputs": [
    {
     "data": {
      "image/png": "[encoded data removed]",
      "text/plain": [
       "<Figure size 1296x288 with 2 Axes>"
      ]
     },
     "metadata": {},
     "output_type": "display_data"
    }
   ],
   "source": [
    "f,ax = plt.subplots(1,2,figsize=(18,4))\n",
    "sns.violinplot(\"state\",'industryco',hue='label',data=data1,split=True,ax=ax[0])\n",
    "ax[0].set_title(\"state and industryco vs label\")\n",
    "ax[0].set_yticks(range(0,10000,1000))\n",
    "sns.violinplot('townsign','industryco',hue='label',data=data1,split=True,ax=ax[1])\n",
    "ax[1].set_title('townsign and industryco vs label')\n",
    "ax[1].set_yticks(range(0,10000,1000))\n",
    "plt.show()"
   ]
  },
  {
   "cell_type": "markdown",
   "metadata": {},
   "source": [
    "## 行业代码细类与是否非法集资企业的关系"
   ]
  },
  {
   "cell_type": "code",
   "execution_count": 14,
   "metadata": {},
   "outputs": [],
   "source": [
    "from sklearn.preprocessing import LabelEncoder\n",
    "labelencoder1 = LabelEncoder()\n",
    "data['industryphy'] = labelencoder1.fit_transform(data['industryphy'])"
   ]
  },
  {
   "cell_type": "code",
   "execution_count": 15,
   "metadata": {},
   "outputs": [
    {
     "data": {
      "image/png": "[encoded data removed]",
      "text/plain": [
       "<Figure size 1296x288 with 2 Axes>"
      ]
     },
     "metadata": {},
     "output_type": "display_data"
    }
   ],
   "source": [
    "f,ax = plt.subplots(1,2,figsize=(18,4))\n",
    "data[data['label']==1.0].industryphy.plot.hist(ax=ax[0],bins=15,edgecolor='black',color='red')\n",
    "ax[0].set_title('label==1.0')\n",
    "x1 = list(range(15))\n",
    "ax[0].set_xticks(x1)\n",
    "data[data['label']==0.0].industryphy.plot.hist(ax=ax[1],bins=15,edgecolor='green')\n",
    "x2 = list(range(15))\n",
    "ax[0].set_title('label==1.0')\n",
    "ax[1].set_xticks(x2)\n",
    "plt.show()"
   ]
  },
  {
   "cell_type": "code",
   "execution_count": 16,
   "metadata": {},
   "outputs": [
    {
     "data": {
      "image/png": "[encoded data removed]",
      "text/plain": [
       "<Figure size 360x216 with 1 Axes>"
      ]
     },
     "metadata": {},
     "output_type": "display_data"
    }
   ],
   "source": [
    "sns.factorplot('industryphy','label',data=data)\n",
    "fig=plt.gcf()\n",
    "fig.set_size_inches(5,3)\n",
    "plt.show()"
   ]
  },
  {
   "cell_type": "code",
   "execution_count": 17,
   "metadata": {},
   "outputs": [],
   "source": [
    "entprise = pd.concat([entprise_train,entprise_test])\n",
    "data = pd.merge(entprise,base_info,on='id')\n",
    "data.drop(['ptbusscope','midpreindcode','score'],axis=1,inplace=True)"
   ]
  },
  {
   "cell_type": "code",
   "execution_count": 28,
   "metadata": {},
   "outputs": [
    {
     "data": {
      "text/html": [
       "<div>\n",
       "<style scoped>\n",
       "    .dataframe tbody tr th:only-of-type {\n",
       "        vertical-align: middle;\n",
       "    }\n",
       "\n",
       "    .dataframe tbody tr th {\n",
       "        vertical-align: top;\n",
       "    }\n",
       "\n",
       "    .dataframe thead th {\n",
       "        text-align: right;\n",
       "    }\n",
       "</style>\n",
       "<table border=\"1\" class=\"dataframe\">\n",
       "  <thead>\n",
       "    <tr style=\"text-align: right;\">\n",
       "      <th></th>\n",
       "      <th>enttypeitem</th>\n",
       "      <th>enttypeminu</th>\n",
       "      <th>enttypegb</th>\n",
       "    </tr>\n",
       "  </thead>\n",
       "  <tbody>\n",
       "    <tr>\n",
       "      <th>0</th>\n",
       "      <td>4530</td>\n",
       "      <td>4533</td>\n",
       "      <td>4533</td>\n",
       "    </tr>\n",
       "    <tr>\n",
       "      <th>1</th>\n",
       "      <td>9600</td>\n",
       "      <td>9600</td>\n",
       "      <td>9600</td>\n",
       "    </tr>\n",
       "    <tr>\n",
       "      <th>2</th>\n",
       "      <td>1130</td>\n",
       "      <td>1130</td>\n",
       "      <td>1130</td>\n",
       "    </tr>\n",
       "    <tr>\n",
       "      <th>3</th>\n",
       "      <td>1150</td>\n",
       "      <td>1151</td>\n",
       "      <td>1151</td>\n",
       "    </tr>\n",
       "    <tr>\n",
       "      <th>4</th>\n",
       "      <td>9600</td>\n",
       "      <td>9600</td>\n",
       "      <td>9600</td>\n",
       "    </tr>\n",
       "    <tr>\n",
       "      <th>...</th>\n",
       "      <td>...</td>\n",
       "      <td>...</td>\n",
       "      <td>...</td>\n",
       "    </tr>\n",
       "    <tr>\n",
       "      <th>24860</th>\n",
       "      <td>1150</td>\n",
       "      <td>1151</td>\n",
       "      <td>1151</td>\n",
       "    </tr>\n",
       "    <tr>\n",
       "      <th>24861</th>\n",
       "      <td>1130</td>\n",
       "      <td>1130</td>\n",
       "      <td>1130</td>\n",
       "    </tr>\n",
       "    <tr>\n",
       "      <th>24862</th>\n",
       "      <td>6110</td>\n",
       "      <td>6110</td>\n",
       "      <td>6110</td>\n",
       "    </tr>\n",
       "    <tr>\n",
       "      <th>24863</th>\n",
       "      <td>1130</td>\n",
       "      <td>1130</td>\n",
       "      <td>1130</td>\n",
       "    </tr>\n",
       "    <tr>\n",
       "      <th>24864</th>\n",
       "      <td>2150</td>\n",
       "      <td>2151</td>\n",
       "      <td>2151</td>\n",
       "    </tr>\n",
       "  </tbody>\n",
       "</table>\n",
       "<p>24865 rows × 3 columns</p>\n",
       "</div>"
      ],
      "text/plain": [
       "       enttypeitem  enttypeminu  enttypegb\n",
       "0             4530         4533       4533\n",
       "1             9600         9600       9600\n",
       "2             1130         1130       1130\n",
       "3             1150         1151       1151\n",
       "4             9600         9600       9600\n",
       "...            ...          ...        ...\n",
       "24860         1150         1151       1151\n",
       "24861         1130         1130       1130\n",
       "24862         6110         6110       6110\n",
       "24863         1130         1130       1130\n",
       "24864         2150         2151       2151\n",
       "\n",
       "[24865 rows x 3 columns]"
      ]
     },
     "execution_count": 28,
     "metadata": {},
     "output_type": "execute_result"
    }
   ],
   "source": [
    "data[['enttypeitem','enttypeminu','enttypegb']]"
   ]
  },
  {
   "cell_type": "code",
   "execution_count": 18,
   "metadata": {},
   "outputs": [
    {
     "name": "stderr",
     "output_type": "stream",
     "text": [
      "Building prefix dict from the default dictionary ...\n",
      "Loading model from cache C:\\Users\\ADMINI~1\\AppData\\Local\\Temp\\jieba.cache\n",
      "Loading model cost 0.563 seconds.\n",
      "Prefix dict has been built successfully.\n"
     ]
    }
   ],
   "source": [
    "data['enttypeitem'] = data['enttypegb']//10*10\n",
    "data['enttypeminu'] = data['enttypegb']\n",
    "data['regcap'] = data['regcap'].fillna(data['regcap'].mean())\n",
    "data['reccap'] = reccap_predict\n",
    "data['empnum'] = empnum_predict\n",
    "data['reccap'] = data['reccap']\n",
    "data['opform'].fillna(10,inplace=True)\n",
    "data['opform'] = data['opform'].astype(str)\n",
    "from sklearn.preprocessing import LabelEncoder\n",
    "labelencoder1 = LabelEncoder()\n",
    "labelencoder2 = LabelEncoder()\n",
    "labelencoder3 = LabelEncoder()\n",
    "labelencoder4 = LabelEncoder()\n",
    "data['opform'] = labelencoder1.fit_transform(data['opform'])\n",
    "data['oploc'] = labelencoder2.fit_transform(data['oploc'])\n",
    "data['industryphy'] = labelencoder3.fit_transform(data['industryphy'])\n",
    "data['oplocdistrict'] = labelencoder4.fit_transform(data['oplocdistrict'])\n",
    "def opto_process(x):\n",
    "    if len(x)>3:\n",
    "        return x[:4]\n",
    "    else:\n",
    "        return x\n",
    "data['opfrom'] = data['opfrom'].map(lambda x:x[:4])\n",
    "data['opto'].fillna('nan',inplace=True)\n",
    "data['opto'] = data['opto'].map(opto_process)\n",
    "data['opfrom'] = data['opfrom'].astype(int)\n",
    "data['opto'] = data['opto'].astype(float)\n",
    "data['industryco'] = data['industryco'].fillna(data['industryco'].mean())\n",
    "data.loc[data['opto'].isnull(),\"opto\"] = data[data['opto'].isnull()]['opfrom']+50.0\n",
    "data['enttpe_year'] = data['opfrom'] - data['opto']\n",
    "data['opscope'] = data['opscope'].apply(lambda x:x.replace(\"、\",\"/\").replace(\"；\",\"/\").replace(\"，\",\"/\").replace(\"。\",\"/\"))\n",
    "data['opscope'] = data['opscope'].apply(lambda x:x.replace(\"（\",\"/\").replace(\"）\",\"/\").replace(\"，\",\"/\").replace(\"。\",\"/\"))\n",
    "data['opscope'] = data['opscope'].apply(lambda x:\"\".join(x.split(\"/\")))\n",
    "import jieba\n",
    "data['opscope_1'] = data['opscope'].apply(lambda x:jieba.lcut(x,cut_all=True))\n",
    "from collections import Counter\n",
    "def jieba_func(x):\n",
    "    str1 = list(Counter(x).keys())[0]\n",
    "    str2 = list(Counter(x).keys())[1]\n",
    "    count = str1+str2\n",
    "    return count\n",
    "data['count_opscope'] = data['opscope'].apply(lambda x:jieba_func(x))\n",
    "le6 = LabelEncoder()\n",
    "data['opscope_length'] = data['opscope_1'].apply(lambda x:len(x))\n",
    "# data['opscope'] = data['opscope'].apply(lambda x:x.split('/')[-2:])\n",
    "data['opscope_label'] = le6.fit_transform(data['count_opscope'])"
   ]
  },
  {
   "cell_type": "code",
   "execution_count": 19,
   "metadata": {},
   "outputs": [
    {
     "name": "stdout",
     "output_type": "stream",
     "text": [
      "分桶完毕.................\n"
     ]
    }
   ],
   "source": [
    "def bucket(name,bucket_len):\n",
    "    gap_list=[data[name].quantile(i/bucket_len) for i in range(bucket_len+1)]\n",
    "    len_data=len(data[name])\n",
    "    new_col=[]\n",
    "    for i in data[name].values:\n",
    "        for j in range(len(gap_list)):\n",
    "            if gap_list[j]>=i:\n",
    "                encode=j\n",
    "                break\n",
    "        new_col.append(encode)\n",
    "    return new_col\n",
    "#注册资本_实缴资本\n",
    "data['regcap_reccap']=data['regcap']-data['reccap']\n",
    "#注册资本分桶\n",
    "data['regcap']=data['regcap'].fillna(data['regcap'].median())\n",
    "data['bucket_regcap']=bucket('regcap',5)\n",
    "#实缴资本分桶\n",
    "data['reccap']=data['reccap'].fillna(data['reccap'].median())\n",
    "data['bucket_reccap']=bucket('reccap',5)\n",
    "#注册资本_实缴资本分桶\n",
    "data['regcap_reccap']=data['regcap_reccap'].fillna(data['regcap_reccap'].median())\n",
    "data['bucket_regcap_reccap']=bucket('regcap_reccap',5)\n",
    "print('分桶完毕.................')"
   ]
  },
  {
   "cell_type": "code",
   "execution_count": 20,
   "metadata": {},
   "outputs": [],
   "source": [
    "# data['dom'] = data['dom'].apply(lambda x:x[:16])\n",
    "le7 = LabelEncoder()\n",
    "data['dom'] = le7.fit_transform(data['dom'])"
   ]
  },
  {
   "cell_type": "code",
   "execution_count": 21,
   "metadata": {},
   "outputs": [
    {
     "name": "stderr",
     "output_type": "stream",
     "text": [
      "100%|████████████████████████████████████████████████████████████████████████| 24865/24865 [00:00<00:00, 130749.43it/s]\n",
      "100%|████████████████████████████████████████████████████████████████████████| 24865/24865 [00:00<00:00, 132846.95it/s]\n",
      "100%|████████████████████████████████████████████████████████████████████████| 24865/24865 [00:00<00:00, 129387.34it/s]\n",
      "100%|████████████████████████████████████████████████████████████████████████| 24865/24865 [00:00<00:00, 129387.34it/s]\n",
      "100%|████████████████████████████████████████████████████████████████████████| 24865/24865 [00:00<00:00, 131441.21it/s]\n",
      "100%|████████████████████████████████████████████████████████████████████████| 24865/24865 [00:00<00:00, 130064.74it/s]\n"
     ]
    }
   ],
   "source": [
    "from tqdm import tqdm\n",
    "def cross_two(name_1,name_2):\n",
    "    new_col=[]\n",
    "    encode=0\n",
    "    dic={}\n",
    "    val_1=data[name_1]\n",
    "    val_2=data[name_2]\n",
    "    for i in tqdm(range(len(val_1))):\n",
    "        tmp=str(val_1[i])+'_'+str(val_2[i])\n",
    "        if tmp in dic:\n",
    "            new_col.append(dic[tmp])\n",
    "        else:\n",
    "            dic[tmp]=encode\n",
    "            new_col.append(encode)\n",
    "            encode+=1\n",
    "    return new_col\n",
    "#作企业类型-小类的交叉特征\n",
    "data['enttypegb']=data['enttypegb'].fillna(\"无\")\n",
    "data['enttypeitem']=data['enttypeitem'].fillna(\"无\")\n",
    "new_col=cross_two('enttypegb','enttypeitem')#作企业类型-小类的交叉特征\n",
    "data['enttypegb_enttypeitem']=new_col\n",
    "#\n",
    "#行业类别-细类的交叉特征\n",
    "data['industryphy']=data['industryphy'].fillna(\"无\")\n",
    "data['industryco']=data['industryco'].fillna(\"无\")\n",
    "new_col=cross_two('industryphy','industryco')#作企业类型-小类的交叉特征\n",
    "data['industryphy_industryco']=new_col\n",
    "#企业类型-行业类别的交叉特征\n",
    "new_col=cross_two('enttypegb','industryphy')#作企业类型-小类的交叉特征\n",
    "data['enttypegb_industryphy']=new_col\n",
    "#行业类别-企业类型小类的交叉特征\n",
    "new_col=cross_two('industryphy','enttypeitem')#作企业类型-小类的交叉特征\n",
    "data['industryphy_enttypeitem']=new_col\n",
    "#行业类别细类--企业类型小类的交叉特征\n",
    "new_col=cross_two('industryco','enttypeitem')#作企业类型-小类的交叉特征\n",
    "data['industryco_enttypeitem']=new_col\n",
    "\n",
    "#企业类型-小类-行业类别-细类的交叉特征\n",
    "new_col=cross_two('enttypegb_enttypeitem','industryphy_industryco')#作企业类型-小类的交叉特征\n",
    "data['enttypegb_enttypeitem_industryphy_industryco']=new_col"
   ]
  },
  {
   "cell_type": "code",
   "execution_count": 22,
   "metadata": {},
   "outputs": [],
   "source": [
    "for fea in ['industryphy','enttype','enttypeitem','empnum','opfrom','regcap','reccap','opto','enttypeminu']:\n",
    "    data[fea+'_counts'] = data.groupby([fea])['id'].transform('count')"
   ]
  },
  {
   "cell_type": "code",
   "execution_count": 23,
   "metadata": {},
   "outputs": [],
   "source": [
    "x_train = data[data['label'].notnull()]\n",
    "y_train = x_train['label']\n",
    "x_test = data[data['label'].isnull()]\n",
    "features_name = [i for i in data.columns if i not in ['id','regcap','reccap','enttype','enttypeitem','enttypeminu','bucket_regcap_reccap','townsign','count_opscope','opscope_1','oplocdistrict','adbusign','compform','opform','orgid','exenum','opscope','enttypegb','label','state','jobid','regtype','parnum','venind','protype','oploc','forreccap','forregcap','congro']]\n",
    "#features_name = ['industryco', 'dom', 'opfrom', 'opto', 'empnum', 'enttpe_year', 'opscope_length', 'opscope_label', 'regcap_reccap', 'bucket_regcap', 'bucket_reccap', 'enttypegb_enttypeitem', 'industryphy_industryco', 'enttypegb_industryphy', 'industryphy_enttypeitem', 'industryco_enttypeitem', 'enttypegb_enttypeitem_industryphy_industryco', 'industryphy_counts', 'enttype_counts', 'enttypeitem_counts', 'empnum_counts', 'regcap_counts', 'opto_counts']\n",
    "x_train = x_train[features_name]\n",
    "x_test = x_test[features_name]"
   ]
  },
  {
   "cell_type": "code",
   "execution_count": 24,
   "metadata": {},
   "outputs": [
    {
     "name": "stdout",
     "output_type": "stream",
     "text": [
      "<class 'pandas.core.frame.DataFrame'>\n",
      "Int64Index: 10000 entries, 14865 to 24864\n",
      "Data columns (total 27 columns):\n",
      " #   Column                                        Non-Null Count  Dtype  \n",
      "---  ------                                        --------------  -----  \n",
      " 0   industryphy                                   10000 non-null  int64  \n",
      " 1   industryco                                    10000 non-null  float64\n",
      " 2   dom                                           10000 non-null  int64  \n",
      " 3   opfrom                                        10000 non-null  int32  \n",
      " 4   opto                                          10000 non-null  float64\n",
      " 5   empnum                                        10000 non-null  float64\n",
      " 6   enttpe_year                                   10000 non-null  float64\n",
      " 7   opscope_length                                10000 non-null  int64  \n",
      " 8   opscope_label                                 10000 non-null  int64  \n",
      " 9   regcap_reccap                                 10000 non-null  float64\n",
      " 10  bucket_regcap                                 10000 non-null  int64  \n",
      " 11  bucket_reccap                                 10000 non-null  int64  \n",
      " 12  enttypegb_enttypeitem                         10000 non-null  int64  \n",
      " 13  industryphy_industryco                        10000 non-null  int64  \n",
      " 14  enttypegb_industryphy                         10000 non-null  int64  \n",
      " 15  industryphy_enttypeitem                       10000 non-null  int64  \n",
      " 16  industryco_enttypeitem                        10000 non-null  int64  \n",
      " 17  enttypegb_enttypeitem_industryphy_industryco  10000 non-null  int64  \n",
      " 18  industryphy_counts                            10000 non-null  int64  \n",
      " 19  enttype_counts                                10000 non-null  int64  \n",
      " 20  enttypeitem_counts                            10000 non-null  int64  \n",
      " 21  empnum_counts                                 10000 non-null  int64  \n",
      " 22  opfrom_counts                                 10000 non-null  int64  \n",
      " 23  regcap_counts                                 10000 non-null  int64  \n",
      " 24  reccap_counts                                 10000 non-null  int64  \n",
      " 25  opto_counts                                   10000 non-null  int64  \n",
      " 26  enttypeminu_counts                            10000 non-null  int64  \n",
      "dtypes: float64(5), int32(1), int64(21)\n",
      "memory usage: 2.1 MB\n"
     ]
    }
   ],
   "source": [
    "x_test.info()"
   ]
  },
  {
   "cell_type": "code",
   "execution_count": 25,
   "metadata": {},
   "outputs": [
    {
     "name": "stdout",
     "output_type": "stream",
     "text": [
      "************************************ 1 ************************************\n",
      "train F1：0.9341692789968652\n",
      "Valid F1：0.8311688311688311\n",
      "************************************ 2 ************************************\n",
      "train F1：0.9280575539568344\n",
      "Valid F1：0.8214285714285714\n",
      "************************************ 3 ************************************\n",
      "train F1：0.9339263024142314\n",
      "Valid F1：0.8564814814814816\n",
      "************************************ 4 ************************************\n",
      "train F1：0.935483870967742\n",
      "Valid F1：0.8704156479217604\n",
      "************************************ 5 ************************************\n",
      "train F1：0.9373401534526854\n",
      "Valid F1：0.8517647058823529\n",
      "Train average F1：0.9337954319576717 Valid average F1：0.8462518475765994\n"
     ]
    }
   ],
   "source": [
    "from sklearn.metrics import auc, roc_curve,f1_score,precision_score,recall_score\n",
    "from sklearn.model_selection import StratifiedKFold, KFold\n",
    "from catboost import CatBoostRegressor\n",
    "from sklearn.ensemble import RandomForestClassifier\n",
    "# 模型\n",
    "rf = RandomForestClassifier(oob_score=True, random_state=2020,\n",
    "            n_estimators= 60,max_depth=13,min_samples_split=10)\n",
    "def stat_func(x):\n",
    "    l1 = []\n",
    "    for i in x:\n",
    "        if i>0.5:\n",
    "            a = 1\n",
    "            l1.append(a)\n",
    "        else:\n",
    "            a = 0\n",
    "            l1.append(a)\n",
    "    return l1\n",
    "def score_fuc(p,r):\n",
    "    return 2*p*r/(p+r)\n",
    "cat_list = [3]\n",
    "# 本地验证\n",
    "kf = KFold(n_splits=5,shuffle=True,random_state=2020)\n",
    "devscore = []\n",
    "tevscore = []\n",
    "count = 1\n",
    "result_test = pd.DataFrame()\n",
    "for tidx,didx in kf.split(x_train.index):\n",
    "    print('************************************ {} ************************************'.format(str(count)))\n",
    "    count += 1\n",
    "    tf = x_train.iloc[tidx]\n",
    "    df = x_train.iloc[didx]\n",
    "    tt = y_train.iloc[tidx]\n",
    "    dt = y_train.iloc[didx]\n",
    "    rf.fit(tf, tt)\n",
    "    pre_train = rf.predict(tf)\n",
    "    stat_pre_train = stat_func(pre_train)\n",
    "    p = precision_score(tt,stat_pre_train)\n",
    "    r = recall_score(tt,stat_pre_train)\n",
    "    score = score_fuc(p,r)\n",
    "    #score = f1_score(stat_pre_train,tt)\n",
    "    tevscore.append(score)\n",
    "    print(\"train F1：%s\"%score)\n",
    "    pre = rf.predict(df)\n",
    "    stat_pre = stat_func(pre)\n",
    "    p = precision_score(dt,stat_pre)\n",
    "    r = recall_score(dt,stat_pre)\n",
    "    score = score_fuc(p,r)\n",
    "    devscore.append(score)\n",
    "    print(\"Valid F1：%s\"%score)\n",
    "    result_test[str(count-1)+\"折\"] = rf.predict(x_test)/5\n",
    "print(\"Train average F1：%s\"%np.mean(tevscore),\"Valid average F1：%s\"%np.mean(devscore))\n",
    "result_test['result'] = result_test['1折']+result_test['2折']+result_test['3折']+result_test['4折']+result_test['5折']\n",
    "result = result_test['result'].values\n",
    "result_1 = stat_func(result)"
   ]
  },
  {
   "cell_type": "code",
   "execution_count": 26,
   "metadata": {},
   "outputs": [
    {
     "data": {
      "image/png": "[encoded data removed]",
      "text/plain": [
       "<Figure size 720x720 with 1 Axes>"
      ]
     },
     "metadata": {},
     "output_type": "display_data"
    }
   ],
   "source": [
    "import matplotlib.pyplot as plt\n",
    "plt.figure(figsize=(10,10))\n",
    "a = pd.DataFrame()\n",
    "feature_import = rf.feature_importances_\n",
    "feature_name  = x_train.columns.tolist()\n",
    "plt.barh(feature_name,feature_import)\n",
    "plt.show()"
   ]
  },
  {
   "cell_type": "code",
   "execution_count": 1,
   "metadata": {},
   "outputs": [
    {
     "ename": "NameError",
     "evalue": "name 'pd' is not defined",
     "output_type": "error",
     "traceback": [
      "\u001b[1;31m---------------------------------------------------------------------------\u001b[0m",
      "\u001b[1;31mNameError\u001b[0m                                 Traceback (most recent call last)",
      "\u001b[1;32m<ipython-input-1-a3ce4e442d4f>\u001b[0m in \u001b[0;36m<module>\u001b[1;34m()\u001b[0m\n\u001b[1;32m----> 1\u001b[1;33m \u001b[0mentprise_test\u001b[0m \u001b[1;33m=\u001b[0m \u001b[0mpd\u001b[0m\u001b[1;33m.\u001b[0m\u001b[0mread_csv\u001b[0m\u001b[1;33m(\u001b[0m\u001b[1;34m'entprise_evaluate.csv'\u001b[0m\u001b[1;33m)\u001b[0m\u001b[1;33m\u001b[0m\u001b[0m\n\u001b[0m\u001b[0;32m      2\u001b[0m dict1 = {\n\u001b[0;32m      3\u001b[0m     \u001b[1;34m'id'\u001b[0m\u001b[1;33m:\u001b[0m\u001b[0mentprise_test\u001b[0m\u001b[1;33m.\u001b[0m\u001b[0mid\u001b[0m\u001b[1;33m,\u001b[0m\u001b[1;33m\u001b[0m\u001b[0m\n\u001b[0;32m      4\u001b[0m     \u001b[1;34m'score'\u001b[0m\u001b[1;33m:\u001b[0m\u001b[0mresult_1\u001b[0m\u001b[1;33m\u001b[0m\u001b[0m\n\u001b[0;32m      5\u001b[0m }\n",
      "\u001b[1;31mNameError\u001b[0m: name 'pd' is not defined"
     ]
    }
   ],
   "source": [
    "entprise_test = pd.read_csv('entprise_evaluate.csv')\n",
    "dict1 = {\n",
    "    'id':entprise_test.id,\n",
    "    'score':result_1\n",
    "}\n",
    "df = pd.DataFrame(dict1)\n",
    "df.to_csv(r'../result/1116_1_1.csv', index=False)"
   ]
  },
  {
   "cell_type": "code",
   "execution_count": null,
   "metadata": {},
   "outputs": [],
   "source": []
  },
  {
   "cell_type": "code",
   "execution_count": null,
   "metadata": {},
   "outputs": [],
   "source": []
  },
  {
   "cell_type": "code",
   "execution_count": null,
   "metadata": {},
   "outputs": [],
   "source": []
  }
 ],
 "metadata": {
  "kernelspec": {
   "display_name": "Python 3",
   "language": "python",
   "name": "python3"
  },
  "language_info": {
   "codemirror_mode": {
    "name": "ipython",
    "version": 3
   },
   "file_extension": ".py",
   "mimetype": "text/x-python",
   "name": "python",
   "nbconvert_exporter": "python",
   "pygments_lexer": "ipython3",
   "version": "3.6.4"
  }
 },
 "nbformat": 4,
 "nbformat_minor": 2
}
